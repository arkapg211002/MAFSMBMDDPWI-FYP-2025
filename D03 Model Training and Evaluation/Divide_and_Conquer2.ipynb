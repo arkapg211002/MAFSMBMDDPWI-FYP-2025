{
  "nbformat": 4,
  "nbformat_minor": 0,
  "metadata": {
    "colab": {
      "provenance": [],
      "gpuType": "T4",
      "toc_visible": true
    },
    "kernelspec": {
      "name": "python3",
      "display_name": "Python 3"
    },
    "language_info": {
      "name": "python"
    },
    "accelerator": "GPU"
  },
  "cells": [
    {
      "cell_type": "markdown",
      "source": [
        "# Logistic Regression"
      ],
      "metadata": {
        "id": "saUzdJ8Auc6b"
      }
    },
    {
      "cell_type": "code",
      "execution_count": null,
      "metadata": {
        "colab": {
          "base_uri": "https://localhost:8080/"
        },
        "id": "G5Vva7--r3oI",
        "outputId": "73313592-c967-4226-8547-38214e94be60"
      },
      "outputs": [
        {
          "output_type": "stream",
          "name": "stderr",
          "text": [
            "/usr/local/lib/python3.10/dist-packages/sklearn/linear_model/_logistic.py:1256: FutureWarning: 'multi_class' was deprecated in version 1.5 and will be removed in 1.7. Use OneVsRestClassifier(LogisticRegression(..)) instead. Leave it to its default value to avoid this warning.\n",
            "  warnings.warn(\n"
          ]
        },
        {
          "output_type": "stream",
          "name": "stdout",
          "text": [
            "Dataset 1: Accuracy: 84.48%\n",
            "Classification Report for Dataset 1:\n",
            "               precision    recall  f1-score   support\n",
            "\n",
            "     anxiety       0.87      0.76      0.81       319\n",
            "     bipolar       0.85      0.57      0.69       524\n",
            "  depression       0.79      0.49      0.60       396\n",
            "      normal       0.85      0.98      0.91      3721\n",
            "        ptsd       0.71      0.43      0.53       479\n",
            "\n",
            "    accuracy                           0.84      5439\n",
            "   macro avg       0.82      0.65      0.71      5439\n",
            "weighted avg       0.84      0.84      0.83      5439\n",
            "\n",
            "Confusion Matrix for Dataset 1:\n",
            " [[ 241    9    7   55    7]\n",
            " [  16  301   24  161   22]\n",
            " [   8   21  194  151   22]\n",
            " [   5   16   14 3655   31]\n",
            " [   6    6    7  256  204]]\n",
            "Saved model and vectorizer for Dataset 1 as LRmodel_1.pkl and LRvectorizer_1.pkl.\n"
          ]
        },
        {
          "output_type": "stream",
          "name": "stderr",
          "text": [
            "/usr/local/lib/python3.10/dist-packages/sklearn/linear_model/_logistic.py:1256: FutureWarning: 'multi_class' was deprecated in version 1.5 and will be removed in 1.7. Use OneVsRestClassifier(LogisticRegression(..)) instead. Leave it to its default value to avoid this warning.\n",
            "  warnings.warn(\n"
          ]
        },
        {
          "output_type": "stream",
          "name": "stdout",
          "text": [
            "Dataset 2: Accuracy: 85.07%\n",
            "Classification Report for Dataset 2:\n",
            "               precision    recall  f1-score   support\n",
            "\n",
            "     anxiety       0.77      0.65      0.71       326\n",
            "     bipolar       0.82      0.53      0.64       461\n",
            "  depression       0.68      0.39      0.49       547\n",
            "      normal       0.87      0.99      0.92      3762\n",
            "        ptsd       0.90      0.71      0.80       329\n",
            "\n",
            "    accuracy                           0.85      5425\n",
            "   macro avg       0.81      0.65      0.71      5425\n",
            "weighted avg       0.84      0.85      0.84      5425\n",
            "\n",
            "Confusion Matrix for Dataset 2:\n",
            " [[ 212    9   19   79    7]\n",
            " [  15  244   43  155    4]\n",
            " [  19   20  213  290    5]\n",
            " [   9    9   23 3712    9]\n",
            " [  19   14   17   45  234]]\n",
            "Saved model and vectorizer for Dataset 2 as LRmodel_2.pkl and LRvectorizer_2.pkl.\n"
          ]
        },
        {
          "output_type": "stream",
          "name": "stderr",
          "text": [
            "/usr/local/lib/python3.10/dist-packages/sklearn/linear_model/_logistic.py:1256: FutureWarning: 'multi_class' was deprecated in version 1.5 and will be removed in 1.7. Use OneVsRestClassifier(LogisticRegression(..)) instead. Leave it to its default value to avoid this warning.\n",
            "  warnings.warn(\n"
          ]
        },
        {
          "output_type": "stream",
          "name": "stdout",
          "text": [
            "Dataset 3: Accuracy: 86.74%\n",
            "Classification Report for Dataset 3:\n",
            "               precision    recall  f1-score   support\n",
            "\n",
            "     anxiety       0.83      0.79      0.81       554\n",
            "     bipolar       0.78      0.47      0.58       475\n",
            "  depression       0.71      0.57      0.63       492\n",
            "      normal       0.90      0.99      0.94      3454\n",
            "        ptsd       0.87      0.76      0.81       468\n",
            "\n",
            "    accuracy                           0.87      5443\n",
            "   macro avg       0.82      0.72      0.76      5443\n",
            "weighted avg       0.86      0.87      0.86      5443\n",
            "\n",
            "Confusion Matrix for Dataset 3:\n",
            " [[ 438   17   40   51    8]\n",
            " [   9  222   40  196    8]\n",
            " [  56   35  280   92   29]\n",
            " [   6    2   12 3426    8]\n",
            " [  18   10   25   60  355]]\n",
            "Saved model and vectorizer for Dataset 3 as LRmodel_3.pkl and LRvectorizer_3.pkl.\n"
          ]
        },
        {
          "output_type": "stream",
          "name": "stderr",
          "text": [
            "/usr/local/lib/python3.10/dist-packages/sklearn/linear_model/_logistic.py:1256: FutureWarning: 'multi_class' was deprecated in version 1.5 and will be removed in 1.7. Use OneVsRestClassifier(LogisticRegression(..)) instead. Leave it to its default value to avoid this warning.\n",
            "  warnings.warn(\n"
          ]
        },
        {
          "output_type": "stream",
          "name": "stdout",
          "text": [
            "Dataset 4: Accuracy: 90.61%\n",
            "Classification Report for Dataset 4:\n",
            "               precision    recall  f1-score   support\n",
            "\n",
            "     anxiety       0.77      0.69      0.73       307\n",
            "     bipolar       0.89      0.68      0.77       504\n",
            "  depression       0.78      0.70      0.74       508\n",
            "      normal       0.94      1.00      0.97      3774\n",
            "        ptsd       0.83      0.75      0.79       351\n",
            "\n",
            "    accuracy                           0.91      5444\n",
            "   macro avg       0.84      0.76      0.80      5444\n",
            "weighted avg       0.90      0.91      0.90      5444\n",
            "\n",
            "Confusion Matrix for Dataset 4:\n",
            " [[ 211    7   38   39   12]\n",
            " [   4  342   34  114   10]\n",
            " [  40   27  356   55   30]\n",
            " [   1    4    6 3760    3]\n",
            " [  17    6   24   40  264]]\n",
            "Saved model and vectorizer for Dataset 4 as LRmodel_4.pkl and LRvectorizer_4.pkl.\n"
          ]
        },
        {
          "output_type": "stream",
          "name": "stderr",
          "text": [
            "/usr/local/lib/python3.10/dist-packages/sklearn/linear_model/_logistic.py:1256: FutureWarning: 'multi_class' was deprecated in version 1.5 and will be removed in 1.7. Use OneVsRestClassifier(LogisticRegression(..)) instead. Leave it to its default value to avoid this warning.\n",
            "  warnings.warn(\n"
          ]
        },
        {
          "output_type": "stream",
          "name": "stdout",
          "text": [
            "Dataset 5: Accuracy: 88.17%\n",
            "Classification Report for Dataset 5:\n",
            "               precision    recall  f1-score   support\n",
            "\n",
            "     anxiety       0.76      0.53      0.63       442\n",
            "     bipolar       0.88      0.73      0.80       284\n",
            "  depression       0.87      0.70      0.78       460\n",
            "      normal       0.89      0.99      0.94      3794\n",
            "        ptsd       0.83      0.58      0.69       463\n",
            "\n",
            "    accuracy                           0.88      5443\n",
            "   macro avg       0.85      0.71      0.77      5443\n",
            "weighted avg       0.88      0.88      0.87      5443\n",
            "\n",
            "Confusion Matrix for Dataset 5:\n",
            " [[ 235    7   13  167   20]\n",
            " [  11  206   11   46   10]\n",
            " [  27   14  321   80   18]\n",
            " [  15    0    6 3767    6]\n",
            " [  20    6   16  151  270]]\n",
            "Saved model and vectorizer for Dataset 5 as LRmodel_5.pkl and LRvectorizer_5.pkl.\n"
          ]
        },
        {
          "output_type": "stream",
          "name": "stderr",
          "text": [
            "/usr/local/lib/python3.10/dist-packages/sklearn/linear_model/_logistic.py:1256: FutureWarning: 'multi_class' was deprecated in version 1.5 and will be removed in 1.7. Use OneVsRestClassifier(LogisticRegression(..)) instead. Leave it to its default value to avoid this warning.\n",
            "  warnings.warn(\n"
          ]
        },
        {
          "output_type": "stream",
          "name": "stdout",
          "text": [
            "Dataset 6: Accuracy: 72.62%\n",
            "Classification Report for Dataset 6:\n",
            "               precision    recall  f1-score   support\n",
            "\n",
            "     anxiety       0.70      0.80      0.75      1614\n",
            "     bipolar       0.80      0.64      0.71       749\n",
            "  depression       0.69      0.72      0.70      1353\n",
            "      normal       0.89      0.75      0.81       479\n",
            "        ptsd       0.72      0.68      0.70      1232\n",
            "\n",
            "    accuracy                           0.73      5427\n",
            "   macro avg       0.76      0.72      0.73      5427\n",
            "weighted avg       0.73      0.73      0.73      5427\n",
            "\n",
            "Confusion Matrix for Dataset 6:\n",
            " [[1298   27  155   14  120]\n",
            " [  95  477  108    5   64]\n",
            " [ 198   49  972   11  123]\n",
            " [  60   14   28  357   20]\n",
            " [ 206   33  143   13  837]]\n",
            "Saved model and vectorizer for Dataset 6 as LRmodel_6.pkl and LRvectorizer_6.pkl.\n"
          ]
        }
      ],
      "source": [
        "import pandas as pd\n",
        "import pickle\n",
        "from sklearn.model_selection import train_test_split\n",
        "from sklearn.feature_extraction.text import CountVectorizer\n",
        "from sklearn.linear_model import LogisticRegression\n",
        "from sklearn.metrics import accuracy_score, classification_report, confusion_matrix\n",
        "\n",
        "# Loop through datasets and create models and vectorizers\n",
        "for i in range(1, 7):  # Assuming datasets are numbered 1 to 6\n",
        "    file_name = f'preprocessed_mental_health_{i}.csv'\n",
        "\n",
        "    # Load the dataset\n",
        "    dataset = pd.read_csv(file_name)\n",
        "\n",
        "    # Check if required columns exist\n",
        "    if 'cleaned_text' not in dataset.columns or 'mental_health_issue' not in dataset.columns:\n",
        "        raise ValueError(f\"The dataset {file_name} must have 'cleaned_text' and 'mental_health_issue' columns.\")\n",
        "\n",
        "    # Remove rows with missing values in 'cleaned_text' column\n",
        "    dataset.dropna(subset=['cleaned_text'], inplace=True)\n",
        "\n",
        "    # Initialize the CountVectorizer and fit/transform the cleaned text\n",
        "    vectorizer = CountVectorizer()\n",
        "    X = vectorizer.fit_transform(dataset['cleaned_text'])\n",
        "\n",
        "    # Prepare the target variable\n",
        "    y = dataset['mental_health_issue']\n",
        "\n",
        "    # Split the dataset into training and test sets\n",
        "    X_train, X_test, y_train, y_test = train_test_split(X, y, test_size=0.2, random_state=42)\n",
        "\n",
        "    # Initialize the Logistic Regression model\n",
        "    model = LogisticRegression(multi_class='ovr', max_iter=5000)\n",
        "\n",
        "    # Train the model\n",
        "    model.fit(X_train, y_train)\n",
        "\n",
        "    # Make predictions on the test set\n",
        "    y_pred = model.predict(X_test)\n",
        "\n",
        "    # Evaluate the model\n",
        "    accuracy = accuracy_score(y_test, y_pred)\n",
        "    print(f'Dataset {i}: Accuracy: {accuracy * 100:.2f}%')\n",
        "    print(f\"Classification Report for Dataset {i}:\\n\", classification_report(y_test, y_pred))\n",
        "    print(f\"Confusion Matrix for Dataset {i}:\\n\", confusion_matrix(y_test, y_pred))\n",
        "\n",
        "    # Save the Logistic Regression model\n",
        "    model_filename = f'LRmodel_{i}.pkl'\n",
        "    with open(model_filename, 'wb') as model_file:\n",
        "        pickle.dump(model, model_file)\n",
        "\n",
        "    # Save the CountVectorizer\n",
        "    vectorizer_filename = f'LRvectorizer_{i}.pkl'\n",
        "    with open(vectorizer_filename, 'wb') as vectorizer_file:\n",
        "        pickle.dump(vectorizer, vectorizer_file)\n",
        "\n",
        "    print(f\"Saved model and vectorizer for Dataset {i} as {model_filename} and {vectorizer_filename}.\")\n"
      ]
    },
    {
      "cell_type": "markdown",
      "source": [
        "# Naive Bayes"
      ],
      "metadata": {
        "id": "4JoJxMH_ugi7"
      }
    },
    {
      "cell_type": "code",
      "source": [
        "import pandas as pd\n",
        "from sklearn.model_selection import train_test_split, RandomizedSearchCV\n",
        "from sklearn.feature_extraction.text import CountVectorizer\n",
        "from sklearn.naive_bayes import MultinomialNB\n",
        "from sklearn.metrics import accuracy_score, classification_report, confusion_matrix\n",
        "from scipy.stats import uniform\n",
        "import pickle\n",
        "\n",
        "# Loop through datasets and create models\n",
        "for i in range(1, 7):  # Assuming datasets are numbered 1 to 6\n",
        "    file_name = f'preprocessed_mental_health_{i}.csv'\n",
        "\n",
        "    # Load the dataset\n",
        "    dataset = pd.read_csv(file_name)\n",
        "\n",
        "    # Check if required columns exist\n",
        "    if 'cleaned_text' not in dataset.columns or 'mental_health_issue' not in dataset.columns:\n",
        "        raise ValueError(f\"The dataset {file_name} must have 'cleaned_text' and 'mental_health_issue' columns.\")\n",
        "\n",
        "    # Remove rows with missing values in 'cleaned_text' column\n",
        "    dataset.dropna(subset=['cleaned_text'], inplace=True)\n",
        "\n",
        "    # Initialize the CountVectorizer and fit/transform the cleaned text\n",
        "    vectorizer = CountVectorizer()\n",
        "    X = vectorizer.fit_transform(dataset['cleaned_text'])\n",
        "\n",
        "    # Prepare the target variable\n",
        "    y = dataset['mental_health_issue']\n",
        "\n",
        "    # Split the dataset into training and test sets\n",
        "    X_train, X_test, y_train, y_test = train_test_split(X, y, test_size=0.2, random_state=42)\n",
        "\n",
        "    # Initialize the Naive Bayes model\n",
        "    naive_bayes_model = MultinomialNB()\n",
        "\n",
        "    # Define the parameter distribution for Randomized Search\n",
        "    param_distributions = {\n",
        "        'alpha': uniform(0.001, 5.0)  # Sampling alpha from a uniform distribution\n",
        "    }\n",
        "\n",
        "    # Initialize RandomizedSearchCV\n",
        "    random_search = RandomizedSearchCV(estimator=naive_bayes_model, param_distributions=param_distributions,\n",
        "                                       n_iter=10, scoring='accuracy', cv=5, n_jobs=-1, random_state=42)\n",
        "\n",
        "    # Fit RandomizedSearchCV\n",
        "    random_search.fit(X_train, y_train)\n",
        "\n",
        "    # Best hyperparameters from Random Search\n",
        "    print(f\"Dataset {i}: Best Hyperparameters:\", random_search.best_params_)\n",
        "\n",
        "    # Best model from Random Search\n",
        "    best_model = random_search.best_estimator_\n",
        "\n",
        "    # Make predictions using the best model\n",
        "    y_pred = best_model.predict(X_test)\n",
        "\n",
        "    # Evaluate the model\n",
        "    accuracy = accuracy_score(y_test, y_pred)\n",
        "    print(f'Dataset {i}: Accuracy: {accuracy * 100:.2f}%')\n",
        "    print(f\"Classification Report for Dataset {i}:\\n\", classification_report(y_test, y_pred))\n",
        "    print(f\"Confusion Matrix for Dataset {i}:\\n\", confusion_matrix(y_test, y_pred))\n",
        "\n",
        "    # Save the model\n",
        "    model_filename = f'NBmodel_{i}.pkl'\n",
        "    with open(model_filename, 'wb') as model_file:\n",
        "        pickle.dump(best_model, model_file)\n",
        "\n",
        "    # Save the CountVectorizer\n",
        "    vectorizer_filename = f'NBvectorizer_{i}.pkl'\n",
        "    with open(vectorizer_filename, 'wb') as vectorizer_file:\n",
        "        pickle.dump(vectorizer, vectorizer_file)\n",
        "\n",
        "    print(f\"Saved model and vectorizer for Dataset {i} as {model_filename} and {vectorizer_filename}.\")\n"
      ],
      "metadata": {
        "colab": {
          "base_uri": "https://localhost:8080/"
        },
        "id": "XcDRSdGIuiF0",
        "outputId": "82d0819c-a845-4195-fdeb-bc23c9c1dc23"
      },
      "execution_count": null,
      "outputs": [
        {
          "output_type": "stream",
          "name": "stdout",
          "text": [
            "Dataset 1: Best Hyperparameters: {'alpha': 0.7810932022121826}\n",
            "Dataset 1: Accuracy: 81.80%\n",
            "Classification Report for Dataset 1:\n",
            "               precision    recall  f1-score   support\n",
            "\n",
            "     anxiety       0.80      0.67      0.73       319\n",
            "     bipolar       0.60      0.69      0.64       524\n",
            "  depression       0.63      0.55      0.58       396\n",
            "      normal       0.88      0.94      0.91      3721\n",
            "        ptsd       0.62      0.31      0.41       479\n",
            "\n",
            "    accuracy                           0.82      5439\n",
            "   macro avg       0.70      0.63      0.65      5439\n",
            "weighted avg       0.81      0.82      0.81      5439\n",
            "\n",
            "Confusion Matrix for Dataset 1:\n",
            " [[ 213   50   10   40    6]\n",
            " [   8  360   22  116   18]\n",
            " [   7   53  216  105   15]\n",
            " [  23   77   55 3513   53]\n",
            " [  16   58   41  217  147]]\n",
            "Saved model and vectorizer for Dataset 1 as NBmodel_1.pkl and NBvectorizer_1.pkl.\n",
            "Dataset 2: Best Hyperparameters: {'alpha': 0.2914180608409973}\n",
            "Dataset 2: Accuracy: 81.71%\n",
            "Classification Report for Dataset 2:\n",
            "               precision    recall  f1-score   support\n",
            "\n",
            "     anxiety       0.63      0.61      0.62       326\n",
            "     bipolar       0.66      0.59      0.62       461\n",
            "  depression       0.49      0.50      0.49       547\n",
            "      normal       0.90      0.91      0.91      3762\n",
            "        ptsd       0.76      0.80      0.78       329\n",
            "\n",
            "    accuracy                           0.82      5425\n",
            "   macro avg       0.69      0.68      0.68      5425\n",
            "weighted avg       0.82      0.82      0.82      5425\n",
            "\n",
            "Confusion Matrix for Dataset 2:\n",
            " [[ 200   18   34   53   21]\n",
            " [  10  270   67  100   14]\n",
            " [  14   47  271  194   21]\n",
            " [  71   67  168 3430   26]\n",
            " [  24    9   16   18  262]]\n",
            "Saved model and vectorizer for Dataset 2 as NBmodel_2.pkl and NBvectorizer_2.pkl.\n",
            "Dataset 3: Best Hyperparameters: {'alpha': 0.2914180608409973}\n",
            "Dataset 3: Accuracy: 83.50%\n",
            "Classification Report for Dataset 3:\n",
            "               precision    recall  f1-score   support\n",
            "\n",
            "     anxiety       0.74      0.68      0.71       554\n",
            "     bipolar       0.68      0.51      0.58       475\n",
            "  depression       0.51      0.71      0.59       492\n",
            "      normal       0.95      0.93      0.94      3454\n",
            "        ptsd       0.74      0.81      0.77       468\n",
            "\n",
            "    accuracy                           0.84      5443\n",
            "   macro avg       0.72      0.73      0.72      5443\n",
            "weighted avg       0.84      0.84      0.84      5443\n",
            "\n",
            "Confusion Matrix for Dataset 3:\n",
            " [[ 376   15  129   20   14]\n",
            " [  20  243   91  104   17]\n",
            " [  49   24  347   38   34]\n",
            " [  45   76   62 3202   69]\n",
            " [  15    2   58   16  377]]\n",
            "Saved model and vectorizer for Dataset 3 as NBmodel_3.pkl and NBvectorizer_3.pkl.\n",
            "Dataset 4: Best Hyperparameters: {'alpha': 4.331880728874676}\n",
            "Dataset 4: Accuracy: 84.44%\n",
            "Classification Report for Dataset 4:\n",
            "               precision    recall  f1-score   support\n",
            "\n",
            "     anxiety       0.80      0.08      0.14       307\n",
            "     bipolar       0.72      0.71      0.71       504\n",
            "  depression       0.48      0.87      0.62       508\n",
            "      normal       0.96      0.95      0.96      3774\n",
            "        ptsd       0.75      0.50      0.60       351\n",
            "\n",
            "    accuracy                           0.84      5444\n",
            "   macro avg       0.74      0.62      0.61      5444\n",
            "weighted avg       0.87      0.84      0.83      5444\n",
            "\n",
            "Confusion Matrix for Dataset 4:\n",
            " [[  24   11  236   23   13]\n",
            " [   1  360   53   87    3]\n",
            " [   2   39  443   21    3]\n",
            " [   3   70   68 3594   39]\n",
            " [   0   23  125   27  176]]\n",
            "Saved model and vectorizer for Dataset 4 as NBmodel_4.pkl and NBvectorizer_4.pkl.\n",
            "Dataset 5: Best Hyperparameters: {'alpha': 0.7810932022121826}\n",
            "Dataset 5: Accuracy: 85.93%\n",
            "Classification Report for Dataset 5:\n",
            "               precision    recall  f1-score   support\n",
            "\n",
            "     anxiety       0.62      0.52      0.57       442\n",
            "     bipolar       0.75      0.69      0.72       284\n",
            "  depression       0.64      0.88      0.74       460\n",
            "      normal       0.94      0.94      0.94      3794\n",
            "        ptsd       0.71      0.58      0.64       463\n",
            "\n",
            "    accuracy                           0.86      5443\n",
            "   macro avg       0.73      0.72      0.72      5443\n",
            "weighted avg       0.86      0.86      0.86      5443\n",
            "\n",
            "Confusion Matrix for Dataset 5:\n",
            " [[ 230   12   78   95   27]\n",
            " [  17  195   34   28   10]\n",
            " [  17    6  403   25    9]\n",
            " [  64   24   62 3579   65]\n",
            " [  40   22   57   74  270]]\n",
            "Saved model and vectorizer for Dataset 5 as NBmodel_5.pkl and NBvectorizer_5.pkl.\n",
            "Dataset 6: Best Hyperparameters: {'alpha': 0.2914180608409973}\n",
            "Dataset 6: Accuracy: 64.33%\n",
            "Classification Report for Dataset 6:\n",
            "               precision    recall  f1-score   support\n",
            "\n",
            "     anxiety       0.65      0.85      0.73      1614\n",
            "     bipolar       0.66      0.61      0.63       749\n",
            "  depression       0.93      0.24      0.38      1353\n",
            "      normal       0.82      0.84      0.83       479\n",
            "        ptsd       0.53      0.76      0.62      1232\n",
            "\n",
            "    accuracy                           0.64      5427\n",
            "   macro avg       0.72      0.66      0.64      5427\n",
            "weighted avg       0.71      0.64      0.62      5427\n",
            "\n",
            "Confusion Matrix for Dataset 6:\n",
            " [[1371   31    8   21  183]\n",
            " [ 138  455    7   20  129]\n",
            " [ 362  137  325   28  501]\n",
            " [  35   11    3  400   30]\n",
            " [ 214   55    6   17  940]]\n",
            "Saved model and vectorizer for Dataset 6 as NBmodel_6.pkl and NBvectorizer_6.pkl.\n"
          ]
        }
      ]
    },
    {
      "cell_type": "markdown",
      "source": [
        "# SVM"
      ],
      "metadata": {
        "id": "e8SW0vIPwC16"
      }
    },
    {
      "cell_type": "code",
      "source": [
        "import pandas as pd\n",
        "from sklearn.model_selection import train_test_split\n",
        "from sklearn.feature_extraction.text import CountVectorizer\n",
        "from sklearn.svm import SVC\n",
        "from sklearn.metrics import accuracy_score, classification_report, confusion_matrix\n",
        "import pickle\n",
        "\n",
        "# Loop through datasets and create models\n",
        "for i in range(1, 7):  # Assuming datasets are numbered 1 to 6\n",
        "    file_name = f'preprocessed_mental_health_{i}.csv'\n",
        "\n",
        "    # Load the dataset\n",
        "    dataset = pd.read_csv(file_name)\n",
        "\n",
        "    # Check if required columns exist\n",
        "    if 'cleaned_text' not in dataset.columns or 'mental_health_issue' not in dataset.columns:\n",
        "        raise ValueError(f\"The dataset {file_name} must have 'cleaned_text' and 'mental_health_issue' columns.\")\n",
        "\n",
        "    # Remove rows with missing values in 'cleaned_text' column\n",
        "    dataset.dropna(subset=['cleaned_text'], inplace=True)\n",
        "\n",
        "    # Initialize the CountVectorizer and fit/transform the cleaned text\n",
        "    vectorizer = CountVectorizer()\n",
        "    X = vectorizer.fit_transform(dataset['cleaned_text'])\n",
        "\n",
        "    # Prepare the target variable\n",
        "    y = dataset['mental_health_issue']\n",
        "\n",
        "    # Split the dataset into training and test sets\n",
        "    X_train, X_test, y_train, y_test = train_test_split(X, y, test_size=0.2, random_state=42)\n",
        "\n",
        "    # Initialize the Support Vector Classifier\n",
        "    model = SVC(kernel='linear', C=1, random_state=42, probability=True)  # Adjust parameters as needed\n",
        "\n",
        "    # Train the model\n",
        "    model.fit(X_train, y_train)\n",
        "\n",
        "    # Make predictions on the test set\n",
        "    y_pred = model.predict(X_test)\n",
        "\n",
        "    # Evaluate the model\n",
        "    accuracy = accuracy_score(y_test, y_pred)\n",
        "    print(f'Dataset {i}: Accuracy: {accuracy * 100:.2f}%')\n",
        "    print(f\"Classification Report for Dataset {i}:\\n\", classification_report(y_test, y_pred))\n",
        "    print(f\"Confusion Matrix for Dataset {i}:\\n\", confusion_matrix(y_test, y_pred))\n",
        "\n",
        "    # Save the model\n",
        "    model_filename = f'SVMmodel_{i}.pkl'\n",
        "    with open(model_filename, 'wb') as model_file:\n",
        "        pickle.dump(model, model_file)\n",
        "\n",
        "    # Save the CountVectorizer\n",
        "    vectorizer_filename = f'SVMvectorizer_{i}.pkl'\n",
        "    with open(vectorizer_filename, 'wb') as vectorizer_file:\n",
        "        pickle.dump(vectorizer, vectorizer_file)\n",
        "\n",
        "    print(f\"Saved model and vectorizer for Dataset {i} as {model_filename} and {vectorizer_filename}.\")\n"
      ],
      "metadata": {
        "colab": {
          "base_uri": "https://localhost:8080/"
        },
        "id": "Vbg82H1cwE7y",
        "outputId": "9138bf46-0ff1-4a61-c064-023ac1a19224"
      },
      "execution_count": null,
      "outputs": [
        {
          "output_type": "stream",
          "name": "stdout",
          "text": [
            "Dataset 1: Accuracy: 81.45%\n",
            "Classification Report for Dataset 1:\n",
            "               precision    recall  f1-score   support\n",
            "\n",
            "     anxiety       0.72      0.78      0.75       319\n",
            "     bipolar       0.68      0.59      0.63       524\n",
            "  depression       0.60      0.48      0.54       396\n",
            "      normal       0.88      0.93      0.91      3721\n",
            "        ptsd       0.56      0.45      0.50       479\n",
            "\n",
            "    accuracy                           0.81      5439\n",
            "   macro avg       0.69      0.65      0.66      5439\n",
            "weighted avg       0.80      0.81      0.81      5439\n",
            "\n",
            "Confusion Matrix for Dataset 1:\n",
            " [[ 248   12   14   37    8]\n",
            " [  28  308   38  122   28]\n",
            " [  15   36  192  120   33]\n",
            " [  37   67   52 3467   98]\n",
            " [  16   30   24  194  215]]\n",
            "Saved model and vectorizer for Dataset 1 as SVMmodel_1.pkl and SVMvectorizer_1.pkl.\n",
            "Dataset 2: Accuracy: 82.30%\n",
            "Classification Report for Dataset 2:\n",
            "               precision    recall  f1-score   support\n",
            "\n",
            "     anxiety       0.66      0.65      0.65       326\n",
            "     bipolar       0.64      0.51      0.57       461\n",
            "  depression       0.52      0.42      0.46       547\n",
            "      normal       0.89      0.95      0.92      3762\n",
            "        ptsd       0.79      0.69      0.73       329\n",
            "\n",
            "    accuracy                           0.82      5425\n",
            "   macro avg       0.70      0.64      0.67      5425\n",
            "weighted avg       0.81      0.82      0.81      5425\n",
            "\n",
            "Confusion Matrix for Dataset 2:\n",
            " [[ 213   18   23   58   14]\n",
            " [  26  235   60  124   16]\n",
            " [  32   43  228  234   10]\n",
            " [  25   45  108 3563   21]\n",
            " [  29   25   22   27  226]]\n",
            "Saved model and vectorizer for Dataset 2 as SVMmodel_2.pkl and SVMvectorizer_2.pkl.\n",
            "Dataset 3: Accuracy: 83.50%\n",
            "Classification Report for Dataset 3:\n",
            "               precision    recall  f1-score   support\n",
            "\n",
            "     anxiety       0.73      0.76      0.75       554\n",
            "     bipolar       0.59      0.50      0.54       475\n",
            "  depression       0.57      0.52      0.54       492\n",
            "      normal       0.92      0.95      0.93      3454\n",
            "        ptsd       0.80      0.72      0.76       468\n",
            "\n",
            "    accuracy                           0.84      5443\n",
            "   macro avg       0.72      0.69      0.70      5443\n",
            "weighted avg       0.83      0.84      0.83      5443\n",
            "\n",
            "Confusion Matrix for Dataset 3:\n",
            " [[ 420   28   63   30   13]\n",
            " [  16  236   52  158   13]\n",
            " [  74   61  258   67   32]\n",
            " [  29   60   45 3294   26]\n",
            " [  33   18   37   43  337]]\n",
            "Saved model and vectorizer for Dataset 3 as SVMmodel_3.pkl and SVMvectorizer_3.pkl.\n",
            "Dataset 4: Accuracy: 88.34%\n",
            "Classification Report for Dataset 4:\n",
            "               precision    recall  f1-score   support\n",
            "\n",
            "     anxiety       0.64      0.68      0.66       307\n",
            "     bipolar       0.77      0.67      0.72       504\n",
            "  depression       0.70      0.66      0.68       508\n",
            "      normal       0.95      0.98      0.97      3774\n",
            "        ptsd       0.73      0.67      0.70       351\n",
            "\n",
            "    accuracy                           0.88      5444\n",
            "   macro avg       0.76      0.73      0.74      5444\n",
            "weighted avg       0.88      0.88      0.88      5444\n",
            "\n",
            "Confusion Matrix for Dataset 4:\n",
            " [[ 209    9   51   21   17]\n",
            " [  10  340   37  103   14]\n",
            " [  61   50  334   25   38]\n",
            " [  15   31   19 3692   17]\n",
            " [  34   14   37   32  234]]\n",
            "Saved model and vectorizer for Dataset 4 as SVMmodel_4.pkl and SVMvectorizer_4.pkl.\n",
            "Dataset 5: Accuracy: 85.45%\n",
            "Classification Report for Dataset 5:\n",
            "               precision    recall  f1-score   support\n",
            "\n",
            "     anxiety       0.57      0.62      0.59       442\n",
            "     bipolar       0.73      0.71      0.72       284\n",
            "  depression       0.74      0.67      0.70       460\n",
            "      normal       0.92      0.95      0.94      3794\n",
            "        ptsd       0.72      0.54      0.62       463\n",
            "\n",
            "    accuracy                           0.85      5443\n",
            "   macro avg       0.74      0.70      0.71      5443\n",
            "weighted avg       0.85      0.85      0.85      5443\n",
            "\n",
            "Confusion Matrix for Dataset 5:\n",
            " [[ 274   13   19  108   28]\n",
            " [  19  202   26   30    7]\n",
            " [  37   25  309   61   28]\n",
            " [  94   15   33 3616   36]\n",
            " [  59   20   33  101  250]]\n",
            "Saved model and vectorizer for Dataset 5 as SVMmodel_5.pkl and SVMvectorizer_5.pkl.\n",
            "Dataset 6: Accuracy: 67.81%\n",
            "Classification Report for Dataset 6:\n",
            "               precision    recall  f1-score   support\n",
            "\n",
            "     anxiety       0.65      0.78      0.71      1614\n",
            "     bipolar       0.64      0.60      0.62       749\n",
            "  depression       0.67      0.65      0.66      1353\n",
            "      normal       0.84      0.69      0.76       479\n",
            "        ptsd       0.71      0.62      0.66      1232\n",
            "\n",
            "    accuracy                           0.68      5427\n",
            "   macro avg       0.70      0.67      0.68      5427\n",
            "weighted avg       0.68      0.68      0.68      5427\n",
            "\n",
            "Confusion Matrix for Dataset 6:\n",
            " [[1263   61  139   25  126]\n",
            " [ 114  447  119    9   60]\n",
            " [ 255  100  878   16  104]\n",
            " [  69   12   47  331   20]\n",
            " [ 246   76  135   14  761]]\n",
            "Saved model and vectorizer for Dataset 6 as SVMmodel_6.pkl and SVMvectorizer_6.pkl.\n"
          ]
        }
      ]
    },
    {
      "cell_type": "markdown",
      "source": [
        "# XGB"
      ],
      "metadata": {
        "id": "JRqPREMT4xpH"
      }
    },
    {
      "cell_type": "code",
      "source": [
        "import pandas as pd\n",
        "from sklearn.model_selection import train_test_split\n",
        "from sklearn.preprocessing import LabelEncoder\n",
        "from sklearn.feature_extraction.text import TfidfVectorizer\n",
        "from sklearn.metrics import accuracy_score, classification_report, confusion_matrix\n",
        "import xgboost as xgb\n",
        "import pickle\n",
        "\n",
        "# Loop through datasets and create models\n",
        "for i in range(1, 7):  # Assuming datasets are numbered 1 to 6\n",
        "    file_name = f'preprocessed_mental_health_{i}.csv'\n",
        "\n",
        "    # Load the dataset\n",
        "    data = pd.read_csv(file_name)\n",
        "\n",
        "    # Check if required columns exist\n",
        "    if 'text' not in data.columns or 'mental_health_issue' not in data.columns:\n",
        "        raise ValueError(f\"The dataset {file_name} must have 'text' and 'mental_health_issue' columns.\")\n",
        "\n",
        "    # Separate features and target\n",
        "    X = data['text']\n",
        "    y = data['mental_health_issue']\n",
        "\n",
        "    # Encode target labels\n",
        "    label_encoder = LabelEncoder()\n",
        "    y = label_encoder.fit_transform(y)\n",
        "\n",
        "    # Split dataset into training and test sets\n",
        "    X_train, X_test, y_train, y_test = train_test_split(X, y, test_size=0.2, random_state=42)\n",
        "\n",
        "    # Convert text data to numerical data using TF-IDF Vectorizer\n",
        "    tfidf = TfidfVectorizer(max_features=5000)\n",
        "    X_train = tfidf.fit_transform(X_train)\n",
        "    X_test = tfidf.transform(X_test)\n",
        "\n",
        "    # Define the XGBoost classifier\n",
        "    xgb_clf = xgb.XGBClassifier(objective='multi:softmax', num_class=len(label_encoder.classes_),\n",
        "                                eval_metric='mlogloss', use_label_encoder=False)\n",
        "\n",
        "    # Train the model\n",
        "    xgb_clf.fit(X_train, y_train)\n",
        "\n",
        "    # Predict on the test set\n",
        "    y_pred = xgb_clf.predict(X_test)\n",
        "\n",
        "    # Evaluate the model\n",
        "    accuracy = accuracy_score(y_test, y_pred)\n",
        "    report = classification_report(y_test, y_pred, target_names=label_encoder.classes_)\n",
        "\n",
        "    print(f\"Dataset {i}: Accuracy: {accuracy * 100:.2f}%\")\n",
        "    print(f\"Classification Report for Dataset {i}:\\n\", report)\n",
        "    print(f\"Confusion Matrix for Dataset {i}:\\n\", confusion_matrix(y_test, y_pred))\n",
        "\n",
        "    # Save the model\n",
        "    model_filename = f'xgb_model_{i}.pkl'\n",
        "    with open(model_filename, 'wb') as model_file:\n",
        "        pickle.dump(xgb_clf, model_file)\n",
        "\n",
        "    # Save the label encoder\n",
        "    label_encoder_filename = f'label_encoder_{i}.pkl'\n",
        "    with open(label_encoder_filename, 'wb') as encoder_file:\n",
        "        pickle.dump(label_encoder, encoder_file)\n",
        "\n",
        "    # Save the TF-IDF vectorizer\n",
        "    tfidf_filename = f'tfidf_vectorizer_{i}.pkl'\n",
        "    with open(tfidf_filename, 'wb') as vectorizer_file:\n",
        "        pickle.dump(tfidf, vectorizer_file)\n",
        "\n",
        "    print(f\"Saved model, label encoder, and vectorizer for Dataset {i} as {model_filename}, {label_encoder_filename}, and {tfidf_filename}.\")\n"
      ],
      "metadata": {
        "colab": {
          "base_uri": "https://localhost:8080/"
        },
        "id": "G2nei1G34zhu",
        "outputId": "5a73b754-2853-4844-de1a-d56b0d294fc6"
      },
      "execution_count": null,
      "outputs": [
        {
          "output_type": "stream",
          "name": "stderr",
          "text": [
            "/usr/local/lib/python3.10/dist-packages/xgboost/core.py:158: UserWarning: [07:29:45] WARNING: /workspace/src/learner.cc:740: \n",
            "Parameters: { \"use_label_encoder\" } are not used.\n",
            "\n",
            "  warnings.warn(smsg, UserWarning)\n"
          ]
        },
        {
          "output_type": "stream",
          "name": "stdout",
          "text": [
            "Dataset 1: Accuracy: 84.23%\n",
            "Classification Report for Dataset 1:\n",
            "               precision    recall  f1-score   support\n",
            "\n",
            "     anxiety       0.90      0.75      0.82       355\n",
            "     bipolar       0.91      0.59      0.72       528\n",
            "  depression       0.76      0.48      0.59       367\n",
            "      normal       0.85      0.99      0.91      3751\n",
            "        ptsd       0.67      0.31      0.43       459\n",
            "\n",
            "    accuracy                           0.84      5460\n",
            "   macro avg       0.82      0.62      0.69      5460\n",
            "weighted avg       0.84      0.84      0.82      5460\n",
            "\n",
            "Confusion Matrix for Dataset 1:\n",
            " [[ 267    3    6   72    7]\n",
            " [   9  313   29  154   23]\n",
            " [   4   14  177  155   17]\n",
            " [   8    7   15 3699   22]\n",
            " [   8    6    6  296  143]]\n",
            "Saved model, label encoder, and vectorizer for Dataset 1 as xgb_model_1.pkl, label_encoder_1.pkl, and tfidf_vectorizer_1.pkl.\n"
          ]
        },
        {
          "output_type": "stream",
          "name": "stderr",
          "text": [
            "/usr/local/lib/python3.10/dist-packages/xgboost/core.py:158: UserWarning: [07:32:00] WARNING: /workspace/src/learner.cc:740: \n",
            "Parameters: { \"use_label_encoder\" } are not used.\n",
            "\n",
            "  warnings.warn(smsg, UserWarning)\n"
          ]
        },
        {
          "output_type": "stream",
          "name": "stdout",
          "text": [
            "Dataset 2: Accuracy: 85.79%\n",
            "Classification Report for Dataset 2:\n",
            "               precision    recall  f1-score   support\n",
            "\n",
            "     anxiety       0.83      0.62      0.71       336\n",
            "     bipolar       0.88      0.58      0.70       491\n",
            "  depression       0.75      0.40      0.52       562\n",
            "      normal       0.86      0.99      0.92      3767\n",
            "        ptsd       0.88      0.76      0.82       304\n",
            "\n",
            "    accuracy                           0.86      5460\n",
            "   macro avg       0.84      0.67      0.73      5460\n",
            "weighted avg       0.85      0.86      0.84      5460\n",
            "\n",
            "Confusion Matrix for Dataset 2:\n",
            " [[ 209    8   14   99    6]\n",
            " [  12  285   28  158    8]\n",
            " [  14   18  225  291   14]\n",
            " [   5    2   22 3733    5]\n",
            " [  11   10   11   40  232]]\n",
            "Saved model, label encoder, and vectorizer for Dataset 2 as xgb_model_2.pkl, label_encoder_2.pkl, and tfidf_vectorizer_2.pkl.\n"
          ]
        },
        {
          "output_type": "stream",
          "name": "stderr",
          "text": [
            "/usr/local/lib/python3.10/dist-packages/xgboost/core.py:158: UserWarning: [07:34:38] WARNING: /workspace/src/learner.cc:740: \n",
            "Parameters: { \"use_label_encoder\" } are not used.\n",
            "\n",
            "  warnings.warn(smsg, UserWarning)\n"
          ]
        },
        {
          "output_type": "stream",
          "name": "stdout",
          "text": [
            "Dataset 3: Accuracy: 86.78%\n",
            "Classification Report for Dataset 3:\n",
            "               precision    recall  f1-score   support\n",
            "\n",
            "     anxiety       0.81      0.79      0.80       523\n",
            "     bipolar       0.85      0.49      0.62       501\n",
            "  depression       0.71      0.59      0.65       530\n",
            "      normal       0.90      0.99      0.94      3445\n",
            "        ptsd       0.86      0.78      0.82       461\n",
            "\n",
            "    accuracy                           0.87      5460\n",
            "   macro avg       0.83      0.73      0.76      5460\n",
            "weighted avg       0.86      0.87      0.86      5460\n",
            "\n",
            "Confusion Matrix for Dataset 3:\n",
            " [[ 414    7   51   40   11]\n",
            " [  11  243   37  200   10]\n",
            " [  63   22  313  107   25]\n",
            " [   9    8    7 3409   12]\n",
            " [  13    5   32   52  359]]\n",
            "Saved model, label encoder, and vectorizer for Dataset 3 as xgb_model_3.pkl, label_encoder_3.pkl, and tfidf_vectorizer_3.pkl.\n"
          ]
        },
        {
          "output_type": "stream",
          "name": "stderr",
          "text": [
            "/usr/local/lib/python3.10/dist-packages/xgboost/core.py:158: UserWarning: [07:38:07] WARNING: /workspace/src/learner.cc:740: \n",
            "Parameters: { \"use_label_encoder\" } are not used.\n",
            "\n",
            "  warnings.warn(smsg, UserWarning)\n"
          ]
        },
        {
          "output_type": "stream",
          "name": "stdout",
          "text": [
            "Dataset 4: Accuracy: 91.37%\n",
            "Classification Report for Dataset 4:\n",
            "               precision    recall  f1-score   support\n",
            "\n",
            "     anxiety       0.79      0.66      0.72       262\n",
            "     bipolar       0.93      0.66      0.77       488\n",
            "  depression       0.76      0.75      0.76       526\n",
            "      normal       0.94      1.00      0.97      3833\n",
            "        ptsd       0.88      0.80      0.84       351\n",
            "\n",
            "    accuracy                           0.91      5460\n",
            "   macro avg       0.86      0.77      0.81      5460\n",
            "weighted avg       0.91      0.91      0.91      5460\n",
            "\n",
            "Confusion Matrix for Dataset 4:\n",
            " [[ 174    2   51   29    6]\n",
            " [   3  324   31  125    5]\n",
            " [  37   18  393   54   24]\n",
            " [   2    4    9 3816    2]\n",
            " [   5    2   31   31  282]]\n",
            "Saved model, label encoder, and vectorizer for Dataset 4 as xgb_model_4.pkl, label_encoder_4.pkl, and tfidf_vectorizer_4.pkl.\n"
          ]
        },
        {
          "output_type": "stream",
          "name": "stderr",
          "text": [
            "/usr/local/lib/python3.10/dist-packages/xgboost/core.py:158: UserWarning: [07:40:57] WARNING: /workspace/src/learner.cc:740: \n",
            "Parameters: { \"use_label_encoder\" } are not used.\n",
            "\n",
            "  warnings.warn(smsg, UserWarning)\n"
          ]
        },
        {
          "output_type": "stream",
          "name": "stdout",
          "text": [
            "Dataset 5: Accuracy: 86.32%\n",
            "Classification Report for Dataset 5:\n",
            "               precision    recall  f1-score   support\n",
            "\n",
            "     anxiety       0.79      0.50      0.61       499\n",
            "     bipolar       0.91      0.69      0.79       275\n",
            "  depression       0.80      0.64      0.71       432\n",
            "      normal       0.87      0.99      0.93      3808\n",
            "        ptsd       0.83      0.52      0.64       445\n",
            "\n",
            "    accuracy                           0.86      5459\n",
            "   macro avg       0.84      0.67      0.74      5459\n",
            "weighted avg       0.86      0.86      0.85      5459\n",
            "\n",
            "Confusion Matrix for Dataset 5:\n",
            " [[ 250    6   17  213   13]\n",
            " [   5  191   16   58    5]\n",
            " [  13    4  275  121   19]\n",
            " [  18    3   14 3764    9]\n",
            " [  29    6   22  156  232]]\n",
            "Saved model, label encoder, and vectorizer for Dataset 5 as xgb_model_5.pkl, label_encoder_5.pkl, and tfidf_vectorizer_5.pkl.\n"
          ]
        },
        {
          "output_type": "stream",
          "name": "stderr",
          "text": [
            "/usr/local/lib/python3.10/dist-packages/xgboost/core.py:158: UserWarning: [07:43:09] WARNING: /workspace/src/learner.cc:740: \n",
            "Parameters: { \"use_label_encoder\" } are not used.\n",
            "\n",
            "  warnings.warn(smsg, UserWarning)\n"
          ]
        },
        {
          "output_type": "stream",
          "name": "stdout",
          "text": [
            "Dataset 6: Accuracy: 70.95%\n",
            "Classification Report for Dataset 6:\n",
            "               precision    recall  f1-score   support\n",
            "\n",
            "     anxiety       0.75      0.79      0.77      1658\n",
            "     bipolar       0.81      0.58      0.68       750\n",
            "  depression       0.60      0.75      0.67      1392\n",
            "      normal       0.90      0.62      0.73       479\n",
            "        ptsd       0.71      0.67      0.69      1180\n",
            "\n",
            "    accuracy                           0.71      5459\n",
            "   macro avg       0.75      0.68      0.71      5459\n",
            "weighted avg       0.72      0.71      0.71      5459\n",
            "\n",
            "Confusion Matrix for Dataset 6:\n",
            " [[1303   18  230    8   99]\n",
            " [  68  435  169    7   71]\n",
            " [ 157   55 1047    8  125]\n",
            " [  34   12  110  297   26]\n",
            " [ 178   17  183   11  791]]\n",
            "Saved model, label encoder, and vectorizer for Dataset 6 as xgb_model_6.pkl, label_encoder_6.pkl, and tfidf_vectorizer_6.pkl.\n"
          ]
        }
      ]
    },
    {
      "cell_type": "markdown",
      "source": [
        "# LSTM"
      ],
      "metadata": {
        "id": "vDK1fw-rDY9O"
      }
    },
    {
      "cell_type": "code",
      "source": [
        "import pandas as pd\n",
        "import numpy as np\n",
        "from sklearn.metrics import confusion_matrix, classification_report\n",
        "from sklearn.preprocessing import LabelEncoder\n",
        "from tensorflow.keras.preprocessing.text import Tokenizer\n",
        "from tensorflow.keras.preprocessing.sequence import pad_sequences\n",
        "from tensorflow.keras.models import Sequential\n",
        "from tensorflow.keras.layers import Embedding, LSTM, Dense, Dropout\n",
        "from tensorflow.keras.optimizers import AdamW\n",
        "from tensorflow.keras.utils import to_categorical\n",
        "from sklearn.model_selection import train_test_split\n",
        "import pickle\n",
        "\n",
        "# List of datasets\n",
        "datasets = [\n",
        "    'preprocessed_mental_health_1.csv',\n",
        "    'preprocessed_mental_health_2.csv',\n",
        "    'preprocessed_mental_health_3.csv',\n",
        "    'preprocessed_mental_health_4.csv',\n",
        "    'preprocessed_mental_health_5.csv',\n",
        "    'preprocessed_mental_health_6.csv'\n",
        "]\n",
        "\n",
        "# Loop through each dataset\n",
        "for i, dataset in enumerate(datasets, start=1):\n",
        "    print(f\"Processing dataset {i}: {dataset}\")\n",
        "\n",
        "    # Load the dataset\n",
        "    data = pd.read_csv(dataset)\n",
        "\n",
        "    # Separate features and target\n",
        "    X = data['text']\n",
        "    y = data['mental_health_issue']\n",
        "\n",
        "    # Encode target labels\n",
        "    label_encoder = LabelEncoder()\n",
        "    y = label_encoder.fit_transform(y)\n",
        "    y = to_categorical(y)  # Convert labels to one-hot encoded format for multi-class classification\n",
        "\n",
        "    # Tokenize and pad the text sequences\n",
        "    vocab_size = 25000  # Set a vocabulary size\n",
        "    max_length = 128   # Set a max length for padding\n",
        "\n",
        "    tokenizer = Tokenizer(num_words=vocab_size, oov_token=\"\")\n",
        "    tokenizer.fit_on_texts(X)\n",
        "\n",
        "    X_seq = tokenizer.texts_to_sequences(X)\n",
        "    X_padded = pad_sequences(X_seq, maxlen=max_length, padding='post', truncating='post')\n",
        "\n",
        "    # Split the dataset into training and test sets\n",
        "    X_train, X_test, y_train, y_test = train_test_split(X_padded, y, test_size=0.2, random_state=42)\n",
        "\n",
        "    # Build the LSTM model\n",
        "    model = Sequential([\n",
        "        Embedding(vocab_size, 128, input_length=max_length),\n",
        "        LSTM(128, return_sequences=True),\n",
        "        Dropout(0.2),\n",
        "        LSTM(64),\n",
        "        Dropout(0.2),\n",
        "        Dense(64, activation='relu'),\n",
        "        Dense(y.shape[1], activation='softmax')  # Output layer with softmax for multi-class classification\n",
        "    ])\n",
        "\n",
        "    # Compile the model using AdamW optimizer\n",
        "    optimizer = AdamW(learning_rate=0.001)\n",
        "    model.compile(optimizer=optimizer, loss='categorical_crossentropy', metrics=['accuracy'])\n",
        "\n",
        "    # Train the model\n",
        "    history = model.fit(X_train, y_train, epochs=20, batch_size=16, validation_data=(X_test, y_test), verbose=1)\n",
        "\n",
        "    # Evaluate the model on the test set\n",
        "    val_loss, val_accuracy = model.evaluate(X_test, y_test, verbose=0)\n",
        "    print(f\"Dataset {i}: Test Loss: {val_loss:.4f}, Test Accuracy: {val_accuracy * 100:.2f}%\")\n",
        "\n",
        "    # Generate predictions\n",
        "    y_pred = model.predict(X_test)\n",
        "\n",
        "    # Convert predictions and true labels back from one-hot encoding\n",
        "    y_pred_classes = np.argmax(y_pred, axis=1)\n",
        "    y_test_classes = np.argmax(y_test, axis=1)\n",
        "\n",
        "    # Classification report and confusion matrix\n",
        "    print(f\"Classification Report for Dataset {i}:\\n\", classification_report(y_test_classes, y_pred_classes))\n",
        "    print(f\"Confusion Matrix for Dataset {i}:\\n\", confusion_matrix(y_test_classes, y_pred_classes))\n",
        "\n",
        "    # Save the trained model\n",
        "    model.save(f'lstm_model_{i}.h5')\n",
        "\n",
        "    # Save the label encoder\n",
        "    with open(f'LSTM_label_encoder_{i}.pkl', 'wb') as encoder_file:\n",
        "        pickle.dump(label_encoder, encoder_file)\n",
        "\n",
        "    # Save the tokenizer\n",
        "    with open(f'LSTM_tokenizer_{i}.pkl', 'wb') as tokenizer_file:\n",
        "        pickle.dump(tokenizer, tokenizer_file)\n",
        "\n",
        "    print(f\"Artifacts for dataset {i} saved: Model, Label Encoder, Tokenizer.\\n\")\n"
      ],
      "metadata": {
        "colab": {
          "base_uri": "https://localhost:8080/"
        },
        "id": "EwTLKNDSDamu",
        "outputId": "fe5f48a4-00ea-4745-cb99-7c2bfa1fbb0f"
      },
      "execution_count": null,
      "outputs": [
        {
          "output_type": "stream",
          "name": "stdout",
          "text": [
            "Processing dataset 1: preprocessed_mental_health_1.csv\n"
          ]
        },
        {
          "output_type": "stream",
          "name": "stderr",
          "text": [
            "/usr/local/lib/python3.10/dist-packages/keras/src/layers/core/embedding.py:90: UserWarning: Argument `input_length` is deprecated. Just remove it.\n",
            "  warnings.warn(\n"
          ]
        },
        {
          "output_type": "stream",
          "name": "stdout",
          "text": [
            "Epoch 1/20\n",
            "\u001b[1m1365/1365\u001b[0m \u001b[32m━━━━━━━━━━━━━━━━━━━━\u001b[0m\u001b[37m\u001b[0m \u001b[1m41s\u001b[0m 17ms/step - accuracy: 0.6841 - loss: 1.0305 - val_accuracy: 0.6762 - val_loss: 0.8256\n",
            "Epoch 2/20\n",
            "\u001b[1m1365/1365\u001b[0m \u001b[32m━━━━━━━━━━━━━━━━━━━━\u001b[0m\u001b[37m\u001b[0m \u001b[1m31s\u001b[0m 16ms/step - accuracy: 0.6805 - loss: 0.8152 - val_accuracy: 0.7496 - val_loss: 0.6671\n",
            "Epoch 3/20\n",
            "\u001b[1m1365/1365\u001b[0m \u001b[32m━━━━━━━━━━━━━━━━━━━━\u001b[0m\u001b[37m\u001b[0m \u001b[1m42s\u001b[0m 17ms/step - accuracy: 0.7669 - loss: 0.5972 - val_accuracy: 0.7839 - val_loss: 0.5950\n",
            "Epoch 4/20\n",
            "\u001b[1m1365/1365\u001b[0m \u001b[32m━━━━━━━━━━━━━━━━━━━━\u001b[0m\u001b[37m\u001b[0m \u001b[1m40s\u001b[0m 16ms/step - accuracy: 0.8162 - loss: 0.4696 - val_accuracy: 0.7899 - val_loss: 0.5624\n",
            "Epoch 5/20\n",
            "\u001b[1m1365/1365\u001b[0m \u001b[32m━━━━━━━━━━━━━━━━━━━━\u001b[0m\u001b[37m\u001b[0m \u001b[1m42s\u001b[0m 17ms/step - accuracy: 0.8586 - loss: 0.3795 - val_accuracy: 0.8278 - val_loss: 0.5716\n",
            "Epoch 6/20\n",
            "\u001b[1m1365/1365\u001b[0m \u001b[32m━━━━━━━━━━━━━━━━━━━━\u001b[0m\u001b[37m\u001b[0m \u001b[1m40s\u001b[0m 16ms/step - accuracy: 0.9084 - loss: 0.2691 - val_accuracy: 0.8434 - val_loss: 0.5211\n",
            "Epoch 7/20\n",
            "\u001b[1m1365/1365\u001b[0m \u001b[32m━━━━━━━━━━━━━━━━━━━━\u001b[0m\u001b[37m\u001b[0m \u001b[1m40s\u001b[0m 16ms/step - accuracy: 0.9351 - loss: 0.2005 - val_accuracy: 0.8447 - val_loss: 0.5744\n",
            "Epoch 8/20\n",
            "\u001b[1m1365/1365\u001b[0m \u001b[32m━━━━━━━━━━━━━━━━━━━━\u001b[0m\u001b[37m\u001b[0m \u001b[1m22s\u001b[0m 16ms/step - accuracy: 0.9490 - loss: 0.1490 - val_accuracy: 0.8458 - val_loss: 0.6025\n",
            "Epoch 9/20\n",
            "\u001b[1m1365/1365\u001b[0m \u001b[32m━━━━━━━━━━━━━━━━━━━━\u001b[0m\u001b[37m\u001b[0m \u001b[1m41s\u001b[0m 16ms/step - accuracy: 0.9615 - loss: 0.1168 - val_accuracy: 0.8456 - val_loss: 0.6899\n",
            "Epoch 10/20\n",
            "\u001b[1m1365/1365\u001b[0m \u001b[32m━━━━━━━━━━━━━━━━━━━━\u001b[0m\u001b[37m\u001b[0m \u001b[1m40s\u001b[0m 16ms/step - accuracy: 0.9686 - loss: 0.0926 - val_accuracy: 0.8386 - val_loss: 0.7002\n",
            "Epoch 11/20\n",
            "\u001b[1m1365/1365\u001b[0m \u001b[32m━━━━━━━━━━━━━━━━━━━━\u001b[0m\u001b[37m\u001b[0m \u001b[1m42s\u001b[0m 16ms/step - accuracy: 0.9718 - loss: 0.0820 - val_accuracy: 0.8401 - val_loss: 0.8113\n",
            "Epoch 12/20\n",
            "\u001b[1m1365/1365\u001b[0m \u001b[32m━━━━━━━━━━━━━━━━━━━━\u001b[0m\u001b[37m\u001b[0m \u001b[1m42s\u001b[0m 17ms/step - accuracy: 0.9772 - loss: 0.0695 - val_accuracy: 0.8295 - val_loss: 0.8979\n",
            "Epoch 13/20\n",
            "\u001b[1m1365/1365\u001b[0m \u001b[32m━━━━━━━━━━━━━━━━━━━━\u001b[0m\u001b[37m\u001b[0m \u001b[1m40s\u001b[0m 16ms/step - accuracy: 0.9801 - loss: 0.0562 - val_accuracy: 0.8372 - val_loss: 0.8834\n",
            "Epoch 14/20\n",
            "\u001b[1m1365/1365\u001b[0m \u001b[32m━━━━━━━━━━━━━━━━━━━━\u001b[0m\u001b[37m\u001b[0m \u001b[1m40s\u001b[0m 16ms/step - accuracy: 0.9821 - loss: 0.0484 - val_accuracy: 0.8304 - val_loss: 0.9156\n",
            "Epoch 15/20\n",
            "\u001b[1m1365/1365\u001b[0m \u001b[32m━━━━━━━━━━━━━━━━━━━━\u001b[0m\u001b[37m\u001b[0m \u001b[1m23s\u001b[0m 17ms/step - accuracy: 0.9839 - loss: 0.0461 - val_accuracy: 0.8324 - val_loss: 1.0424\n",
            "Epoch 16/20\n",
            "\u001b[1m1365/1365\u001b[0m \u001b[32m━━━━━━━━━━━━━━━━━━━━\u001b[0m\u001b[37m\u001b[0m \u001b[1m41s\u001b[0m 16ms/step - accuracy: 0.9857 - loss: 0.0402 - val_accuracy: 0.8322 - val_loss: 1.1593\n",
            "Epoch 17/20\n",
            "\u001b[1m1365/1365\u001b[0m \u001b[32m━━━━━━━━━━━━━━━━━━━━\u001b[0m\u001b[37m\u001b[0m \u001b[1m40s\u001b[0m 16ms/step - accuracy: 0.9884 - loss: 0.0317 - val_accuracy: 0.8326 - val_loss: 1.0507\n",
            "Epoch 18/20\n",
            "\u001b[1m1365/1365\u001b[0m \u001b[32m━━━━━━━━━━━━━━━━━━━━\u001b[0m\u001b[37m\u001b[0m \u001b[1m41s\u001b[0m 16ms/step - accuracy: 0.9890 - loss: 0.0306 - val_accuracy: 0.8286 - val_loss: 1.2470\n",
            "Epoch 19/20\n",
            "\u001b[1m1365/1365\u001b[0m \u001b[32m━━━━━━━━━━━━━━━━━━━━\u001b[0m\u001b[37m\u001b[0m \u001b[1m43s\u001b[0m 17ms/step - accuracy: 0.9855 - loss: 0.0469 - val_accuracy: 0.8216 - val_loss: 1.0549\n",
            "Epoch 20/20\n",
            "\u001b[1m1365/1365\u001b[0m \u001b[32m━━━━━━━━━━━━━━━━━━━━\u001b[0m\u001b[37m\u001b[0m \u001b[1m40s\u001b[0m 16ms/step - accuracy: 0.9919 - loss: 0.0220 - val_accuracy: 0.8374 - val_loss: 1.1951\n",
            "Dataset 1: Test Loss: 1.1951, Test Accuracy: 83.74%\n",
            "\u001b[1m171/171\u001b[0m \u001b[32m━━━━━━━━━━━━━━━━━━━━\u001b[0m\u001b[37m\u001b[0m \u001b[1m1s\u001b[0m 5ms/step\n"
          ]
        },
        {
          "output_type": "stream",
          "name": "stderr",
          "text": [
            "WARNING:absl:You are saving your model as an HDF5 file via `model.save()` or `keras.saving.save_model(model)`. This file format is considered legacy. We recommend using instead the native Keras format, e.g. `model.save('my_model.keras')` or `keras.saving.save_model(model, 'my_model.keras')`. \n"
          ]
        },
        {
          "output_type": "stream",
          "name": "stdout",
          "text": [
            "Classification Report for Dataset 1:\n",
            "               precision    recall  f1-score   support\n",
            "\n",
            "           0       0.85      0.72      0.78       355\n",
            "           1       0.71      0.68      0.70       528\n",
            "           2       0.57      0.45      0.50       367\n",
            "           3       0.89      0.95      0.92      3751\n",
            "           4       0.58      0.46      0.52       459\n",
            "\n",
            "    accuracy                           0.84      5460\n",
            "   macro avg       0.72      0.65      0.68      5460\n",
            "weighted avg       0.83      0.84      0.83      5460\n",
            "\n",
            "Confusion Matrix for Dataset 1:\n",
            " [[ 255   14   11   57   18]\n",
            " [   7  360   32  100   29]\n",
            " [  10   35  165  123   34]\n",
            " [  12   47   42 3579   71]\n",
            " [  15   48   39  144  213]]\n",
            "Artifacts for dataset 1 saved: Model, Label Encoder, Tokenizer.\n",
            "\n",
            "Processing dataset 2: preprocessed_mental_health_2.csv\n",
            "Epoch 1/20\n"
          ]
        },
        {
          "output_type": "stream",
          "name": "stderr",
          "text": [
            "/usr/local/lib/python3.10/dist-packages/keras/src/layers/core/embedding.py:90: UserWarning: Argument `input_length` is deprecated. Just remove it.\n",
            "  warnings.warn(\n"
          ]
        },
        {
          "output_type": "stream",
          "name": "stdout",
          "text": [
            "\u001b[1m1365/1365\u001b[0m \u001b[32m━━━━━━━━━━━━━━━━━━━━\u001b[0m\u001b[37m\u001b[0m \u001b[1m25s\u001b[0m 16ms/step - accuracy: 0.6760 - loss: 1.0210 - val_accuracy: 0.6958 - val_loss: 0.8920\n",
            "Epoch 2/20\n",
            "\u001b[1m1365/1365\u001b[0m \u001b[32m━━━━━━━━━━━━━━━━━━━━\u001b[0m\u001b[37m\u001b[0m \u001b[1m41s\u001b[0m 16ms/step - accuracy: 0.6964 - loss: 0.8851 - val_accuracy: 0.7313 - val_loss: 0.7413\n",
            "Epoch 3/20\n",
            "\u001b[1m1365/1365\u001b[0m \u001b[32m━━━━━━━━━━━━━━━━━━━━\u001b[0m\u001b[37m\u001b[0m \u001b[1m42s\u001b[0m 16ms/step - accuracy: 0.7220 - loss: 0.7209 - val_accuracy: 0.7562 - val_loss: 0.6402\n",
            "Epoch 4/20\n",
            "\u001b[1m1365/1365\u001b[0m \u001b[32m━━━━━━━━━━━━━━━━━━━━\u001b[0m\u001b[37m\u001b[0m \u001b[1m41s\u001b[0m 16ms/step - accuracy: 0.7655 - loss: 0.5698 - val_accuracy: 0.7648 - val_loss: 0.6172\n",
            "Epoch 5/20\n",
            "\u001b[1m1365/1365\u001b[0m \u001b[32m━━━━━━━━━━━━━━━━━━━━\u001b[0m\u001b[37m\u001b[0m \u001b[1m22s\u001b[0m 16ms/step - accuracy: 0.7795 - loss: 0.5119 - val_accuracy: 0.7749 - val_loss: 0.6291\n",
            "Epoch 6/20\n",
            "\u001b[1m1365/1365\u001b[0m \u001b[32m━━━━━━━━━━━━━━━━━━━━\u001b[0m\u001b[37m\u001b[0m \u001b[1m42s\u001b[0m 17ms/step - accuracy: 0.8101 - loss: 0.4578 - val_accuracy: 0.7910 - val_loss: 0.5915\n",
            "Epoch 7/20\n",
            "\u001b[1m1365/1365\u001b[0m \u001b[32m━━━━━━━━━━━━━━━━━━━━\u001b[0m\u001b[37m\u001b[0m \u001b[1m41s\u001b[0m 16ms/step - accuracy: 0.8310 - loss: 0.4031 - val_accuracy: 0.8456 - val_loss: 0.5604\n",
            "Epoch 8/20\n",
            "\u001b[1m1365/1365\u001b[0m \u001b[32m━━━━━━━━━━━━━━━━━━━━\u001b[0m\u001b[37m\u001b[0m \u001b[1m40s\u001b[0m 16ms/step - accuracy: 0.9113 - loss: 0.2656 - val_accuracy: 0.8269 - val_loss: 0.5830\n",
            "Epoch 9/20\n",
            "\u001b[1m1365/1365\u001b[0m \u001b[32m━━━━━━━━━━━━━━━━━━━━\u001b[0m\u001b[37m\u001b[0m \u001b[1m40s\u001b[0m 16ms/step - accuracy: 0.9336 - loss: 0.1998 - val_accuracy: 0.8332 - val_loss: 0.6203\n",
            "Epoch 10/20\n",
            "\u001b[1m1365/1365\u001b[0m \u001b[32m━━━━━━━━━━━━━━━━━━━━\u001b[0m\u001b[37m\u001b[0m \u001b[1m42s\u001b[0m 17ms/step - accuracy: 0.9422 - loss: 0.1800 - val_accuracy: 0.8313 - val_loss: 0.6116\n",
            "Epoch 11/20\n",
            "\u001b[1m1365/1365\u001b[0m \u001b[32m━━━━━━━━━━━━━━━━━━━━\u001b[0m\u001b[37m\u001b[0m \u001b[1m21s\u001b[0m 16ms/step - accuracy: 0.9555 - loss: 0.1378 - val_accuracy: 0.8264 - val_loss: 0.6892\n",
            "Epoch 12/20\n",
            "\u001b[1m1365/1365\u001b[0m \u001b[32m━━━━━━━━━━━━━━━━━━━━\u001b[0m\u001b[37m\u001b[0m \u001b[1m22s\u001b[0m 16ms/step - accuracy: 0.9640 - loss: 0.1136 - val_accuracy: 0.8326 - val_loss: 0.7252\n",
            "Epoch 13/20\n",
            "\u001b[1m1365/1365\u001b[0m \u001b[32m━━━━━━━━━━━━━━━━━━━━\u001b[0m\u001b[37m\u001b[0m \u001b[1m22s\u001b[0m 16ms/step - accuracy: 0.9646 - loss: 0.1105 - val_accuracy: 0.8300 - val_loss: 0.7944\n",
            "Epoch 14/20\n",
            "\u001b[1m1365/1365\u001b[0m \u001b[32m━━━━━━━━━━━━━━━━━━━━\u001b[0m\u001b[37m\u001b[0m \u001b[1m42s\u001b[0m 17ms/step - accuracy: 0.9700 - loss: 0.0898 - val_accuracy: 0.8256 - val_loss: 0.8404\n",
            "Epoch 15/20\n",
            "\u001b[1m1365/1365\u001b[0m \u001b[32m━━━━━━━━━━━━━━━━━━━━\u001b[0m\u001b[37m\u001b[0m \u001b[1m40s\u001b[0m 16ms/step - accuracy: 0.9742 - loss: 0.0767 - val_accuracy: 0.8256 - val_loss: 0.8502\n",
            "Epoch 16/20\n",
            "\u001b[1m1365/1365\u001b[0m \u001b[32m━━━━━━━━━━━━━━━━━━━━\u001b[0m\u001b[37m\u001b[0m \u001b[1m41s\u001b[0m 16ms/step - accuracy: 0.9762 - loss: 0.0696 - val_accuracy: 0.8317 - val_loss: 0.9415\n",
            "Epoch 17/20\n",
            "\u001b[1m1365/1365\u001b[0m \u001b[32m━━━━━━━━━━━━━━━━━━━━\u001b[0m\u001b[37m\u001b[0m \u001b[1m40s\u001b[0m 16ms/step - accuracy: 0.9774 - loss: 0.0634 - val_accuracy: 0.8242 - val_loss: 0.9668\n",
            "Epoch 18/20\n",
            "\u001b[1m1365/1365\u001b[0m \u001b[32m━━━━━━━━━━━━━━━━━━━━\u001b[0m\u001b[37m\u001b[0m \u001b[1m42s\u001b[0m 17ms/step - accuracy: 0.9792 - loss: 0.0623 - val_accuracy: 0.8333 - val_loss: 0.9271\n",
            "Epoch 19/20\n",
            "\u001b[1m1365/1365\u001b[0m \u001b[32m━━━━━━━━━━━━━━━━━━━━\u001b[0m\u001b[37m\u001b[0m \u001b[1m41s\u001b[0m 16ms/step - accuracy: 0.9820 - loss: 0.0573 - val_accuracy: 0.8286 - val_loss: 0.8701\n",
            "Epoch 20/20\n",
            "\u001b[1m1365/1365\u001b[0m \u001b[32m━━━━━━━━━━━━━━━━━━━━\u001b[0m\u001b[37m\u001b[0m \u001b[1m41s\u001b[0m 16ms/step - accuracy: 0.9807 - loss: 0.0576 - val_accuracy: 0.8163 - val_loss: 1.0300\n",
            "Dataset 2: Test Loss: 1.0300, Test Accuracy: 81.63%\n",
            "\u001b[1m171/171\u001b[0m \u001b[32m━━━━━━━━━━━━━━━━━━━━\u001b[0m\u001b[37m\u001b[0m \u001b[1m2s\u001b[0m 8ms/step\n"
          ]
        },
        {
          "output_type": "stream",
          "name": "stderr",
          "text": [
            "WARNING:absl:You are saving your model as an HDF5 file via `model.save()` or `keras.saving.save_model(model)`. This file format is considered legacy. We recommend using instead the native Keras format, e.g. `model.save('my_model.keras')` or `keras.saving.save_model(model, 'my_model.keras')`. \n"
          ]
        },
        {
          "output_type": "stream",
          "name": "stdout",
          "text": [
            "Classification Report for Dataset 2:\n",
            "               precision    recall  f1-score   support\n",
            "\n",
            "           0       0.60      0.62      0.61       336\n",
            "           1       0.62      0.66      0.64       491\n",
            "           2       0.47      0.55      0.51       562\n",
            "           3       0.92      0.92      0.92      3767\n",
            "           4       0.92      0.43      0.59       304\n",
            "\n",
            "    accuracy                           0.82      5460\n",
            "   macro avg       0.71      0.64      0.65      5460\n",
            "weighted avg       0.83      0.82      0.82      5460\n",
            "\n",
            "Confusion Matrix for Dataset 2:\n",
            " [[ 210   29   28   63    6]\n",
            " [  22  324   76   69    0]\n",
            " [  19   82  311  146    4]\n",
            " [  50   67  168 3480    2]\n",
            " [  51   19   73   29  132]]\n",
            "Artifacts for dataset 2 saved: Model, Label Encoder, Tokenizer.\n",
            "\n",
            "Processing dataset 3: preprocessed_mental_health_3.csv\n",
            "Epoch 1/20\n"
          ]
        },
        {
          "output_type": "stream",
          "name": "stderr",
          "text": [
            "/usr/local/lib/python3.10/dist-packages/keras/src/layers/core/embedding.py:90: UserWarning: Argument `input_length` is deprecated. Just remove it.\n",
            "  warnings.warn(\n"
          ]
        },
        {
          "output_type": "stream",
          "name": "stdout",
          "text": [
            "\u001b[1m1365/1365\u001b[0m \u001b[32m━━━━━━━━━━━━━━━━━━━━\u001b[0m\u001b[37m\u001b[0m \u001b[1m25s\u001b[0m 16ms/step - accuracy: 0.6336 - loss: 1.0896 - val_accuracy: 0.6310 - val_loss: 0.9713\n",
            "Epoch 2/20\n",
            "\u001b[1m1365/1365\u001b[0m \u001b[32m━━━━━━━━━━━━━━━━━━━━\u001b[0m\u001b[37m\u001b[0m \u001b[1m40s\u001b[0m 16ms/step - accuracy: 0.6538 - loss: 0.9400 - val_accuracy: 0.7189 - val_loss: 0.7061\n",
            "Epoch 3/20\n",
            "\u001b[1m1365/1365\u001b[0m \u001b[32m━━━━━━━━━━━━━━━━━━━━\u001b[0m\u001b[37m\u001b[0m \u001b[1m42s\u001b[0m 16ms/step - accuracy: 0.7269 - loss: 0.6520 - val_accuracy: 0.7317 - val_loss: 0.6306\n",
            "Epoch 4/20\n",
            "\u001b[1m1365/1365\u001b[0m \u001b[32m━━━━━━━━━━━━━━━━━━━━\u001b[0m\u001b[37m\u001b[0m \u001b[1m41s\u001b[0m 16ms/step - accuracy: 0.7557 - loss: 0.5654 - val_accuracy: 0.7711 - val_loss: 0.5923\n",
            "Epoch 5/20\n",
            "\u001b[1m1365/1365\u001b[0m \u001b[32m━━━━━━━━━━━━━━━━━━━━\u001b[0m\u001b[37m\u001b[0m \u001b[1m41s\u001b[0m 16ms/step - accuracy: 0.8128 - loss: 0.4657 - val_accuracy: 0.7846 - val_loss: 0.6160\n",
            "Epoch 6/20\n",
            "\u001b[1m1365/1365\u001b[0m \u001b[32m━━━━━━━━━━━━━━━━━━━━\u001b[0m\u001b[37m\u001b[0m \u001b[1m41s\u001b[0m 16ms/step - accuracy: 0.8531 - loss: 0.3886 - val_accuracy: 0.8049 - val_loss: 0.5751\n",
            "Epoch 7/20\n",
            "\u001b[1m1365/1365\u001b[0m \u001b[32m━━━━━━━━━━━━━━━━━━━━\u001b[0m\u001b[37m\u001b[0m \u001b[1m41s\u001b[0m 17ms/step - accuracy: 0.8830 - loss: 0.3269 - val_accuracy: 0.8293 - val_loss: 0.5529\n",
            "Epoch 8/20\n",
            "\u001b[1m1365/1365\u001b[0m \u001b[32m━━━━━━━━━━━━━━━━━━━━\u001b[0m\u001b[37m\u001b[0m \u001b[1m40s\u001b[0m 16ms/step - accuracy: 0.9266 - loss: 0.2218 - val_accuracy: 0.8355 - val_loss: 0.5679\n",
            "Epoch 9/20\n",
            "\u001b[1m1365/1365\u001b[0m \u001b[32m━━━━━━━━━━━━━━━━━━━━\u001b[0m\u001b[37m\u001b[0m \u001b[1m42s\u001b[0m 16ms/step - accuracy: 0.9482 - loss: 0.1600 - val_accuracy: 0.8332 - val_loss: 0.6037\n",
            "Epoch 10/20\n",
            "\u001b[1m1365/1365\u001b[0m \u001b[32m━━━━━━━━━━━━━━━━━━━━\u001b[0m\u001b[37m\u001b[0m \u001b[1m41s\u001b[0m 17ms/step - accuracy: 0.9613 - loss: 0.1243 - val_accuracy: 0.8379 - val_loss: 0.6250\n",
            "Epoch 11/20\n",
            "\u001b[1m1365/1365\u001b[0m \u001b[32m━━━━━━━━━━━━━━━━━━━━\u001b[0m\u001b[37m\u001b[0m \u001b[1m41s\u001b[0m 16ms/step - accuracy: 0.9725 - loss: 0.0931 - val_accuracy: 0.8350 - val_loss: 0.7130\n",
            "Epoch 12/20\n",
            "\u001b[1m1365/1365\u001b[0m \u001b[32m━━━━━━━━━━━━━━━━━━━━\u001b[0m\u001b[37m\u001b[0m \u001b[1m40s\u001b[0m 16ms/step - accuracy: 0.9756 - loss: 0.0806 - val_accuracy: 0.8315 - val_loss: 0.7795\n",
            "Epoch 13/20\n",
            "\u001b[1m1365/1365\u001b[0m \u001b[32m━━━━━━━━━━━━━━━━━━━━\u001b[0m\u001b[37m\u001b[0m \u001b[1m41s\u001b[0m 16ms/step - accuracy: 0.9815 - loss: 0.0631 - val_accuracy: 0.8366 - val_loss: 0.7343\n",
            "Epoch 14/20\n",
            "\u001b[1m1365/1365\u001b[0m \u001b[32m━━━━━━━━━━━━━━━━━━━━\u001b[0m\u001b[37m\u001b[0m \u001b[1m42s\u001b[0m 17ms/step - accuracy: 0.9848 - loss: 0.0526 - val_accuracy: 0.8313 - val_loss: 0.8045\n",
            "Epoch 15/20\n",
            "\u001b[1m1365/1365\u001b[0m \u001b[32m━━━━━━━━━━━━━━━━━━━━\u001b[0m\u001b[37m\u001b[0m \u001b[1m22s\u001b[0m 16ms/step - accuracy: 0.9864 - loss: 0.0466 - val_accuracy: 0.8260 - val_loss: 0.9428\n",
            "Epoch 16/20\n",
            "\u001b[1m1365/1365\u001b[0m \u001b[32m━━━━━━━━━━━━━━━━━━━━\u001b[0m\u001b[37m\u001b[0m \u001b[1m23s\u001b[0m 16ms/step - accuracy: 0.9877 - loss: 0.0398 - val_accuracy: 0.8260 - val_loss: 0.8807\n",
            "Epoch 17/20\n",
            "\u001b[1m1365/1365\u001b[0m \u001b[32m━━━━━━━━━━━━━━━━━━━━\u001b[0m\u001b[37m\u001b[0m \u001b[1m40s\u001b[0m 16ms/step - accuracy: 0.9905 - loss: 0.0287 - val_accuracy: 0.8288 - val_loss: 0.9559\n",
            "Epoch 18/20\n",
            "\u001b[1m1365/1365\u001b[0m \u001b[32m━━━━━━━━━━━━━━━━━━━━\u001b[0m\u001b[37m\u001b[0m \u001b[1m42s\u001b[0m 17ms/step - accuracy: 0.9929 - loss: 0.0263 - val_accuracy: 0.8288 - val_loss: 0.9347\n",
            "Epoch 19/20\n",
            "\u001b[1m1365/1365\u001b[0m \u001b[32m━━━━━━━━━━━━━━━━━━━━\u001b[0m\u001b[37m\u001b[0m \u001b[1m41s\u001b[0m 16ms/step - accuracy: 0.9903 - loss: 0.0317 - val_accuracy: 0.8299 - val_loss: 1.1593\n",
            "Epoch 20/20\n",
            "\u001b[1m1365/1365\u001b[0m \u001b[32m━━━━━━━━━━━━━━━━━━━━\u001b[0m\u001b[37m\u001b[0m \u001b[1m41s\u001b[0m 16ms/step - accuracy: 0.9934 - loss: 0.0230 - val_accuracy: 0.8183 - val_loss: 1.0659\n",
            "Dataset 3: Test Loss: 1.0659, Test Accuracy: 81.83%\n",
            "\u001b[1m171/171\u001b[0m \u001b[32m━━━━━━━━━━━━━━━━━━━━\u001b[0m\u001b[37m\u001b[0m \u001b[1m2s\u001b[0m 8ms/step\n"
          ]
        },
        {
          "output_type": "stream",
          "name": "stderr",
          "text": [
            "WARNING:absl:You are saving your model as an HDF5 file via `model.save()` or `keras.saving.save_model(model)`. This file format is considered legacy. We recommend using instead the native Keras format, e.g. `model.save('my_model.keras')` or `keras.saving.save_model(model, 'my_model.keras')`. \n"
          ]
        },
        {
          "output_type": "stream",
          "name": "stdout",
          "text": [
            "Classification Report for Dataset 3:\n",
            "               precision    recall  f1-score   support\n",
            "\n",
            "           0       0.73      0.71      0.72       523\n",
            "           1       0.54      0.64      0.59       501\n",
            "           2       0.51      0.54      0.53       530\n",
            "           3       0.94      0.93      0.93      3445\n",
            "           4       0.74      0.64      0.68       461\n",
            "\n",
            "    accuracy                           0.82      5460\n",
            "   macro avg       0.69      0.69      0.69      5460\n",
            "weighted avg       0.83      0.82      0.82      5460\n",
            "\n",
            "Confusion Matrix for Dataset 3:\n",
            " [[ 372   34   93   14   10]\n",
            " [  14  322   46  105   14]\n",
            " [  81   76  288   51   34]\n",
            " [  31  141   34 3191   48]\n",
            " [  14   24  104   24  295]]\n",
            "Artifacts for dataset 3 saved: Model, Label Encoder, Tokenizer.\n",
            "\n",
            "Processing dataset 4: preprocessed_mental_health_4.csv\n",
            "Epoch 1/20\n"
          ]
        },
        {
          "output_type": "stream",
          "name": "stderr",
          "text": [
            "/usr/local/lib/python3.10/dist-packages/keras/src/layers/core/embedding.py:90: UserWarning: Argument `input_length` is deprecated. Just remove it.\n",
            "  warnings.warn(\n"
          ]
        },
        {
          "output_type": "stream",
          "name": "stdout",
          "text": [
            "\u001b[1m1365/1365\u001b[0m \u001b[32m━━━━━━━━━━━━━━━━━━━━\u001b[0m\u001b[37m\u001b[0m \u001b[1m28s\u001b[0m 18ms/step - accuracy: 0.7161 - loss: 0.8796 - val_accuracy: 0.7392 - val_loss: 0.6815\n",
            "Epoch 2/20\n",
            "\u001b[1m1365/1365\u001b[0m \u001b[32m━━━━━━━━━━━━━━━━━━━━\u001b[0m\u001b[37m\u001b[0m \u001b[1m39s\u001b[0m 16ms/step - accuracy: 0.7550 - loss: 0.6678 - val_accuracy: 0.7751 - val_loss: 0.5916\n",
            "Epoch 3/20\n",
            "\u001b[1m1365/1365\u001b[0m \u001b[32m━━━━━━━━━━━━━━━━━━━━\u001b[0m\u001b[37m\u001b[0m \u001b[1m23s\u001b[0m 17ms/step - accuracy: 0.7699 - loss: 0.5778 - val_accuracy: 0.7866 - val_loss: 0.5452\n",
            "Epoch 4/20\n",
            "\u001b[1m1365/1365\u001b[0m \u001b[32m━━━━━━━━━━━━━━━━━━━━\u001b[0m\u001b[37m\u001b[0m \u001b[1m41s\u001b[0m 16ms/step - accuracy: 0.7947 - loss: 0.4881 - val_accuracy: 0.8154 - val_loss: 0.4909\n",
            "Epoch 5/20\n",
            "\u001b[1m1365/1365\u001b[0m \u001b[32m━━━━━━━━━━━━━━━━━━━━\u001b[0m\u001b[37m\u001b[0m \u001b[1m41s\u001b[0m 17ms/step - accuracy: 0.8361 - loss: 0.3967 - val_accuracy: 0.8502 - val_loss: 0.4579\n",
            "Epoch 6/20\n",
            "\u001b[1m1365/1365\u001b[0m \u001b[32m━━━━━━━━━━━━━━━━━━━━\u001b[0m\u001b[37m\u001b[0m \u001b[1m40s\u001b[0m 16ms/step - accuracy: 0.8875 - loss: 0.2919 - val_accuracy: 0.8788 - val_loss: 0.3836\n",
            "Epoch 7/20\n",
            "\u001b[1m1365/1365\u001b[0m \u001b[32m━━━━━━━━━━━━━━━━━━━━\u001b[0m\u001b[37m\u001b[0m \u001b[1m42s\u001b[0m 16ms/step - accuracy: 0.9314 - loss: 0.2052 - val_accuracy: 0.8822 - val_loss: 0.3918\n",
            "Epoch 8/20\n",
            "\u001b[1m1365/1365\u001b[0m \u001b[32m━━━━━━━━━━━━━━━━━━━━\u001b[0m\u001b[37m\u001b[0m \u001b[1m41s\u001b[0m 17ms/step - accuracy: 0.9508 - loss: 0.1514 - val_accuracy: 0.8822 - val_loss: 0.4371\n",
            "Epoch 9/20\n",
            "\u001b[1m1365/1365\u001b[0m \u001b[32m━━━━━━━━━━━━━━━━━━━━\u001b[0m\u001b[37m\u001b[0m \u001b[1m22s\u001b[0m 16ms/step - accuracy: 0.9688 - loss: 0.1062 - val_accuracy: 0.8877 - val_loss: 0.4675\n",
            "Epoch 10/20\n",
            "\u001b[1m1365/1365\u001b[0m \u001b[32m━━━━━━━━━━━━━━━━━━━━\u001b[0m\u001b[37m\u001b[0m \u001b[1m41s\u001b[0m 17ms/step - accuracy: 0.9760 - loss: 0.0781 - val_accuracy: 0.8916 - val_loss: 0.4951\n",
            "Epoch 11/20\n",
            "\u001b[1m1365/1365\u001b[0m \u001b[32m━━━━━━━━━━━━━━━━━━━━\u001b[0m\u001b[37m\u001b[0m \u001b[1m41s\u001b[0m 16ms/step - accuracy: 0.9782 - loss: 0.0707 - val_accuracy: 0.8793 - val_loss: 0.6011\n",
            "Epoch 12/20\n",
            "\u001b[1m1365/1365\u001b[0m \u001b[32m━━━━━━━━━━━━━━━━━━━━\u001b[0m\u001b[37m\u001b[0m \u001b[1m41s\u001b[0m 16ms/step - accuracy: 0.9827 - loss: 0.0565 - val_accuracy: 0.8740 - val_loss: 0.6030\n",
            "Epoch 13/20\n",
            "\u001b[1m1365/1365\u001b[0m \u001b[32m━━━━━━━━━━━━━━━━━━━━\u001b[0m\u001b[37m\u001b[0m \u001b[1m41s\u001b[0m 16ms/step - accuracy: 0.9892 - loss: 0.0367 - val_accuracy: 0.8775 - val_loss: 0.5758\n",
            "Epoch 14/20\n",
            "\u001b[1m1365/1365\u001b[0m \u001b[32m━━━━━━━━━━━━━━━━━━━━\u001b[0m\u001b[37m\u001b[0m \u001b[1m40s\u001b[0m 16ms/step - accuracy: 0.9906 - loss: 0.0337 - val_accuracy: 0.8705 - val_loss: 0.7380\n",
            "Epoch 15/20\n",
            "\u001b[1m1365/1365\u001b[0m \u001b[32m━━━━━━━━━━━━━━━━━━━━\u001b[0m\u001b[37m\u001b[0m \u001b[1m42s\u001b[0m 17ms/step - accuracy: 0.9939 - loss: 0.0255 - val_accuracy: 0.8612 - val_loss: 0.7701\n",
            "Epoch 16/20\n",
            "\u001b[1m1365/1365\u001b[0m \u001b[32m━━━━━━━━━━━━━━━━━━━━\u001b[0m\u001b[37m\u001b[0m \u001b[1m23s\u001b[0m 17ms/step - accuracy: 0.9926 - loss: 0.0258 - val_accuracy: 0.8639 - val_loss: 0.7725\n",
            "Epoch 17/20\n",
            "\u001b[1m1365/1365\u001b[0m \u001b[32m━━━━━━━━━━━━━━━━━━━━\u001b[0m\u001b[37m\u001b[0m \u001b[1m42s\u001b[0m 17ms/step - accuracy: 0.9958 - loss: 0.0158 - val_accuracy: 0.8672 - val_loss: 0.7074\n",
            "Epoch 18/20\n",
            "\u001b[1m1365/1365\u001b[0m \u001b[32m━━━━━━━━━━━━━━━━━━━━\u001b[0m\u001b[37m\u001b[0m \u001b[1m40s\u001b[0m 17ms/step - accuracy: 0.9954 - loss: 0.0181 - val_accuracy: 0.8716 - val_loss: 0.7419\n",
            "Epoch 19/20\n",
            "\u001b[1m1365/1365\u001b[0m \u001b[32m━━━━━━━━━━━━━━━━━━━━\u001b[0m\u001b[37m\u001b[0m \u001b[1m42s\u001b[0m 17ms/step - accuracy: 0.9950 - loss: 0.0177 - val_accuracy: 0.8692 - val_loss: 0.8987\n",
            "Epoch 20/20\n",
            "\u001b[1m1365/1365\u001b[0m \u001b[32m━━━━━━━━━━━━━━━━━━━━\u001b[0m\u001b[37m\u001b[0m \u001b[1m40s\u001b[0m 17ms/step - accuracy: 0.9956 - loss: 0.0151 - val_accuracy: 0.8722 - val_loss: 0.8585\n",
            "Dataset 4: Test Loss: 0.8585, Test Accuracy: 87.22%\n",
            "\u001b[1m171/171\u001b[0m \u001b[32m━━━━━━━━━━━━━━━━━━━━\u001b[0m\u001b[37m\u001b[0m \u001b[1m2s\u001b[0m 8ms/step\n"
          ]
        },
        {
          "output_type": "stream",
          "name": "stderr",
          "text": [
            "WARNING:absl:You are saving your model as an HDF5 file via `model.save()` or `keras.saving.save_model(model)`. This file format is considered legacy. We recommend using instead the native Keras format, e.g. `model.save('my_model.keras')` or `keras.saving.save_model(model, 'my_model.keras')`. \n"
          ]
        },
        {
          "output_type": "stream",
          "name": "stdout",
          "text": [
            "Classification Report for Dataset 4:\n",
            "               precision    recall  f1-score   support\n",
            "\n",
            "           0       0.55      0.63      0.59       262\n",
            "           1       0.67      0.67      0.67       488\n",
            "           2       0.68      0.67      0.67       526\n",
            "           3       0.96      0.95      0.96      3833\n",
            "           4       0.77      0.77      0.77       351\n",
            "\n",
            "    accuracy                           0.87      5460\n",
            "   macro avg       0.73      0.74      0.73      5460\n",
            "weighted avg       0.87      0.87      0.87      5460\n",
            "\n",
            "Confusion Matrix for Dataset 4:\n",
            " [[ 165    0   60   23   14]\n",
            " [   6  326   50   90   16]\n",
            " [  75   39  350   29   33]\n",
            " [  23  109   32 3651   18]\n",
            " [  31    9   22   19  270]]\n",
            "Artifacts for dataset 4 saved: Model, Label Encoder, Tokenizer.\n",
            "\n",
            "Processing dataset 5: preprocessed_mental_health_5.csv\n",
            "Epoch 1/20\n"
          ]
        },
        {
          "output_type": "stream",
          "name": "stderr",
          "text": [
            "/usr/local/lib/python3.10/dist-packages/keras/src/layers/core/embedding.py:90: UserWarning: Argument `input_length` is deprecated. Just remove it.\n",
            "  warnings.warn(\n"
          ]
        },
        {
          "output_type": "stream",
          "name": "stdout",
          "text": [
            "\u001b[1m1365/1365\u001b[0m \u001b[32m━━━━━━━━━━━━━━━━━━━━\u001b[0m\u001b[37m\u001b[0m \u001b[1m25s\u001b[0m 17ms/step - accuracy: 0.7059 - loss: 0.9886 - val_accuracy: 0.7089 - val_loss: 0.9101\n",
            "Epoch 2/20\n",
            "\u001b[1m1365/1365\u001b[0m \u001b[32m━━━━━━━━━━━━━━━━━━━━\u001b[0m\u001b[37m\u001b[0m \u001b[1m22s\u001b[0m 16ms/step - accuracy: 0.7223 - loss: 0.7619 - val_accuracy: 0.7432 - val_loss: 0.6457\n",
            "Epoch 3/20\n",
            "\u001b[1m1365/1365\u001b[0m \u001b[32m━━━━━━━━━━━━━━━━━━━━\u001b[0m\u001b[37m\u001b[0m \u001b[1m44s\u001b[0m 18ms/step - accuracy: 0.7649 - loss: 0.5535 - val_accuracy: 0.7538 - val_loss: 0.5866\n",
            "Epoch 4/20\n",
            "\u001b[1m1365/1365\u001b[0m \u001b[32m━━━━━━━━━━━━━━━━━━━━\u001b[0m\u001b[37m\u001b[0m \u001b[1m40s\u001b[0m 17ms/step - accuracy: 0.7792 - loss: 0.4814 - val_accuracy: 0.7576 - val_loss: 0.6056\n",
            "Epoch 5/20\n",
            "\u001b[1m1365/1365\u001b[0m \u001b[32m━━━━━━━━━━━━━━━━━━━━\u001b[0m\u001b[37m\u001b[0m \u001b[1m41s\u001b[0m 17ms/step - accuracy: 0.8064 - loss: 0.4317 - val_accuracy: 0.7864 - val_loss: 0.5782\n",
            "Epoch 6/20\n",
            "\u001b[1m1365/1365\u001b[0m \u001b[32m━━━━━━━━━━━━━━━━━━━━\u001b[0m\u001b[37m\u001b[0m \u001b[1m41s\u001b[0m 17ms/step - accuracy: 0.8598 - loss: 0.3201 - val_accuracy: 0.8238 - val_loss: 0.5594\n",
            "Epoch 7/20\n",
            "\u001b[1m1365/1365\u001b[0m \u001b[32m━━━━━━━━━━━━━━━━━━━━\u001b[0m\u001b[37m\u001b[0m \u001b[1m41s\u001b[0m 17ms/step - accuracy: 0.8941 - loss: 0.2521 - val_accuracy: 0.8436 - val_loss: 0.5447\n",
            "Epoch 8/20\n",
            "\u001b[1m1365/1365\u001b[0m \u001b[32m━━━━━━━━━━━━━━━━━━━━\u001b[0m\u001b[37m\u001b[0m \u001b[1m40s\u001b[0m 16ms/step - accuracy: 0.9321 - loss: 0.1940 - val_accuracy: 0.8571 - val_loss: 0.5223\n",
            "Epoch 9/20\n",
            "\u001b[1m1365/1365\u001b[0m \u001b[32m━━━━━━━━━━━━━━━━━━━━\u001b[0m\u001b[37m\u001b[0m \u001b[1m42s\u001b[0m 17ms/step - accuracy: 0.9499 - loss: 0.1471 - val_accuracy: 0.8536 - val_loss: 0.5612\n",
            "Epoch 10/20\n",
            "\u001b[1m1365/1365\u001b[0m \u001b[32m━━━━━━━━━━━━━━━━━━━━\u001b[0m\u001b[37m\u001b[0m \u001b[1m41s\u001b[0m 17ms/step - accuracy: 0.9598 - loss: 0.1209 - val_accuracy: 0.8463 - val_loss: 0.5883\n",
            "Epoch 11/20\n",
            "\u001b[1m1365/1365\u001b[0m \u001b[32m━━━━━━━━━━━━━━━━━━━━\u001b[0m\u001b[37m\u001b[0m \u001b[1m41s\u001b[0m 17ms/step - accuracy: 0.9700 - loss: 0.0897 - val_accuracy: 0.8557 - val_loss: 0.5967\n",
            "Epoch 12/20\n",
            "\u001b[1m1365/1365\u001b[0m \u001b[32m━━━━━━━━━━━━━━━━━━━━\u001b[0m\u001b[37m\u001b[0m \u001b[1m41s\u001b[0m 16ms/step - accuracy: 0.9747 - loss: 0.0774 - val_accuracy: 0.8533 - val_loss: 0.6693\n",
            "Epoch 13/20\n",
            "\u001b[1m1365/1365\u001b[0m \u001b[32m━━━━━━━━━━━━━━━━━━━━\u001b[0m\u001b[37m\u001b[0m \u001b[1m40s\u001b[0m 16ms/step - accuracy: 0.9805 - loss: 0.0621 - val_accuracy: 0.8509 - val_loss: 0.7223\n",
            "Epoch 14/20\n",
            "\u001b[1m1365/1365\u001b[0m \u001b[32m━━━━━━━━━━━━━━━━━━━━\u001b[0m\u001b[37m\u001b[0m \u001b[1m22s\u001b[0m 16ms/step - accuracy: 0.9816 - loss: 0.0542 - val_accuracy: 0.8531 - val_loss: 0.7612\n",
            "Epoch 15/20\n",
            "\u001b[1m1365/1365\u001b[0m \u001b[32m━━━━━━━━━━━━━━━━━━━━\u001b[0m\u001b[37m\u001b[0m \u001b[1m23s\u001b[0m 17ms/step - accuracy: 0.9842 - loss: 0.0530 - val_accuracy: 0.8553 - val_loss: 0.7210\n",
            "Epoch 16/20\n",
            "\u001b[1m1365/1365\u001b[0m \u001b[32m━━━━━━━━━━━━━━━━━━━━\u001b[0m\u001b[37m\u001b[0m \u001b[1m41s\u001b[0m 17ms/step - accuracy: 0.9842 - loss: 0.0491 - val_accuracy: 0.8538 - val_loss: 0.7653\n",
            "Epoch 17/20\n",
            "\u001b[1m1365/1365\u001b[0m \u001b[32m━━━━━━━━━━━━━━━━━━━━\u001b[0m\u001b[37m\u001b[0m \u001b[1m42s\u001b[0m 17ms/step - accuracy: 0.9876 - loss: 0.0380 - val_accuracy: 0.8485 - val_loss: 0.8245\n",
            "Epoch 18/20\n",
            "\u001b[1m1365/1365\u001b[0m \u001b[32m━━━━━━━━━━━━━━━━━━━━\u001b[0m\u001b[37m\u001b[0m \u001b[1m23s\u001b[0m 17ms/step - accuracy: 0.9887 - loss: 0.0351 - val_accuracy: 0.8547 - val_loss: 0.8482\n",
            "Epoch 19/20\n",
            "\u001b[1m1365/1365\u001b[0m \u001b[32m━━━━━━━━━━━━━━━━━━━━\u001b[0m\u001b[37m\u001b[0m \u001b[1m22s\u001b[0m 16ms/step - accuracy: 0.9893 - loss: 0.0315 - val_accuracy: 0.8456 - val_loss: 0.9244\n",
            "Epoch 20/20\n",
            "\u001b[1m1365/1365\u001b[0m \u001b[32m━━━━━━━━━━━━━━━━━━━━\u001b[0m\u001b[37m\u001b[0m \u001b[1m22s\u001b[0m 16ms/step - accuracy: 0.9891 - loss: 0.0331 - val_accuracy: 0.8538 - val_loss: 0.9503\n",
            "Dataset 5: Test Loss: 0.9503, Test Accuracy: 85.38%\n",
            "\u001b[1m171/171\u001b[0m \u001b[32m━━━━━━━━━━━━━━━━━━━━\u001b[0m\u001b[37m\u001b[0m \u001b[1m1s\u001b[0m 5ms/step\n"
          ]
        },
        {
          "output_type": "stream",
          "name": "stderr",
          "text": [
            "WARNING:absl:You are saving your model as an HDF5 file via `model.save()` or `keras.saving.save_model(model)`. This file format is considered legacy. We recommend using instead the native Keras format, e.g. `model.save('my_model.keras')` or `keras.saving.save_model(model, 'my_model.keras')`. \n"
          ]
        },
        {
          "output_type": "stream",
          "name": "stdout",
          "text": [
            "Classification Report for Dataset 5:\n",
            "               precision    recall  f1-score   support\n",
            "\n",
            "           0       0.59      0.63      0.61       499\n",
            "           1       0.75      0.67      0.71       275\n",
            "           2       0.74      0.69      0.72       432\n",
            "           3       0.94      0.95      0.95      3808\n",
            "           4       0.57      0.55      0.56       445\n",
            "\n",
            "    accuracy                           0.85      5459\n",
            "   macro avg       0.72      0.70      0.71      5459\n",
            "weighted avg       0.85      0.85      0.85      5459\n",
            "\n",
            "Confusion Matrix for Dataset 5:\n",
            " [[ 316   19   20   83   61]\n",
            " [  22  184   17   30   22]\n",
            " [  38   18  298   39   39]\n",
            " [  82   11   36 3617   62]\n",
            " [  80   14   29   76  246]]\n",
            "Artifacts for dataset 5 saved: Model, Label Encoder, Tokenizer.\n",
            "\n",
            "Processing dataset 6: preprocessed_mental_health_6.csv\n",
            "Epoch 1/20\n"
          ]
        },
        {
          "output_type": "stream",
          "name": "stderr",
          "text": [
            "/usr/local/lib/python3.10/dist-packages/keras/src/layers/core/embedding.py:90: UserWarning: Argument `input_length` is deprecated. Just remove it.\n",
            "  warnings.warn(\n"
          ]
        },
        {
          "output_type": "stream",
          "name": "stdout",
          "text": [
            "\u001b[1m1365/1365\u001b[0m \u001b[32m━━━━━━━━━━━━━━━━━━━━\u001b[0m\u001b[37m\u001b[0m \u001b[1m25s\u001b[0m 17ms/step - accuracy: 0.2973 - loss: 1.5297 - val_accuracy: 0.3037 - val_loss: 1.4899\n",
            "Epoch 2/20\n",
            "\u001b[1m1365/1365\u001b[0m \u001b[32m━━━━━━━━━━━━━━━━━━━━\u001b[0m\u001b[37m\u001b[0m \u001b[1m22s\u001b[0m 16ms/step - accuracy: 0.3634 - loss: 1.3727 - val_accuracy: 0.5329 - val_loss: 1.0240\n",
            "Epoch 3/20\n",
            "\u001b[1m1365/1365\u001b[0m \u001b[32m━━━━━━━━━━━━━━━━━━━━\u001b[0m\u001b[37m\u001b[0m \u001b[1m41s\u001b[0m 16ms/step - accuracy: 0.5817 - loss: 0.9210 - val_accuracy: 0.6468 - val_loss: 0.8862\n",
            "Epoch 4/20\n",
            "\u001b[1m1365/1365\u001b[0m \u001b[32m━━━━━━━━━━━━━━━━━━━━\u001b[0m\u001b[37m\u001b[0m \u001b[1m41s\u001b[0m 16ms/step - accuracy: 0.7289 - loss: 0.6796 - val_accuracy: 0.6999 - val_loss: 0.7992\n",
            "Epoch 5/20\n",
            "\u001b[1m1365/1365\u001b[0m \u001b[32m━━━━━━━━━━━━━━━━━━━━\u001b[0m\u001b[37m\u001b[0m \u001b[1m40s\u001b[0m 16ms/step - accuracy: 0.8140 - loss: 0.4902 - val_accuracy: 0.7087 - val_loss: 0.8591\n",
            "Epoch 6/20\n",
            "\u001b[1m1365/1365\u001b[0m \u001b[32m━━━━━━━━━━━━━━━━━━━━\u001b[0m\u001b[37m\u001b[0m \u001b[1m42s\u001b[0m 16ms/step - accuracy: 0.8627 - loss: 0.3708 - val_accuracy: 0.7009 - val_loss: 0.9419\n",
            "Epoch 7/20\n",
            "\u001b[1m1365/1365\u001b[0m \u001b[32m━━━━━━━━━━━━━━━━━━━━\u001b[0m\u001b[37m\u001b[0m \u001b[1m41s\u001b[0m 17ms/step - accuracy: 0.8991 - loss: 0.2869 - val_accuracy: 0.7007 - val_loss: 1.0284\n",
            "Epoch 8/20\n",
            "\u001b[1m1365/1365\u001b[0m \u001b[32m━━━━━━━━━━━━━━━━━━━━\u001b[0m\u001b[37m\u001b[0m \u001b[1m41s\u001b[0m 17ms/step - accuracy: 0.9146 - loss: 0.2345 - val_accuracy: 0.6976 - val_loss: 1.1620\n",
            "Epoch 9/20\n",
            "\u001b[1m1365/1365\u001b[0m \u001b[32m━━━━━━━━━━━━━━━━━━━━\u001b[0m\u001b[37m\u001b[0m \u001b[1m41s\u001b[0m 17ms/step - accuracy: 0.9352 - loss: 0.1866 - val_accuracy: 0.6910 - val_loss: 1.3114\n",
            "Epoch 10/20\n",
            "\u001b[1m1365/1365\u001b[0m \u001b[32m━━━━━━━━━━━━━━━━━━━━\u001b[0m\u001b[37m\u001b[0m \u001b[1m40s\u001b[0m 16ms/step - accuracy: 0.9364 - loss: 0.1743 - val_accuracy: 0.6957 - val_loss: 1.3673\n",
            "Epoch 11/20\n",
            "\u001b[1m1365/1365\u001b[0m \u001b[32m━━━━━━━━━━━━━━━━━━━━\u001b[0m\u001b[37m\u001b[0m \u001b[1m40s\u001b[0m 16ms/step - accuracy: 0.9462 - loss: 0.1484 - val_accuracy: 0.6886 - val_loss: 1.5215\n",
            "Epoch 12/20\n",
            "\u001b[1m1365/1365\u001b[0m \u001b[32m━━━━━━━━━━━━━━━━━━━━\u001b[0m\u001b[37m\u001b[0m \u001b[1m43s\u001b[0m 18ms/step - accuracy: 0.9522 - loss: 0.1314 - val_accuracy: 0.6827 - val_loss: 1.4369\n",
            "Epoch 13/20\n",
            "\u001b[1m1365/1365\u001b[0m \u001b[32m━━━━━━━━━━━━━━━━━━━━\u001b[0m\u001b[37m\u001b[0m \u001b[1m40s\u001b[0m 17ms/step - accuracy: 0.9566 - loss: 0.1225 - val_accuracy: 0.6825 - val_loss: 1.5440\n",
            "Epoch 14/20\n",
            "\u001b[1m1365/1365\u001b[0m \u001b[32m━━━━━━━━━━━━━━━━━━━━\u001b[0m\u001b[37m\u001b[0m \u001b[1m22s\u001b[0m 16ms/step - accuracy: 0.9592 - loss: 0.1092 - val_accuracy: 0.6895 - val_loss: 1.4600\n",
            "Epoch 15/20\n",
            "\u001b[1m1365/1365\u001b[0m \u001b[32m━━━━━━━━━━━━━━━━━━━━\u001b[0m\u001b[37m\u001b[0m \u001b[1m23s\u001b[0m 17ms/step - accuracy: 0.9652 - loss: 0.0995 - val_accuracy: 0.6847 - val_loss: 1.6738\n",
            "Epoch 16/20\n",
            "\u001b[1m1365/1365\u001b[0m \u001b[32m━━━━━━━━━━━━━━━━━━━━\u001b[0m\u001b[37m\u001b[0m \u001b[1m23s\u001b[0m 17ms/step - accuracy: 0.9641 - loss: 0.0969 - val_accuracy: 0.6857 - val_loss: 1.6038\n",
            "Epoch 17/20\n",
            "\u001b[1m1365/1365\u001b[0m \u001b[32m━━━━━━━━━━━━━━━━━━━━\u001b[0m\u001b[37m\u001b[0m \u001b[1m22s\u001b[0m 16ms/step - accuracy: 0.9685 - loss: 0.0845 - val_accuracy: 0.6864 - val_loss: 1.7682\n",
            "Epoch 18/20\n",
            "\u001b[1m1365/1365\u001b[0m \u001b[32m━━━━━━━━━━━━━━━━━━━━\u001b[0m\u001b[37m\u001b[0m \u001b[1m42s\u001b[0m 17ms/step - accuracy: 0.9718 - loss: 0.0754 - val_accuracy: 0.6825 - val_loss: 1.8512\n",
            "Epoch 19/20\n",
            "\u001b[1m1365/1365\u001b[0m \u001b[32m━━━━━━━━━━━━━━━━━━━━\u001b[0m\u001b[37m\u001b[0m \u001b[1m41s\u001b[0m 17ms/step - accuracy: 0.9739 - loss: 0.0735 - val_accuracy: 0.6809 - val_loss: 1.9275\n",
            "Epoch 20/20\n",
            "\u001b[1m1365/1365\u001b[0m \u001b[32m━━━━━━━━━━━━━━━━━━━━\u001b[0m\u001b[37m\u001b[0m \u001b[1m41s\u001b[0m 17ms/step - accuracy: 0.9733 - loss: 0.0713 - val_accuracy: 0.6774 - val_loss: 1.9939\n",
            "Dataset 6: Test Loss: 1.9939, Test Accuracy: 67.74%\n",
            "\u001b[1m171/171\u001b[0m \u001b[32m━━━━━━━━━━━━━━━━━━━━\u001b[0m\u001b[37m\u001b[0m \u001b[1m2s\u001b[0m 12ms/step\n"
          ]
        },
        {
          "output_type": "stream",
          "name": "stderr",
          "text": [
            "WARNING:absl:You are saving your model as an HDF5 file via `model.save()` or `keras.saving.save_model(model)`. This file format is considered legacy. We recommend using instead the native Keras format, e.g. `model.save('my_model.keras')` or `keras.saving.save_model(model, 'my_model.keras')`. \n"
          ]
        },
        {
          "output_type": "stream",
          "name": "stdout",
          "text": [
            "Classification Report for Dataset 6:\n",
            "               precision    recall  f1-score   support\n",
            "\n",
            "           0       0.73      0.73      0.73      1658\n",
            "           1       0.61      0.61      0.61       750\n",
            "           2       0.67      0.66      0.66      1392\n",
            "           3       0.83      0.70      0.76       479\n",
            "           4       0.61      0.65      0.63      1180\n",
            "\n",
            "    accuracy                           0.68      5459\n",
            "   macro avg       0.69      0.67      0.68      5459\n",
            "weighted avg       0.68      0.68      0.68      5459\n",
            "\n",
            "Confusion Matrix for Dataset 6:\n",
            " [[1211   55  181   22  189]\n",
            " [  66  459  109    9  107]\n",
            " [ 168  113  920   25  166]\n",
            " [  35   45   33  336   30]\n",
            " [ 180   82  132   14  772]]\n",
            "Artifacts for dataset 6 saved: Model, Label Encoder, Tokenizer.\n",
            "\n"
          ]
        }
      ]
    },
    {
      "cell_type": "markdown",
      "source": [
        "# Transformer"
      ],
      "metadata": {
        "id": "uiJZ3z3zXgaQ"
      }
    },
    {
      "cell_type": "code",
      "source": [
        "import numpy as np\n",
        "import pandas as pd\n",
        "from sklearn.preprocessing import LabelEncoder\n",
        "from sklearn.metrics import confusion_matrix, ConfusionMatrixDisplay\n",
        "from tensorflow.keras.layers import MultiHeadAttention, Input, Dense, Embedding, GlobalAveragePooling1D, LayerNormalization, Layer\n",
        "from tensorflow.keras.models import Model, Sequential\n",
        "from tensorflow.keras.utils import to_categorical\n",
        "from tensorflow.keras.layers import TextVectorization\n",
        "from sklearn.model_selection import train_test_split\n",
        "import matplotlib.pyplot as plt\n",
        "from tensorflow.data import Dataset\n",
        "from tensorflow import convert_to_tensor, string, float32, shape, range, reshape\n",
        "import pickle\n",
        "\n",
        "# List of datasets\n",
        "datasets = [\n",
        "    f'preprocessed_mental_health_{i}.csv' for i in range(1, 7)\n",
        "]\n",
        "\n",
        "# Define custom layers\n",
        "class EmbeddingLayer(Layer):\n",
        "    def __init__(self, sequence_length, vocab_size, embed_dim):\n",
        "        super(EmbeddingLayer, self).__init__()\n",
        "        self.word_embedding = Embedding(input_dim=vocab_size, output_dim=embed_dim)\n",
        "        self.position_embedding = Embedding(input_dim=sequence_length, output_dim=embed_dim)\n",
        "\n",
        "    def call(self, tokens):\n",
        "        sequence_length = shape(tokens)[-1]\n",
        "        positions = range(start=0, limit=sequence_length, delta=1)\n",
        "        positions_encoding = self.position_embedding(positions)\n",
        "        words_encoding = self.word_embedding(tokens)\n",
        "        return positions_encoding + words_encoding\n",
        "\n",
        "class EncoderLayer(Layer):\n",
        "    def __init__(self, total_heads, total_dense_units, embed_dim):\n",
        "        super(EncoderLayer, self).__init__()\n",
        "        self.multihead = MultiHeadAttention(num_heads=total_heads, key_dim=embed_dim)\n",
        "        self.nnw = Sequential([Dense(total_dense_units, activation=\"relu\"), Dense(embed_dim)])\n",
        "        self.normalize_layer = LayerNormalization()\n",
        "\n",
        "    def call(self, inputs):\n",
        "        attn_output = self.multihead(inputs, inputs)\n",
        "        normalize_attn = self.normalize_layer(inputs + attn_output)\n",
        "        nnw_output = self.nnw(normalize_attn)\n",
        "        final_output = self.normalize_layer(normalize_attn + nnw_output)\n",
        "        return final_output\n",
        "\n",
        "# Loop through each dataset\n",
        "for i, dataset in enumerate(datasets, start=1):\n",
        "    print(f\"Processing dataset {i}: {dataset}\")\n",
        "\n",
        "    # Load dataset\n",
        "    data = pd.read_csv(dataset)\n",
        "\n",
        "    # Drop rows with missing cleaned_text\n",
        "    data = data.dropna(subset=['cleaned_text'])\n",
        "\n",
        "    # Extract features and labels\n",
        "    texts = data['cleaned_text'].astype(str).values\n",
        "    labels = data['mental_health_issue'].astype(str).values\n",
        "\n",
        "    # Encode the labels\n",
        "    label_encoder = LabelEncoder()\n",
        "    encoded_labels = label_encoder.fit_transform(labels)\n",
        "    categorical_labels = to_categorical(encoded_labels)\n",
        "\n",
        "    # Define parameters\n",
        "    vocab_size = 25000\n",
        "    sequence_length = 300\n",
        "\n",
        "    # Vectorization layer\n",
        "    vectorize_layer = TextVectorization(\n",
        "        max_tokens=vocab_size,\n",
        "        output_sequence_length=sequence_length\n",
        "    )\n",
        "\n",
        "    # Adapt vectorizer to texts\n",
        "    vectorize_layer.adapt(Dataset.from_tensor_slices(texts))\n",
        "\n",
        "    # Vectorize text data\n",
        "    texts_vectorized = vectorize_layer(convert_to_tensor(texts, dtype=string))\n",
        "\n",
        "    # Split data into train and validation\n",
        "    texts_vectorized_np = texts_vectorized.numpy()  # Convert TensorFlow tensor to NumPy array\n",
        "    X_train, X_val, y_train, y_val = train_test_split(\n",
        "        texts_vectorized_np, categorical_labels, test_size=0.2, random_state=42\n",
        "    )\n",
        "\n",
        "    # Model parameters\n",
        "    embed_dim = 64\n",
        "    num_heads = 2\n",
        "    total_dense_units = 60\n",
        "\n",
        "    # Define the model\n",
        "    inputs = Input(shape=(sequence_length,))\n",
        "    embedding_layer = EmbeddingLayer(sequence_length, vocab_size, embed_dim)\n",
        "    encoder_layer = EncoderLayer(num_heads, total_dense_units, embed_dim)\n",
        "    emb = embedding_layer(inputs)\n",
        "    enc = encoder_layer(emb)\n",
        "    pool = GlobalAveragePooling1D()(enc)\n",
        "    dense = Dense(total_dense_units, activation=\"relu\")(pool)\n",
        "    outputs = Dense(len(label_encoder.classes_), activation=\"softmax\")(dense)\n",
        "\n",
        "    transformer_model = Model(inputs=inputs, outputs=outputs)\n",
        "    transformer_model.compile(optimizer=\"adamw\", loss=\"categorical_crossentropy\", metrics=['accuracy'])\n",
        "    transformer_model.summary()\n",
        "\n",
        "    # Train the model\n",
        "    history = transformer_model.fit(\n",
        "        X_train, y_train,\n",
        "        validation_data=(X_val, y_val),\n",
        "        batch_size=32,\n",
        "        epochs=5\n",
        "    )\n",
        "\n",
        "    # Evaluate the model\n",
        "    val_metrics = transformer_model.evaluate(X_val, y_val)\n",
        "    print(f\"Dataset {i}: Validation Accuracy: {val_metrics[1] * 100:.4f}%\")\n",
        "\n",
        "    # Save the artifacts\n",
        "    transformer_model.save(f'Ttransformer_model_{i}.h5')\n",
        "    with open(f'Tvectorize_layer_{i}.pkl', 'wb') as vectorizer_file:\n",
        "        pickle.dump(vectorize_layer, vectorizer_file)\n",
        "    with open(f'Tlabel_encoder_{i}.pkl', 'wb') as label_encoder_file:\n",
        "        pickle.dump(label_encoder, label_encoder_file)\n",
        "    with open(f'Ttraining_history_{i}.pkl', 'wb') as history_file:\n",
        "        pickle.dump(history.history, history_file)\n",
        "\n",
        "    print(f\"Artifacts for dataset {i} saved: Model, Vectorizer, Label Encoder, Training History.\\n\")\n"
      ],
      "metadata": {
        "colab": {
          "base_uri": "https://localhost:8080/",
          "height": 1000
        },
        "id": "otvWI-upXh-p",
        "outputId": "8ffaedf2-7edb-4e0b-ac16-1cab3f16660d"
      },
      "execution_count": null,
      "outputs": [
        {
          "output_type": "stream",
          "name": "stdout",
          "text": [
            "Processing dataset 1: preprocessed_mental_health_1.csv\n"
          ]
        },
        {
          "output_type": "display_data",
          "data": {
            "text/plain": [
              "\u001b[1mModel: \"functional_7\"\u001b[0m\n"
            ],
            "text/html": [
              "<pre style=\"white-space:pre;overflow-x:auto;line-height:normal;font-family:Menlo,'DejaVu Sans Mono',consolas,'Courier New',monospace\"><span style=\"font-weight: bold\">Model: \"functional_7\"</span>\n",
              "</pre>\n"
            ]
          },
          "metadata": {}
        },
        {
          "output_type": "display_data",
          "data": {
            "text/plain": [
              "┏━━━━━━━━━━━━━━━━━━━━━━━━━━━━━━━━━━━━━━┳━━━━━━━━━━━━━━━━━━━━━━━━━━━━━┳━━━━━━━━━━━━━━━━━┓\n",
              "┃\u001b[1m \u001b[0m\u001b[1mLayer (type)                        \u001b[0m\u001b[1m \u001b[0m┃\u001b[1m \u001b[0m\u001b[1mOutput Shape               \u001b[0m\u001b[1m \u001b[0m┃\u001b[1m \u001b[0m\u001b[1m        Param #\u001b[0m\u001b[1m \u001b[0m┃\n",
              "┡━━━━━━━━━━━━━━━━━━━━━━━━━━━━━━━━━━━━━━╇━━━━━━━━━━━━━━━━━━━━━━━━━━━━━╇━━━━━━━━━━━━━━━━━┩\n",
              "│ input_layer_6 (\u001b[38;5;33mInputLayer\u001b[0m)           │ (\u001b[38;5;45mNone\u001b[0m, \u001b[38;5;34m300\u001b[0m)                 │               \u001b[38;5;34m0\u001b[0m │\n",
              "├──────────────────────────────────────┼─────────────────────────────┼─────────────────┤\n",
              "│ embedding_layer (\u001b[38;5;33mEmbeddingLayer\u001b[0m)     │ (\u001b[38;5;45mNone\u001b[0m, \u001b[38;5;34m300\u001b[0m, \u001b[38;5;34m64\u001b[0m)             │       \u001b[38;5;34m1,619,200\u001b[0m │\n",
              "├──────────────────────────────────────┼─────────────────────────────┼─────────────────┤\n",
              "│ encoder_layer (\u001b[38;5;33mEncoderLayer\u001b[0m)         │ (\u001b[38;5;45mNone\u001b[0m, \u001b[38;5;34m300\u001b[0m, \u001b[38;5;34m64\u001b[0m)             │          \u001b[38;5;34m41,148\u001b[0m │\n",
              "├──────────────────────────────────────┼─────────────────────────────┼─────────────────┤\n",
              "│ global_average_pooling1d             │ (\u001b[38;5;45mNone\u001b[0m, \u001b[38;5;34m64\u001b[0m)                  │               \u001b[38;5;34m0\u001b[0m │\n",
              "│ (\u001b[38;5;33mGlobalAveragePooling1D\u001b[0m)             │                             │                 │\n",
              "├──────────────────────────────────────┼─────────────────────────────┼─────────────────┤\n",
              "│ dense_14 (\u001b[38;5;33mDense\u001b[0m)                     │ (\u001b[38;5;45mNone\u001b[0m, \u001b[38;5;34m60\u001b[0m)                  │           \u001b[38;5;34m3,900\u001b[0m │\n",
              "├──────────────────────────────────────┼─────────────────────────────┼─────────────────┤\n",
              "│ dense_15 (\u001b[38;5;33mDense\u001b[0m)                     │ (\u001b[38;5;45mNone\u001b[0m, \u001b[38;5;34m5\u001b[0m)                   │             \u001b[38;5;34m305\u001b[0m │\n",
              "└──────────────────────────────────────┴─────────────────────────────┴─────────────────┘\n"
            ],
            "text/html": [
              "<pre style=\"white-space:pre;overflow-x:auto;line-height:normal;font-family:Menlo,'DejaVu Sans Mono',consolas,'Courier New',monospace\">┏━━━━━━━━━━━━━━━━━━━━━━━━━━━━━━━━━━━━━━┳━━━━━━━━━━━━━━━━━━━━━━━━━━━━━┳━━━━━━━━━━━━━━━━━┓\n",
              "┃<span style=\"font-weight: bold\"> Layer (type)                         </span>┃<span style=\"font-weight: bold\"> Output Shape                </span>┃<span style=\"font-weight: bold\">         Param # </span>┃\n",
              "┡━━━━━━━━━━━━━━━━━━━━━━━━━━━━━━━━━━━━━━╇━━━━━━━━━━━━━━━━━━━━━━━━━━━━━╇━━━━━━━━━━━━━━━━━┩\n",
              "│ input_layer_6 (<span style=\"color: #0087ff; text-decoration-color: #0087ff\">InputLayer</span>)           │ (<span style=\"color: #00d7ff; text-decoration-color: #00d7ff\">None</span>, <span style=\"color: #00af00; text-decoration-color: #00af00\">300</span>)                 │               <span style=\"color: #00af00; text-decoration-color: #00af00\">0</span> │\n",
              "├──────────────────────────────────────┼─────────────────────────────┼─────────────────┤\n",
              "│ embedding_layer (<span style=\"color: #0087ff; text-decoration-color: #0087ff\">EmbeddingLayer</span>)     │ (<span style=\"color: #00d7ff; text-decoration-color: #00d7ff\">None</span>, <span style=\"color: #00af00; text-decoration-color: #00af00\">300</span>, <span style=\"color: #00af00; text-decoration-color: #00af00\">64</span>)             │       <span style=\"color: #00af00; text-decoration-color: #00af00\">1,619,200</span> │\n",
              "├──────────────────────────────────────┼─────────────────────────────┼─────────────────┤\n",
              "│ encoder_layer (<span style=\"color: #0087ff; text-decoration-color: #0087ff\">EncoderLayer</span>)         │ (<span style=\"color: #00d7ff; text-decoration-color: #00d7ff\">None</span>, <span style=\"color: #00af00; text-decoration-color: #00af00\">300</span>, <span style=\"color: #00af00; text-decoration-color: #00af00\">64</span>)             │          <span style=\"color: #00af00; text-decoration-color: #00af00\">41,148</span> │\n",
              "├──────────────────────────────────────┼─────────────────────────────┼─────────────────┤\n",
              "│ global_average_pooling1d             │ (<span style=\"color: #00d7ff; text-decoration-color: #00d7ff\">None</span>, <span style=\"color: #00af00; text-decoration-color: #00af00\">64</span>)                  │               <span style=\"color: #00af00; text-decoration-color: #00af00\">0</span> │\n",
              "│ (<span style=\"color: #0087ff; text-decoration-color: #0087ff\">GlobalAveragePooling1D</span>)             │                             │                 │\n",
              "├──────────────────────────────────────┼─────────────────────────────┼─────────────────┤\n",
              "│ dense_14 (<span style=\"color: #0087ff; text-decoration-color: #0087ff\">Dense</span>)                     │ (<span style=\"color: #00d7ff; text-decoration-color: #00d7ff\">None</span>, <span style=\"color: #00af00; text-decoration-color: #00af00\">60</span>)                  │           <span style=\"color: #00af00; text-decoration-color: #00af00\">3,900</span> │\n",
              "├──────────────────────────────────────┼─────────────────────────────┼─────────────────┤\n",
              "│ dense_15 (<span style=\"color: #0087ff; text-decoration-color: #0087ff\">Dense</span>)                     │ (<span style=\"color: #00d7ff; text-decoration-color: #00d7ff\">None</span>, <span style=\"color: #00af00; text-decoration-color: #00af00\">5</span>)                   │             <span style=\"color: #00af00; text-decoration-color: #00af00\">305</span> │\n",
              "└──────────────────────────────────────┴─────────────────────────────┴─────────────────┘\n",
              "</pre>\n"
            ]
          },
          "metadata": {}
        },
        {
          "output_type": "display_data",
          "data": {
            "text/plain": [
              "\u001b[1m Total params: \u001b[0m\u001b[38;5;34m1,664,553\u001b[0m (6.35 MB)\n"
            ],
            "text/html": [
              "<pre style=\"white-space:pre;overflow-x:auto;line-height:normal;font-family:Menlo,'DejaVu Sans Mono',consolas,'Courier New',monospace\"><span style=\"font-weight: bold\"> Total params: </span><span style=\"color: #00af00; text-decoration-color: #00af00\">1,664,553</span> (6.35 MB)\n",
              "</pre>\n"
            ]
          },
          "metadata": {}
        },
        {
          "output_type": "display_data",
          "data": {
            "text/plain": [
              "\u001b[1m Trainable params: \u001b[0m\u001b[38;5;34m1,664,553\u001b[0m (6.35 MB)\n"
            ],
            "text/html": [
              "<pre style=\"white-space:pre;overflow-x:auto;line-height:normal;font-family:Menlo,'DejaVu Sans Mono',consolas,'Courier New',monospace\"><span style=\"font-weight: bold\"> Trainable params: </span><span style=\"color: #00af00; text-decoration-color: #00af00\">1,664,553</span> (6.35 MB)\n",
              "</pre>\n"
            ]
          },
          "metadata": {}
        },
        {
          "output_type": "display_data",
          "data": {
            "text/plain": [
              "\u001b[1m Non-trainable params: \u001b[0m\u001b[38;5;34m0\u001b[0m (0.00 B)\n"
            ],
            "text/html": [
              "<pre style=\"white-space:pre;overflow-x:auto;line-height:normal;font-family:Menlo,'DejaVu Sans Mono',consolas,'Courier New',monospace\"><span style=\"font-weight: bold\"> Non-trainable params: </span><span style=\"color: #00af00; text-decoration-color: #00af00\">0</span> (0.00 B)\n",
              "</pre>\n"
            ]
          },
          "metadata": {}
        },
        {
          "output_type": "stream",
          "name": "stdout",
          "text": [
            "Epoch 1/5\n",
            "\u001b[1m680/680\u001b[0m \u001b[32m━━━━━━━━━━━━━━━━━━━━\u001b[0m\u001b[37m\u001b[0m \u001b[1m20s\u001b[0m 19ms/step - accuracy: 0.6988 - loss: 0.9618 - val_accuracy: 0.8211 - val_loss: 0.5294\n",
            "Epoch 2/5\n",
            "\u001b[1m680/680\u001b[0m \u001b[32m━━━━━━━━━━━━━━━━━━━━\u001b[0m\u001b[37m\u001b[0m \u001b[1m5s\u001b[0m 7ms/step - accuracy: 0.8638 - loss: 0.4125 - val_accuracy: 0.8529 - val_loss: 0.4595\n",
            "Epoch 3/5\n",
            "\u001b[1m680/680\u001b[0m \u001b[32m━━━━━━━━━━━━━━━━━━━━\u001b[0m\u001b[37m\u001b[0m \u001b[1m10s\u001b[0m 8ms/step - accuracy: 0.9216 - loss: 0.2440 - val_accuracy: 0.8411 - val_loss: 0.4952\n",
            "Epoch 4/5\n",
            "\u001b[1m680/680\u001b[0m \u001b[32m━━━━━━━━━━━━━━━━━━━━\u001b[0m\u001b[37m\u001b[0m \u001b[1m5s\u001b[0m 7ms/step - accuracy: 0.9552 - loss: 0.1386 - val_accuracy: 0.8364 - val_loss: 0.6496\n",
            "Epoch 5/5\n",
            "\u001b[1m680/680\u001b[0m \u001b[32m━━━━━━━━━━━━━━━━━━━━\u001b[0m\u001b[37m\u001b[0m \u001b[1m6s\u001b[0m 8ms/step - accuracy: 0.9705 - loss: 0.0903 - val_accuracy: 0.8321 - val_loss: 0.7363\n",
            "\u001b[1m170/170\u001b[0m \u001b[32m━━━━━━━━━━━━━━━━━━━━\u001b[0m\u001b[37m\u001b[0m \u001b[1m0s\u001b[0m 3ms/step - accuracy: 0.8340 - loss: 0.7413\n"
          ]
        },
        {
          "output_type": "stream",
          "name": "stderr",
          "text": [
            "WARNING:absl:You are saving your model as an HDF5 file via `model.save()` or `keras.saving.save_model(model)`. This file format is considered legacy. We recommend using instead the native Keras format, e.g. `model.save('my_model.keras')` or `keras.saving.save_model(model, 'my_model.keras')`. \n"
          ]
        },
        {
          "output_type": "stream",
          "name": "stdout",
          "text": [
            "Dataset 1: Validation Accuracy: 83.2138%\n",
            "Artifacts for dataset 1 saved: Model, Vectorizer, Label Encoder, Training History.\n",
            "\n",
            "Processing dataset 2: preprocessed_mental_health_2.csv\n"
          ]
        },
        {
          "output_type": "display_data",
          "data": {
            "text/plain": [
              "\u001b[1mModel: \"functional_9\"\u001b[0m\n"
            ],
            "text/html": [
              "<pre style=\"white-space:pre;overflow-x:auto;line-height:normal;font-family:Menlo,'DejaVu Sans Mono',consolas,'Courier New',monospace\"><span style=\"font-weight: bold\">Model: \"functional_9\"</span>\n",
              "</pre>\n"
            ]
          },
          "metadata": {}
        },
        {
          "output_type": "display_data",
          "data": {
            "text/plain": [
              "┏━━━━━━━━━━━━━━━━━━━━━━━━━━━━━━━━━━━━━━┳━━━━━━━━━━━━━━━━━━━━━━━━━━━━━┳━━━━━━━━━━━━━━━━━┓\n",
              "┃\u001b[1m \u001b[0m\u001b[1mLayer (type)                        \u001b[0m\u001b[1m \u001b[0m┃\u001b[1m \u001b[0m\u001b[1mOutput Shape               \u001b[0m\u001b[1m \u001b[0m┃\u001b[1m \u001b[0m\u001b[1m        Param #\u001b[0m\u001b[1m \u001b[0m┃\n",
              "┡━━━━━━━━━━━━━━━━━━━━━━━━━━━━━━━━━━━━━━╇━━━━━━━━━━━━━━━━━━━━━━━━━━━━━╇━━━━━━━━━━━━━━━━━┩\n",
              "│ input_layer_8 (\u001b[38;5;33mInputLayer\u001b[0m)           │ (\u001b[38;5;45mNone\u001b[0m, \u001b[38;5;34m300\u001b[0m)                 │               \u001b[38;5;34m0\u001b[0m │\n",
              "├──────────────────────────────────────┼─────────────────────────────┼─────────────────┤\n",
              "│ embedding_layer_1 (\u001b[38;5;33mEmbeddingLayer\u001b[0m)   │ (\u001b[38;5;45mNone\u001b[0m, \u001b[38;5;34m300\u001b[0m, \u001b[38;5;34m64\u001b[0m)             │       \u001b[38;5;34m1,619,200\u001b[0m │\n",
              "├──────────────────────────────────────┼─────────────────────────────┼─────────────────┤\n",
              "│ encoder_layer_1 (\u001b[38;5;33mEncoderLayer\u001b[0m)       │ (\u001b[38;5;45mNone\u001b[0m, \u001b[38;5;34m300\u001b[0m, \u001b[38;5;34m64\u001b[0m)             │          \u001b[38;5;34m41,148\u001b[0m │\n",
              "├──────────────────────────────────────┼─────────────────────────────┼─────────────────┤\n",
              "│ global_average_pooling1d_1           │ (\u001b[38;5;45mNone\u001b[0m, \u001b[38;5;34m64\u001b[0m)                  │               \u001b[38;5;34m0\u001b[0m │\n",
              "│ (\u001b[38;5;33mGlobalAveragePooling1D\u001b[0m)             │                             │                 │\n",
              "├──────────────────────────────────────┼─────────────────────────────┼─────────────────┤\n",
              "│ dense_18 (\u001b[38;5;33mDense\u001b[0m)                     │ (\u001b[38;5;45mNone\u001b[0m, \u001b[38;5;34m60\u001b[0m)                  │           \u001b[38;5;34m3,900\u001b[0m │\n",
              "├──────────────────────────────────────┼─────────────────────────────┼─────────────────┤\n",
              "│ dense_19 (\u001b[38;5;33mDense\u001b[0m)                     │ (\u001b[38;5;45mNone\u001b[0m, \u001b[38;5;34m5\u001b[0m)                   │             \u001b[38;5;34m305\u001b[0m │\n",
              "└──────────────────────────────────────┴─────────────────────────────┴─────────────────┘\n"
            ],
            "text/html": [
              "<pre style=\"white-space:pre;overflow-x:auto;line-height:normal;font-family:Menlo,'DejaVu Sans Mono',consolas,'Courier New',monospace\">┏━━━━━━━━━━━━━━━━━━━━━━━━━━━━━━━━━━━━━━┳━━━━━━━━━━━━━━━━━━━━━━━━━━━━━┳━━━━━━━━━━━━━━━━━┓\n",
              "┃<span style=\"font-weight: bold\"> Layer (type)                         </span>┃<span style=\"font-weight: bold\"> Output Shape                </span>┃<span style=\"font-weight: bold\">         Param # </span>┃\n",
              "┡━━━━━━━━━━━━━━━━━━━━━━━━━━━━━━━━━━━━━━╇━━━━━━━━━━━━━━━━━━━━━━━━━━━━━╇━━━━━━━━━━━━━━━━━┩\n",
              "│ input_layer_8 (<span style=\"color: #0087ff; text-decoration-color: #0087ff\">InputLayer</span>)           │ (<span style=\"color: #00d7ff; text-decoration-color: #00d7ff\">None</span>, <span style=\"color: #00af00; text-decoration-color: #00af00\">300</span>)                 │               <span style=\"color: #00af00; text-decoration-color: #00af00\">0</span> │\n",
              "├──────────────────────────────────────┼─────────────────────────────┼─────────────────┤\n",
              "│ embedding_layer_1 (<span style=\"color: #0087ff; text-decoration-color: #0087ff\">EmbeddingLayer</span>)   │ (<span style=\"color: #00d7ff; text-decoration-color: #00d7ff\">None</span>, <span style=\"color: #00af00; text-decoration-color: #00af00\">300</span>, <span style=\"color: #00af00; text-decoration-color: #00af00\">64</span>)             │       <span style=\"color: #00af00; text-decoration-color: #00af00\">1,619,200</span> │\n",
              "├──────────────────────────────────────┼─────────────────────────────┼─────────────────┤\n",
              "│ encoder_layer_1 (<span style=\"color: #0087ff; text-decoration-color: #0087ff\">EncoderLayer</span>)       │ (<span style=\"color: #00d7ff; text-decoration-color: #00d7ff\">None</span>, <span style=\"color: #00af00; text-decoration-color: #00af00\">300</span>, <span style=\"color: #00af00; text-decoration-color: #00af00\">64</span>)             │          <span style=\"color: #00af00; text-decoration-color: #00af00\">41,148</span> │\n",
              "├──────────────────────────────────────┼─────────────────────────────┼─────────────────┤\n",
              "│ global_average_pooling1d_1           │ (<span style=\"color: #00d7ff; text-decoration-color: #00d7ff\">None</span>, <span style=\"color: #00af00; text-decoration-color: #00af00\">64</span>)                  │               <span style=\"color: #00af00; text-decoration-color: #00af00\">0</span> │\n",
              "│ (<span style=\"color: #0087ff; text-decoration-color: #0087ff\">GlobalAveragePooling1D</span>)             │                             │                 │\n",
              "├──────────────────────────────────────┼─────────────────────────────┼─────────────────┤\n",
              "│ dense_18 (<span style=\"color: #0087ff; text-decoration-color: #0087ff\">Dense</span>)                     │ (<span style=\"color: #00d7ff; text-decoration-color: #00d7ff\">None</span>, <span style=\"color: #00af00; text-decoration-color: #00af00\">60</span>)                  │           <span style=\"color: #00af00; text-decoration-color: #00af00\">3,900</span> │\n",
              "├──────────────────────────────────────┼─────────────────────────────┼─────────────────┤\n",
              "│ dense_19 (<span style=\"color: #0087ff; text-decoration-color: #0087ff\">Dense</span>)                     │ (<span style=\"color: #00d7ff; text-decoration-color: #00d7ff\">None</span>, <span style=\"color: #00af00; text-decoration-color: #00af00\">5</span>)                   │             <span style=\"color: #00af00; text-decoration-color: #00af00\">305</span> │\n",
              "└──────────────────────────────────────┴─────────────────────────────┴─────────────────┘\n",
              "</pre>\n"
            ]
          },
          "metadata": {}
        },
        {
          "output_type": "display_data",
          "data": {
            "text/plain": [
              "\u001b[1m Total params: \u001b[0m\u001b[38;5;34m1,664,553\u001b[0m (6.35 MB)\n"
            ],
            "text/html": [
              "<pre style=\"white-space:pre;overflow-x:auto;line-height:normal;font-family:Menlo,'DejaVu Sans Mono',consolas,'Courier New',monospace\"><span style=\"font-weight: bold\"> Total params: </span><span style=\"color: #00af00; text-decoration-color: #00af00\">1,664,553</span> (6.35 MB)\n",
              "</pre>\n"
            ]
          },
          "metadata": {}
        },
        {
          "output_type": "display_data",
          "data": {
            "text/plain": [
              "\u001b[1m Trainable params: \u001b[0m\u001b[38;5;34m1,664,553\u001b[0m (6.35 MB)\n"
            ],
            "text/html": [
              "<pre style=\"white-space:pre;overflow-x:auto;line-height:normal;font-family:Menlo,'DejaVu Sans Mono',consolas,'Courier New',monospace\"><span style=\"font-weight: bold\"> Trainable params: </span><span style=\"color: #00af00; text-decoration-color: #00af00\">1,664,553</span> (6.35 MB)\n",
              "</pre>\n"
            ]
          },
          "metadata": {}
        },
        {
          "output_type": "display_data",
          "data": {
            "text/plain": [
              "\u001b[1m Non-trainable params: \u001b[0m\u001b[38;5;34m0\u001b[0m (0.00 B)\n"
            ],
            "text/html": [
              "<pre style=\"white-space:pre;overflow-x:auto;line-height:normal;font-family:Menlo,'DejaVu Sans Mono',consolas,'Courier New',monospace\"><span style=\"font-weight: bold\"> Non-trainable params: </span><span style=\"color: #00af00; text-decoration-color: #00af00\">0</span> (0.00 B)\n",
              "</pre>\n"
            ]
          },
          "metadata": {}
        },
        {
          "output_type": "stream",
          "name": "stdout",
          "text": [
            "Epoch 1/5\n",
            "\u001b[1m679/679\u001b[0m \u001b[32m━━━━━━━━━━━━━━━━━━━━\u001b[0m\u001b[37m\u001b[0m \u001b[1m16s\u001b[0m 15ms/step - accuracy: 0.7098 - loss: 0.9141 - val_accuracy: 0.8166 - val_loss: 0.5881\n",
            "Epoch 2/5\n",
            "\u001b[1m679/679\u001b[0m \u001b[32m━━━━━━━━━━━━━━━━━━━━\u001b[0m\u001b[37m\u001b[0m \u001b[1m5s\u001b[0m 8ms/step - accuracy: 0.8282 - loss: 0.5340 - val_accuracy: 0.8356 - val_loss: 0.5312\n",
            "Epoch 3/5\n",
            "\u001b[1m679/679\u001b[0m \u001b[32m━━━━━━━━━━━━━━━━━━━━\u001b[0m\u001b[37m\u001b[0m \u001b[1m10s\u001b[0m 7ms/step - accuracy: 0.8742 - loss: 0.3737 - val_accuracy: 0.8420 - val_loss: 0.5140\n",
            "Epoch 4/5\n",
            "\u001b[1m679/679\u001b[0m \u001b[32m━━━━━━━━━━━━━━━━━━━━\u001b[0m\u001b[37m\u001b[0m \u001b[1m5s\u001b[0m 8ms/step - accuracy: 0.9020 - loss: 0.2756 - val_accuracy: 0.8466 - val_loss: 0.5334\n",
            "Epoch 5/5\n",
            "\u001b[1m679/679\u001b[0m \u001b[32m━━━━━━━━━━━━━━━━━━━━\u001b[0m\u001b[37m\u001b[0m \u001b[1m10s\u001b[0m 8ms/step - accuracy: 0.9317 - loss: 0.1986 - val_accuracy: 0.8450 - val_loss: 0.5421\n",
            "\u001b[1m170/170\u001b[0m \u001b[32m━━━━━━━━━━━━━━━━━━━━\u001b[0m\u001b[37m\u001b[0m \u001b[1m1s\u001b[0m 3ms/step - accuracy: 0.8395 - loss: 0.5583\n"
          ]
        },
        {
          "output_type": "stream",
          "name": "stderr",
          "text": [
            "WARNING:absl:You are saving your model as an HDF5 file via `model.save()` or `keras.saving.save_model(model)`. This file format is considered legacy. We recommend using instead the native Keras format, e.g. `model.save('my_model.keras')` or `keras.saving.save_model(model, 'my_model.keras')`. \n"
          ]
        },
        {
          "output_type": "stream",
          "name": "stdout",
          "text": [
            "Dataset 2: Validation Accuracy: 84.4977%\n",
            "Artifacts for dataset 2 saved: Model, Vectorizer, Label Encoder, Training History.\n",
            "\n",
            "Processing dataset 3: preprocessed_mental_health_3.csv\n"
          ]
        },
        {
          "output_type": "display_data",
          "data": {
            "text/plain": [
              "\u001b[1mModel: \"functional_11\"\u001b[0m\n"
            ],
            "text/html": [
              "<pre style=\"white-space:pre;overflow-x:auto;line-height:normal;font-family:Menlo,'DejaVu Sans Mono',consolas,'Courier New',monospace\"><span style=\"font-weight: bold\">Model: \"functional_11\"</span>\n",
              "</pre>\n"
            ]
          },
          "metadata": {}
        },
        {
          "output_type": "display_data",
          "data": {
            "text/plain": [
              "┏━━━━━━━━━━━━━━━━━━━━━━━━━━━━━━━━━━━━━━┳━━━━━━━━━━━━━━━━━━━━━━━━━━━━━┳━━━━━━━━━━━━━━━━━┓\n",
              "┃\u001b[1m \u001b[0m\u001b[1mLayer (type)                        \u001b[0m\u001b[1m \u001b[0m┃\u001b[1m \u001b[0m\u001b[1mOutput Shape               \u001b[0m\u001b[1m \u001b[0m┃\u001b[1m \u001b[0m\u001b[1m        Param #\u001b[0m\u001b[1m \u001b[0m┃\n",
              "┡━━━━━━━━━━━━━━━━━━━━━━━━━━━━━━━━━━━━━━╇━━━━━━━━━━━━━━━━━━━━━━━━━━━━━╇━━━━━━━━━━━━━━━━━┩\n",
              "│ input_layer_10 (\u001b[38;5;33mInputLayer\u001b[0m)          │ (\u001b[38;5;45mNone\u001b[0m, \u001b[38;5;34m300\u001b[0m)                 │               \u001b[38;5;34m0\u001b[0m │\n",
              "├──────────────────────────────────────┼─────────────────────────────┼─────────────────┤\n",
              "│ embedding_layer_2 (\u001b[38;5;33mEmbeddingLayer\u001b[0m)   │ (\u001b[38;5;45mNone\u001b[0m, \u001b[38;5;34m300\u001b[0m, \u001b[38;5;34m64\u001b[0m)             │       \u001b[38;5;34m1,619,200\u001b[0m │\n",
              "├──────────────────────────────────────┼─────────────────────────────┼─────────────────┤\n",
              "│ encoder_layer_2 (\u001b[38;5;33mEncoderLayer\u001b[0m)       │ (\u001b[38;5;45mNone\u001b[0m, \u001b[38;5;34m300\u001b[0m, \u001b[38;5;34m64\u001b[0m)             │          \u001b[38;5;34m41,148\u001b[0m │\n",
              "├──────────────────────────────────────┼─────────────────────────────┼─────────────────┤\n",
              "│ global_average_pooling1d_2           │ (\u001b[38;5;45mNone\u001b[0m, \u001b[38;5;34m64\u001b[0m)                  │               \u001b[38;5;34m0\u001b[0m │\n",
              "│ (\u001b[38;5;33mGlobalAveragePooling1D\u001b[0m)             │                             │                 │\n",
              "├──────────────────────────────────────┼─────────────────────────────┼─────────────────┤\n",
              "│ dense_22 (\u001b[38;5;33mDense\u001b[0m)                     │ (\u001b[38;5;45mNone\u001b[0m, \u001b[38;5;34m60\u001b[0m)                  │           \u001b[38;5;34m3,900\u001b[0m │\n",
              "├──────────────────────────────────────┼─────────────────────────────┼─────────────────┤\n",
              "│ dense_23 (\u001b[38;5;33mDense\u001b[0m)                     │ (\u001b[38;5;45mNone\u001b[0m, \u001b[38;5;34m5\u001b[0m)                   │             \u001b[38;5;34m305\u001b[0m │\n",
              "└──────────────────────────────────────┴─────────────────────────────┴─────────────────┘\n"
            ],
            "text/html": [
              "<pre style=\"white-space:pre;overflow-x:auto;line-height:normal;font-family:Menlo,'DejaVu Sans Mono',consolas,'Courier New',monospace\">┏━━━━━━━━━━━━━━━━━━━━━━━━━━━━━━━━━━━━━━┳━━━━━━━━━━━━━━━━━━━━━━━━━━━━━┳━━━━━━━━━━━━━━━━━┓\n",
              "┃<span style=\"font-weight: bold\"> Layer (type)                         </span>┃<span style=\"font-weight: bold\"> Output Shape                </span>┃<span style=\"font-weight: bold\">         Param # </span>┃\n",
              "┡━━━━━━━━━━━━━━━━━━━━━━━━━━━━━━━━━━━━━━╇━━━━━━━━━━━━━━━━━━━━━━━━━━━━━╇━━━━━━━━━━━━━━━━━┩\n",
              "│ input_layer_10 (<span style=\"color: #0087ff; text-decoration-color: #0087ff\">InputLayer</span>)          │ (<span style=\"color: #00d7ff; text-decoration-color: #00d7ff\">None</span>, <span style=\"color: #00af00; text-decoration-color: #00af00\">300</span>)                 │               <span style=\"color: #00af00; text-decoration-color: #00af00\">0</span> │\n",
              "├──────────────────────────────────────┼─────────────────────────────┼─────────────────┤\n",
              "│ embedding_layer_2 (<span style=\"color: #0087ff; text-decoration-color: #0087ff\">EmbeddingLayer</span>)   │ (<span style=\"color: #00d7ff; text-decoration-color: #00d7ff\">None</span>, <span style=\"color: #00af00; text-decoration-color: #00af00\">300</span>, <span style=\"color: #00af00; text-decoration-color: #00af00\">64</span>)             │       <span style=\"color: #00af00; text-decoration-color: #00af00\">1,619,200</span> │\n",
              "├──────────────────────────────────────┼─────────────────────────────┼─────────────────┤\n",
              "│ encoder_layer_2 (<span style=\"color: #0087ff; text-decoration-color: #0087ff\">EncoderLayer</span>)       │ (<span style=\"color: #00d7ff; text-decoration-color: #00d7ff\">None</span>, <span style=\"color: #00af00; text-decoration-color: #00af00\">300</span>, <span style=\"color: #00af00; text-decoration-color: #00af00\">64</span>)             │          <span style=\"color: #00af00; text-decoration-color: #00af00\">41,148</span> │\n",
              "├──────────────────────────────────────┼─────────────────────────────┼─────────────────┤\n",
              "│ global_average_pooling1d_2           │ (<span style=\"color: #00d7ff; text-decoration-color: #00d7ff\">None</span>, <span style=\"color: #00af00; text-decoration-color: #00af00\">64</span>)                  │               <span style=\"color: #00af00; text-decoration-color: #00af00\">0</span> │\n",
              "│ (<span style=\"color: #0087ff; text-decoration-color: #0087ff\">GlobalAveragePooling1D</span>)             │                             │                 │\n",
              "├──────────────────────────────────────┼─────────────────────────────┼─────────────────┤\n",
              "│ dense_22 (<span style=\"color: #0087ff; text-decoration-color: #0087ff\">Dense</span>)                     │ (<span style=\"color: #00d7ff; text-decoration-color: #00d7ff\">None</span>, <span style=\"color: #00af00; text-decoration-color: #00af00\">60</span>)                  │           <span style=\"color: #00af00; text-decoration-color: #00af00\">3,900</span> │\n",
              "├──────────────────────────────────────┼─────────────────────────────┼─────────────────┤\n",
              "│ dense_23 (<span style=\"color: #0087ff; text-decoration-color: #0087ff\">Dense</span>)                     │ (<span style=\"color: #00d7ff; text-decoration-color: #00d7ff\">None</span>, <span style=\"color: #00af00; text-decoration-color: #00af00\">5</span>)                   │             <span style=\"color: #00af00; text-decoration-color: #00af00\">305</span> │\n",
              "└──────────────────────────────────────┴─────────────────────────────┴─────────────────┘\n",
              "</pre>\n"
            ]
          },
          "metadata": {}
        },
        {
          "output_type": "display_data",
          "data": {
            "text/plain": [
              "\u001b[1m Total params: \u001b[0m\u001b[38;5;34m1,664,553\u001b[0m (6.35 MB)\n"
            ],
            "text/html": [
              "<pre style=\"white-space:pre;overflow-x:auto;line-height:normal;font-family:Menlo,'DejaVu Sans Mono',consolas,'Courier New',monospace\"><span style=\"font-weight: bold\"> Total params: </span><span style=\"color: #00af00; text-decoration-color: #00af00\">1,664,553</span> (6.35 MB)\n",
              "</pre>\n"
            ]
          },
          "metadata": {}
        },
        {
          "output_type": "display_data",
          "data": {
            "text/plain": [
              "\u001b[1m Trainable params: \u001b[0m\u001b[38;5;34m1,664,553\u001b[0m (6.35 MB)\n"
            ],
            "text/html": [
              "<pre style=\"white-space:pre;overflow-x:auto;line-height:normal;font-family:Menlo,'DejaVu Sans Mono',consolas,'Courier New',monospace\"><span style=\"font-weight: bold\"> Trainable params: </span><span style=\"color: #00af00; text-decoration-color: #00af00\">1,664,553</span> (6.35 MB)\n",
              "</pre>\n"
            ]
          },
          "metadata": {}
        },
        {
          "output_type": "display_data",
          "data": {
            "text/plain": [
              "\u001b[1m Non-trainable params: \u001b[0m\u001b[38;5;34m0\u001b[0m (0.00 B)\n"
            ],
            "text/html": [
              "<pre style=\"white-space:pre;overflow-x:auto;line-height:normal;font-family:Menlo,'DejaVu Sans Mono',consolas,'Courier New',monospace\"><span style=\"font-weight: bold\"> Non-trainable params: </span><span style=\"color: #00af00; text-decoration-color: #00af00\">0</span> (0.00 B)\n",
              "</pre>\n"
            ]
          },
          "metadata": {}
        },
        {
          "output_type": "stream",
          "name": "stdout",
          "text": [
            "Epoch 1/5\n",
            "\u001b[1m681/681\u001b[0m \u001b[32m━━━━━━━━━━━━━━━━━━━━\u001b[0m\u001b[37m\u001b[0m \u001b[1m15s\u001b[0m 15ms/step - accuracy: 0.6881 - loss: 0.8870 - val_accuracy: 0.8743 - val_loss: 0.3857\n",
            "Epoch 2/5\n",
            "\u001b[1m681/681\u001b[0m \u001b[32m━━━━━━━━━━━━━━━━━━━━\u001b[0m\u001b[37m\u001b[0m \u001b[1m5s\u001b[0m 7ms/step - accuracy: 0.8993 - loss: 0.2988 - val_accuracy: 0.8679 - val_loss: 0.3675\n",
            "Epoch 3/5\n",
            "\u001b[1m681/681\u001b[0m \u001b[32m━━━━━━━━━━━━━━━━━━━━\u001b[0m\u001b[37m\u001b[0m \u001b[1m5s\u001b[0m 8ms/step - accuracy: 0.9380 - loss: 0.1863 - val_accuracy: 0.8734 - val_loss: 0.3680\n",
            "Epoch 4/5\n",
            "\u001b[1m681/681\u001b[0m \u001b[32m━━━━━━━━━━━━━━━━━━━━\u001b[0m\u001b[37m\u001b[0m \u001b[1m10s\u001b[0m 8ms/step - accuracy: 0.9655 - loss: 0.1064 - val_accuracy: 0.8653 - val_loss: 0.4926\n",
            "Epoch 5/5\n",
            "\u001b[1m681/681\u001b[0m \u001b[32m━━━━━━━━━━━━━━━━━━━━\u001b[0m\u001b[37m\u001b[0m \u001b[1m10s\u001b[0m 8ms/step - accuracy: 0.9773 - loss: 0.0692 - val_accuracy: 0.8650 - val_loss: 0.5978\n",
            "\u001b[1m171/171\u001b[0m \u001b[32m━━━━━━━━━━━━━━━━━━━━\u001b[0m\u001b[37m\u001b[0m \u001b[1m1s\u001b[0m 3ms/step - accuracy: 0.8646 - loss: 0.6030\n"
          ]
        },
        {
          "output_type": "stream",
          "name": "stderr",
          "text": [
            "WARNING:absl:You are saving your model as an HDF5 file via `model.save()` or `keras.saving.save_model(model)`. This file format is considered legacy. We recommend using instead the native Keras format, e.g. `model.save('my_model.keras')` or `keras.saving.save_model(model, 'my_model.keras')`. \n"
          ]
        },
        {
          "output_type": "stream",
          "name": "stdout",
          "text": [
            "Dataset 3: Validation Accuracy: 86.4964%\n",
            "Artifacts for dataset 3 saved: Model, Vectorizer, Label Encoder, Training History.\n",
            "\n",
            "Processing dataset 4: preprocessed_mental_health_4.csv\n"
          ]
        },
        {
          "output_type": "display_data",
          "data": {
            "text/plain": [
              "\u001b[1mModel: \"functional_13\"\u001b[0m\n"
            ],
            "text/html": [
              "<pre style=\"white-space:pre;overflow-x:auto;line-height:normal;font-family:Menlo,'DejaVu Sans Mono',consolas,'Courier New',monospace\"><span style=\"font-weight: bold\">Model: \"functional_13\"</span>\n",
              "</pre>\n"
            ]
          },
          "metadata": {}
        },
        {
          "output_type": "display_data",
          "data": {
            "text/plain": [
              "┏━━━━━━━━━━━━━━━━━━━━━━━━━━━━━━━━━━━━━━┳━━━━━━━━━━━━━━━━━━━━━━━━━━━━━┳━━━━━━━━━━━━━━━━━┓\n",
              "┃\u001b[1m \u001b[0m\u001b[1mLayer (type)                        \u001b[0m\u001b[1m \u001b[0m┃\u001b[1m \u001b[0m\u001b[1mOutput Shape               \u001b[0m\u001b[1m \u001b[0m┃\u001b[1m \u001b[0m\u001b[1m        Param #\u001b[0m\u001b[1m \u001b[0m┃\n",
              "┡━━━━━━━━━━━━━━━━━━━━━━━━━━━━━━━━━━━━━━╇━━━━━━━━━━━━━━━━━━━━━━━━━━━━━╇━━━━━━━━━━━━━━━━━┩\n",
              "│ input_layer_12 (\u001b[38;5;33mInputLayer\u001b[0m)          │ (\u001b[38;5;45mNone\u001b[0m, \u001b[38;5;34m300\u001b[0m)                 │               \u001b[38;5;34m0\u001b[0m │\n",
              "├──────────────────────────────────────┼─────────────────────────────┼─────────────────┤\n",
              "│ embedding_layer_3 (\u001b[38;5;33mEmbeddingLayer\u001b[0m)   │ (\u001b[38;5;45mNone\u001b[0m, \u001b[38;5;34m300\u001b[0m, \u001b[38;5;34m64\u001b[0m)             │       \u001b[38;5;34m1,619,200\u001b[0m │\n",
              "├──────────────────────────────────────┼─────────────────────────────┼─────────────────┤\n",
              "│ encoder_layer_3 (\u001b[38;5;33mEncoderLayer\u001b[0m)       │ (\u001b[38;5;45mNone\u001b[0m, \u001b[38;5;34m300\u001b[0m, \u001b[38;5;34m64\u001b[0m)             │          \u001b[38;5;34m41,148\u001b[0m │\n",
              "├──────────────────────────────────────┼─────────────────────────────┼─────────────────┤\n",
              "│ global_average_pooling1d_3           │ (\u001b[38;5;45mNone\u001b[0m, \u001b[38;5;34m64\u001b[0m)                  │               \u001b[38;5;34m0\u001b[0m │\n",
              "│ (\u001b[38;5;33mGlobalAveragePooling1D\u001b[0m)             │                             │                 │\n",
              "├──────────────────────────────────────┼─────────────────────────────┼─────────────────┤\n",
              "│ dense_26 (\u001b[38;5;33mDense\u001b[0m)                     │ (\u001b[38;5;45mNone\u001b[0m, \u001b[38;5;34m60\u001b[0m)                  │           \u001b[38;5;34m3,900\u001b[0m │\n",
              "├──────────────────────────────────────┼─────────────────────────────┼─────────────────┤\n",
              "│ dense_27 (\u001b[38;5;33mDense\u001b[0m)                     │ (\u001b[38;5;45mNone\u001b[0m, \u001b[38;5;34m5\u001b[0m)                   │             \u001b[38;5;34m305\u001b[0m │\n",
              "└──────────────────────────────────────┴─────────────────────────────┴─────────────────┘\n"
            ],
            "text/html": [
              "<pre style=\"white-space:pre;overflow-x:auto;line-height:normal;font-family:Menlo,'DejaVu Sans Mono',consolas,'Courier New',monospace\">┏━━━━━━━━━━━━━━━━━━━━━━━━━━━━━━━━━━━━━━┳━━━━━━━━━━━━━━━━━━━━━━━━━━━━━┳━━━━━━━━━━━━━━━━━┓\n",
              "┃<span style=\"font-weight: bold\"> Layer (type)                         </span>┃<span style=\"font-weight: bold\"> Output Shape                </span>┃<span style=\"font-weight: bold\">         Param # </span>┃\n",
              "┡━━━━━━━━━━━━━━━━━━━━━━━━━━━━━━━━━━━━━━╇━━━━━━━━━━━━━━━━━━━━━━━━━━━━━╇━━━━━━━━━━━━━━━━━┩\n",
              "│ input_layer_12 (<span style=\"color: #0087ff; text-decoration-color: #0087ff\">InputLayer</span>)          │ (<span style=\"color: #00d7ff; text-decoration-color: #00d7ff\">None</span>, <span style=\"color: #00af00; text-decoration-color: #00af00\">300</span>)                 │               <span style=\"color: #00af00; text-decoration-color: #00af00\">0</span> │\n",
              "├──────────────────────────────────────┼─────────────────────────────┼─────────────────┤\n",
              "│ embedding_layer_3 (<span style=\"color: #0087ff; text-decoration-color: #0087ff\">EmbeddingLayer</span>)   │ (<span style=\"color: #00d7ff; text-decoration-color: #00d7ff\">None</span>, <span style=\"color: #00af00; text-decoration-color: #00af00\">300</span>, <span style=\"color: #00af00; text-decoration-color: #00af00\">64</span>)             │       <span style=\"color: #00af00; text-decoration-color: #00af00\">1,619,200</span> │\n",
              "├──────────────────────────────────────┼─────────────────────────────┼─────────────────┤\n",
              "│ encoder_layer_3 (<span style=\"color: #0087ff; text-decoration-color: #0087ff\">EncoderLayer</span>)       │ (<span style=\"color: #00d7ff; text-decoration-color: #00d7ff\">None</span>, <span style=\"color: #00af00; text-decoration-color: #00af00\">300</span>, <span style=\"color: #00af00; text-decoration-color: #00af00\">64</span>)             │          <span style=\"color: #00af00; text-decoration-color: #00af00\">41,148</span> │\n",
              "├──────────────────────────────────────┼─────────────────────────────┼─────────────────┤\n",
              "│ global_average_pooling1d_3           │ (<span style=\"color: #00d7ff; text-decoration-color: #00d7ff\">None</span>, <span style=\"color: #00af00; text-decoration-color: #00af00\">64</span>)                  │               <span style=\"color: #00af00; text-decoration-color: #00af00\">0</span> │\n",
              "│ (<span style=\"color: #0087ff; text-decoration-color: #0087ff\">GlobalAveragePooling1D</span>)             │                             │                 │\n",
              "├──────────────────────────────────────┼─────────────────────────────┼─────────────────┤\n",
              "│ dense_26 (<span style=\"color: #0087ff; text-decoration-color: #0087ff\">Dense</span>)                     │ (<span style=\"color: #00d7ff; text-decoration-color: #00d7ff\">None</span>, <span style=\"color: #00af00; text-decoration-color: #00af00\">60</span>)                  │           <span style=\"color: #00af00; text-decoration-color: #00af00\">3,900</span> │\n",
              "├──────────────────────────────────────┼─────────────────────────────┼─────────────────┤\n",
              "│ dense_27 (<span style=\"color: #0087ff; text-decoration-color: #0087ff\">Dense</span>)                     │ (<span style=\"color: #00d7ff; text-decoration-color: #00d7ff\">None</span>, <span style=\"color: #00af00; text-decoration-color: #00af00\">5</span>)                   │             <span style=\"color: #00af00; text-decoration-color: #00af00\">305</span> │\n",
              "└──────────────────────────────────────┴─────────────────────────────┴─────────────────┘\n",
              "</pre>\n"
            ]
          },
          "metadata": {}
        },
        {
          "output_type": "display_data",
          "data": {
            "text/plain": [
              "\u001b[1m Total params: \u001b[0m\u001b[38;5;34m1,664,553\u001b[0m (6.35 MB)\n"
            ],
            "text/html": [
              "<pre style=\"white-space:pre;overflow-x:auto;line-height:normal;font-family:Menlo,'DejaVu Sans Mono',consolas,'Courier New',monospace\"><span style=\"font-weight: bold\"> Total params: </span><span style=\"color: #00af00; text-decoration-color: #00af00\">1,664,553</span> (6.35 MB)\n",
              "</pre>\n"
            ]
          },
          "metadata": {}
        },
        {
          "output_type": "display_data",
          "data": {
            "text/plain": [
              "\u001b[1m Trainable params: \u001b[0m\u001b[38;5;34m1,664,553\u001b[0m (6.35 MB)\n"
            ],
            "text/html": [
              "<pre style=\"white-space:pre;overflow-x:auto;line-height:normal;font-family:Menlo,'DejaVu Sans Mono',consolas,'Courier New',monospace\"><span style=\"font-weight: bold\"> Trainable params: </span><span style=\"color: #00af00; text-decoration-color: #00af00\">1,664,553</span> (6.35 MB)\n",
              "</pre>\n"
            ]
          },
          "metadata": {}
        },
        {
          "output_type": "display_data",
          "data": {
            "text/plain": [
              "\u001b[1m Non-trainable params: \u001b[0m\u001b[38;5;34m0\u001b[0m (0.00 B)\n"
            ],
            "text/html": [
              "<pre style=\"white-space:pre;overflow-x:auto;line-height:normal;font-family:Menlo,'DejaVu Sans Mono',consolas,'Courier New',monospace\"><span style=\"font-weight: bold\"> Non-trainable params: </span><span style=\"color: #00af00; text-decoration-color: #00af00\">0</span> (0.00 B)\n",
              "</pre>\n"
            ]
          },
          "metadata": {}
        },
        {
          "output_type": "stream",
          "name": "stdout",
          "text": [
            "Epoch 1/5\n",
            "\u001b[1m681/681\u001b[0m \u001b[32m━━━━━━━━━━━━━━━━━━━━\u001b[0m\u001b[37m\u001b[0m \u001b[1m16s\u001b[0m 15ms/step - accuracy: 0.7606 - loss: 0.7285 - val_accuracy: 0.9074 - val_loss: 0.2985\n",
            "Epoch 2/5\n",
            "\u001b[1m681/681\u001b[0m \u001b[32m━━━━━━━━━━━━━━━━━━━━\u001b[0m\u001b[37m\u001b[0m \u001b[1m13s\u001b[0m 8ms/step - accuracy: 0.9212 - loss: 0.2428 - val_accuracy: 0.9164 - val_loss: 0.2641\n",
            "Epoch 3/5\n",
            "\u001b[1m681/681\u001b[0m \u001b[32m━━━━━━━━━━━━━━━━━━━━\u001b[0m\u001b[37m\u001b[0m \u001b[1m10s\u001b[0m 8ms/step - accuracy: 0.9548 - loss: 0.1446 - val_accuracy: 0.9034 - val_loss: 0.3326\n",
            "Epoch 4/5\n",
            "\u001b[1m681/681\u001b[0m \u001b[32m━━━━━━━━━━━━━━━━━━━━\u001b[0m\u001b[37m\u001b[0m \u001b[1m5s\u001b[0m 8ms/step - accuracy: 0.9760 - loss: 0.0844 - val_accuracy: 0.8992 - val_loss: 0.3915\n",
            "Epoch 5/5\n",
            "\u001b[1m681/681\u001b[0m \u001b[32m━━━━━━━━━━━━━━━━━━━━\u001b[0m\u001b[37m\u001b[0m \u001b[1m5s\u001b[0m 7ms/step - accuracy: 0.9843 - loss: 0.0539 - val_accuracy: 0.8935 - val_loss: 0.4646\n",
            "\u001b[1m171/171\u001b[0m \u001b[32m━━━━━━━━━━━━━━━━━━━━\u001b[0m\u001b[37m\u001b[0m \u001b[1m0s\u001b[0m 3ms/step - accuracy: 0.8952 - loss: 0.4760\n"
          ]
        },
        {
          "output_type": "stream",
          "name": "stderr",
          "text": [
            "WARNING:absl:You are saving your model as an HDF5 file via `model.save()` or `keras.saving.save_model(model)`. This file format is considered legacy. We recommend using instead the native Keras format, e.g. `model.save('my_model.keras')` or `keras.saving.save_model(model, 'my_model.keras')`. \n"
          ]
        },
        {
          "output_type": "stream",
          "name": "stdout",
          "text": [
            "Dataset 4: Validation Accuracy: 89.3461%\n",
            "Artifacts for dataset 4 saved: Model, Vectorizer, Label Encoder, Training History.\n",
            "\n",
            "Processing dataset 5: preprocessed_mental_health_5.csv\n"
          ]
        },
        {
          "output_type": "display_data",
          "data": {
            "text/plain": [
              "\u001b[1mModel: \"functional_15\"\u001b[0m\n"
            ],
            "text/html": [
              "<pre style=\"white-space:pre;overflow-x:auto;line-height:normal;font-family:Menlo,'DejaVu Sans Mono',consolas,'Courier New',monospace\"><span style=\"font-weight: bold\">Model: \"functional_15\"</span>\n",
              "</pre>\n"
            ]
          },
          "metadata": {}
        },
        {
          "output_type": "display_data",
          "data": {
            "text/plain": [
              "┏━━━━━━━━━━━━━━━━━━━━━━━━━━━━━━━━━━━━━━┳━━━━━━━━━━━━━━━━━━━━━━━━━━━━━┳━━━━━━━━━━━━━━━━━┓\n",
              "┃\u001b[1m \u001b[0m\u001b[1mLayer (type)                        \u001b[0m\u001b[1m \u001b[0m┃\u001b[1m \u001b[0m\u001b[1mOutput Shape               \u001b[0m\u001b[1m \u001b[0m┃\u001b[1m \u001b[0m\u001b[1m        Param #\u001b[0m\u001b[1m \u001b[0m┃\n",
              "┡━━━━━━━━━━━━━━━━━━━━━━━━━━━━━━━━━━━━━━╇━━━━━━━━━━━━━━━━━━━━━━━━━━━━━╇━━━━━━━━━━━━━━━━━┩\n",
              "│ input_layer_14 (\u001b[38;5;33mInputLayer\u001b[0m)          │ (\u001b[38;5;45mNone\u001b[0m, \u001b[38;5;34m300\u001b[0m)                 │               \u001b[38;5;34m0\u001b[0m │\n",
              "├──────────────────────────────────────┼─────────────────────────────┼─────────────────┤\n",
              "│ embedding_layer_4 (\u001b[38;5;33mEmbeddingLayer\u001b[0m)   │ (\u001b[38;5;45mNone\u001b[0m, \u001b[38;5;34m300\u001b[0m, \u001b[38;5;34m64\u001b[0m)             │       \u001b[38;5;34m1,619,200\u001b[0m │\n",
              "├──────────────────────────────────────┼─────────────────────────────┼─────────────────┤\n",
              "│ encoder_layer_4 (\u001b[38;5;33mEncoderLayer\u001b[0m)       │ (\u001b[38;5;45mNone\u001b[0m, \u001b[38;5;34m300\u001b[0m, \u001b[38;5;34m64\u001b[0m)             │          \u001b[38;5;34m41,148\u001b[0m │\n",
              "├──────────────────────────────────────┼─────────────────────────────┼─────────────────┤\n",
              "│ global_average_pooling1d_4           │ (\u001b[38;5;45mNone\u001b[0m, \u001b[38;5;34m64\u001b[0m)                  │               \u001b[38;5;34m0\u001b[0m │\n",
              "│ (\u001b[38;5;33mGlobalAveragePooling1D\u001b[0m)             │                             │                 │\n",
              "├──────────────────────────────────────┼─────────────────────────────┼─────────────────┤\n",
              "│ dense_30 (\u001b[38;5;33mDense\u001b[0m)                     │ (\u001b[38;5;45mNone\u001b[0m, \u001b[38;5;34m60\u001b[0m)                  │           \u001b[38;5;34m3,900\u001b[0m │\n",
              "├──────────────────────────────────────┼─────────────────────────────┼─────────────────┤\n",
              "│ dense_31 (\u001b[38;5;33mDense\u001b[0m)                     │ (\u001b[38;5;45mNone\u001b[0m, \u001b[38;5;34m5\u001b[0m)                   │             \u001b[38;5;34m305\u001b[0m │\n",
              "└──────────────────────────────────────┴─────────────────────────────┴─────────────────┘\n"
            ],
            "text/html": [
              "<pre style=\"white-space:pre;overflow-x:auto;line-height:normal;font-family:Menlo,'DejaVu Sans Mono',consolas,'Courier New',monospace\">┏━━━━━━━━━━━━━━━━━━━━━━━━━━━━━━━━━━━━━━┳━━━━━━━━━━━━━━━━━━━━━━━━━━━━━┳━━━━━━━━━━━━━━━━━┓\n",
              "┃<span style=\"font-weight: bold\"> Layer (type)                         </span>┃<span style=\"font-weight: bold\"> Output Shape                </span>┃<span style=\"font-weight: bold\">         Param # </span>┃\n",
              "┡━━━━━━━━━━━━━━━━━━━━━━━━━━━━━━━━━━━━━━╇━━━━━━━━━━━━━━━━━━━━━━━━━━━━━╇━━━━━━━━━━━━━━━━━┩\n",
              "│ input_layer_14 (<span style=\"color: #0087ff; text-decoration-color: #0087ff\">InputLayer</span>)          │ (<span style=\"color: #00d7ff; text-decoration-color: #00d7ff\">None</span>, <span style=\"color: #00af00; text-decoration-color: #00af00\">300</span>)                 │               <span style=\"color: #00af00; text-decoration-color: #00af00\">0</span> │\n",
              "├──────────────────────────────────────┼─────────────────────────────┼─────────────────┤\n",
              "│ embedding_layer_4 (<span style=\"color: #0087ff; text-decoration-color: #0087ff\">EmbeddingLayer</span>)   │ (<span style=\"color: #00d7ff; text-decoration-color: #00d7ff\">None</span>, <span style=\"color: #00af00; text-decoration-color: #00af00\">300</span>, <span style=\"color: #00af00; text-decoration-color: #00af00\">64</span>)             │       <span style=\"color: #00af00; text-decoration-color: #00af00\">1,619,200</span> │\n",
              "├──────────────────────────────────────┼─────────────────────────────┼─────────────────┤\n",
              "│ encoder_layer_4 (<span style=\"color: #0087ff; text-decoration-color: #0087ff\">EncoderLayer</span>)       │ (<span style=\"color: #00d7ff; text-decoration-color: #00d7ff\">None</span>, <span style=\"color: #00af00; text-decoration-color: #00af00\">300</span>, <span style=\"color: #00af00; text-decoration-color: #00af00\">64</span>)             │          <span style=\"color: #00af00; text-decoration-color: #00af00\">41,148</span> │\n",
              "├──────────────────────────────────────┼─────────────────────────────┼─────────────────┤\n",
              "│ global_average_pooling1d_4           │ (<span style=\"color: #00d7ff; text-decoration-color: #00d7ff\">None</span>, <span style=\"color: #00af00; text-decoration-color: #00af00\">64</span>)                  │               <span style=\"color: #00af00; text-decoration-color: #00af00\">0</span> │\n",
              "│ (<span style=\"color: #0087ff; text-decoration-color: #0087ff\">GlobalAveragePooling1D</span>)             │                             │                 │\n",
              "├──────────────────────────────────────┼─────────────────────────────┼─────────────────┤\n",
              "│ dense_30 (<span style=\"color: #0087ff; text-decoration-color: #0087ff\">Dense</span>)                     │ (<span style=\"color: #00d7ff; text-decoration-color: #00d7ff\">None</span>, <span style=\"color: #00af00; text-decoration-color: #00af00\">60</span>)                  │           <span style=\"color: #00af00; text-decoration-color: #00af00\">3,900</span> │\n",
              "├──────────────────────────────────────┼─────────────────────────────┼─────────────────┤\n",
              "│ dense_31 (<span style=\"color: #0087ff; text-decoration-color: #0087ff\">Dense</span>)                     │ (<span style=\"color: #00d7ff; text-decoration-color: #00d7ff\">None</span>, <span style=\"color: #00af00; text-decoration-color: #00af00\">5</span>)                   │             <span style=\"color: #00af00; text-decoration-color: #00af00\">305</span> │\n",
              "└──────────────────────────────────────┴─────────────────────────────┴─────────────────┘\n",
              "</pre>\n"
            ]
          },
          "metadata": {}
        },
        {
          "output_type": "display_data",
          "data": {
            "text/plain": [
              "\u001b[1m Total params: \u001b[0m\u001b[38;5;34m1,664,553\u001b[0m (6.35 MB)\n"
            ],
            "text/html": [
              "<pre style=\"white-space:pre;overflow-x:auto;line-height:normal;font-family:Menlo,'DejaVu Sans Mono',consolas,'Courier New',monospace\"><span style=\"font-weight: bold\"> Total params: </span><span style=\"color: #00af00; text-decoration-color: #00af00\">1,664,553</span> (6.35 MB)\n",
              "</pre>\n"
            ]
          },
          "metadata": {}
        },
        {
          "output_type": "display_data",
          "data": {
            "text/plain": [
              "\u001b[1m Trainable params: \u001b[0m\u001b[38;5;34m1,664,553\u001b[0m (6.35 MB)\n"
            ],
            "text/html": [
              "<pre style=\"white-space:pre;overflow-x:auto;line-height:normal;font-family:Menlo,'DejaVu Sans Mono',consolas,'Courier New',monospace\"><span style=\"font-weight: bold\"> Trainable params: </span><span style=\"color: #00af00; text-decoration-color: #00af00\">1,664,553</span> (6.35 MB)\n",
              "</pre>\n"
            ]
          },
          "metadata": {}
        },
        {
          "output_type": "display_data",
          "data": {
            "text/plain": [
              "\u001b[1m Non-trainable params: \u001b[0m\u001b[38;5;34m0\u001b[0m (0.00 B)\n"
            ],
            "text/html": [
              "<pre style=\"white-space:pre;overflow-x:auto;line-height:normal;font-family:Menlo,'DejaVu Sans Mono',consolas,'Courier New',monospace\"><span style=\"font-weight: bold\"> Non-trainable params: </span><span style=\"color: #00af00; text-decoration-color: #00af00\">0</span> (0.00 B)\n",
              "</pre>\n"
            ]
          },
          "metadata": {}
        },
        {
          "output_type": "stream",
          "name": "stdout",
          "text": [
            "Epoch 1/5\n",
            "\u001b[1m681/681\u001b[0m \u001b[32m━━━━━━━━━━━━━━━━━━━━\u001b[0m\u001b[37m\u001b[0m \u001b[1m16s\u001b[0m 16ms/step - accuracy: 0.7342 - loss: 0.8415 - val_accuracy: 0.8753 - val_loss: 0.3852\n",
            "Epoch 2/5\n",
            "\u001b[1m681/681\u001b[0m \u001b[32m━━━━━━━━━━━━━━━━━━━━\u001b[0m\u001b[37m\u001b[0m \u001b[1m5s\u001b[0m 7ms/step - accuracy: 0.9053 - loss: 0.2844 - val_accuracy: 0.8844 - val_loss: 0.3505\n",
            "Epoch 3/5\n",
            "\u001b[1m681/681\u001b[0m \u001b[32m━━━━━━━━━━━━━━━━━━━━\u001b[0m\u001b[37m\u001b[0m \u001b[1m5s\u001b[0m 8ms/step - accuracy: 0.9473 - loss: 0.1637 - val_accuracy: 0.8848 - val_loss: 0.3823\n",
            "Epoch 4/5\n",
            "\u001b[1m681/681\u001b[0m \u001b[32m━━━━━━━━━━━━━━━━━━━━\u001b[0m\u001b[37m\u001b[0m \u001b[1m10s\u001b[0m 7ms/step - accuracy: 0.9647 - loss: 0.1095 - val_accuracy: 0.8765 - val_loss: 0.4600\n",
            "Epoch 5/5\n",
            "\u001b[1m681/681\u001b[0m \u001b[32m━━━━━━━━━━━━━━━━━━━━\u001b[0m\u001b[37m\u001b[0m \u001b[1m5s\u001b[0m 8ms/step - accuracy: 0.9762 - loss: 0.0719 - val_accuracy: 0.8762 - val_loss: 0.5296\n",
            "\u001b[1m171/171\u001b[0m \u001b[32m━━━━━━━━━━━━━━━━━━━━\u001b[0m\u001b[37m\u001b[0m \u001b[1m0s\u001b[0m 3ms/step - accuracy: 0.8754 - loss: 0.5393\n"
          ]
        },
        {
          "output_type": "stream",
          "name": "stderr",
          "text": [
            "WARNING:absl:You are saving your model as an HDF5 file via `model.save()` or `keras.saving.save_model(model)`. This file format is considered legacy. We recommend using instead the native Keras format, e.g. `model.save('my_model.keras')` or `keras.saving.save_model(model, 'my_model.keras')`. \n"
          ]
        },
        {
          "output_type": "stream",
          "name": "stdout",
          "text": [
            "Dataset 5: Validation Accuracy: 87.6171%\n",
            "Artifacts for dataset 5 saved: Model, Vectorizer, Label Encoder, Training History.\n",
            "\n",
            "Processing dataset 6: preprocessed_mental_health_6.csv\n"
          ]
        },
        {
          "output_type": "display_data",
          "data": {
            "text/plain": [
              "\u001b[1mModel: \"functional_17\"\u001b[0m\n"
            ],
            "text/html": [
              "<pre style=\"white-space:pre;overflow-x:auto;line-height:normal;font-family:Menlo,'DejaVu Sans Mono',consolas,'Courier New',monospace\"><span style=\"font-weight: bold\">Model: \"functional_17\"</span>\n",
              "</pre>\n"
            ]
          },
          "metadata": {}
        },
        {
          "output_type": "display_data",
          "data": {
            "text/plain": [
              "┏━━━━━━━━━━━━━━━━━━━━━━━━━━━━━━━━━━━━━━┳━━━━━━━━━━━━━━━━━━━━━━━━━━━━━┳━━━━━━━━━━━━━━━━━┓\n",
              "┃\u001b[1m \u001b[0m\u001b[1mLayer (type)                        \u001b[0m\u001b[1m \u001b[0m┃\u001b[1m \u001b[0m\u001b[1mOutput Shape               \u001b[0m\u001b[1m \u001b[0m┃\u001b[1m \u001b[0m\u001b[1m        Param #\u001b[0m\u001b[1m \u001b[0m┃\n",
              "┡━━━━━━━━━━━━━━━━━━━━━━━━━━━━━━━━━━━━━━╇━━━━━━━━━━━━━━━━━━━━━━━━━━━━━╇━━━━━━━━━━━━━━━━━┩\n",
              "│ input_layer_16 (\u001b[38;5;33mInputLayer\u001b[0m)          │ (\u001b[38;5;45mNone\u001b[0m, \u001b[38;5;34m300\u001b[0m)                 │               \u001b[38;5;34m0\u001b[0m │\n",
              "├──────────────────────────────────────┼─────────────────────────────┼─────────────────┤\n",
              "│ embedding_layer_5 (\u001b[38;5;33mEmbeddingLayer\u001b[0m)   │ (\u001b[38;5;45mNone\u001b[0m, \u001b[38;5;34m300\u001b[0m, \u001b[38;5;34m64\u001b[0m)             │       \u001b[38;5;34m1,619,200\u001b[0m │\n",
              "├──────────────────────────────────────┼─────────────────────────────┼─────────────────┤\n",
              "│ encoder_layer_5 (\u001b[38;5;33mEncoderLayer\u001b[0m)       │ (\u001b[38;5;45mNone\u001b[0m, \u001b[38;5;34m300\u001b[0m, \u001b[38;5;34m64\u001b[0m)             │          \u001b[38;5;34m41,148\u001b[0m │\n",
              "├──────────────────────────────────────┼─────────────────────────────┼─────────────────┤\n",
              "│ global_average_pooling1d_5           │ (\u001b[38;5;45mNone\u001b[0m, \u001b[38;5;34m64\u001b[0m)                  │               \u001b[38;5;34m0\u001b[0m │\n",
              "│ (\u001b[38;5;33mGlobalAveragePooling1D\u001b[0m)             │                             │                 │\n",
              "├──────────────────────────────────────┼─────────────────────────────┼─────────────────┤\n",
              "│ dense_34 (\u001b[38;5;33mDense\u001b[0m)                     │ (\u001b[38;5;45mNone\u001b[0m, \u001b[38;5;34m60\u001b[0m)                  │           \u001b[38;5;34m3,900\u001b[0m │\n",
              "├──────────────────────────────────────┼─────────────────────────────┼─────────────────┤\n",
              "│ dense_35 (\u001b[38;5;33mDense\u001b[0m)                     │ (\u001b[38;5;45mNone\u001b[0m, \u001b[38;5;34m5\u001b[0m)                   │             \u001b[38;5;34m305\u001b[0m │\n",
              "└──────────────────────────────────────┴─────────────────────────────┴─────────────────┘\n"
            ],
            "text/html": [
              "<pre style=\"white-space:pre;overflow-x:auto;line-height:normal;font-family:Menlo,'DejaVu Sans Mono',consolas,'Courier New',monospace\">┏━━━━━━━━━━━━━━━━━━━━━━━━━━━━━━━━━━━━━━┳━━━━━━━━━━━━━━━━━━━━━━━━━━━━━┳━━━━━━━━━━━━━━━━━┓\n",
              "┃<span style=\"font-weight: bold\"> Layer (type)                         </span>┃<span style=\"font-weight: bold\"> Output Shape                </span>┃<span style=\"font-weight: bold\">         Param # </span>┃\n",
              "┡━━━━━━━━━━━━━━━━━━━━━━━━━━━━━━━━━━━━━━╇━━━━━━━━━━━━━━━━━━━━━━━━━━━━━╇━━━━━━━━━━━━━━━━━┩\n",
              "│ input_layer_16 (<span style=\"color: #0087ff; text-decoration-color: #0087ff\">InputLayer</span>)          │ (<span style=\"color: #00d7ff; text-decoration-color: #00d7ff\">None</span>, <span style=\"color: #00af00; text-decoration-color: #00af00\">300</span>)                 │               <span style=\"color: #00af00; text-decoration-color: #00af00\">0</span> │\n",
              "├──────────────────────────────────────┼─────────────────────────────┼─────────────────┤\n",
              "│ embedding_layer_5 (<span style=\"color: #0087ff; text-decoration-color: #0087ff\">EmbeddingLayer</span>)   │ (<span style=\"color: #00d7ff; text-decoration-color: #00d7ff\">None</span>, <span style=\"color: #00af00; text-decoration-color: #00af00\">300</span>, <span style=\"color: #00af00; text-decoration-color: #00af00\">64</span>)             │       <span style=\"color: #00af00; text-decoration-color: #00af00\">1,619,200</span> │\n",
              "├──────────────────────────────────────┼─────────────────────────────┼─────────────────┤\n",
              "│ encoder_layer_5 (<span style=\"color: #0087ff; text-decoration-color: #0087ff\">EncoderLayer</span>)       │ (<span style=\"color: #00d7ff; text-decoration-color: #00d7ff\">None</span>, <span style=\"color: #00af00; text-decoration-color: #00af00\">300</span>, <span style=\"color: #00af00; text-decoration-color: #00af00\">64</span>)             │          <span style=\"color: #00af00; text-decoration-color: #00af00\">41,148</span> │\n",
              "├──────────────────────────────────────┼─────────────────────────────┼─────────────────┤\n",
              "│ global_average_pooling1d_5           │ (<span style=\"color: #00d7ff; text-decoration-color: #00d7ff\">None</span>, <span style=\"color: #00af00; text-decoration-color: #00af00\">64</span>)                  │               <span style=\"color: #00af00; text-decoration-color: #00af00\">0</span> │\n",
              "│ (<span style=\"color: #0087ff; text-decoration-color: #0087ff\">GlobalAveragePooling1D</span>)             │                             │                 │\n",
              "├──────────────────────────────────────┼─────────────────────────────┼─────────────────┤\n",
              "│ dense_34 (<span style=\"color: #0087ff; text-decoration-color: #0087ff\">Dense</span>)                     │ (<span style=\"color: #00d7ff; text-decoration-color: #00d7ff\">None</span>, <span style=\"color: #00af00; text-decoration-color: #00af00\">60</span>)                  │           <span style=\"color: #00af00; text-decoration-color: #00af00\">3,900</span> │\n",
              "├──────────────────────────────────────┼─────────────────────────────┼─────────────────┤\n",
              "│ dense_35 (<span style=\"color: #0087ff; text-decoration-color: #0087ff\">Dense</span>)                     │ (<span style=\"color: #00d7ff; text-decoration-color: #00d7ff\">None</span>, <span style=\"color: #00af00; text-decoration-color: #00af00\">5</span>)                   │             <span style=\"color: #00af00; text-decoration-color: #00af00\">305</span> │\n",
              "└──────────────────────────────────────┴─────────────────────────────┴─────────────────┘\n",
              "</pre>\n"
            ]
          },
          "metadata": {}
        },
        {
          "output_type": "display_data",
          "data": {
            "text/plain": [
              "\u001b[1m Total params: \u001b[0m\u001b[38;5;34m1,664,553\u001b[0m (6.35 MB)\n"
            ],
            "text/html": [
              "<pre style=\"white-space:pre;overflow-x:auto;line-height:normal;font-family:Menlo,'DejaVu Sans Mono',consolas,'Courier New',monospace\"><span style=\"font-weight: bold\"> Total params: </span><span style=\"color: #00af00; text-decoration-color: #00af00\">1,664,553</span> (6.35 MB)\n",
              "</pre>\n"
            ]
          },
          "metadata": {}
        },
        {
          "output_type": "display_data",
          "data": {
            "text/plain": [
              "\u001b[1m Trainable params: \u001b[0m\u001b[38;5;34m1,664,553\u001b[0m (6.35 MB)\n"
            ],
            "text/html": [
              "<pre style=\"white-space:pre;overflow-x:auto;line-height:normal;font-family:Menlo,'DejaVu Sans Mono',consolas,'Courier New',monospace\"><span style=\"font-weight: bold\"> Trainable params: </span><span style=\"color: #00af00; text-decoration-color: #00af00\">1,664,553</span> (6.35 MB)\n",
              "</pre>\n"
            ]
          },
          "metadata": {}
        },
        {
          "output_type": "display_data",
          "data": {
            "text/plain": [
              "\u001b[1m Non-trainable params: \u001b[0m\u001b[38;5;34m0\u001b[0m (0.00 B)\n"
            ],
            "text/html": [
              "<pre style=\"white-space:pre;overflow-x:auto;line-height:normal;font-family:Menlo,'DejaVu Sans Mono',consolas,'Courier New',monospace\"><span style=\"font-weight: bold\"> Non-trainable params: </span><span style=\"color: #00af00; text-decoration-color: #00af00\">0</span> (0.00 B)\n",
              "</pre>\n"
            ]
          },
          "metadata": {}
        },
        {
          "output_type": "stream",
          "name": "stdout",
          "text": [
            "Epoch 1/5\n",
            "\u001b[1m679/679\u001b[0m \u001b[32m━━━━━━━━━━━━━━━━━━━━\u001b[0m\u001b[37m\u001b[0m \u001b[1m16s\u001b[0m 16ms/step - accuracy: 0.4723 - loss: 1.2224 - val_accuracy: 0.7343 - val_loss: 0.6837\n",
            "Epoch 2/5\n",
            "\u001b[1m679/679\u001b[0m \u001b[32m━━━━━━━━━━━━━━━━━━━━\u001b[0m\u001b[37m\u001b[0m \u001b[1m5s\u001b[0m 8ms/step - accuracy: 0.8018 - loss: 0.5422 - val_accuracy: 0.7275 - val_loss: 0.7118\n",
            "Epoch 3/5\n",
            "\u001b[1m679/679\u001b[0m \u001b[32m━━━━━━━━━━━━━━━━━━━━\u001b[0m\u001b[37m\u001b[0m \u001b[1m10s\u001b[0m 7ms/step - accuracy: 0.8714 - loss: 0.3620 - val_accuracy: 0.7313 - val_loss: 0.7718\n",
            "Epoch 4/5\n",
            "\u001b[1m679/679\u001b[0m \u001b[32m━━━━━━━━━━━━━━━━━━━━\u001b[0m\u001b[37m\u001b[0m \u001b[1m6s\u001b[0m 8ms/step - accuracy: 0.9073 - loss: 0.2539 - val_accuracy: 0.7267 - val_loss: 0.9746\n",
            "Epoch 5/5\n",
            "\u001b[1m679/679\u001b[0m \u001b[32m━━━━━━━━━━━━━━━━━━━━\u001b[0m\u001b[37m\u001b[0m \u001b[1m5s\u001b[0m 7ms/step - accuracy: 0.9218 - loss: 0.2050 - val_accuracy: 0.7240 - val_loss: 1.1162\n",
            "\u001b[1m170/170\u001b[0m \u001b[32m━━━━━━━━━━━━━━━━━━━━\u001b[0m\u001b[37m\u001b[0m \u001b[1m0s\u001b[0m 3ms/step - accuracy: 0.7214 - loss: 1.1107\n"
          ]
        },
        {
          "output_type": "stream",
          "name": "stderr",
          "text": [
            "WARNING:absl:You are saving your model as an HDF5 file via `model.save()` or `keras.saving.save_model(model)`. This file format is considered legacy. We recommend using instead the native Keras format, e.g. `model.save('my_model.keras')` or `keras.saving.save_model(model, 'my_model.keras')`. \n"
          ]
        },
        {
          "output_type": "stream",
          "name": "stdout",
          "text": [
            "Dataset 6: Validation Accuracy: 72.3973%\n",
            "Artifacts for dataset 6 saved: Model, Vectorizer, Label Encoder, Training History.\n",
            "\n"
          ]
        }
      ]
    },
    {
      "cell_type": "markdown",
      "source": [
        "# For Distributed Ensemble 1"
      ],
      "metadata": {
        "id": "Zk39nCLZfDV4"
      }
    },
    {
      "cell_type": "code",
      "source": [
        "import pickle\n",
        "import numpy as np\n",
        "import pandas as pd\n",
        "from sklearn.ensemble import RandomForestClassifier\n",
        "from sklearn.model_selection import StratifiedKFold, cross_val_score\n",
        "from sklearn.metrics import accuracy_score, classification_report, confusion_matrix\n",
        "from tensorflow.keras.models import load_model, Model\n",
        "from tensorflow.keras.utils import pad_sequences, custom_object_scope\n",
        "from tensorflow.keras.layers import MultiHeadAttention, Input, Dense, Embedding, GlobalAveragePooling1D, LayerNormalization, Layer\n",
        "from tensorflow.keras.optimizers import Adam\n",
        "from tensorflow.keras.models import Model, Sequential\n",
        "from tensorflow.keras.utils import to_categorical\n",
        "from sklearn.model_selection import train_test_split, cross_val_score\n",
        "from tensorflow.keras.optimizers import Adam\n",
        "import tensorflow as tf\n",
        "\n",
        "# Define the custom layers\n",
        "class EmbeddingLayer(Layer):\n",
        "    def __init__(self, sequence_length, vocab_size, embed_dim, **kwargs):\n",
        "        super(EmbeddingLayer, self).__init__(**kwargs)\n",
        "        self.word_embedding = Embedding(input_dim=vocab_size, output_dim=embed_dim)\n",
        "        self.position_embedding = Embedding(input_dim=sequence_length, output_dim=embed_dim)\n",
        "\n",
        "    def call(self, tokens):\n",
        "        sequence_length = tf.shape(tokens)[-1]\n",
        "        positions = tf.range(start=0, limit=sequence_length, delta=1)\n",
        "        positions_encoding = self.position_embedding(positions)\n",
        "        words_encoding = self.word_embedding(tokens)\n",
        "        return positions_encoding + words_encoding\n",
        "\n",
        "\n",
        "class EncoderLayer(Layer):\n",
        "    def __init__(self, total_heads, total_dense_units, embed_dim, **kwargs):\n",
        "        super(EncoderLayer, self).__init__(**kwargs)\n",
        "        self.multihead = MultiHeadAttention(num_heads=total_heads, key_dim=embed_dim)\n",
        "        self.nnw = Sequential([Dense(total_dense_units, activation=\"relu\"), Dense(embed_dim)])\n",
        "        self.normalize_layer = LayerNormalization()\n",
        "\n",
        "    def call(self, inputs):\n",
        "        attn_output = self.multihead(inputs, inputs)\n",
        "        normalize_attn = self.normalize_layer(inputs + attn_output)\n",
        "        nnw_output = self.nnw(normalize_attn)\n",
        "        final_output = self.normalize_layer(normalize_attn + nnw_output)\n",
        "        return final_output\n",
        "\n",
        "# Helper function to load models and vectorizers\n",
        "def load_models_and_vectorizers(prefix):\n",
        "    with open(f'LRmodel_{prefix}.pkl', 'rb') as file:\n",
        "        lr_model = pickle.load(file)\n",
        "\n",
        "    with open(f'LRvectorizer_{prefix}.pkl', 'rb') as file:\n",
        "        lr_vectorizer = pickle.load(file)\n",
        "\n",
        "    with open(f'NBmodel_{prefix}.pkl', 'rb') as file:\n",
        "        nb_model = pickle.load(file)\n",
        "\n",
        "    with open(f'NBvectorizer_{prefix}.pkl', 'rb') as file:\n",
        "        nb_vectorizer = pickle.load(file)\n",
        "\n",
        "    with open(f'SVMmodel_{prefix}.pkl', 'rb') as file:\n",
        "        svm_model = pickle.load(file)\n",
        "\n",
        "    with open(f'SVMvectorizer_{prefix}.pkl', 'rb') as file:\n",
        "        svm_vectorizer = pickle.load(file)\n",
        "\n",
        "    with open(f'xgb_model_{prefix}.pkl', 'rb') as file:\n",
        "        xgb_model = pickle.load(file)\n",
        "\n",
        "    with open(f'tfidf_vectorizer_{prefix}.pkl', 'rb') as file:\n",
        "        tfidf_vectorizer = pickle.load(file)\n",
        "\n",
        "    with open(f'label_encoder_{prefix}.pkl', 'rb') as file:\n",
        "        label_encoder = pickle.load(file)\n",
        "\n",
        "    lstm_model = tf.keras.models.load_model(f'lstm_model_{prefix}.h5')\n",
        "\n",
        "    with open(f'LSTM_tokenizer_{prefix}.pkl', 'rb') as file:\n",
        "        lstm_tokenizer = pickle.load(file)\n",
        "\n",
        "    with open(f'Tlabel_encoder_{prefix}.pkl', 'rb') as file:\n",
        "        t_label_encoder = pickle.load(file)\n",
        "\n",
        "    with open(f'Tvectorize_layer_{prefix}.pkl', 'rb') as file:\n",
        "        t_vectorize_layer = pickle.load(file)\n",
        "\n",
        "    transformer_model = tf.keras.models.load_model(f'Ttransformer_model_{prefix}.h5', custom_objects={\n",
        "        \"EmbeddingLayer\": EmbeddingLayer,\n",
        "        \"EncoderLayer\": EncoderLayer\n",
        "    })\n",
        "\n",
        "    return (lr_model, lr_vectorizer, nb_model, nb_vectorizer, svm_model, svm_vectorizer,\n",
        "            xgb_model, tfidf_vectorizer, label_encoder, lstm_model, lstm_tokenizer,\n",
        "            t_label_encoder, t_vectorize_layer, transformer_model)\n",
        "\n",
        "# Function to create meta learner for a given dataset\n",
        "def create_meta_learner(dataset_path, prefix, meta_model_path):\n",
        "    data = pd.read_csv(dataset_path)\n",
        "    data.dropna(subset=['cleaned_text'], inplace=True)\n",
        "\n",
        "    X = data['cleaned_text']\n",
        "    y = data['mental_health_issue']\n",
        "\n",
        "    models = load_models_and_vectorizers(prefix)\n",
        "\n",
        "    lr_model, lr_vectorizer, nb_model, nb_vectorizer, svm_model, svm_vectorizer, \\\n",
        "    xgb_model, tfidf_vectorizer, label_encoder, lstm_model, lstm_tokenizer, \\\n",
        "    t_label_encoder, t_vectorize_layer, transformer_model = models\n",
        "\n",
        "    y = label_encoder.transform(y)\n",
        "\n",
        "    # Preprocess text for each model\n",
        "    X_lr = lr_vectorizer.transform(X)\n",
        "    X_nb = nb_vectorizer.transform(X)\n",
        "    X_svm = svm_vectorizer.transform(X)\n",
        "    X_xgb = tfidf_vectorizer.transform(X)\n",
        "    X_lstm = lstm_tokenizer.texts_to_sequences(X)\n",
        "    X_lstm = pad_sequences(X_lstm, maxlen=100, padding='post', truncating='post')\n",
        "    X_transformer = t_vectorize_layer(X)\n",
        "\n",
        "    # Get individual model probabilities\n",
        "    stacked_features = np.hstack((\n",
        "        lr_model.predict_proba(X_lr),\n",
        "        nb_model.predict_proba(X_nb),\n",
        "        svm_model.predict_proba(X_svm),\n",
        "        xgb_model.predict_proba(X_xgb),\n",
        "        lstm_model.predict(X_lstm),\n",
        "        transformer_model.predict(X_transformer)\n",
        "    ))\n",
        "\n",
        "    # Train meta-learner\n",
        "    X_train, X_test, y_train, y_test = train_test_split(\n",
        "        stacked_features, y, test_size=0.2, stratify=y, random_state=42\n",
        "    )\n",
        "\n",
        "    meta_learner = RandomForestClassifier(\n",
        "        max_depth=None, min_samples_split=20, min_samples_leaf=1,\n",
        "        max_features='sqrt', bootstrap=False, random_state=42\n",
        "    )\n",
        "    meta_learner.fit(X_train, y_train)\n",
        "\n",
        "    # Save meta-learner\n",
        "    with open(meta_model_path, 'wb') as file:\n",
        "        pickle.dump(meta_learner, file)\n",
        "\n",
        "    return stacked_features, y\n",
        "\n",
        "# Create meta learners for all subsets\n",
        "meta_features = []\n",
        "meta_labels = []\n",
        "\n",
        "for i in range(1, 7):\n",
        "    dataset_path = f'preprocessed_mental_health_{i}.csv'\n",
        "    prefix = f'{i}'\n",
        "    meta_model_path = f'meta_learner_rf_{i}.pkl'\n",
        "\n",
        "    features, labels = create_meta_learner(dataset_path, prefix, meta_model_path)\n",
        "    meta_features.append(features)\n",
        "    meta_labels.append(labels)\n",
        "\n",
        "# Combine meta features and labels for final meta-learner\n",
        "meta_features = np.vstack(meta_features)\n",
        "meta_labels = np.concatenate(meta_labels)\n",
        "\n",
        "# Train final meta-learner\n",
        "final_meta_learner = RandomForestClassifier(\n",
        "    max_depth=None, min_samples_split=20, min_samples_leaf=1,\n",
        "    max_features='sqrt', bootstrap=False, random_state=42\n",
        ")\n",
        "\n",
        "# Apply stratified k-fold cross-validation\n",
        "skf = StratifiedKFold(n_splits=5, shuffle=True, random_state=42)\n",
        "cv_scores = cross_val_score(final_meta_learner, meta_features, meta_labels, cv=skf, scoring='accuracy')\n",
        "\n",
        "# Train final model on the entire dataset\n",
        "final_meta_learner.fit(meta_features, meta_labels)\n",
        "\n",
        "# Save final meta-learner\n",
        "with open('final_meta_learner_rf.pkl', 'wb') as file:\n",
        "    pickle.dump(final_meta_learner, file)\n",
        "\n",
        "# Print cross-validation results\n",
        "print(f\"Cross-Validation Accuracies: {cv_scores}\")\n",
        "print(f\"Mean Validation Accuracy: {np.mean(cv_scores) * 100:.2f}%\")\n",
        "print(f\"Validation Accuracy Std Dev: {np.std(cv_scores) * 100:.2f}%\")\n"
      ],
      "metadata": {
        "colab": {
          "base_uri": "https://localhost:8080/"
        },
        "id": "A17jKCZmfFNw",
        "outputId": "f2467fb9-39a9-4b2b-f982-8218feea5110"
      },
      "execution_count": null,
      "outputs": [
        {
          "output_type": "stream",
          "name": "stderr",
          "text": [
            "WARNING:absl:Compiled the loaded model, but the compiled metrics have yet to be built. `model.compile_metrics` will be empty until you train or evaluate the model.\n",
            "WARNING:absl:Compiled the loaded model, but the compiled metrics have yet to be built. `model.compile_metrics` will be empty until you train or evaluate the model.\n"
          ]
        },
        {
          "output_type": "stream",
          "name": "stdout",
          "text": [
            "\u001b[1m850/850\u001b[0m \u001b[32m━━━━━━━━━━━━━━━━━━━━\u001b[0m\u001b[37m\u001b[0m \u001b[1m4s\u001b[0m 4ms/step\n",
            "\u001b[1m850/850\u001b[0m \u001b[32m━━━━━━━━━━━━━━━━━━━━\u001b[0m\u001b[37m\u001b[0m \u001b[1m3s\u001b[0m 3ms/step\n"
          ]
        },
        {
          "output_type": "stream",
          "name": "stderr",
          "text": [
            "WARNING:absl:Compiled the loaded model, but the compiled metrics have yet to be built. `model.compile_metrics` will be empty until you train or evaluate the model.\n",
            "WARNING:absl:Compiled the loaded model, but the compiled metrics have yet to be built. `model.compile_metrics` will be empty until you train or evaluate the model.\n"
          ]
        },
        {
          "output_type": "stream",
          "name": "stdout",
          "text": [
            "\u001b[1m848/848\u001b[0m \u001b[32m━━━━━━━━━━━━━━━━━━━━\u001b[0m\u001b[37m\u001b[0m \u001b[1m4s\u001b[0m 4ms/step\n",
            "\u001b[1m848/848\u001b[0m \u001b[32m━━━━━━━━━━━━━━━━━━━━\u001b[0m\u001b[37m\u001b[0m \u001b[1m3s\u001b[0m 3ms/step\n"
          ]
        },
        {
          "output_type": "stream",
          "name": "stderr",
          "text": [
            "WARNING:absl:Compiled the loaded model, but the compiled metrics have yet to be built. `model.compile_metrics` will be empty until you train or evaluate the model.\n",
            "WARNING:absl:Compiled the loaded model, but the compiled metrics have yet to be built. `model.compile_metrics` will be empty until you train or evaluate the model.\n"
          ]
        },
        {
          "output_type": "stream",
          "name": "stdout",
          "text": [
            "\u001b[1m851/851\u001b[0m \u001b[32m━━━━━━━━━━━━━━━━━━━━\u001b[0m\u001b[37m\u001b[0m \u001b[1m4s\u001b[0m 4ms/step\n",
            "\u001b[1m851/851\u001b[0m \u001b[32m━━━━━━━━━━━━━━━━━━━━\u001b[0m\u001b[37m\u001b[0m \u001b[1m4s\u001b[0m 3ms/step\n"
          ]
        },
        {
          "output_type": "stream",
          "name": "stderr",
          "text": [
            "WARNING:absl:Compiled the loaded model, but the compiled metrics have yet to be built. `model.compile_metrics` will be empty until you train or evaluate the model.\n",
            "WARNING:absl:Compiled the loaded model, but the compiled metrics have yet to be built. `model.compile_metrics` will be empty until you train or evaluate the model.\n"
          ]
        },
        {
          "output_type": "stream",
          "name": "stdout",
          "text": [
            "\u001b[1m851/851\u001b[0m \u001b[32m━━━━━━━━━━━━━━━━━━━━\u001b[0m\u001b[37m\u001b[0m \u001b[1m4s\u001b[0m 4ms/step\n",
            "\u001b[1m851/851\u001b[0m \u001b[32m━━━━━━━━━━━━━━━━━━━━\u001b[0m\u001b[37m\u001b[0m \u001b[1m3s\u001b[0m 3ms/step\n"
          ]
        },
        {
          "output_type": "stream",
          "name": "stderr",
          "text": [
            "WARNING:absl:Compiled the loaded model, but the compiled metrics have yet to be built. `model.compile_metrics` will be empty until you train or evaluate the model.\n",
            "WARNING:absl:Compiled the loaded model, but the compiled metrics have yet to be built. `model.compile_metrics` will be empty until you train or evaluate the model.\n"
          ]
        },
        {
          "output_type": "stream",
          "name": "stdout",
          "text": [
            "\u001b[1m851/851\u001b[0m \u001b[32m━━━━━━━━━━━━━━━━━━━━\u001b[0m\u001b[37m\u001b[0m \u001b[1m4s\u001b[0m 4ms/step\n",
            "\u001b[1m851/851\u001b[0m \u001b[32m━━━━━━━━━━━━━━━━━━━━\u001b[0m\u001b[37m\u001b[0m \u001b[1m3s\u001b[0m 3ms/step\n"
          ]
        },
        {
          "output_type": "stream",
          "name": "stderr",
          "text": [
            "WARNING:absl:Compiled the loaded model, but the compiled metrics have yet to be built. `model.compile_metrics` will be empty until you train or evaluate the model.\n",
            "WARNING:absl:Compiled the loaded model, but the compiled metrics have yet to be built. `model.compile_metrics` will be empty until you train or evaluate the model.\n"
          ]
        },
        {
          "output_type": "stream",
          "name": "stdout",
          "text": [
            "\u001b[1m848/848\u001b[0m \u001b[32m━━━━━━━━━━━━━━━━━━━━\u001b[0m\u001b[37m\u001b[0m \u001b[1m4s\u001b[0m 4ms/step\n",
            "\u001b[1m848/848\u001b[0m \u001b[32m━━━━━━━━━━━━━━━━━━━━\u001b[0m\u001b[37m\u001b[0m \u001b[1m3s\u001b[0m 3ms/step\n",
            "Cross-Validation Accuracies: [0.96128024 0.96118707 0.9622601  0.96324116 0.96425287]\n",
            "Mean Validation Accuracy: 96.24%\n",
            "Validation Accuracy Std Dev: 0.12%\n"
          ]
        }
      ]
    },
    {
      "cell_type": "code",
      "source": [
        "import matplotlib.pyplot as plt\n",
        "from sklearn.metrics import classification_report, confusion_matrix, roc_auc_score, roc_curve\n",
        "import seaborn as sns\n",
        "from sklearn.preprocessing import LabelBinarizer\n",
        "\n",
        "# Make predictions on the test data\n",
        "y_pred = final_meta_learner.predict(meta_features)\n",
        "\n",
        "# Classification report\n",
        "print(\"Classification Report:\")\n",
        "print(classification_report(meta_labels, y_pred))\n",
        "\n",
        "# Confusion matrix\n",
        "cm = confusion_matrix(meta_labels, y_pred)\n",
        "print(\"Confusion Matrix:\")\n",
        "print(cm)\n",
        "\n",
        "# Confusion matrix heatmap\n",
        "plt.figure(figsize=(8, 6))\n",
        "sns.heatmap(cm, annot=True, fmt=\"d\", cmap=\"Blues\", xticklabels=label_encoder.classes_, yticklabels=label_encoder.classes_)\n",
        "plt.title('Confusion Matrix')\n",
        "plt.xlabel('Predicted')\n",
        "plt.ylabel('True')\n",
        "plt.show()\n",
        "\n",
        "# ROC AUC for multi-class\n",
        "# Binarize the labels for multi-class ROC AUC calculation\n",
        "lb = LabelBinarizer()\n",
        "lb.fit(meta_labels)\n",
        "y_prob = final_meta_learner.predict_proba(meta_features)\n",
        "y_true_binarized = lb.transform(meta_labels)\n",
        "\n",
        "# Calculate macro-average ROC AUC\n",
        "roc_auc = roc_auc_score(y_true_binarized, y_prob, average='macro', multi_class='ovr')\n",
        "\n",
        "# Plot ROC curve for each class\n",
        "plt.figure(figsize=(8, 6))\n",
        "n_classes = y_true_binarized.shape[1]\n",
        "colors = plt.cm.get_cmap(\"tab10\", n_classes)  # Set a color map for each class\n",
        "\n",
        "for i in range(n_classes):\n",
        "    fpr, tpr, thresholds = roc_curve(y_true_binarized[:, i], y_prob[:, i])\n",
        "    plt.plot(fpr, tpr, color=colors(i), lw=2, label=f'Class {lb.classes_[i]} (AUC = {roc_auc_score(y_true_binarized[:, i], y_prob[:, i]):.2f})')\n",
        "\n",
        "# Plot diagonal line (random classifier)\n",
        "plt.plot([0, 1], [0, 1], color='gray', linestyle='--')\n",
        "\n",
        "plt.title('Receiver Operating Characteristic (ROC) Curve')\n",
        "plt.xlabel('False Positive Rate')\n",
        "plt.ylabel('True Positive Rate')\n",
        "plt.legend(loc='lower right')\n",
        "plt.show()\n",
        "\n",
        "# Print ROC AUC score\n",
        "print(f\"Macro-average ROC AUC Score: {roc_auc:.2f}\")\n"
      ],
      "metadata": {
        "colab": {
          "base_uri": "https://localhost:8080/",
          "height": 1000
        },
        "id": "kV0ipYo9rt6k",
        "outputId": "26b4021f-8d92-49c0-c927-a68fac9f1e68"
      },
      "execution_count": null,
      "outputs": [
        {
          "output_type": "stream",
          "name": "stdout",
          "text": [
            "Classification Report:\n",
            "              precision    recall  f1-score   support\n",
            "\n",
            "           0       0.98      0.98      0.98     18075\n",
            "           1       0.98      0.97      0.98     15276\n",
            "           2       0.98      0.98      0.98     18862\n",
            "           3       0.99      1.00      1.00     94848\n",
            "           4       0.98      0.98      0.98     16030\n",
            "\n",
            "    accuracy                           0.99    163091\n",
            "   macro avg       0.98      0.98      0.98    163091\n",
            "weighted avg       0.99      0.99      0.99    163091\n",
            "\n",
            "Confusion Matrix:\n",
            "[[17774    39   109    88    65]\n",
            " [   51 14811   141   217    56]\n",
            " [  113    85 18417   165    82]\n",
            " [   57    62    91 94571    67]\n",
            " [  108    42    73    99 15708]]\n"
          ]
        },
        {
          "output_type": "display_data",
          "data": {
            "text/plain": [
              "<Figure size 800x600 with 2 Axes>"
            ],
            "image/png": "[encoded data removed]"
          },
          "metadata": {}
        },
        {
          "output_type": "stream",
          "name": "stderr",
          "text": [
            "<ipython-input-11-e73d68a749cd>:39: MatplotlibDeprecationWarning: The get_cmap function was deprecated in Matplotlib 3.7 and will be removed two minor releases later. Use ``matplotlib.colormaps[name]`` or ``matplotlib.colormaps.get_cmap(obj)`` instead.\n",
            "  colors = plt.cm.get_cmap(\"tab10\", n_classes)  # Set a color map for each class\n"
          ]
        },
        {
          "output_type": "display_data",
          "data": {
            "text/plain": [
              "<Figure size 800x600 with 1 Axes>"
            ],
            "image/png": "[encoded data removed]"
          },
          "metadata": {}
        },
        {
          "output_type": "stream",
          "name": "stdout",
          "text": [
            "Macro-average ROC AUC Score: 1.00\n"
          ]
        }
      ]
    },
    {
      "cell_type": "markdown",
      "source": [
        "# For Dsitributed Ensemble 2"
      ],
      "metadata": {
        "id": "w5UZO1N-i5O0"
      }
    },
    {
      "cell_type": "code",
      "source": [
        "import pickle\n",
        "import numpy as np\n",
        "import pandas as pd\n",
        "from sklearn.ensemble import RandomForestClassifier\n",
        "from sklearn.model_selection import StratifiedKFold, cross_val_score\n",
        "from sklearn.metrics import accuracy_score, classification_report, confusion_matrix\n",
        "from sklearn.linear_model import LogisticRegression\n",
        "from tensorflow.keras.models import load_model, Model\n",
        "from tensorflow.keras.utils import pad_sequences, custom_object_scope\n",
        "from tensorflow.keras.layers import MultiHeadAttention, Input, Dense, Embedding, GlobalAveragePooling1D, LayerNormalization, Layer\n",
        "from tensorflow.keras.optimizers import Adam\n",
        "from tensorflow.keras.models import Model, Sequential\n",
        "from tensorflow.keras.utils import to_categorical\n",
        "from sklearn.model_selection import train_test_split, cross_val_score\n",
        "import tensorflow as tf\n",
        "\n",
        "# Define the custom layers\n",
        "class EmbeddingLayer(Layer):\n",
        "    def __init__(self, sequence_length, vocab_size, embed_dim, **kwargs):\n",
        "        super(EmbeddingLayer, self).__init__(**kwargs)\n",
        "        self.word_embedding = Embedding(input_dim=vocab_size, output_dim=embed_dim)\n",
        "        self.position_embedding = Embedding(input_dim=sequence_length, output_dim=embed_dim)\n",
        "\n",
        "    def call(self, tokens):\n",
        "        sequence_length = tf.shape(tokens)[-1]\n",
        "        positions = tf.range(start=0, limit=sequence_length, delta=1)\n",
        "        positions_encoding = self.position_embedding(positions)\n",
        "        words_encoding = self.word_embedding(tokens)\n",
        "        return positions_encoding + words_encoding\n",
        "\n",
        "\n",
        "class EncoderLayer(Layer):\n",
        "    def __init__(self, total_heads, total_dense_units, embed_dim, **kwargs):\n",
        "        super(EncoderLayer, self).__init__(**kwargs)\n",
        "        self.multihead = MultiHeadAttention(num_heads=total_heads, key_dim=embed_dim)\n",
        "        self.nnw = Sequential([Dense(total_dense_units, activation=\"relu\"), Dense(embed_dim)])\n",
        "        self.normalize_layer = LayerNormalization()\n",
        "\n",
        "    def call(self, inputs):\n",
        "        attn_output = self.multihead(inputs, inputs)\n",
        "        normalize_attn = self.normalize_layer(inputs + attn_output)\n",
        "        nnw_output = self.nnw(normalize_attn)\n",
        "        final_output = self.normalize_layer(normalize_attn + nnw_output)\n",
        "        return final_output\n",
        "\n",
        "# Define helper function to load models and vectorizers\n",
        "def load_models_and_vectorizers(prefix):\n",
        "    with open(f'LRmodel_{prefix}.pkl', 'rb') as file:\n",
        "        lr_model = pickle.load(file)\n",
        "\n",
        "    with open(f'LRvectorizer_{prefix}.pkl', 'rb') as file:\n",
        "        lr_vectorizer = pickle.load(file)\n",
        "\n",
        "    with open(f'NBmodel_{prefix}.pkl', 'rb') as file:\n",
        "        nb_model = pickle.load(file)\n",
        "\n",
        "    with open(f'NBvectorizer_{prefix}.pkl', 'rb') as file:\n",
        "        nb_vectorizer = pickle.load(file)\n",
        "\n",
        "    with open(f'SVMmodel_{prefix}.pkl', 'rb') as file:\n",
        "        svm_model = pickle.load(file)\n",
        "\n",
        "    with open(f'SVMvectorizer_{prefix}.pkl', 'rb') as file:\n",
        "        svm_vectorizer = pickle.load(file)\n",
        "\n",
        "    with open(f'xgb_model_{prefix}.pkl', 'rb') as file:\n",
        "        xgb_model = pickle.load(file)\n",
        "\n",
        "    with open(f'tfidf_vectorizer_{prefix}.pkl', 'rb') as file:\n",
        "        tfidf_vectorizer = pickle.load(file)\n",
        "\n",
        "    lstm_model = tf.keras.models.load_model(f'lstm_model_{prefix}.h5')\n",
        "\n",
        "    with open(f'LSTM_tokenizer_{prefix}.pkl', 'rb') as file:\n",
        "        lstm_tokenizer = pickle.load(file)\n",
        "\n",
        "    transformer_model = tf.keras.models.load_model(f'Ttransformer_model_{prefix}.h5', custom_objects={\"EmbeddingLayer\": EmbeddingLayer, \"EncoderLayer\": EncoderLayer})\n",
        "\n",
        "    return (lr_model, lr_vectorizer, nb_model, nb_vectorizer, svm_model, svm_vectorizer,\n",
        "            xgb_model, tfidf_vectorizer, lstm_model, lstm_tokenizer, transformer_model)\n",
        "\n",
        "# Create ensemble model for each type of base model\n",
        "def create_ensemble_for_model_type(data_subsets, model_type):\n",
        "    all_predictions = []\n",
        "    all_labels = []\n",
        "\n",
        "    for i, (dataset_path, prefix) in enumerate(data_subsets):\n",
        "        data = pd.read_csv(dataset_path)\n",
        "        data.dropna(subset=['cleaned_text'], inplace=True)\n",
        "\n",
        "        X = data['cleaned_text']\n",
        "        y = data['mental_health_issue']\n",
        "\n",
        "        models = load_models_and_vectorizers(prefix)\n",
        "        lr_model, lr_vectorizer, nb_model, nb_vectorizer, svm_model, svm_vectorizer, \\\n",
        "        xgb_model, tfidf_vectorizer, lstm_model, lstm_tokenizer, transformer_model = models\n",
        "\n",
        "        # Preprocess text and get predictions for the specific model type\n",
        "        if model_type == 'LR':\n",
        "            X_transformed = lr_vectorizer.transform(X)\n",
        "            predictions = lr_model.predict_proba(X_transformed)\n",
        "        elif model_type == 'NB':\n",
        "            X_transformed = nb_vectorizer.transform(X)\n",
        "            predictions = nb_model.predict_proba(X_transformed)\n",
        "        elif model_type == 'SVM':\n",
        "            X_transformed = svm_vectorizer.transform(X)\n",
        "            predictions = svm_model.predict_proba(X_transformed)\n",
        "        elif model_type == 'XGB':\n",
        "            X_transformed = tfidf_vectorizer.transform(X)\n",
        "            predictions = xgb_model.predict_proba(X_transformed)\n",
        "        elif model_type == 'LSTM':\n",
        "            X_transformed = lstm_tokenizer.texts_to_sequences(X)\n",
        "            X_transformed = pad_sequences(X_transformed, maxlen=100, padding='post', truncating='post')\n",
        "            predictions = lstm_model.predict(X_transformed)\n",
        "        elif model_type == 'Transformer':\n",
        "            # Preprocess the text for the Transformer using the TextVectorization layer\n",
        "            with open(f'Tvectorize_layer_{prefix}.pkl', 'rb') as vectorizer_file:\n",
        "                t_vectorize_layer = pickle.load(vectorizer_file)\n",
        "            X_transformed = t_vectorize_layer(tf.convert_to_tensor(X, dtype=tf.string))\n",
        "            # Make predictions\n",
        "            predictions = transformer_model.predict(X_transformed)\n",
        "\n",
        "\n",
        "        all_predictions.append(predictions)\n",
        "        all_labels.append(y)\n",
        "\n",
        "    # Stack predictions and labels\n",
        "    stacked_features = np.vstack(all_predictions)\n",
        "    stacked_labels = np.concatenate(all_labels)\n",
        "\n",
        "    # Train Logistic Regression meta-learner\n",
        "    meta_learner = LogisticRegression(max_iter=5000, random_state=42)\n",
        "    meta_learner.fit(stacked_features, stacked_labels)\n",
        "\n",
        "    return meta_learner\n",
        "\n",
        "# Create meta-learners for each model type\n",
        "data_subsets = [(f'preprocessed_mental_health_{i}.csv', f'{i}') for i in range(1, 7)]\n",
        "\n",
        "lr_meta_learner = create_ensemble_for_model_type(data_subsets, 'LR')\n",
        "nb_meta_learner = create_ensemble_for_model_type(data_subsets, 'NB')\n",
        "svm_meta_learner = create_ensemble_for_model_type(data_subsets, 'SVM')\n",
        "xgb_meta_learner = create_ensemble_for_model_type(data_subsets, 'XGB')\n",
        "lstm_meta_learner = create_ensemble_for_model_type(data_subsets, 'LSTM')\n",
        "transformer_meta_learner = create_ensemble_for_model_type(data_subsets, 'Transformer')\n",
        "\n",
        "# Create final meta-learner using Random Forest\n",
        "final_predictions = []\n",
        "final_labels = []\n",
        "for data_path, prefix in data_subsets:\n",
        "    data = pd.read_csv(data_path)\n",
        "    data.dropna(subset=['cleaned_text'], inplace=True)\n",
        "\n",
        "    X = data['cleaned_text']\n",
        "    y = data['mental_health_issue']\n",
        "\n",
        "    models = load_models_and_vectorizers(prefix)\n",
        "    lr_model, lr_vectorizer, nb_model, nb_vectorizer, svm_model, svm_vectorizer, \\\n",
        "    xgb_model, tfidf_vectorizer, lstm_model, lstm_tokenizer, transformer_model = models\n",
        "\n",
        "    # Load the TextVectorization layer for the Transformer\n",
        "    with open(f'Tvectorize_layer_{prefix}.pkl', 'rb') as vectorizer_file:\n",
        "        t_vectorize_layer = pickle.load(vectorizer_file)\n",
        "\n",
        "    # Get predictions from each meta-learner\n",
        "    X_lr = lr_vectorizer.transform(X)\n",
        "    X_nb = nb_vectorizer.transform(X)\n",
        "    X_svm = svm_vectorizer.transform(X)\n",
        "    X_xgb = tfidf_vectorizer.transform(X)\n",
        "    X_lstm = lstm_tokenizer.texts_to_sequences(X)\n",
        "    X_lstm = pad_sequences(X_lstm, maxlen=100, padding='post', truncating='post')\n",
        "    # Preprocess the input for the Transformer\n",
        "    X_transformer = t_vectorize_layer(tf.convert_to_tensor(X, dtype=tf.string))  # Use the text vectorizer layer\n",
        "    transformer_predictions = transformer_model.predict(X_transformer)\n",
        "\n",
        "    features = np.hstack([\n",
        "        lr_meta_learner.predict_proba(lr_model.predict_proba(X_lr)),\n",
        "        nb_meta_learner.predict_proba(nb_model.predict_proba(X_nb)),\n",
        "        svm_meta_learner.predict_proba(svm_model.predict_proba(X_svm)),\n",
        "        xgb_meta_learner.predict_proba(xgb_model.predict_proba(X_xgb)),\n",
        "        lstm_meta_learner.predict_proba(lstm_model.predict(X_lstm)),\n",
        "        # Use meta-learner to get probabilities\n",
        "        transformer_meta_learner.predict_proba(transformer_predictions)\n",
        "    ])\n",
        "\n",
        "    final_predictions.append(features)\n",
        "    final_labels.append(y.values[:features.shape[0]])\n",
        "\n",
        "final_features = np.vstack(final_predictions)\n",
        "final_labels = np.concatenate(final_labels)\n",
        "\n",
        "# Train final meta-learner\n",
        "final_meta_learner = RandomForestClassifier(\n",
        "    max_depth=None, min_samples_split=20, min_samples_leaf=1,\n",
        "    max_features='sqrt', bootstrap=False, random_state=42\n",
        ")\n",
        "\n",
        "skf = StratifiedKFold(n_splits=5, shuffle=True, random_state=42)\n",
        "cv_scores = cross_val_score(final_meta_learner, final_features, final_labels, cv=skf, scoring='accuracy')\n",
        "\n",
        "final_meta_learner.fit(final_features, final_labels)\n",
        "\n",
        "# Save final meta-learner\n",
        "with open('final_meta_learner_rf2.pkl', 'wb') as file:\n",
        "    pickle.dump(final_meta_learner, file)\n",
        "\n",
        "# Print cross-validation results\n",
        "print(f\"Cross-Validation Accuracies: {cv_scores}\")\n",
        "print(f\"Mean Validation Accuracy: {np.mean(cv_scores) * 100:.2f}%\")\n",
        "print(f\"Validation Accuracy Std Dev: {np.std(cv_scores) * 100:.2f}%\")\n"
      ],
      "metadata": {
        "colab": {
          "base_uri": "https://localhost:8080/"
        },
        "id": "dw-9L0Ehi8h2",
        "outputId": "ca80b63a-d875-4c35-ae23-79558d5bf0ad"
      },
      "execution_count": 2,
      "outputs": [
        {
          "output_type": "stream",
          "name": "stderr",
          "text": [
            "WARNING:absl:Compiled the loaded model, but the compiled metrics have yet to be built. `model.compile_metrics` will be empty until you train or evaluate the model.\n",
            "WARNING:absl:Compiled the loaded model, but the compiled metrics have yet to be built. `model.compile_metrics` will be empty until you train or evaluate the model.\n",
            "WARNING:absl:Compiled the loaded model, but the compiled metrics have yet to be built. `model.compile_metrics` will be empty until you train or evaluate the model.\n",
            "WARNING:absl:Compiled the loaded model, but the compiled metrics have yet to be built. `model.compile_metrics` will be empty until you train or evaluate the model.\n",
            "WARNING:absl:Compiled the loaded model, but the compiled metrics have yet to be built. `model.compile_metrics` will be empty until you train or evaluate the model.\n",
            "WARNING:absl:Compiled the loaded model, but the compiled metrics have yet to be built. `model.compile_metrics` will be empty until you train or evaluate the model.\n",
            "WARNING:absl:Compiled the loaded model, but the compiled metrics have yet to be built. `model.compile_metrics` will be empty until you train or evaluate the model.\n",
            "WARNING:absl:Compiled the loaded model, but the compiled metrics have yet to be built. `model.compile_metrics` will be empty until you train or evaluate the model.\n",
            "WARNING:absl:Compiled the loaded model, but the compiled metrics have yet to be built. `model.compile_metrics` will be empty until you train or evaluate the model.\n",
            "WARNING:absl:Compiled the loaded model, but the compiled metrics have yet to be built. `model.compile_metrics` will be empty until you train or evaluate the model.\n",
            "WARNING:absl:Compiled the loaded model, but the compiled metrics have yet to be built. `model.compile_metrics` will be empty until you train or evaluate the model.\n",
            "WARNING:absl:Compiled the loaded model, but the compiled metrics have yet to be built. `model.compile_metrics` will be empty until you train or evaluate the model.\n",
            "WARNING:absl:Compiled the loaded model, but the compiled metrics have yet to be built. `model.compile_metrics` will be empty until you train or evaluate the model.\n",
            "WARNING:absl:Compiled the loaded model, but the compiled metrics have yet to be built. `model.compile_metrics` will be empty until you train or evaluate the model.\n",
            "WARNING:absl:Compiled the loaded model, but the compiled metrics have yet to be built. `model.compile_metrics` will be empty until you train or evaluate the model.\n",
            "WARNING:absl:Compiled the loaded model, but the compiled metrics have yet to be built. `model.compile_metrics` will be empty until you train or evaluate the model.\n",
            "WARNING:absl:Compiled the loaded model, but the compiled metrics have yet to be built. `model.compile_metrics` will be empty until you train or evaluate the model.\n",
            "WARNING:absl:Compiled the loaded model, but the compiled metrics have yet to be built. `model.compile_metrics` will be empty until you train or evaluate the model.\n",
            "WARNING:absl:Compiled the loaded model, but the compiled metrics have yet to be built. `model.compile_metrics` will be empty until you train or evaluate the model.\n",
            "WARNING:absl:Compiled the loaded model, but the compiled metrics have yet to be built. `model.compile_metrics` will be empty until you train or evaluate the model.\n",
            "WARNING:absl:Compiled the loaded model, but the compiled metrics have yet to be built. `model.compile_metrics` will be empty until you train or evaluate the model.\n",
            "WARNING:absl:Compiled the loaded model, but the compiled metrics have yet to be built. `model.compile_metrics` will be empty until you train or evaluate the model.\n",
            "WARNING:absl:Compiled the loaded model, but the compiled metrics have yet to be built. `model.compile_metrics` will be empty until you train or evaluate the model.\n",
            "WARNING:absl:Compiled the loaded model, but the compiled metrics have yet to be built. `model.compile_metrics` will be empty until you train or evaluate the model.\n",
            "WARNING:absl:Compiled the loaded model, but the compiled metrics have yet to be built. `model.compile_metrics` will be empty until you train or evaluate the model.\n",
            "WARNING:absl:Compiled the loaded model, but the compiled metrics have yet to be built. `model.compile_metrics` will be empty until you train or evaluate the model.\n",
            "WARNING:absl:Compiled the loaded model, but the compiled metrics have yet to be built. `model.compile_metrics` will be empty until you train or evaluate the model.\n",
            "WARNING:absl:Compiled the loaded model, but the compiled metrics have yet to be built. `model.compile_metrics` will be empty until you train or evaluate the model.\n",
            "WARNING:absl:Compiled the loaded model, but the compiled metrics have yet to be built. `model.compile_metrics` will be empty until you train or evaluate the model.\n",
            "WARNING:absl:Compiled the loaded model, but the compiled metrics have yet to be built. `model.compile_metrics` will be empty until you train or evaluate the model.\n",
            "WARNING:absl:Compiled the loaded model, but the compiled metrics have yet to be built. `model.compile_metrics` will be empty until you train or evaluate the model.\n",
            "WARNING:absl:Compiled the loaded model, but the compiled metrics have yet to be built. `model.compile_metrics` will be empty until you train or evaluate the model.\n",
            "WARNING:absl:Compiled the loaded model, but the compiled metrics have yet to be built. `model.compile_metrics` will be empty until you train or evaluate the model.\n",
            "WARNING:absl:Compiled the loaded model, but the compiled metrics have yet to be built. `model.compile_metrics` will be empty until you train or evaluate the model.\n",
            "WARNING:absl:Compiled the loaded model, but the compiled metrics have yet to be built. `model.compile_metrics` will be empty until you train or evaluate the model.\n",
            "WARNING:absl:Compiled the loaded model, but the compiled metrics have yet to be built. `model.compile_metrics` will be empty until you train or evaluate the model.\n",
            "WARNING:absl:Compiled the loaded model, but the compiled metrics have yet to be built. `model.compile_metrics` will be empty until you train or evaluate the model.\n",
            "WARNING:absl:Compiled the loaded model, but the compiled metrics have yet to be built. `model.compile_metrics` will be empty until you train or evaluate the model.\n",
            "WARNING:absl:Compiled the loaded model, but the compiled metrics have yet to be built. `model.compile_metrics` will be empty until you train or evaluate the model.\n",
            "WARNING:absl:Compiled the loaded model, but the compiled metrics have yet to be built. `model.compile_metrics` will be empty until you train or evaluate the model.\n",
            "WARNING:absl:Compiled the loaded model, but the compiled metrics have yet to be built. `model.compile_metrics` will be empty until you train or evaluate the model.\n",
            "WARNING:absl:Compiled the loaded model, but the compiled metrics have yet to be built. `model.compile_metrics` will be empty until you train or evaluate the model.\n",
            "WARNING:absl:Compiled the loaded model, but the compiled metrics have yet to be built. `model.compile_metrics` will be empty until you train or evaluate the model.\n",
            "WARNING:absl:Compiled the loaded model, but the compiled metrics have yet to be built. `model.compile_metrics` will be empty until you train or evaluate the model.\n",
            "WARNING:absl:Compiled the loaded model, but the compiled metrics have yet to be built. `model.compile_metrics` will be empty until you train or evaluate the model.\n",
            "WARNING:absl:Compiled the loaded model, but the compiled metrics have yet to be built. `model.compile_metrics` will be empty until you train or evaluate the model.\n",
            "WARNING:absl:Compiled the loaded model, but the compiled metrics have yet to be built. `model.compile_metrics` will be empty until you train or evaluate the model.\n",
            "WARNING:absl:Compiled the loaded model, but the compiled metrics have yet to be built. `model.compile_metrics` will be empty until you train or evaluate the model.\n",
            "WARNING:absl:Compiled the loaded model, but the compiled metrics have yet to be built. `model.compile_metrics` will be empty until you train or evaluate the model.\n",
            "WARNING:absl:Compiled the loaded model, but the compiled metrics have yet to be built. `model.compile_metrics` will be empty until you train or evaluate the model.\n"
          ]
        },
        {
          "output_type": "stream",
          "name": "stdout",
          "text": [
            "\u001b[1m850/850\u001b[0m \u001b[32m━━━━━━━━━━━━━━━━━━━━\u001b[0m\u001b[37m\u001b[0m \u001b[1m5s\u001b[0m 4ms/step\n"
          ]
        },
        {
          "output_type": "stream",
          "name": "stderr",
          "text": [
            "WARNING:absl:Compiled the loaded model, but the compiled metrics have yet to be built. `model.compile_metrics` will be empty until you train or evaluate the model.\n",
            "WARNING:absl:Compiled the loaded model, but the compiled metrics have yet to be built. `model.compile_metrics` will be empty until you train or evaluate the model.\n"
          ]
        },
        {
          "output_type": "stream",
          "name": "stdout",
          "text": [
            "\u001b[1m848/848\u001b[0m \u001b[32m━━━━━━━━━━━━━━━━━━━━\u001b[0m\u001b[37m\u001b[0m \u001b[1m5s\u001b[0m 5ms/step\n"
          ]
        },
        {
          "output_type": "stream",
          "name": "stderr",
          "text": [
            "WARNING:absl:Compiled the loaded model, but the compiled metrics have yet to be built. `model.compile_metrics` will be empty until you train or evaluate the model.\n",
            "WARNING:absl:Compiled the loaded model, but the compiled metrics have yet to be built. `model.compile_metrics` will be empty until you train or evaluate the model.\n"
          ]
        },
        {
          "output_type": "stream",
          "name": "stdout",
          "text": [
            "\u001b[1m851/851\u001b[0m \u001b[32m━━━━━━━━━━━━━━━━━━━━\u001b[0m\u001b[37m\u001b[0m \u001b[1m4s\u001b[0m 4ms/step\n"
          ]
        },
        {
          "output_type": "stream",
          "name": "stderr",
          "text": [
            "WARNING:absl:Compiled the loaded model, but the compiled metrics have yet to be built. `model.compile_metrics` will be empty until you train or evaluate the model.\n",
            "WARNING:absl:Compiled the loaded model, but the compiled metrics have yet to be built. `model.compile_metrics` will be empty until you train or evaluate the model.\n"
          ]
        },
        {
          "output_type": "stream",
          "name": "stdout",
          "text": [
            "\u001b[1m851/851\u001b[0m \u001b[32m━━━━━━━━━━━━━━━━━━━━\u001b[0m\u001b[37m\u001b[0m \u001b[1m5s\u001b[0m 5ms/step\n"
          ]
        },
        {
          "output_type": "stream",
          "name": "stderr",
          "text": [
            "WARNING:absl:Compiled the loaded model, but the compiled metrics have yet to be built. `model.compile_metrics` will be empty until you train or evaluate the model.\n",
            "WARNING:absl:Compiled the loaded model, but the compiled metrics have yet to be built. `model.compile_metrics` will be empty until you train or evaluate the model.\n"
          ]
        },
        {
          "output_type": "stream",
          "name": "stdout",
          "text": [
            "\u001b[1m851/851\u001b[0m \u001b[32m━━━━━━━━━━━━━━━━━━━━\u001b[0m\u001b[37m\u001b[0m \u001b[1m4s\u001b[0m 4ms/step\n"
          ]
        },
        {
          "output_type": "stream",
          "name": "stderr",
          "text": [
            "WARNING:absl:Compiled the loaded model, but the compiled metrics have yet to be built. `model.compile_metrics` will be empty until you train or evaluate the model.\n",
            "WARNING:absl:Compiled the loaded model, but the compiled metrics have yet to be built. `model.compile_metrics` will be empty until you train or evaluate the model.\n"
          ]
        },
        {
          "output_type": "stream",
          "name": "stdout",
          "text": [
            "\u001b[1m848/848\u001b[0m \u001b[32m━━━━━━━━━━━━━━━━━━━━\u001b[0m\u001b[37m\u001b[0m \u001b[1m4s\u001b[0m 5ms/step\n"
          ]
        },
        {
          "output_type": "stream",
          "name": "stderr",
          "text": [
            "WARNING:absl:Compiled the loaded model, but the compiled metrics have yet to be built. `model.compile_metrics` will be empty until you train or evaluate the model.\n",
            "WARNING:absl:Compiled the loaded model, but the compiled metrics have yet to be built. `model.compile_metrics` will be empty until you train or evaluate the model.\n"
          ]
        },
        {
          "output_type": "stream",
          "name": "stdout",
          "text": [
            "\u001b[1m850/850\u001b[0m \u001b[32m━━━━━━━━━━━━━━━━━━━━\u001b[0m\u001b[37m\u001b[0m \u001b[1m4s\u001b[0m 3ms/step\n"
          ]
        },
        {
          "output_type": "stream",
          "name": "stderr",
          "text": [
            "WARNING:absl:Compiled the loaded model, but the compiled metrics have yet to be built. `model.compile_metrics` will be empty until you train or evaluate the model.\n",
            "WARNING:absl:Compiled the loaded model, but the compiled metrics have yet to be built. `model.compile_metrics` will be empty until you train or evaluate the model.\n"
          ]
        },
        {
          "output_type": "stream",
          "name": "stdout",
          "text": [
            "\u001b[1m848/848\u001b[0m \u001b[32m━━━━━━━━━━━━━━━━━━━━\u001b[0m\u001b[37m\u001b[0m \u001b[1m3s\u001b[0m 3ms/step\n"
          ]
        },
        {
          "output_type": "stream",
          "name": "stderr",
          "text": [
            "WARNING:absl:Compiled the loaded model, but the compiled metrics have yet to be built. `model.compile_metrics` will be empty until you train or evaluate the model.\n",
            "WARNING:absl:Compiled the loaded model, but the compiled metrics have yet to be built. `model.compile_metrics` will be empty until you train or evaluate the model.\n"
          ]
        },
        {
          "output_type": "stream",
          "name": "stdout",
          "text": [
            "\u001b[1m851/851\u001b[0m \u001b[32m━━━━━━━━━━━━━━━━━━━━\u001b[0m\u001b[37m\u001b[0m \u001b[1m3s\u001b[0m 3ms/step\n"
          ]
        },
        {
          "output_type": "stream",
          "name": "stderr",
          "text": [
            "WARNING:absl:Compiled the loaded model, but the compiled metrics have yet to be built. `model.compile_metrics` will be empty until you train or evaluate the model.\n",
            "WARNING:absl:Compiled the loaded model, but the compiled metrics have yet to be built. `model.compile_metrics` will be empty until you train or evaluate the model.\n"
          ]
        },
        {
          "output_type": "stream",
          "name": "stdout",
          "text": [
            "\u001b[1m851/851\u001b[0m \u001b[32m━━━━━━━━━━━━━━━━━━━━\u001b[0m\u001b[37m\u001b[0m \u001b[1m4s\u001b[0m 4ms/step\n"
          ]
        },
        {
          "output_type": "stream",
          "name": "stderr",
          "text": [
            "WARNING:absl:Compiled the loaded model, but the compiled metrics have yet to be built. `model.compile_metrics` will be empty until you train or evaluate the model.\n",
            "WARNING:absl:Compiled the loaded model, but the compiled metrics have yet to be built. `model.compile_metrics` will be empty until you train or evaluate the model.\n"
          ]
        },
        {
          "output_type": "stream",
          "name": "stdout",
          "text": [
            "\u001b[1m851/851\u001b[0m \u001b[32m━━━━━━━━━━━━━━━━━━━━\u001b[0m\u001b[37m\u001b[0m \u001b[1m3s\u001b[0m 3ms/step\n"
          ]
        },
        {
          "output_type": "stream",
          "name": "stderr",
          "text": [
            "WARNING:absl:Compiled the loaded model, but the compiled metrics have yet to be built. `model.compile_metrics` will be empty until you train or evaluate the model.\n",
            "WARNING:absl:Compiled the loaded model, but the compiled metrics have yet to be built. `model.compile_metrics` will be empty until you train or evaluate the model.\n"
          ]
        },
        {
          "output_type": "stream",
          "name": "stdout",
          "text": [
            "\u001b[1m848/848\u001b[0m \u001b[32m━━━━━━━━━━━━━━━━━━━━\u001b[0m\u001b[37m\u001b[0m \u001b[1m4s\u001b[0m 4ms/step\n"
          ]
        },
        {
          "output_type": "stream",
          "name": "stderr",
          "text": [
            "WARNING:absl:Compiled the loaded model, but the compiled metrics have yet to be built. `model.compile_metrics` will be empty until you train or evaluate the model.\n",
            "WARNING:absl:Compiled the loaded model, but the compiled metrics have yet to be built. `model.compile_metrics` will be empty until you train or evaluate the model.\n"
          ]
        },
        {
          "output_type": "stream",
          "name": "stdout",
          "text": [
            "\u001b[1m850/850\u001b[0m \u001b[32m━━━━━━━━━━━━━━━━━━━━\u001b[0m\u001b[37m\u001b[0m \u001b[1m3s\u001b[0m 3ms/step\n",
            "\u001b[1m850/850\u001b[0m \u001b[32m━━━━━━━━━━━━━━━━━━━━\u001b[0m\u001b[37m\u001b[0m \u001b[1m5s\u001b[0m 5ms/step\n"
          ]
        },
        {
          "output_type": "stream",
          "name": "stderr",
          "text": [
            "WARNING:absl:Compiled the loaded model, but the compiled metrics have yet to be built. `model.compile_metrics` will be empty until you train or evaluate the model.\n",
            "WARNING:absl:Compiled the loaded model, but the compiled metrics have yet to be built. `model.compile_metrics` will be empty until you train or evaluate the model.\n"
          ]
        },
        {
          "output_type": "stream",
          "name": "stdout",
          "text": [
            "\u001b[1m848/848\u001b[0m \u001b[32m━━━━━━━━━━━━━━━━━━━━\u001b[0m\u001b[37m\u001b[0m \u001b[1m3s\u001b[0m 3ms/step\n",
            "\u001b[1m848/848\u001b[0m \u001b[32m━━━━━━━━━━━━━━━━━━━━\u001b[0m\u001b[37m\u001b[0m \u001b[1m4s\u001b[0m 4ms/step\n"
          ]
        },
        {
          "output_type": "stream",
          "name": "stderr",
          "text": [
            "WARNING:absl:Compiled the loaded model, but the compiled metrics have yet to be built. `model.compile_metrics` will be empty until you train or evaluate the model.\n",
            "WARNING:absl:Compiled the loaded model, but the compiled metrics have yet to be built. `model.compile_metrics` will be empty until you train or evaluate the model.\n"
          ]
        },
        {
          "output_type": "stream",
          "name": "stdout",
          "text": [
            "\u001b[1m851/851\u001b[0m \u001b[32m━━━━━━━━━━━━━━━━━━━━\u001b[0m\u001b[37m\u001b[0m \u001b[1m3s\u001b[0m 3ms/step\n",
            "\u001b[1m851/851\u001b[0m \u001b[32m━━━━━━━━━━━━━━━━━━━━\u001b[0m\u001b[37m\u001b[0m \u001b[1m5s\u001b[0m 5ms/step\n"
          ]
        },
        {
          "output_type": "stream",
          "name": "stderr",
          "text": [
            "WARNING:absl:Compiled the loaded model, but the compiled metrics have yet to be built. `model.compile_metrics` will be empty until you train or evaluate the model.\n",
            "WARNING:absl:Compiled the loaded model, but the compiled metrics have yet to be built. `model.compile_metrics` will be empty until you train or evaluate the model.\n"
          ]
        },
        {
          "output_type": "stream",
          "name": "stdout",
          "text": [
            "\u001b[1m851/851\u001b[0m \u001b[32m━━━━━━━━━━━━━━━━━━━━\u001b[0m\u001b[37m\u001b[0m \u001b[1m3s\u001b[0m 3ms/step\n",
            "\u001b[1m851/851\u001b[0m \u001b[32m━━━━━━━━━━━━━━━━━━━━\u001b[0m\u001b[37m\u001b[0m \u001b[1m5s\u001b[0m 5ms/step\n"
          ]
        },
        {
          "output_type": "stream",
          "name": "stderr",
          "text": [
            "WARNING:absl:Compiled the loaded model, but the compiled metrics have yet to be built. `model.compile_metrics` will be empty until you train or evaluate the model.\n",
            "WARNING:absl:Compiled the loaded model, but the compiled metrics have yet to be built. `model.compile_metrics` will be empty until you train or evaluate the model.\n"
          ]
        },
        {
          "output_type": "stream",
          "name": "stdout",
          "text": [
            "\u001b[1m851/851\u001b[0m \u001b[32m━━━━━━━━━━━━━━━━━━━━\u001b[0m\u001b[37m\u001b[0m \u001b[1m3s\u001b[0m 3ms/step\n",
            "\u001b[1m851/851\u001b[0m \u001b[32m━━━━━━━━━━━━━━━━━━━━\u001b[0m\u001b[37m\u001b[0m \u001b[1m5s\u001b[0m 6ms/step\n"
          ]
        },
        {
          "output_type": "stream",
          "name": "stderr",
          "text": [
            "WARNING:absl:Compiled the loaded model, but the compiled metrics have yet to be built. `model.compile_metrics` will be empty until you train or evaluate the model.\n",
            "WARNING:absl:Compiled the loaded model, but the compiled metrics have yet to be built. `model.compile_metrics` will be empty until you train or evaluate the model.\n"
          ]
        },
        {
          "output_type": "stream",
          "name": "stdout",
          "text": [
            "\u001b[1m848/848\u001b[0m \u001b[32m━━━━━━━━━━━━━━━━━━━━\u001b[0m\u001b[37m\u001b[0m \u001b[1m4s\u001b[0m 3ms/step\n",
            "\u001b[1m848/848\u001b[0m \u001b[32m━━━━━━━━━━━━━━━━━━━━\u001b[0m\u001b[37m\u001b[0m \u001b[1m4s\u001b[0m 4ms/step\n",
            "Cross-Validation Accuracies: [0.96140286 0.96189221 0.96161629 0.96330247 0.96317984]\n",
            "Mean Validation Accuracy: 96.23%\n",
            "Validation Accuracy Std Dev: 0.08%\n"
          ]
        }
      ]
    },
    {
      "cell_type": "code",
      "source": [
        "import matplotlib.pyplot as plt\n",
        "from sklearn.metrics import classification_report, confusion_matrix, roc_auc_score, roc_curve\n",
        "import seaborn as sns\n",
        "from sklearn.preprocessing import LabelBinarizer\n",
        "\n",
        "# Define class names\n",
        "class_names = [\"Anxiety\", \"Bipolar\", \"Depression\", \"Normal\", \"PTSD\"]\n",
        "\n",
        "# Make predictions on the test data\n",
        "y_pred = final_meta_learner.predict(final_features)\n",
        "\n",
        "# Classification report\n",
        "print(\"Classification Report:\")\n",
        "print(classification_report(final_labels, y_pred, target_names=class_names))\n",
        "\n",
        "# Confusion matrix\n",
        "cm = confusion_matrix(final_labels, y_pred)\n",
        "print(\"Confusion Matrix:\")\n",
        "print(cm)\n",
        "\n",
        "# Confusion matrix heatmap\n",
        "plt.figure(figsize=(8, 6))\n",
        "sns.heatmap(cm, annot=True, fmt=\"d\", cmap=\"Blues\", xticklabels=class_names, yticklabels=class_names)\n",
        "plt.title('Confusion Matrix')\n",
        "plt.xlabel('Predicted')\n",
        "plt.ylabel('True')\n",
        "plt.show()\n",
        "\n",
        "# ROC AUC for multi-class\n",
        "# Binarize the labels for multi-class ROC AUC calculation\n",
        "lb = LabelBinarizer()\n",
        "lb.fit(final_labels)\n",
        "y_prob = final_meta_learner.predict_proba(final_features)\n",
        "y_true_binarized = lb.transform(final_labels)\n",
        "\n",
        "# Calculate macro-average ROC AUC\n",
        "roc_auc = roc_auc_score(y_true_binarized, y_prob, average='macro', multi_class='ovr')\n",
        "\n",
        "# Plot ROC curve for each class\n",
        "plt.figure(figsize=(8, 6))\n",
        "n_classes = y_true_binarized.shape[1]\n",
        "colors = plt.cm.get_cmap(\"tab10\", n_classes)  # Set a color map for each class\n",
        "\n",
        "for i in range(n_classes):\n",
        "    fpr, tpr, thresholds = roc_curve(y_true_binarized[:, i], y_prob[:, i])\n",
        "    plt.plot(fpr, tpr, color=colors(i), lw=2, label=f'Class {class_names[i]} (AUC = {roc_auc_score(y_true_binarized[:, i], y_prob[:, i]):.2f})')\n",
        "\n",
        "# Plot diagonal line (random classifier)\n",
        "plt.plot([0, 1], [0, 1], color='gray', linestyle='--')\n",
        "\n",
        "plt.title('Receiver Operating Characteristic (ROC) Curve')\n",
        "plt.xlabel('False Positive Rate')\n",
        "plt.ylabel('True Positive Rate')\n",
        "plt.legend(loc='lower right')\n",
        "plt.show()\n",
        "\n",
        "# Print ROC AUC score\n",
        "print(f\"Macro-average ROC AUC Score: {roc_auc:.2f}\")\n"
      ],
      "metadata": {
        "colab": {
          "base_uri": "https://localhost:8080/",
          "height": 1000
        },
        "id": "4z3p7WLpSGGj",
        "outputId": "3d0d207d-857f-4721-eb62-e4c339b94d5d"
      },
      "execution_count": null,
      "outputs": [
        {
          "output_type": "stream",
          "name": "stdout",
          "text": [
            "Classification Report:\n",
            "              precision    recall  f1-score   support\n",
            "\n",
            "     Anxiety       0.98      0.98      0.98     18075\n",
            "     Bipolar       0.98      0.97      0.97     15276\n",
            "  Depression       0.98      0.97      0.97     18862\n",
            "      Normal       0.99      1.00      0.99     94848\n",
            "        PTSD       0.98      0.98      0.98     16030\n",
            "\n",
            "    accuracy                           0.99    163091\n",
            "   macro avg       0.98      0.98      0.98    163091\n",
            "weighted avg       0.99      0.99      0.99    163091\n",
            "\n",
            "Confusion Matrix:\n",
            "[[17729    49   125   101    71]\n",
            " [   52 14754   157   245    68]\n",
            " [  116   104 18364   188    90]\n",
            " [   60    82    97 94531    78]\n",
            " [  110    57    73   114 15676]]\n"
          ]
        },
        {
          "output_type": "display_data",
          "data": {
            "text/plain": [
              "<Figure size 800x600 with 2 Axes>"
            ],
            "image/png": "[encoded data removed]"
          },
          "metadata": {}
        },
        {
          "output_type": "stream",
          "name": "stderr",
          "text": [
            "<ipython-input-7-22dd48c96876>:42: MatplotlibDeprecationWarning: The get_cmap function was deprecated in Matplotlib 3.7 and will be removed two minor releases later. Use ``matplotlib.colormaps[name]`` or ``matplotlib.colormaps.get_cmap(obj)`` instead.\n",
            "  colors = plt.cm.get_cmap(\"tab10\", n_classes)  # Set a color map for each class\n"
          ]
        },
        {
          "output_type": "display_data",
          "data": {
            "text/plain": [
              "<Figure size 800x600 with 1 Axes>"
            ],
            "image/png": "[encoded data removed]"
          },
          "metadata": {}
        },
        {
          "output_type": "stream",
          "name": "stdout",
          "text": [
            "Macro-average ROC AUC Score: 1.00\n"
          ]
        }
      ]
    },
    {
      "cell_type": "markdown",
      "source": [
        "# Predict User Input with no model retraining"
      ],
      "metadata": {
        "id": "t7oUUzF3i3UM"
      }
    },
    {
      "cell_type": "code",
      "source": [
        "import pickle\n",
        "import numpy as np\n",
        "import pandas as pd\n",
        "from sklearn.ensemble import RandomForestClassifier\n",
        "from sklearn.model_selection import StratifiedKFold, cross_val_score\n",
        "from sklearn.metrics import accuracy_score, classification_report, confusion_matrix\n",
        "from sklearn.linear_model import LogisticRegression\n",
        "from tensorflow.keras.models import load_model, Model\n",
        "from tensorflow.keras.utils import pad_sequences, custom_object_scope\n",
        "from tensorflow.keras.layers import MultiHeadAttention, Input, Dense, Embedding, GlobalAveragePooling1D, LayerNormalization, Layer\n",
        "from tensorflow.keras.optimizers import Adam\n",
        "from tensorflow.keras.models import Model, Sequential\n",
        "from tensorflow.keras.utils import to_categorical\n",
        "from sklearn.model_selection import train_test_split, cross_val_score\n",
        "import tensorflow as tf\n",
        "from tabulate import tabulate  # Import for table formatting\n",
        "\n",
        "# Define the custom layers\n",
        "class EmbeddingLayer(Layer):\n",
        "    def __init__(self, sequence_length, vocab_size, embed_dim, **kwargs):\n",
        "        super(EmbeddingLayer, self).__init__(**kwargs)\n",
        "        self.word_embedding = Embedding(input_dim=vocab_size, output_dim=embed_dim)\n",
        "        self.position_embedding = Embedding(input_dim=sequence_length, output_dim=embed_dim)\n",
        "\n",
        "    def call(self, tokens):\n",
        "        sequence_length = tf.shape(tokens)[-1]\n",
        "        positions = tf.range(start=0, limit=sequence_length, delta=1)\n",
        "        positions_encoding = self.position_embedding(positions)\n",
        "        words_encoding = self.word_embedding(tokens)\n",
        "        return positions_encoding + words_encoding\n",
        "\n",
        "\n",
        "class EncoderLayer(Layer):\n",
        "    def __init__(self, total_heads, total_dense_units, embed_dim, **kwargs):\n",
        "        super(EncoderLayer, self).__init__(**kwargs)\n",
        "        self.multihead = MultiHeadAttention(num_heads=total_heads, key_dim=embed_dim)\n",
        "        self.nnw = Sequential([Dense(total_dense_units, activation=\"relu\"), Dense(embed_dim)])\n",
        "        self.normalize_layer = LayerNormalization()\n",
        "\n",
        "    def call(self, inputs):\n",
        "        attn_output = self.multihead(inputs, inputs)\n",
        "        normalize_attn = self.normalize_layer(inputs + attn_output)\n",
        "        nnw_output = self.nnw(normalize_attn)\n",
        "        final_output = self.normalize_layer(normalize_attn + nnw_output)\n",
        "        return final_output\n",
        "\n",
        "# Function to preprocess and predict for a single input text using all subsets\n",
        "def predict_user_input_all_prefixes(user_input, num_prefixes, arch):\n",
        "    # Load the final meta-learner\n",
        "    if arch == 1:\n",
        "        with open('final_meta_learner_rf.pkl', 'rb') as file:\n",
        "            final_meta_learner = pickle.load(file)\n",
        "    else:\n",
        "        with open('final_meta_learner_rf2.pkl', 'rb') as file:\n",
        "            final_meta_learner = pickle.load(file)\n",
        "\n",
        "    # Initialize an empty list to hold stacked features\n",
        "    all_stacked_features = []\n",
        "\n",
        "    # Loop through all prefixes and process the user input\n",
        "    for prefix in range(1, num_prefixes + 1):\n",
        "        prefix = str(prefix)\n",
        "\n",
        "        # Load models and vectorizers for the current prefix\n",
        "        models = load_models_and_vectorizers(prefix)\n",
        "        lr_model, lr_vectorizer, nb_model, nb_vectorizer, svm_model, svm_vectorizer, \\\n",
        "        xgb_model, tfidf_vectorizer, label_encoder, lstm_model, lstm_tokenizer, \\\n",
        "        t_label_encoder, t_vectorize_layer, transformer_model = models\n",
        "\n",
        "        # Preprocess the input for each model\n",
        "        X_lr = lr_vectorizer.transform([user_input])\n",
        "        X_nb = nb_vectorizer.transform([user_input])\n",
        "        X_svm = svm_vectorizer.transform([user_input])\n",
        "        X_xgb = tfidf_vectorizer.transform([user_input])\n",
        "        X_lstm = lstm_tokenizer.texts_to_sequences([user_input])\n",
        "        X_lstm = pad_sequences(X_lstm, maxlen=100, padding='post', truncating='post')\n",
        "        X_transformer = t_vectorize_layer([user_input])\n",
        "\n",
        "        # Get individual model probabilities\n",
        "        stacked_features = np.hstack((\n",
        "            lr_model.predict_proba(X_lr),\n",
        "            nb_model.predict_proba(X_nb),\n",
        "            svm_model.predict_proba(X_svm),\n",
        "            xgb_model.predict_proba(X_xgb),\n",
        "            lstm_model.predict(X_lstm),\n",
        "            transformer_model.predict(X_transformer)\n",
        "        ))\n",
        "\n",
        "        # Append the stacked features for this prefix\n",
        "        all_stacked_features.append(stacked_features)\n",
        "\n",
        "    # Combine all stacked features into a single array\n",
        "    final_stacked_features = np.hstack(all_stacked_features)\n",
        "\n",
        "    # Ensure the feature size matches the meta-learner's expectations\n",
        "    expected_features = final_meta_learner.n_features_in_\n",
        "    if final_stacked_features.shape[1] < expected_features:\n",
        "        # Pad with zeros if fewer features are present\n",
        "        padding = np.zeros((final_stacked_features.shape[0], expected_features - final_stacked_features.shape[1]))\n",
        "        final_stacked_features = np.hstack((final_stacked_features, padding))\n",
        "    elif final_stacked_features.shape[1] > expected_features:\n",
        "        # Truncate if more features are present\n",
        "        final_stacked_features = final_stacked_features[:, :expected_features]\n",
        "\n",
        "    # Predict with the meta-learner\n",
        "    prediction_probabilities = final_meta_learner.predict_proba(final_stacked_features)[0]\n",
        "\n",
        "    # Get the class labels\n",
        "    class_labels = label_encoder.classes_\n",
        "\n",
        "    # Find the highest probability\n",
        "    max_probability = np.max(prediction_probabilities)\n",
        "    predicted_class = class_labels[np.argmax(prediction_probabilities)]\n",
        "\n",
        "    # Create a table with all classes and probabilities\n",
        "    table_data = []\n",
        "    for label, probability in zip(class_labels, prediction_probabilities):\n",
        "        if label == predicted_class:\n",
        "            table_data.append([f\"**{label}**\", f\"**{probability:.2f}**\"])  # Bold the highest probability\n",
        "        else:\n",
        "            table_data.append([label, f\"{probability:.2f}\"])\n",
        "\n",
        "    table = tabulate(table_data, headers=[\"Mental Health Issue\", \"Probability\"], tablefmt=\"fancy_grid\")\n",
        "\n",
        "    # Return the table and the predicted class with its probability\n",
        "    return table, predicted_class, max_probability\n",
        "\n",
        "\n",
        "def load_models_and_vectorizers(prefix):\n",
        "    with open(f'LRmodel_{prefix}.pkl', 'rb') as file:\n",
        "        lr_model = pickle.load(file)\n",
        "\n",
        "    with open(f'LRvectorizer_{prefix}.pkl', 'rb') as file:\n",
        "        lr_vectorizer = pickle.load(file)\n",
        "\n",
        "    with open(f'NBmodel_{prefix}.pkl', 'rb') as file:\n",
        "        nb_model = pickle.load(file)\n",
        "\n",
        "    with open(f'NBvectorizer_{prefix}.pkl', 'rb') as file:\n",
        "        nb_vectorizer = pickle.load(file)\n",
        "\n",
        "    with open(f'SVMmodel_{prefix}.pkl', 'rb') as file:\n",
        "        svm_model = pickle.load(file)\n",
        "\n",
        "    with open(f'SVMvectorizer_{prefix}.pkl', 'rb') as file:\n",
        "        svm_vectorizer = pickle.load(file)\n",
        "\n",
        "    with open(f'xgb_model_{prefix}.pkl', 'rb') as file:\n",
        "        xgb_model = pickle.load(file)\n",
        "\n",
        "    with open(f'tfidf_vectorizer_{prefix}.pkl', 'rb') as file:\n",
        "        tfidf_vectorizer = pickle.load(file)\n",
        "\n",
        "    # Load the label encoder for XGBoost\n",
        "    with open(f'label_encoder_{prefix}.pkl', 'rb') as file:\n",
        "        label_encoder = pickle.load(file)\n",
        "\n",
        "    lstm_model = tf.keras.models.load_model(f'lstm_model_{prefix}.h5')\n",
        "\n",
        "    with open(f'LSTM_tokenizer_{prefix}.pkl', 'rb') as file:\n",
        "        lstm_tokenizer = pickle.load(file)\n",
        "\n",
        "    # Load the label encoder for Transformer\n",
        "    with open(f'Tlabel_encoder_{prefix}.pkl', 'rb') as file:\n",
        "        t_label_encoder = pickle.load(file)\n",
        "\n",
        "    # Load the TextVectorization layer for the Transformer\n",
        "    with open(f'Tvectorize_layer_{prefix}.pkl', 'rb') as file:\n",
        "        t_vectorize_layer = pickle.load(file)\n",
        "\n",
        "    transformer_model = tf.keras.models.load_model(f'Ttransformer_model_{prefix}.h5', custom_objects={\"EmbeddingLayer\": EmbeddingLayer, \"EncoderLayer\": EncoderLayer})\n",
        "\n",
        "    return (lr_model, lr_vectorizer, nb_model, nb_vectorizer, svm_model, svm_vectorizer,\n",
        "            xgb_model, tfidf_vectorizer, label_encoder, lstm_model, lstm_tokenizer,\n",
        "            t_label_encoder, t_vectorize_layer, transformer_model) # Return all 14 values\n",
        "\n",
        "# Main Function to Run the Prediction\n",
        "def main():\n",
        "    # Ask the user to input the number of subsets\n",
        "    num_prefixes = int(input(\"Enter the number of subsets (prefixes): \"))\n",
        "\n",
        "    # Loop to get user input and make predictions\n",
        "    while True:\n",
        "        arch = int(input(\"Enter 1 for RF1 or 2 for RF2: \"))\n",
        "        user_input = input(\"Enter text to classify (or type 'exit' to quit): \")\n",
        "        if user_input.lower() == 'exit':\n",
        "            print(\"Exiting...\")\n",
        "            break\n",
        "\n",
        "        # Predict using all prefixes\n",
        "        table, predicted_class, predicted_probability = predict_user_input_all_prefixes(user_input, num_prefixes, arch)\n",
        "        print(\"\\nClassification Probabilities:\")\n",
        "        print(table)\n",
        "        print(f\"\\nPredicted Class: {predicted_class}\")\n",
        "        print(f\"Probability: {predicted_probability:.2f}\\n\")\n",
        "\n",
        "# Run the main function\n",
        "if __name__ == \"__main__\":\n",
        "    main()\n"
      ],
      "metadata": {
        "colab": {
          "base_uri": "https://localhost:8080/",
          "height": 1000
        },
        "id": "fh6O0Omui6lV",
        "outputId": "17aec790-7cc7-4555-c9a0-5f8a9e407f02"
      },
      "execution_count": 9,
      "outputs": [
        {
          "name": "stdout",
          "output_type": "stream",
          "text": [
            "Enter the number of subsets (prefixes): 6\n",
            "Enter text to classify (or type 'exit' to quit): Hello world\n",
            "Enter 1 for RF1 or 2 for RF2: 1\n"
          ]
        },
        {
          "output_type": "stream",
          "name": "stderr",
          "text": [
            "WARNING:absl:Compiled the loaded model, but the compiled metrics have yet to be built. `model.compile_metrics` will be empty until you train or evaluate the model.\n",
            "WARNING:absl:Compiled the loaded model, but the compiled metrics have yet to be built. `model.compile_metrics` will be empty until you train or evaluate the model.\n"
          ]
        },
        {
          "output_type": "stream",
          "name": "stdout",
          "text": [
            "\u001b[1m1/1\u001b[0m \u001b[32m━━━━━━━━━━━━━━━━━━━━\u001b[0m\u001b[37m\u001b[0m \u001b[1m0s\u001b[0m 163ms/step\n",
            "\u001b[1m1/1\u001b[0m \u001b[32m━━━━━━━━━━━━━━━━━━━━\u001b[0m\u001b[37m\u001b[0m \u001b[1m1s\u001b[0m 576ms/step\n"
          ]
        },
        {
          "output_type": "stream",
          "name": "stderr",
          "text": [
            "WARNING:absl:Compiled the loaded model, but the compiled metrics have yet to be built. `model.compile_metrics` will be empty until you train or evaluate the model.\n",
            "WARNING:absl:Compiled the loaded model, but the compiled metrics have yet to be built. `model.compile_metrics` will be empty until you train or evaluate the model.\n"
          ]
        },
        {
          "output_type": "stream",
          "name": "stdout",
          "text": [
            "\u001b[1m1/1\u001b[0m \u001b[32m━━━━━━━━━━━━━━━━━━━━\u001b[0m\u001b[37m\u001b[0m \u001b[1m0s\u001b[0m 241ms/step\n",
            "\u001b[1m1/1\u001b[0m \u001b[32m━━━━━━━━━━━━━━━━━━━━\u001b[0m\u001b[37m\u001b[0m \u001b[1m1s\u001b[0m 815ms/step\n"
          ]
        },
        {
          "output_type": "stream",
          "name": "stderr",
          "text": [
            "WARNING:absl:Compiled the loaded model, but the compiled metrics have yet to be built. `model.compile_metrics` will be empty until you train or evaluate the model.\n",
            "WARNING:absl:Compiled the loaded model, but the compiled metrics have yet to be built. `model.compile_metrics` will be empty until you train or evaluate the model.\n"
          ]
        },
        {
          "output_type": "stream",
          "name": "stdout",
          "text": [
            "\u001b[1m1/1\u001b[0m \u001b[32m━━━━━━━━━━━━━━━━━━━━\u001b[0m\u001b[37m\u001b[0m \u001b[1m0s\u001b[0m 335ms/step\n",
            "\u001b[1m1/1\u001b[0m \u001b[32m━━━━━━━━━━━━━━━━━━━━\u001b[0m\u001b[37m\u001b[0m \u001b[1m1s\u001b[0m 619ms/step\n"
          ]
        },
        {
          "output_type": "stream",
          "name": "stderr",
          "text": [
            "WARNING:absl:Compiled the loaded model, but the compiled metrics have yet to be built. `model.compile_metrics` will be empty until you train or evaluate the model.\n",
            "WARNING:absl:Compiled the loaded model, but the compiled metrics have yet to be built. `model.compile_metrics` will be empty until you train or evaluate the model.\n"
          ]
        },
        {
          "output_type": "stream",
          "name": "stdout",
          "text": [
            "\u001b[1m1/1\u001b[0m \u001b[32m━━━━━━━━━━━━━━━━━━━━\u001b[0m\u001b[37m\u001b[0m \u001b[1m0s\u001b[0m 188ms/step\n",
            "\u001b[1m1/1\u001b[0m \u001b[32m━━━━━━━━━━━━━━━━━━━━\u001b[0m\u001b[37m\u001b[0m \u001b[1m1s\u001b[0m 565ms/step\n"
          ]
        },
        {
          "output_type": "stream",
          "name": "stderr",
          "text": [
            "WARNING:absl:Compiled the loaded model, but the compiled metrics have yet to be built. `model.compile_metrics` will be empty until you train or evaluate the model.\n",
            "WARNING:absl:Compiled the loaded model, but the compiled metrics have yet to be built. `model.compile_metrics` will be empty until you train or evaluate the model.\n"
          ]
        },
        {
          "output_type": "stream",
          "name": "stdout",
          "text": [
            "\u001b[1m1/1\u001b[0m \u001b[32m━━━━━━━━━━━━━━━━━━━━\u001b[0m\u001b[37m\u001b[0m \u001b[1m0s\u001b[0m 168ms/step\n",
            "\u001b[1m1/1\u001b[0m \u001b[32m━━━━━━━━━━━━━━━━━━━━\u001b[0m\u001b[37m\u001b[0m \u001b[1m1s\u001b[0m 537ms/step\n"
          ]
        },
        {
          "output_type": "stream",
          "name": "stderr",
          "text": [
            "WARNING:absl:Compiled the loaded model, but the compiled metrics have yet to be built. `model.compile_metrics` will be empty until you train or evaluate the model.\n",
            "WARNING:absl:Compiled the loaded model, but the compiled metrics have yet to be built. `model.compile_metrics` will be empty until you train or evaluate the model.\n"
          ]
        },
        {
          "name": "stdout",
          "output_type": "stream",
          "text": [
            "\u001b[1m1/1\u001b[0m \u001b[32m━━━━━━━━━━━━━━━━━━━━\u001b[0m\u001b[37m\u001b[0m \u001b[1m0s\u001b[0m 157ms/step\n",
            "\u001b[1m1/1\u001b[0m \u001b[32m━━━━━━━━━━━━━━━━━━━━\u001b[0m\u001b[37m\u001b[0m \u001b[1m1s\u001b[0m 561ms/step\n",
            "\n",
            "Classification Probabilities:\n",
            "╒═══════════════════════╤═══════════════╕\n",
            "│ Mental Health Issue   │ Probability   │\n",
            "╞═══════════════════════╪═══════════════╡\n",
            "│ anxiety               │ 0.00          │\n",
            "├───────────────────────┼───────────────┤\n",
            "│ bipolar               │ 0.01          │\n",
            "├───────────────────────┼───────────────┤\n",
            "│ depression            │ 0.01          │\n",
            "├───────────────────────┼───────────────┤\n",
            "│ normal                │ 0.05          │\n",
            "├───────────────────────┼───────────────┤\n",
            "│ **ptsd**              │ **0.92**      │\n",
            "╘═══════════════════════╧═══════════════╛\n",
            "\n",
            "Predicted Class: ptsd\n",
            "Probability: 0.92\n",
            "\n",
            "Enter text to classify (or type 'exit' to quit): One moment, the world is a kaleidoscope of vibrant colors and endless possibilities. Ideas swirl like a whirlwind, each one more brilliant than the last. Sleep is a distant memory, replaced by an insatiable need to create, to conquer, to experience everything life has to offer. Then, just as suddenly, the colors fade, replaced by a suffocating gray. The whirlwind of ideas becomes a tempest of doubt and despair, each thought a heavy stone dragging me further into the abyss. The world shrinks, the future bleak and uncertain, and the simple act of getting out of bed feels like an insurmountable challenge.\n",
            "Enter 1 for RF1 or 2 for RF2: 1\n"
          ]
        },
        {
          "output_type": "stream",
          "name": "stderr",
          "text": [
            "WARNING:absl:Compiled the loaded model, but the compiled metrics have yet to be built. `model.compile_metrics` will be empty until you train or evaluate the model.\n",
            "WARNING:absl:Compiled the loaded model, but the compiled metrics have yet to be built. `model.compile_metrics` will be empty until you train or evaluate the model.\n"
          ]
        },
        {
          "output_type": "stream",
          "name": "stdout",
          "text": [
            "\u001b[1m1/1\u001b[0m \u001b[32m━━━━━━━━━━━━━━━━━━━━\u001b[0m\u001b[37m\u001b[0m \u001b[1m0s\u001b[0m 174ms/step\n",
            "\u001b[1m1/1\u001b[0m \u001b[32m━━━━━━━━━━━━━━━━━━━━\u001b[0m\u001b[37m\u001b[0m \u001b[1m1s\u001b[0m 551ms/step\n"
          ]
        },
        {
          "output_type": "stream",
          "name": "stderr",
          "text": [
            "WARNING:absl:Compiled the loaded model, but the compiled metrics have yet to be built. `model.compile_metrics` will be empty until you train or evaluate the model.\n",
            "WARNING:absl:Compiled the loaded model, but the compiled metrics have yet to be built. `model.compile_metrics` will be empty until you train or evaluate the model.\n"
          ]
        },
        {
          "output_type": "stream",
          "name": "stdout",
          "text": [
            "\u001b[1m1/1\u001b[0m \u001b[32m━━━━━━━━━━━━━━━━━━━━\u001b[0m\u001b[37m\u001b[0m \u001b[1m0s\u001b[0m 172ms/step\n",
            "\u001b[1m1/1\u001b[0m \u001b[32m━━━━━━━━━━━━━━━━━━━━\u001b[0m\u001b[37m\u001b[0m \u001b[1m1s\u001b[0m 546ms/step\n"
          ]
        },
        {
          "output_type": "stream",
          "name": "stderr",
          "text": [
            "WARNING:absl:Compiled the loaded model, but the compiled metrics have yet to be built. `model.compile_metrics` will be empty until you train or evaluate the model.\n",
            "WARNING:absl:Compiled the loaded model, but the compiled metrics have yet to be built. `model.compile_metrics` will be empty until you train or evaluate the model.\n"
          ]
        },
        {
          "output_type": "stream",
          "name": "stdout",
          "text": [
            "\u001b[1m1/1\u001b[0m \u001b[32m━━━━━━━━━━━━━━━━━━━━\u001b[0m\u001b[37m\u001b[0m \u001b[1m0s\u001b[0m 157ms/step\n",
            "\u001b[1m1/1\u001b[0m \u001b[32m━━━━━━━━━━━━━━━━━━━━\u001b[0m\u001b[37m\u001b[0m \u001b[1m1s\u001b[0m 556ms/step\n"
          ]
        },
        {
          "output_type": "stream",
          "name": "stderr",
          "text": [
            "WARNING:absl:Compiled the loaded model, but the compiled metrics have yet to be built. `model.compile_metrics` will be empty until you train or evaluate the model.\n",
            "WARNING:absl:Compiled the loaded model, but the compiled metrics have yet to be built. `model.compile_metrics` will be empty until you train or evaluate the model.\n"
          ]
        },
        {
          "output_type": "stream",
          "name": "stdout",
          "text": [
            "\u001b[1m1/1\u001b[0m \u001b[32m━━━━━━━━━━━━━━━━━━━━\u001b[0m\u001b[37m\u001b[0m \u001b[1m0s\u001b[0m 209ms/step\n",
            "\u001b[1m1/1\u001b[0m \u001b[32m━━━━━━━━━━━━━━━━━━━━\u001b[0m\u001b[37m\u001b[0m \u001b[1m1s\u001b[0m 798ms/step\n"
          ]
        },
        {
          "output_type": "stream",
          "name": "stderr",
          "text": [
            "WARNING:absl:Compiled the loaded model, but the compiled metrics have yet to be built. `model.compile_metrics` will be empty until you train or evaluate the model.\n",
            "WARNING:absl:Compiled the loaded model, but the compiled metrics have yet to be built. `model.compile_metrics` will be empty until you train or evaluate the model.\n"
          ]
        },
        {
          "output_type": "stream",
          "name": "stdout",
          "text": [
            "\u001b[1m1/1\u001b[0m \u001b[32m━━━━━━━━━━━━━━━━━━━━\u001b[0m\u001b[37m\u001b[0m \u001b[1m0s\u001b[0m 261ms/step\n",
            "\u001b[1m1/1\u001b[0m \u001b[32m━━━━━━━━━━━━━━━━━━━━\u001b[0m\u001b[37m\u001b[0m \u001b[1m1s\u001b[0m 835ms/step\n"
          ]
        },
        {
          "output_type": "stream",
          "name": "stderr",
          "text": [
            "WARNING:absl:Compiled the loaded model, but the compiled metrics have yet to be built. `model.compile_metrics` will be empty until you train or evaluate the model.\n",
            "WARNING:absl:Compiled the loaded model, but the compiled metrics have yet to be built. `model.compile_metrics` will be empty until you train or evaluate the model.\n"
          ]
        },
        {
          "name": "stdout",
          "output_type": "stream",
          "text": [
            "\u001b[1m1/1\u001b[0m \u001b[32m━━━━━━━━━━━━━━━━━━━━\u001b[0m\u001b[37m\u001b[0m \u001b[1m0s\u001b[0m 150ms/step\n",
            "\u001b[1m1/1\u001b[0m \u001b[32m━━━━━━━━━━━━━━━━━━━━\u001b[0m\u001b[37m\u001b[0m \u001b[1m1s\u001b[0m 552ms/step\n",
            "\n",
            "Classification Probabilities:\n",
            "╒═══════════════════════╤═══════════════╕\n",
            "│ Mental Health Issue   │ Probability   │\n",
            "╞═══════════════════════╪═══════════════╡\n",
            "│ anxiety               │ 0.00          │\n",
            "├───────────────────────┼───────────────┤\n",
            "│ bipolar               │ 0.01          │\n",
            "├───────────────────────┼───────────────┤\n",
            "│ depression            │ 0.00          │\n",
            "├───────────────────────┼───────────────┤\n",
            "│ **normal**            │ **0.99**      │\n",
            "├───────────────────────┼───────────────┤\n",
            "│ ptsd                  │ 0.00          │\n",
            "╘═══════════════════════╧═══════════════╛\n",
            "\n",
            "Predicted Class: normal\n",
            "Probability: 0.99\n",
            "\n",
            "Enter text to classify (or type 'exit' to quit): exit\n",
            "Enter 1 for RF1 or 2 for RF2: exit\n"
          ]
        },
        {
          "output_type": "error",
          "ename": "ValueError",
          "evalue": "invalid literal for int() with base 10: 'exit'",
          "traceback": [
            "\u001b[0;31m---------------------------------------------------------------------------\u001b[0m",
            "\u001b[0;31mValueError\u001b[0m                                Traceback (most recent call last)",
            "\u001b[0;32m<ipython-input-9-c7d1736d91c0>\u001b[0m in \u001b[0;36m<cell line: 198>\u001b[0;34m()\u001b[0m\n\u001b[1;32m    197\u001b[0m \u001b[0;31m# Run the main function\u001b[0m\u001b[0;34m\u001b[0m\u001b[0;34m\u001b[0m\u001b[0m\n\u001b[1;32m    198\u001b[0m \u001b[0;32mif\u001b[0m \u001b[0m__name__\u001b[0m \u001b[0;34m==\u001b[0m \u001b[0;34m\"__main__\"\u001b[0m\u001b[0;34m:\u001b[0m\u001b[0;34m\u001b[0m\u001b[0;34m\u001b[0m\u001b[0m\n\u001b[0;32m--> 199\u001b[0;31m     \u001b[0mmain\u001b[0m\u001b[0;34m(\u001b[0m\u001b[0;34m)\u001b[0m\u001b[0;34m\u001b[0m\u001b[0;34m\u001b[0m\u001b[0m\n\u001b[0m",
            "\u001b[0;32m<ipython-input-9-c7d1736d91c0>\u001b[0m in \u001b[0;36mmain\u001b[0;34m()\u001b[0m\n\u001b[1;32m    183\u001b[0m     \u001b[0;32mwhile\u001b[0m \u001b[0;32mTrue\u001b[0m\u001b[0;34m:\u001b[0m\u001b[0;34m\u001b[0m\u001b[0;34m\u001b[0m\u001b[0m\n\u001b[1;32m    184\u001b[0m         \u001b[0muser_input\u001b[0m \u001b[0;34m=\u001b[0m \u001b[0minput\u001b[0m\u001b[0;34m(\u001b[0m\u001b[0;34m\"Enter text to classify (or type 'exit' to quit): \"\u001b[0m\u001b[0;34m)\u001b[0m\u001b[0;34m\u001b[0m\u001b[0;34m\u001b[0m\u001b[0m\n\u001b[0;32m--> 185\u001b[0;31m         \u001b[0march\u001b[0m \u001b[0;34m=\u001b[0m \u001b[0mint\u001b[0m\u001b[0;34m(\u001b[0m\u001b[0minput\u001b[0m\u001b[0;34m(\u001b[0m\u001b[0;34m\"Enter 1 for RF1 or 2 for RF2: \"\u001b[0m\u001b[0;34m)\u001b[0m\u001b[0;34m)\u001b[0m\u001b[0;34m\u001b[0m\u001b[0;34m\u001b[0m\u001b[0m\n\u001b[0m\u001b[1;32m    186\u001b[0m         \u001b[0;32mif\u001b[0m \u001b[0muser_input\u001b[0m\u001b[0;34m.\u001b[0m\u001b[0mlower\u001b[0m\u001b[0;34m(\u001b[0m\u001b[0;34m)\u001b[0m \u001b[0;34m==\u001b[0m \u001b[0;34m'exit'\u001b[0m\u001b[0;34m:\u001b[0m\u001b[0;34m\u001b[0m\u001b[0;34m\u001b[0m\u001b[0m\n\u001b[1;32m    187\u001b[0m             \u001b[0mprint\u001b[0m\u001b[0;34m(\u001b[0m\u001b[0;34m\"Exiting...\"\u001b[0m\u001b[0;34m)\u001b[0m\u001b[0;34m\u001b[0m\u001b[0;34m\u001b[0m\u001b[0m\n",
            "\u001b[0;31mValueError\u001b[0m: invalid literal for int() with base 10: 'exit'"
          ]
        }
      ]
    },
    {
      "cell_type": "markdown",
      "source": [
        "# Predict User Input with model retraining"
      ],
      "metadata": {
        "id": "hgWgxgwDxBie"
      }
    },
    {
      "cell_type": "code",
      "source": [
        "import pickle\n",
        "import numpy as np\n",
        "import os\n",
        "import re\n",
        "import nltk\n",
        "# Download the punkt tokenizer model\n",
        "nltk.download('punkt')\n",
        "nltk.download('punkt_tab')\n",
        "# Download the stopwords\n",
        "nltk.download('stopwords')\n",
        "from nltk.corpus import stopwords\n",
        "from nltk.tokenize import word_tokenize\n",
        "import pandas as pd\n",
        "from sklearn.ensemble import RandomForestClassifier\n",
        "from sklearn.model_selection import StratifiedKFold, cross_val_score\n",
        "from sklearn.metrics import accuracy_score, classification_report, confusion_matrix\n",
        "from sklearn.linear_model import LogisticRegression\n",
        "from tensorflow.keras.models import load_model, Model\n",
        "from tensorflow.keras.utils import pad_sequences, custom_object_scope\n",
        "from tensorflow.keras.layers import MultiHeadAttention, Input, Dense, Embedding, GlobalAveragePooling1D, LayerNormalization, Layer\n",
        "from tensorflow.keras.optimizers import Adam\n",
        "from tensorflow.keras.models import Model, Sequential\n",
        "from tensorflow.keras.utils import to_categorical\n",
        "from sklearn.model_selection import train_test_split, cross_val_score\n",
        "import tensorflow as tf\n",
        "from tabulate import tabulate  # Import for table formatting\n",
        "\n",
        "# Define the custom layers\n",
        "class EmbeddingLayer(Layer):\n",
        "    def __init__(self, sequence_length, vocab_size, embed_dim, **kwargs):\n",
        "        super(EmbeddingLayer, self).__init__(**kwargs)\n",
        "        self.word_embedding = Embedding(input_dim=vocab_size, output_dim=embed_dim)\n",
        "        self.position_embedding = Embedding(input_dim=sequence_length, output_dim=embed_dim)\n",
        "\n",
        "    def call(self, tokens):\n",
        "        sequence_length = tf.shape(tokens)[-1]\n",
        "        positions = tf.range(start=0, limit=sequence_length, delta=1)\n",
        "        positions_encoding = self.position_embedding(positions)\n",
        "        words_encoding = self.word_embedding(tokens)\n",
        "        return positions_encoding + words_encoding\n",
        "\n",
        "class EncoderLayer(Layer):\n",
        "    def __init__(self, total_heads, total_dense_units, embed_dim, **kwargs):\n",
        "        super(EncoderLayer, self).__init__(**kwargs)\n",
        "        self.multihead = MultiHeadAttention(num_heads=total_heads, key_dim=embed_dim)\n",
        "        self.nnw = Sequential([Dense(total_dense_units, activation=\"relu\"), Dense(embed_dim)])\n",
        "        self.normalize_layer = LayerNormalization()\n",
        "\n",
        "    def call(self, inputs):\n",
        "        attn_output = self.multihead(inputs, inputs)\n",
        "        normalize_attn = self.normalize_layer(inputs + attn_output)\n",
        "        nnw_output = self.nnw(normalize_attn)\n",
        "        final_output = self.normalize_layer(normalize_attn + nnw_output)\n",
        "        return final_output\n",
        "\n",
        "# Function to preprocess and predict for a single input text using all subsets\n",
        "def predict_user_input_all_prefixes(user_input, num_prefixes, arch):\n",
        "    # Load the final meta-learner\n",
        "    # Load the final meta-learner\n",
        "    if arch == 1:\n",
        "        with open('final_meta_learner_rf.pkl', 'rb') as file:\n",
        "            final_meta_learner = pickle.load(file)\n",
        "    else:\n",
        "        with open('final_meta_learner_rf2.pkl', 'rb') as file:\n",
        "            final_meta_learner = pickle.load(file)\n",
        "\n",
        "    # Initialize an empty list to hold stacked features\n",
        "    all_stacked_features = []\n",
        "\n",
        "    # Loop through all prefixes and process the user input\n",
        "    for prefix in range(1, num_prefixes + 1):\n",
        "        prefix = str(prefix)\n",
        "\n",
        "        # Load models and vectorizers for the current prefix\n",
        "        models = load_models_and_vectorizers(prefix)\n",
        "        lr_model, lr_vectorizer, nb_model, nb_vectorizer, svm_model, svm_vectorizer, \\\n",
        "        xgb_model, tfidf_vectorizer, label_encoder, lstm_model, lstm_tokenizer, \\\n",
        "        t_label_encoder, t_vectorize_layer, transformer_model = models\n",
        "\n",
        "        # Preprocess the input for each model\n",
        "        X_lr = lr_vectorizer.transform([user_input])\n",
        "        X_nb = nb_vectorizer.transform([user_input])\n",
        "        X_svm = svm_vectorizer.transform([user_input])\n",
        "        X_xgb = tfidf_vectorizer.transform([user_input])\n",
        "        X_lstm = lstm_tokenizer.texts_to_sequences([user_input])\n",
        "        X_lstm = pad_sequences(X_lstm, maxlen=100, padding='post', truncating='post')\n",
        "        X_transformer = t_vectorize_layer([user_input])\n",
        "\n",
        "        # Get individual model probabilities\n",
        "        stacked_features = np.hstack((\n",
        "            lr_model.predict_proba(X_lr),\n",
        "            nb_model.predict_proba(X_nb),\n",
        "            svm_model.predict_proba(X_svm),\n",
        "            xgb_model.predict_proba(X_xgb),\n",
        "            lstm_model.predict(X_lstm),\n",
        "            transformer_model.predict(X_transformer)\n",
        "        ))\n",
        "\n",
        "        # Append the stacked features for this prefix\n",
        "        all_stacked_features.append(stacked_features)\n",
        "\n",
        "    # Combine all stacked features into a single array\n",
        "    final_stacked_features = np.hstack(all_stacked_features)\n",
        "\n",
        "    # Ensure the feature size matches the meta-learner's expectations\n",
        "    expected_features = final_meta_learner.n_features_in_\n",
        "    if final_stacked_features.shape[1] < expected_features:\n",
        "        # Pad with zeros if fewer features are present\n",
        "        padding = np.zeros((final_stacked_features.shape[0], expected_features - final_stacked_features.shape[1]))\n",
        "        final_stacked_features = np.hstack((final_stacked_features, padding))\n",
        "    elif final_stacked_features.shape[1] > expected_features:\n",
        "        # Truncate if more features are present\n",
        "        final_stacked_features = final_stacked_features[:, :expected_features]\n",
        "\n",
        "    # Predict with the meta-learner\n",
        "    prediction_probabilities = final_meta_learner.predict_proba(final_stacked_features)[0]\n",
        "\n",
        "    # Get the class labels\n",
        "    class_labels = label_encoder.classes_\n",
        "\n",
        "    # Find the highest probability\n",
        "    max_probability = np.max(prediction_probabilities)\n",
        "    predicted_class = class_labels[np.argmax(prediction_probabilities)]\n",
        "\n",
        "    # Create a table with all classes and probabilities\n",
        "    table_data = []\n",
        "    for label, probability in zip(class_labels, prediction_probabilities):\n",
        "        if label == predicted_class:\n",
        "            table_data.append([f\"**{label}**\", f\"**{probability:.2f}**\"])  # Bold the highest probability\n",
        "        else:\n",
        "            table_data.append([label, f\"{probability:.2f}\"])\n",
        "\n",
        "    table = tabulate(table_data, headers=[\"Mental Health Issue\", \"Probability\"], tablefmt=\"fancy_grid\")\n",
        "\n",
        "    # Return the table and the predicted class with its probability\n",
        "    return table, predicted_class, max_probability\n",
        "\n",
        "\n",
        "def load_models_and_vectorizers(prefix):\n",
        "    with open(f'LRmodel_{prefix}.pkl', 'rb') as file:\n",
        "        lr_model = pickle.load(file)\n",
        "\n",
        "    with open(f'LRvectorizer_{prefix}.pkl', 'rb') as file:\n",
        "        lr_vectorizer = pickle.load(file)\n",
        "\n",
        "    with open(f'NBmodel_{prefix}.pkl', 'rb') as file:\n",
        "        nb_model = pickle.load(file)\n",
        "\n",
        "    with open(f'NBvectorizer_{prefix}.pkl', 'rb') as file:\n",
        "        nb_vectorizer = pickle.load(file)\n",
        "\n",
        "    with open(f'SVMmodel_{prefix}.pkl', 'rb') as file:\n",
        "        svm_model = pickle.load(file)\n",
        "\n",
        "    with open(f'SVMvectorizer_{prefix}.pkl', 'rb') as file:\n",
        "        svm_vectorizer = pickle.load(file)\n",
        "\n",
        "    with open(f'xgb_model_{prefix}.pkl', 'rb') as file:\n",
        "        xgb_model = pickle.load(file)\n",
        "\n",
        "    with open(f'tfidf_vectorizer_{prefix}.pkl', 'rb') as file:\n",
        "        tfidf_vectorizer = pickle.load(file)\n",
        "\n",
        "    # Load the label encoder for XGBoost\n",
        "    with open(f'label_encoder_{prefix}.pkl', 'rb') as file:\n",
        "        label_encoder = pickle.load(file)\n",
        "\n",
        "    lstm_model = tf.keras.models.load_model(f'lstm_model_{prefix}.h5')\n",
        "\n",
        "    with open(f'LSTM_tokenizer_{prefix}.pkl', 'rb') as file:\n",
        "        lstm_tokenizer = pickle.load(file)\n",
        "\n",
        "    # Load the label encoder for Transformer\n",
        "    with open(f'Tlabel_encoder_{prefix}.pkl', 'rb') as file:\n",
        "        t_label_encoder = pickle.load(file)\n",
        "\n",
        "    # Load the TextVectorization layer for the Transformer\n",
        "    with open(f'Tvectorize_layer_{prefix}.pkl', 'rb') as file:\n",
        "        t_vectorize_layer = pickle.load(file)\n",
        "\n",
        "    transformer_model = tf.keras.models.load_model(f'Ttransformer_model_{prefix}.h5', custom_objects={\"EmbeddingLayer\": EmbeddingLayer, \"EncoderLayer\": EncoderLayer})\n",
        "\n",
        "    return (lr_model, lr_vectorizer, nb_model, nb_vectorizer, svm_model, svm_vectorizer,\n",
        "            xgb_model, tfidf_vectorizer, label_encoder, lstm_model, lstm_tokenizer,\n",
        "            t_label_encoder, t_vectorize_layer, transformer_model) # Return all 14 values\n",
        "\n",
        "# Main Function to Run the Prediction\n",
        "def main():\n",
        "    # Ask the user to input the number of subsets\n",
        "    num_prefixes = int(input(\"Enter the number of subsets (prefixes): \"))\n",
        "\n",
        "    # Loop to get user input and make predictions\n",
        "    while True:\n",
        "        arch = input(\"Enter 1 for Architecture 1 and 2 for Architecture 2\")\n",
        "        user_input = input(\"Enter text to classify (or type 'exit' to quit): \")\n",
        "        if user_input.lower() == 'exit':\n",
        "            print(\"Exiting...\")\n",
        "            break\n",
        "\n",
        "        # Predict using all prefixes\n",
        "        table, predicted_class, predicted_probability = predict_user_input_all_prefixes(user_input, num_prefixes, arch)\n",
        "        print(\"\\nClassification Probabilities:\")\n",
        "        print(table)\n",
        "        print(f\"\\nPredicted Class: {predicted_class}\")\n",
        "        print(f\"Probability: {predicted_probability:.2f}\\n\")\n",
        "        update_dataset(user_input, predicted_class)\n",
        "        print(\"***************************************************\")\n",
        "        print(\"MODEL RETRAINING STARTED\")\n",
        "        print(\"***************************************************\")\n",
        "        if arch == 1:\n",
        "          retrain1()\n",
        "        else:\n",
        "          retrain2()\n",
        "\n",
        "# Path for multiple dataset files\n",
        "dataset_paths = [\n",
        "    \"preprocessed_mental_health_1.csv\",\n",
        "    \"preprocessed_mental_health_2.csv\",\n",
        "    \"preprocessed_mental_health_3.csv\",\n",
        "    \"preprocessed_mental_health_4.csv\",\n",
        "    \"preprocessed_mental_health_5.csv\",\n",
        "    \"preprocessed_mental_health_6.csv\"\n",
        "]\n",
        "\n",
        "# Define a list of negative words to retain\n",
        "negative_words = {\"not\", \"no\", \"nor\", \"never\", \"nothing\", \"nowhere\", \"neither\", \"cannot\", \"n't\", \"without\", \"barely\", \"hardly\", \"scarcely\"}\n",
        "\n",
        "# Define a function to clean the text\n",
        "def clean_text(text):\n",
        "    # Remove URLs\n",
        "    text = re.sub(r'http\\S+', '', text)\n",
        "    # Remove mentions (@username)\n",
        "    text = re.sub(r'@\\w+', '', text)\n",
        "    # Remove special characters, numbers, and punctuations\n",
        "    text = re.sub(r'[^a-zA-Z\\s]', '', text)\n",
        "    # Convert text to lowercase\n",
        "    text = text.lower()\n",
        "    # Tokenize the text\n",
        "    tokens = word_tokenize(text)\n",
        "    # Remove stopwords, but keep negative words\n",
        "    tokens = [word for word in tokens if word not in stopwords.words('english') or word in negative_words]\n",
        "    # Join the tokens back into a single string\n",
        "    clean_text = ' '.join(tokens)\n",
        "    return clean_text\n",
        "\n",
        "def update_dataset(new_text, mental_health_issue):\n",
        "    # Initialize counts for each dataset\n",
        "    class_counts = {}\n",
        "\n",
        "    # Loop through all datasets and compute class counts\n",
        "    for path in dataset_paths:\n",
        "        if os.path.exists(path):\n",
        "            dataset = pd.read_csv(path)\n",
        "        else:\n",
        "            # Create a new dataset if it doesn't exist\n",
        "            dataset = pd.DataFrame(columns=['text', 'mental_health_issue', 'cleaned_text'])\n",
        "            dataset.to_csv(path, index=False)  # Save the empty dataset for consistency\n",
        "\n",
        "        # Count the number of records for each class\n",
        "        counts = dataset['mental_health_issue'].value_counts().to_dict()\n",
        "        class_counts[path] = counts\n",
        "\n",
        "    # Display the current counts for each dataset\n",
        "    print(\"Current class counts for each dataset:\")\n",
        "    for path, counts in class_counts.items():\n",
        "        print(f\"{path}: {counts}\")\n",
        "\n",
        "    # Clean the new text\n",
        "    cleaned_text = clean_text(new_text)\n",
        "\n",
        "    # Determine the dataset with the lowest count for the given issue\n",
        "    min_count = float('inf')\n",
        "    target_path = None\n",
        "\n",
        "    for path in dataset_paths:\n",
        "        issue_count = class_counts.get(path, {}).get(mental_health_issue, 0)\n",
        "        if issue_count < min_count:\n",
        "            min_count = issue_count\n",
        "            target_path = path\n",
        "\n",
        "    # Load the target dataset\n",
        "    if target_path and os.path.exists(target_path):\n",
        "        target_dataset = pd.read_csv(target_path)\n",
        "    else:\n",
        "        target_dataset = pd.DataFrame(columns=['text', 'mental_health_issue', 'cleaned_text'])\n",
        "\n",
        "    # Add the new data\n",
        "    new_row = pd.DataFrame({\n",
        "        'text': [new_text],\n",
        "        'mental_health_issue': [mental_health_issue],\n",
        "        'cleaned_text': [cleaned_text]\n",
        "    })\n",
        "    target_dataset = pd.concat([target_dataset, new_row], ignore_index=True)\n",
        "\n",
        "    # Save the updated dataset\n",
        "    target_dataset.to_csv(target_path, index=False)\n",
        "\n",
        "    # Update and display the new counts\n",
        "    updated_counts = target_dataset['mental_health_issue'].value_counts().to_dict()\n",
        "    print(f\"\\nNew data added to {target_path}.\")\n",
        "    print(f\"Updated counts for {target_path}: {updated_counts}\")\n",
        "\n",
        "def retrain1():\n",
        "    import pickle\n",
        "    import numpy as np\n",
        "    import pandas as pd\n",
        "    from sklearn.ensemble import RandomForestClassifier\n",
        "    from sklearn.model_selection import StratifiedKFold, cross_val_score\n",
        "    from sklearn.metrics import accuracy_score, classification_report, confusion_matrix\n",
        "    from tensorflow.keras.models import load_model, Model\n",
        "    from tensorflow.keras.utils import pad_sequences, custom_object_scope\n",
        "    from tensorflow.keras.layers import MultiHeadAttention, Input, Dense, Embedding, GlobalAveragePooling1D, LayerNormalization, Layer\n",
        "    from tensorflow.keras.optimizers import Adam\n",
        "    from tensorflow.keras.models import Model, Sequential\n",
        "    from tensorflow.keras.utils import to_categorical\n",
        "    from sklearn.model_selection import train_test_split, cross_val_score\n",
        "    from tensorflow.keras.optimizers import Adam\n",
        "    import tensorflow as tf\n",
        "\n",
        "    # Define the custom layers\n",
        "    class EmbeddingLayer(Layer):\n",
        "        def __init__(self, sequence_length, vocab_size, embed_dim, **kwargs):\n",
        "            super(EmbeddingLayer, self).__init__(**kwargs)\n",
        "            self.word_embedding = Embedding(input_dim=vocab_size, output_dim=embed_dim)\n",
        "            self.position_embedding = Embedding(input_dim=sequence_length, output_dim=embed_dim)\n",
        "\n",
        "        def call(self, tokens):\n",
        "            sequence_length = tf.shape(tokens)[-1]\n",
        "            positions = tf.range(start=0, limit=sequence_length, delta=1)\n",
        "            positions_encoding = self.position_embedding(positions)\n",
        "            words_encoding = self.word_embedding(tokens)\n",
        "            return positions_encoding + words_encoding\n",
        "\n",
        "\n",
        "    class EncoderLayer(Layer):\n",
        "        def __init__(self, total_heads, total_dense_units, embed_dim, **kwargs):\n",
        "            super(EncoderLayer, self).__init__(**kwargs)\n",
        "            self.multihead = MultiHeadAttention(num_heads=total_heads, key_dim=embed_dim)\n",
        "            self.nnw = Sequential([Dense(total_dense_units, activation=\"relu\"), Dense(embed_dim)])\n",
        "            self.normalize_layer = LayerNormalization()\n",
        "\n",
        "        def call(self, inputs):\n",
        "            attn_output = self.multihead(inputs, inputs)\n",
        "            normalize_attn = self.normalize_layer(inputs + attn_output)\n",
        "            nnw_output = self.nnw(normalize_attn)\n",
        "            final_output = self.normalize_layer(normalize_attn + nnw_output)\n",
        "            return final_output\n",
        "\n",
        "    # Helper function to load models and vectorizers\n",
        "    def load_models_and_vectorizers(prefix):\n",
        "        with open(f'LRmodel_{prefix}.pkl', 'rb') as file:\n",
        "            lr_model = pickle.load(file)\n",
        "\n",
        "        with open(f'LRvectorizer_{prefix}.pkl', 'rb') as file:\n",
        "            lr_vectorizer = pickle.load(file)\n",
        "\n",
        "        with open(f'NBmodel_{prefix}.pkl', 'rb') as file:\n",
        "            nb_model = pickle.load(file)\n",
        "\n",
        "        with open(f'NBvectorizer_{prefix}.pkl', 'rb') as file:\n",
        "            nb_vectorizer = pickle.load(file)\n",
        "\n",
        "        with open(f'SVMmodel_{prefix}.pkl', 'rb') as file:\n",
        "            svm_model = pickle.load(file)\n",
        "\n",
        "        with open(f'SVMvectorizer_{prefix}.pkl', 'rb') as file:\n",
        "            svm_vectorizer = pickle.load(file)\n",
        "\n",
        "        with open(f'xgb_model_{prefix}.pkl', 'rb') as file:\n",
        "            xgb_model = pickle.load(file)\n",
        "\n",
        "        with open(f'tfidf_vectorizer_{prefix}.pkl', 'rb') as file:\n",
        "            tfidf_vectorizer = pickle.load(file)\n",
        "\n",
        "        with open(f'label_encoder_{prefix}.pkl', 'rb') as file:\n",
        "            label_encoder = pickle.load(file)\n",
        "\n",
        "        lstm_model = tf.keras.models.load_model(f'lstm_model_{prefix}.h5')\n",
        "\n",
        "        with open(f'LSTM_tokenizer_{prefix}.pkl', 'rb') as file:\n",
        "            lstm_tokenizer = pickle.load(file)\n",
        "\n",
        "        with open(f'Tlabel_encoder_{prefix}.pkl', 'rb') as file:\n",
        "            t_label_encoder = pickle.load(file)\n",
        "\n",
        "        with open(f'Tvectorize_layer_{prefix}.pkl', 'rb') as file:\n",
        "            t_vectorize_layer = pickle.load(file)\n",
        "\n",
        "        transformer_model = tf.keras.models.load_model(f'Ttransformer_model_{prefix}.h5', custom_objects={\n",
        "            \"EmbeddingLayer\": EmbeddingLayer,\n",
        "            \"EncoderLayer\": EncoderLayer\n",
        "        })\n",
        "\n",
        "        return (lr_model, lr_vectorizer, nb_model, nb_vectorizer, svm_model, svm_vectorizer,\n",
        "                xgb_model, tfidf_vectorizer, label_encoder, lstm_model, lstm_tokenizer,\n",
        "                t_label_encoder, t_vectorize_layer, transformer_model)\n",
        "\n",
        "    # Function to create meta learner for a given dataset\n",
        "    def create_meta_learner(dataset_path, prefix, meta_model_path):\n",
        "        data = pd.read_csv(dataset_path)\n",
        "        data.dropna(subset=['cleaned_text'], inplace=True)\n",
        "\n",
        "        X = data['cleaned_text']\n",
        "        y = data['mental_health_issue']\n",
        "\n",
        "        models = load_models_and_vectorizers(prefix)\n",
        "\n",
        "        lr_model, lr_vectorizer, nb_model, nb_vectorizer, svm_model, svm_vectorizer, \\\n",
        "        xgb_model, tfidf_vectorizer, label_encoder, lstm_model, lstm_tokenizer, \\\n",
        "        t_label_encoder, t_vectorize_layer, transformer_model = models\n",
        "\n",
        "        y = label_encoder.transform(y)\n",
        "\n",
        "        # Preprocess text for each model\n",
        "        X_lr = lr_vectorizer.transform(X)\n",
        "        X_nb = nb_vectorizer.transform(X)\n",
        "        X_svm = svm_vectorizer.transform(X)\n",
        "        X_xgb = tfidf_vectorizer.transform(X)\n",
        "        X_lstm = lstm_tokenizer.texts_to_sequences(X)\n",
        "        X_lstm = pad_sequences(X_lstm, maxlen=100, padding='post', truncating='post')\n",
        "        X_transformer = t_vectorize_layer(X)\n",
        "\n",
        "        # Get individual model probabilities\n",
        "        stacked_features = np.hstack((\n",
        "            lr_model.predict_proba(X_lr),\n",
        "            nb_model.predict_proba(X_nb),\n",
        "            svm_model.predict_proba(X_svm),\n",
        "            xgb_model.predict_proba(X_xgb),\n",
        "            lstm_model.predict(X_lstm),\n",
        "            transformer_model.predict(X_transformer)\n",
        "        ))\n",
        "\n",
        "        # Train meta-learner\n",
        "        X_train, X_test, y_train, y_test = train_test_split(\n",
        "            stacked_features, y, test_size=0.2, stratify=y, random_state=42\n",
        "        )\n",
        "\n",
        "        meta_learner = RandomForestClassifier(\n",
        "            max_depth=None, min_samples_split=20, min_samples_leaf=1,\n",
        "            max_features='sqrt', bootstrap=False, random_state=42\n",
        "        )\n",
        "        meta_learner.fit(X_train, y_train)\n",
        "\n",
        "        # Save meta-learner\n",
        "        with open(meta_model_path, 'wb') as file:\n",
        "            pickle.dump(meta_learner, file)\n",
        "\n",
        "        return stacked_features, y\n",
        "\n",
        "    # Create meta learners for all subsets\n",
        "    meta_features = []\n",
        "    meta_labels = []\n",
        "\n",
        "    for i in range(1, 7):\n",
        "        dataset_path = f'preprocessed_mental_health_{i}.csv'\n",
        "        prefix = f'{i}'\n",
        "        meta_model_path = f'meta_learner_rf_{i}.pkl'\n",
        "\n",
        "        features, labels = create_meta_learner(dataset_path, prefix, meta_model_path)\n",
        "        meta_features.append(features)\n",
        "        meta_labels.append(labels)\n",
        "\n",
        "    # Combine meta features and labels for final meta-learner\n",
        "    meta_features = np.vstack(meta_features)\n",
        "    meta_labels = np.concatenate(meta_labels)\n",
        "\n",
        "    # Train final meta-learner\n",
        "    final_meta_learner = RandomForestClassifier(\n",
        "        max_depth=None, min_samples_split=20, min_samples_leaf=1,\n",
        "        max_features='sqrt', bootstrap=False, random_state=42\n",
        "    )\n",
        "\n",
        "    # Apply stratified k-fold cross-validation\n",
        "    skf = StratifiedKFold(n_splits=5, shuffle=True, random_state=42)\n",
        "    cv_scores = cross_val_score(final_meta_learner, meta_features, meta_labels, cv=skf, scoring='accuracy')\n",
        "\n",
        "    # Train final model on the entire dataset\n",
        "    final_meta_learner.fit(meta_features, meta_labels)\n",
        "\n",
        "    # Save final meta-learner\n",
        "    with open('final_meta_learner_rf.pkl', 'wb') as file:\n",
        "        pickle.dump(final_meta_learner, file)\n",
        "\n",
        "    # Print cross-validation results\n",
        "    print(f\"Cross-Validation Accuracies: {cv_scores}\")\n",
        "    print(f\"Mean Validation Accuracy: {np.mean(cv_scores) * 100:.2f}%\")\n",
        "    print(f\"Validation Accuracy Std Dev: {np.std(cv_scores) * 100:.2f}%\")\n",
        "\n",
        "def retrain2():\n",
        "    import pickle\n",
        "    import numpy as np\n",
        "    import pandas as pd\n",
        "    from sklearn.ensemble import RandomForestClassifier\n",
        "    from sklearn.model_selection import StratifiedKFold, cross_val_score\n",
        "    from sklearn.metrics import accuracy_score, classification_report, confusion_matrix\n",
        "    from sklearn.linear_model import LogisticRegression\n",
        "    from tensorflow.keras.models import load_model, Model\n",
        "    from tensorflow.keras.utils import pad_sequences, custom_object_scope\n",
        "    from tensorflow.keras.layers import MultiHeadAttention, Input, Dense, Embedding, GlobalAveragePooling1D, LayerNormalization, Layer\n",
        "    from tensorflow.keras.optimizers import Adam\n",
        "    from tensorflow.keras.models import Model, Sequential\n",
        "    from tensorflow.keras.utils import to_categorical\n",
        "    from sklearn.model_selection import train_test_split, cross_val_score\n",
        "    import tensorflow as tf\n",
        "\n",
        "    # Define the custom layers\n",
        "    class EmbeddingLayer(Layer):\n",
        "        def __init__(self, sequence_length, vocab_size, embed_dim, **kwargs):\n",
        "            super(EmbeddingLayer, self).__init__(**kwargs)\n",
        "            self.word_embedding = Embedding(input_dim=vocab_size, output_dim=embed_dim)\n",
        "            self.position_embedding = Embedding(input_dim=sequence_length, output_dim=embed_dim)\n",
        "\n",
        "        def call(self, tokens):\n",
        "            sequence_length = tf.shape(tokens)[-1]\n",
        "            positions = tf.range(start=0, limit=sequence_length, delta=1)\n",
        "            positions_encoding = self.position_embedding(positions)\n",
        "            words_encoding = self.word_embedding(tokens)\n",
        "            return positions_encoding + words_encoding\n",
        "\n",
        "\n",
        "    class EncoderLayer(Layer):\n",
        "        def __init__(self, total_heads, total_dense_units, embed_dim, **kwargs):\n",
        "            super(EncoderLayer, self).__init__(**kwargs)\n",
        "            self.multihead = MultiHeadAttention(num_heads=total_heads, key_dim=embed_dim)\n",
        "            self.nnw = Sequential([Dense(total_dense_units, activation=\"relu\"), Dense(embed_dim)])\n",
        "            self.normalize_layer = LayerNormalization()\n",
        "\n",
        "        def call(self, inputs):\n",
        "            attn_output = self.multihead(inputs, inputs)\n",
        "            normalize_attn = self.normalize_layer(inputs + attn_output)\n",
        "            nnw_output = self.nnw(normalize_attn)\n",
        "            final_output = self.normalize_layer(normalize_attn + nnw_output)\n",
        "            return final_output\n",
        "\n",
        "    # Define helper function to load models and vectorizers\n",
        "    def load_models_and_vectorizers(prefix):\n",
        "        with open(f'LRmodel_{prefix}.pkl', 'rb') as file:\n",
        "            lr_model = pickle.load(file)\n",
        "\n",
        "        with open(f'LRvectorizer_{prefix}.pkl', 'rb') as file:\n",
        "            lr_vectorizer = pickle.load(file)\n",
        "\n",
        "        with open(f'NBmodel_{prefix}.pkl', 'rb') as file:\n",
        "            nb_model = pickle.load(file)\n",
        "\n",
        "        with open(f'NBvectorizer_{prefix}.pkl', 'rb') as file:\n",
        "            nb_vectorizer = pickle.load(file)\n",
        "\n",
        "        with open(f'SVMmodel_{prefix}.pkl', 'rb') as file:\n",
        "            svm_model = pickle.load(file)\n",
        "\n",
        "        with open(f'SVMvectorizer_{prefix}.pkl', 'rb') as file:\n",
        "            svm_vectorizer = pickle.load(file)\n",
        "\n",
        "        with open(f'xgb_model_{prefix}.pkl', 'rb') as file:\n",
        "            xgb_model = pickle.load(file)\n",
        "\n",
        "        with open(f'tfidf_vectorizer_{prefix}.pkl', 'rb') as file:\n",
        "            tfidf_vectorizer = pickle.load(file)\n",
        "\n",
        "        lstm_model = tf.keras.models.load_model(f'lstm_model_{prefix}.h5')\n",
        "\n",
        "        with open(f'LSTM_tokenizer_{prefix}.pkl', 'rb') as file:\n",
        "            lstm_tokenizer = pickle.load(file)\n",
        "\n",
        "        transformer_model = tf.keras.models.load_model(f'Ttransformer_model_{prefix}.h5', custom_objects={\"EmbeddingLayer\": EmbeddingLayer, \"EncoderLayer\": EncoderLayer})\n",
        "\n",
        "        return (lr_model, lr_vectorizer, nb_model, nb_vectorizer, svm_model, svm_vectorizer,\n",
        "                xgb_model, tfidf_vectorizer, lstm_model, lstm_tokenizer, transformer_model)\n",
        "\n",
        "    # Create ensemble model for each type of base model\n",
        "    def create_ensemble_for_model_type(data_subsets, model_type):\n",
        "        all_predictions = []\n",
        "        all_labels = []\n",
        "\n",
        "        for i, (dataset_path, prefix) in enumerate(data_subsets):\n",
        "            data = pd.read_csv(dataset_path)\n",
        "            data.dropna(subset=['cleaned_text'], inplace=True)\n",
        "\n",
        "            X = data['cleaned_text']\n",
        "            y = data['mental_health_issue']\n",
        "\n",
        "            models = load_models_and_vectorizers(prefix)\n",
        "            lr_model, lr_vectorizer, nb_model, nb_vectorizer, svm_model, svm_vectorizer, \\\n",
        "            xgb_model, tfidf_vectorizer, lstm_model, lstm_tokenizer, transformer_model = models\n",
        "\n",
        "            # Preprocess text and get predictions for the specific model type\n",
        "            if model_type == 'LR':\n",
        "                X_transformed = lr_vectorizer.transform(X)\n",
        "                predictions = lr_model.predict_proba(X_transformed)\n",
        "            elif model_type == 'NB':\n",
        "                X_transformed = nb_vectorizer.transform(X)\n",
        "                predictions = nb_model.predict_proba(X_transformed)\n",
        "            elif model_type == 'SVM':\n",
        "                X_transformed = svm_vectorizer.transform(X)\n",
        "                predictions = svm_model.predict_proba(X_transformed)\n",
        "            elif model_type == 'XGB':\n",
        "                X_transformed = tfidf_vectorizer.transform(X)\n",
        "                predictions = xgb_model.predict_proba(X_transformed)\n",
        "            elif model_type == 'LSTM':\n",
        "                X_transformed = lstm_tokenizer.texts_to_sequences(X)\n",
        "                X_transformed = pad_sequences(X_transformed, maxlen=100, padding='post', truncating='post')\n",
        "                predictions = lstm_model.predict(X_transformed)\n",
        "            elif model_type == 'Transformer':\n",
        "                # Preprocess the text for the Transformer using the TextVectorization layer\n",
        "                with open(f'Tvectorize_layer_{prefix}.pkl', 'rb') as vectorizer_file:\n",
        "                    t_vectorize_layer = pickle.load(vectorizer_file)\n",
        "                X_transformed = t_vectorize_layer(tf.convert_to_tensor(X, dtype=tf.string))\n",
        "                # Make predictions\n",
        "                predictions = transformer_model.predict(X_transformed)\n",
        "\n",
        "\n",
        "            all_predictions.append(predictions)\n",
        "            all_labels.append(y)\n",
        "\n",
        "        # Stack predictions and labels\n",
        "        stacked_features = np.vstack(all_predictions)\n",
        "        stacked_labels = np.concatenate(all_labels)\n",
        "\n",
        "        # Train Logistic Regression meta-learner\n",
        "        meta_learner = LogisticRegression(max_iter=5000, random_state=42)\n",
        "        meta_learner.fit(stacked_features, stacked_labels)\n",
        "\n",
        "        return meta_learner\n",
        "\n",
        "    # Create meta-learners for each model type\n",
        "    data_subsets = [(f'preprocessed_mental_health_{i}.csv', f'{i}') for i in range(1, 7)]\n",
        "\n",
        "    lr_meta_learner = create_ensemble_for_model_type(data_subsets, 'LR')\n",
        "    nb_meta_learner = create_ensemble_for_model_type(data_subsets, 'NB')\n",
        "    svm_meta_learner = create_ensemble_for_model_type(data_subsets, 'SVM')\n",
        "    xgb_meta_learner = create_ensemble_for_model_type(data_subsets, 'XGB')\n",
        "    lstm_meta_learner = create_ensemble_for_model_type(data_subsets, 'LSTM')\n",
        "    transformer_meta_learner = create_ensemble_for_model_type(data_subsets, 'Transformer')\n",
        "\n",
        "    # Create final meta-learner using Random Forest\n",
        "    final_predictions = []\n",
        "    final_labels = []\n",
        "    for data_path, prefix in data_subsets:\n",
        "        data = pd.read_csv(data_path)\n",
        "        data.dropna(subset=['cleaned_text'], inplace=True)\n",
        "\n",
        "        X = data['cleaned_text']\n",
        "        y = data['mental_health_issue']\n",
        "\n",
        "        models = load_models_and_vectorizers(prefix)\n",
        "        lr_model, lr_vectorizer, nb_model, nb_vectorizer, svm_model, svm_vectorizer, \\\n",
        "        xgb_model, tfidf_vectorizer, lstm_model, lstm_tokenizer, transformer_model = models\n",
        "\n",
        "        # Load the TextVectorization layer for the Transformer\n",
        "        with open(f'Tvectorize_layer_{prefix}.pkl', 'rb') as vectorizer_file:\n",
        "            t_vectorize_layer = pickle.load(vectorizer_file)\n",
        "\n",
        "        # Get predictions from each meta-learner\n",
        "        X_lr = lr_vectorizer.transform(X)\n",
        "        X_nb = nb_vectorizer.transform(X)\n",
        "        X_svm = svm_vectorizer.transform(X)\n",
        "        X_xgb = tfidf_vectorizer.transform(X)\n",
        "        X_lstm = lstm_tokenizer.texts_to_sequences(X)\n",
        "        X_lstm = pad_sequences(X_lstm, maxlen=100, padding='post', truncating='post')\n",
        "        # Preprocess the input for the Transformer\n",
        "        X_transformer = t_vectorize_layer(tf.convert_to_tensor(X, dtype=tf.string))  # Use the text vectorizer layer\n",
        "        transformer_predictions = transformer_model.predict(X_transformer)\n",
        "\n",
        "        features = np.hstack([\n",
        "            lr_meta_learner.predict_proba(lr_model.predict_proba(X_lr)),\n",
        "            nb_meta_learner.predict_proba(nb_model.predict_proba(X_nb)),\n",
        "            svm_meta_learner.predict_proba(svm_model.predict_proba(X_svm)),\n",
        "            xgb_meta_learner.predict_proba(xgb_model.predict_proba(X_xgb)),\n",
        "            lstm_meta_learner.predict_proba(lstm_model.predict(X_lstm)),\n",
        "            # Use meta-learner to get probabilities\n",
        "            transformer_meta_learner.predict_proba(transformer_predictions)\n",
        "        ])\n",
        "\n",
        "        final_predictions.append(features)\n",
        "        final_labels.append(y.values[:features.shape[0]])\n",
        "\n",
        "    final_features = np.vstack(final_predictions)\n",
        "    final_labels = np.concatenate(final_labels)\n",
        "\n",
        "    # Train final meta-learner\n",
        "    final_meta_learner = RandomForestClassifier(\n",
        "        max_depth=None, min_samples_split=20, min_samples_leaf=1,\n",
        "        max_features='sqrt', bootstrap=False, random_state=42\n",
        "    )\n",
        "\n",
        "    skf = StratifiedKFold(n_splits=5, shuffle=True, random_state=42)\n",
        "    cv_scores = cross_val_score(final_meta_learner, final_features, final_labels, cv=skf, scoring='accuracy')\n",
        "\n",
        "    final_meta_learner.fit(final_features, final_labels)\n",
        "\n",
        "    # Save final meta-learner\n",
        "    with open('final_meta_learner_rf2.pkl', 'wb') as file:\n",
        "        pickle.dump(final_meta_learner, file)\n",
        "\n",
        "    # Print cross-validation results\n",
        "    print(f\"Cross-Validation Accuracies: {cv_scores}\")\n",
        "    print(f\"Mean Validation Accuracy: {np.mean(cv_scores) * 100:.2f}%\")\n",
        "    print(f\"Validation Accuracy Std Dev: {np.std(cv_scores) * 100:.2f}%\")\n",
        "\n",
        "\n",
        "# Run the main function\n",
        "if __name__ == \"__main__\":\n",
        "    main()\n"
      ],
      "metadata": {
        "colab": {
          "base_uri": "https://localhost:8080/"
        },
        "id": "JP-oCUVoxGIT",
        "outputId": "5dfe15e1-dbdc-4806-a7c3-813e4c10bb05"
      },
      "execution_count": null,
      "outputs": [
        {
          "output_type": "stream",
          "name": "stderr",
          "text": [
            "[nltk_data] Downloading package punkt to /root/nltk_data...\n",
            "[nltk_data]   Package punkt is already up-to-date!\n",
            "[nltk_data] Downloading package punkt_tab to /root/nltk_data...\n",
            "[nltk_data]   Package punkt_tab is already up-to-date!\n",
            "[nltk_data] Downloading package stopwords to /root/nltk_data...\n",
            "[nltk_data]   Package stopwords is already up-to-date!\n"
          ]
        },
        {
          "name": "stdout",
          "output_type": "stream",
          "text": [
            "Enter the number of subsets (prefixes): 6\n",
            "Enter 1 for Architecture 1 and 2 for Architecture 21\n",
            "Enter text to classify (or type 'exit' to quit): One moment, the world is a kaleidoscope of vibrant colors and endless possibilities. Ideas swirl like a whirlwind, each one more brilliant than the last. Sleep is a distant memory, replaced by an insatiable need to create, to conquer, to experience everything life has to offer. Then, just as suddenly, the colors fade, replaced by a suffocating gray. The whirlwind of ideas becomes a tempest of doubt and despair, each thought a heavy stone dragging me further into the abyss. The world shrinks, the future bleak and uncertain, and the simple act of getting out of bed feels like an insurmountable challenge.\n"
          ]
        },
        {
          "output_type": "stream",
          "name": "stderr",
          "text": [
            "WARNING:absl:Compiled the loaded model, but the compiled metrics have yet to be built. `model.compile_metrics` will be empty until you train or evaluate the model.\n",
            "WARNING:absl:Compiled the loaded model, but the compiled metrics have yet to be built. `model.compile_metrics` will be empty until you train or evaluate the model.\n"
          ]
        },
        {
          "output_type": "stream",
          "name": "stdout",
          "text": [
            "\u001b[1m1/1\u001b[0m \u001b[32m━━━━━━━━━━━━━━━━━━━━\u001b[0m\u001b[37m\u001b[0m \u001b[1m0s\u001b[0m 197ms/step\n",
            "\u001b[1m1/1\u001b[0m \u001b[32m━━━━━━━━━━━━━━━━━━━━\u001b[0m\u001b[37m\u001b[0m \u001b[1m1s\u001b[0m 568ms/step\n"
          ]
        },
        {
          "output_type": "stream",
          "name": "stderr",
          "text": [
            "WARNING:absl:Compiled the loaded model, but the compiled metrics have yet to be built. `model.compile_metrics` will be empty until you train or evaluate the model.\n",
            "WARNING:absl:Compiled the loaded model, but the compiled metrics have yet to be built. `model.compile_metrics` will be empty until you train or evaluate the model.\n"
          ]
        },
        {
          "output_type": "stream",
          "name": "stdout",
          "text": [
            "\u001b[1m1/1\u001b[0m \u001b[32m━━━━━━━━━━━━━━━━━━━━\u001b[0m\u001b[37m\u001b[0m \u001b[1m0s\u001b[0m 164ms/step\n",
            "\u001b[1m1/1\u001b[0m \u001b[32m━━━━━━━━━━━━━━━━━━━━\u001b[0m\u001b[37m\u001b[0m \u001b[1m1s\u001b[0m 559ms/step\n"
          ]
        },
        {
          "output_type": "stream",
          "name": "stderr",
          "text": [
            "WARNING:absl:Compiled the loaded model, but the compiled metrics have yet to be built. `model.compile_metrics` will be empty until you train or evaluate the model.\n",
            "WARNING:absl:Compiled the loaded model, but the compiled metrics have yet to be built. `model.compile_metrics` will be empty until you train or evaluate the model.\n"
          ]
        },
        {
          "output_type": "stream",
          "name": "stdout",
          "text": [
            "\u001b[1m1/1\u001b[0m \u001b[32m━━━━━━━━━━━━━━━━━━━━\u001b[0m\u001b[37m\u001b[0m \u001b[1m0s\u001b[0m 176ms/step\n",
            "\u001b[1m1/1\u001b[0m \u001b[32m━━━━━━━━━━━━━━━━━━━━\u001b[0m\u001b[37m\u001b[0m \u001b[1m1s\u001b[0m 556ms/step\n"
          ]
        },
        {
          "output_type": "stream",
          "name": "stderr",
          "text": [
            "WARNING:absl:Compiled the loaded model, but the compiled metrics have yet to be built. `model.compile_metrics` will be empty until you train or evaluate the model.\n",
            "WARNING:absl:Compiled the loaded model, but the compiled metrics have yet to be built. `model.compile_metrics` will be empty until you train or evaluate the model.\n"
          ]
        },
        {
          "output_type": "stream",
          "name": "stdout",
          "text": [
            "\u001b[1m1/1\u001b[0m \u001b[32m━━━━━━━━━━━━━━━━━━━━\u001b[0m\u001b[37m\u001b[0m \u001b[1m0s\u001b[0m 155ms/step\n",
            "\u001b[1m1/1\u001b[0m \u001b[32m━━━━━━━━━━━━━━━━━━━━\u001b[0m\u001b[37m\u001b[0m \u001b[1m1s\u001b[0m 566ms/step\n"
          ]
        },
        {
          "output_type": "stream",
          "name": "stderr",
          "text": [
            "WARNING:absl:Compiled the loaded model, but the compiled metrics have yet to be built. `model.compile_metrics` will be empty until you train or evaluate the model.\n",
            "WARNING:absl:Compiled the loaded model, but the compiled metrics have yet to be built. `model.compile_metrics` will be empty until you train or evaluate the model.\n"
          ]
        },
        {
          "output_type": "stream",
          "name": "stdout",
          "text": [
            "\u001b[1m1/1\u001b[0m \u001b[32m━━━━━━━━━━━━━━━━━━━━\u001b[0m\u001b[37m\u001b[0m \u001b[1m0s\u001b[0m 164ms/step\n",
            "\u001b[1m1/1\u001b[0m \u001b[32m━━━━━━━━━━━━━━━━━━━━\u001b[0m\u001b[37m\u001b[0m \u001b[1m1s\u001b[0m 537ms/step\n"
          ]
        },
        {
          "output_type": "stream",
          "name": "stderr",
          "text": [
            "WARNING:absl:Compiled the loaded model, but the compiled metrics have yet to be built. `model.compile_metrics` will be empty until you train or evaluate the model.\n",
            "WARNING:absl:Compiled the loaded model, but the compiled metrics have yet to be built. `model.compile_metrics` will be empty until you train or evaluate the model.\n"
          ]
        },
        {
          "output_type": "stream",
          "name": "stdout",
          "text": [
            "\u001b[1m1/1\u001b[0m \u001b[32m━━━━━━━━━━━━━━━━━━━━\u001b[0m\u001b[37m\u001b[0m \u001b[1m0s\u001b[0m 154ms/step\n",
            "\u001b[1m1/1\u001b[0m \u001b[32m━━━━━━━━━━━━━━━━━━━━\u001b[0m\u001b[37m\u001b[0m \u001b[1m1s\u001b[0m 797ms/step\n",
            "\n",
            "Classification Probabilities:\n",
            "╒═══════════════════════╤═══════════════╕\n",
            "│ Mental Health Issue   │ Probability   │\n",
            "╞═══════════════════════╪═══════════════╡\n",
            "│ anxiety               │ 0.07          │\n",
            "├───────────────────────┼───────────────┤\n",
            "│ bipolar               │ 0.18          │\n",
            "├───────────────────────┼───────────────┤\n",
            "│ depression            │ 0.06          │\n",
            "├───────────────────────┼───────────────┤\n",
            "│ **normal**            │ **0.66**      │\n",
            "├───────────────────────┼───────────────┤\n",
            "│ ptsd                  │ 0.03          │\n",
            "╘═══════════════════════╧═══════════════╛\n",
            "\n",
            "Predicted Class: normal\n",
            "Probability: 0.66\n",
            "\n",
            "Current class counts for each dataset:\n",
            "preprocessed_mental_health_1.csv: {'normal': 18637, 'bipolar': 2680, 'ptsd': 2381, 'depression': 1855, 'anxiety': 1743}\n",
            "preprocessed_mental_health_2.csv: {'normal': 18608, 'depression': 2974, 'bipolar': 2515, 'anxiety': 1630, 'ptsd': 1569}\n",
            "preprocessed_mental_health_3.csv: {'normal': 17182, 'anxiety': 2777, 'depression': 2626, 'bipolar': 2417, 'ptsd': 2294}\n",
            "preprocessed_mental_health_4.csv: {'normal': 19166, 'bipolar': 2581, 'depression': 2409, 'ptsd': 1758, 'anxiety': 1382}\n",
            "preprocessed_mental_health_5.csv: {'normal': 19132, 'anxiety': 2354, 'depression': 2188, 'ptsd': 2167, 'bipolar': 1454}\n",
            "preprocessed_mental_health_6.csv: {'anxiety': 8289, 'depression': 6952, 'ptsd': 5964, 'bipolar': 3760, 'normal': 2330}\n",
            "\n",
            "New data added to preprocessed_mental_health_6.csv.\n",
            "Updated counts for preprocessed_mental_health_6.csv: {'anxiety': 8289, 'depression': 6952, 'ptsd': 5964, 'bipolar': 3760, 'normal': 2331}\n"
          ]
        },
        {
          "output_type": "stream",
          "name": "stderr",
          "text": [
            "WARNING:absl:Compiled the loaded model, but the compiled metrics have yet to be built. `model.compile_metrics` will be empty until you train or evaluate the model.\n",
            "WARNING:absl:Compiled the loaded model, but the compiled metrics have yet to be built. `model.compile_metrics` will be empty until you train or evaluate the model.\n",
            "WARNING:absl:Compiled the loaded model, but the compiled metrics have yet to be built. `model.compile_metrics` will be empty until you train or evaluate the model.\n",
            "WARNING:absl:Compiled the loaded model, but the compiled metrics have yet to be built. `model.compile_metrics` will be empty until you train or evaluate the model.\n",
            "WARNING:absl:Compiled the loaded model, but the compiled metrics have yet to be built. `model.compile_metrics` will be empty until you train or evaluate the model.\n",
            "WARNING:absl:Compiled the loaded model, but the compiled metrics have yet to be built. `model.compile_metrics` will be empty until you train or evaluate the model.\n",
            "WARNING:absl:Compiled the loaded model, but the compiled metrics have yet to be built. `model.compile_metrics` will be empty until you train or evaluate the model.\n",
            "WARNING:absl:Compiled the loaded model, but the compiled metrics have yet to be built. `model.compile_metrics` will be empty until you train or evaluate the model.\n",
            "WARNING:absl:Compiled the loaded model, but the compiled metrics have yet to be built. `model.compile_metrics` will be empty until you train or evaluate the model.\n",
            "WARNING:absl:Compiled the loaded model, but the compiled metrics have yet to be built. `model.compile_metrics` will be empty until you train or evaluate the model.\n",
            "WARNING:absl:Compiled the loaded model, but the compiled metrics have yet to be built. `model.compile_metrics` will be empty until you train or evaluate the model.\n",
            "WARNING:absl:Compiled the loaded model, but the compiled metrics have yet to be built. `model.compile_metrics` will be empty until you train or evaluate the model.\n",
            "WARNING:absl:Compiled the loaded model, but the compiled metrics have yet to be built. `model.compile_metrics` will be empty until you train or evaluate the model.\n",
            "WARNING:absl:Compiled the loaded model, but the compiled metrics have yet to be built. `model.compile_metrics` will be empty until you train or evaluate the model.\n",
            "WARNING:absl:Compiled the loaded model, but the compiled metrics have yet to be built. `model.compile_metrics` will be empty until you train or evaluate the model.\n",
            "WARNING:absl:Compiled the loaded model, but the compiled metrics have yet to be built. `model.compile_metrics` will be empty until you train or evaluate the model.\n",
            "WARNING:absl:Compiled the loaded model, but the compiled metrics have yet to be built. `model.compile_metrics` will be empty until you train or evaluate the model.\n",
            "WARNING:absl:Compiled the loaded model, but the compiled metrics have yet to be built. `model.compile_metrics` will be empty until you train or evaluate the model.\n",
            "WARNING:absl:Compiled the loaded model, but the compiled metrics have yet to be built. `model.compile_metrics` will be empty until you train or evaluate the model.\n",
            "WARNING:absl:Compiled the loaded model, but the compiled metrics have yet to be built. `model.compile_metrics` will be empty until you train or evaluate the model.\n",
            "WARNING:absl:Compiled the loaded model, but the compiled metrics have yet to be built. `model.compile_metrics` will be empty until you train or evaluate the model.\n",
            "WARNING:absl:Compiled the loaded model, but the compiled metrics have yet to be built. `model.compile_metrics` will be empty until you train or evaluate the model.\n",
            "WARNING:absl:Compiled the loaded model, but the compiled metrics have yet to be built. `model.compile_metrics` will be empty until you train or evaluate the model.\n",
            "WARNING:absl:Compiled the loaded model, but the compiled metrics have yet to be built. `model.compile_metrics` will be empty until you train or evaluate the model.\n",
            "WARNING:absl:Compiled the loaded model, but the compiled metrics have yet to be built. `model.compile_metrics` will be empty until you train or evaluate the model.\n",
            "WARNING:absl:Compiled the loaded model, but the compiled metrics have yet to be built. `model.compile_metrics` will be empty until you train or evaluate the model.\n",
            "WARNING:absl:Compiled the loaded model, but the compiled metrics have yet to be built. `model.compile_metrics` will be empty until you train or evaluate the model.\n",
            "WARNING:absl:Compiled the loaded model, but the compiled metrics have yet to be built. `model.compile_metrics` will be empty until you train or evaluate the model.\n",
            "WARNING:absl:Compiled the loaded model, but the compiled metrics have yet to be built. `model.compile_metrics` will be empty until you train or evaluate the model.\n",
            "WARNING:absl:Compiled the loaded model, but the compiled metrics have yet to be built. `model.compile_metrics` will be empty until you train or evaluate the model.\n",
            "WARNING:absl:Compiled the loaded model, but the compiled metrics have yet to be built. `model.compile_metrics` will be empty until you train or evaluate the model.\n",
            "WARNING:absl:Compiled the loaded model, but the compiled metrics have yet to be built. `model.compile_metrics` will be empty until you train or evaluate the model.\n",
            "WARNING:absl:Compiled the loaded model, but the compiled metrics have yet to be built. `model.compile_metrics` will be empty until you train or evaluate the model.\n",
            "WARNING:absl:Compiled the loaded model, but the compiled metrics have yet to be built. `model.compile_metrics` will be empty until you train or evaluate the model.\n",
            "WARNING:absl:Compiled the loaded model, but the compiled metrics have yet to be built. `model.compile_metrics` will be empty until you train or evaluate the model.\n",
            "WARNING:absl:Compiled the loaded model, but the compiled metrics have yet to be built. `model.compile_metrics` will be empty until you train or evaluate the model.\n",
            "WARNING:absl:Compiled the loaded model, but the compiled metrics have yet to be built. `model.compile_metrics` will be empty until you train or evaluate the model.\n",
            "WARNING:absl:Compiled the loaded model, but the compiled metrics have yet to be built. `model.compile_metrics` will be empty until you train or evaluate the model.\n",
            "WARNING:absl:Compiled the loaded model, but the compiled metrics have yet to be built. `model.compile_metrics` will be empty until you train or evaluate the model.\n",
            "WARNING:absl:Compiled the loaded model, but the compiled metrics have yet to be built. `model.compile_metrics` will be empty until you train or evaluate the model.\n",
            "WARNING:absl:Compiled the loaded model, but the compiled metrics have yet to be built. `model.compile_metrics` will be empty until you train or evaluate the model.\n",
            "WARNING:absl:Compiled the loaded model, but the compiled metrics have yet to be built. `model.compile_metrics` will be empty until you train or evaluate the model.\n",
            "WARNING:absl:Compiled the loaded model, but the compiled metrics have yet to be built. `model.compile_metrics` will be empty until you train or evaluate the model.\n",
            "WARNING:absl:Compiled the loaded model, but the compiled metrics have yet to be built. `model.compile_metrics` will be empty until you train or evaluate the model.\n",
            "WARNING:absl:Compiled the loaded model, but the compiled metrics have yet to be built. `model.compile_metrics` will be empty until you train or evaluate the model.\n",
            "WARNING:absl:Compiled the loaded model, but the compiled metrics have yet to be built. `model.compile_metrics` will be empty until you train or evaluate the model.\n",
            "WARNING:absl:Compiled the loaded model, but the compiled metrics have yet to be built. `model.compile_metrics` will be empty until you train or evaluate the model.\n",
            "WARNING:absl:Compiled the loaded model, but the compiled metrics have yet to be built. `model.compile_metrics` will be empty until you train or evaluate the model.\n",
            "WARNING:absl:Compiled the loaded model, but the compiled metrics have yet to be built. `model.compile_metrics` will be empty until you train or evaluate the model.\n",
            "WARNING:absl:Compiled the loaded model, but the compiled metrics have yet to be built. `model.compile_metrics` will be empty until you train or evaluate the model.\n"
          ]
        },
        {
          "output_type": "stream",
          "name": "stdout",
          "text": [
            "\u001b[1m850/850\u001b[0m \u001b[32m━━━━━━━━━━━━━━━━━━━━\u001b[0m\u001b[37m\u001b[0m \u001b[1m4s\u001b[0m 4ms/step\n"
          ]
        },
        {
          "output_type": "stream",
          "name": "stderr",
          "text": [
            "WARNING:absl:Compiled the loaded model, but the compiled metrics have yet to be built. `model.compile_metrics` will be empty until you train or evaluate the model.\n",
            "WARNING:absl:Compiled the loaded model, but the compiled metrics have yet to be built. `model.compile_metrics` will be empty until you train or evaluate the model.\n"
          ]
        },
        {
          "output_type": "stream",
          "name": "stdout",
          "text": [
            "\u001b[1m848/848\u001b[0m \u001b[32m━━━━━━━━━━━━━━━━━━━━\u001b[0m\u001b[37m\u001b[0m \u001b[1m5s\u001b[0m 5ms/step\n"
          ]
        },
        {
          "output_type": "stream",
          "name": "stderr",
          "text": [
            "WARNING:absl:Compiled the loaded model, but the compiled metrics have yet to be built. `model.compile_metrics` will be empty until you train or evaluate the model.\n",
            "WARNING:absl:Compiled the loaded model, but the compiled metrics have yet to be built. `model.compile_metrics` will be empty until you train or evaluate the model.\n"
          ]
        },
        {
          "output_type": "stream",
          "name": "stdout",
          "text": [
            "\u001b[1m851/851\u001b[0m \u001b[32m━━━━━━━━━━━━━━━━━━━━\u001b[0m\u001b[37m\u001b[0m \u001b[1m4s\u001b[0m 4ms/step\n"
          ]
        },
        {
          "output_type": "stream",
          "name": "stderr",
          "text": [
            "WARNING:absl:Compiled the loaded model, but the compiled metrics have yet to be built. `model.compile_metrics` will be empty until you train or evaluate the model.\n",
            "WARNING:absl:Compiled the loaded model, but the compiled metrics have yet to be built. `model.compile_metrics` will be empty until you train or evaluate the model.\n"
          ]
        },
        {
          "output_type": "stream",
          "name": "stdout",
          "text": [
            "\u001b[1m851/851\u001b[0m \u001b[32m━━━━━━━━━━━━━━━━━━━━\u001b[0m\u001b[37m\u001b[0m \u001b[1m5s\u001b[0m 6ms/step\n"
          ]
        },
        {
          "output_type": "stream",
          "name": "stderr",
          "text": [
            "WARNING:absl:Compiled the loaded model, but the compiled metrics have yet to be built. `model.compile_metrics` will be empty until you train or evaluate the model.\n",
            "WARNING:absl:Compiled the loaded model, but the compiled metrics have yet to be built. `model.compile_metrics` will be empty until you train or evaluate the model.\n"
          ]
        },
        {
          "output_type": "stream",
          "name": "stdout",
          "text": [
            "\u001b[1m851/851\u001b[0m \u001b[32m━━━━━━━━━━━━━━━━━━━━\u001b[0m\u001b[37m\u001b[0m \u001b[1m4s\u001b[0m 4ms/step\n"
          ]
        },
        {
          "output_type": "stream",
          "name": "stderr",
          "text": [
            "WARNING:absl:Compiled the loaded model, but the compiled metrics have yet to be built. `model.compile_metrics` will be empty until you train or evaluate the model.\n",
            "WARNING:absl:Compiled the loaded model, but the compiled metrics have yet to be built. `model.compile_metrics` will be empty until you train or evaluate the model.\n"
          ]
        },
        {
          "output_type": "stream",
          "name": "stdout",
          "text": [
            "\u001b[1m848/848\u001b[0m \u001b[32m━━━━━━━━━━━━━━━━━━━━\u001b[0m\u001b[37m\u001b[0m \u001b[1m4s\u001b[0m 5ms/step\n"
          ]
        },
        {
          "output_type": "stream",
          "name": "stderr",
          "text": [
            "WARNING:absl:Compiled the loaded model, but the compiled metrics have yet to be built. `model.compile_metrics` will be empty until you train or evaluate the model.\n",
            "WARNING:absl:Compiled the loaded model, but the compiled metrics have yet to be built. `model.compile_metrics` will be empty until you train or evaluate the model.\n"
          ]
        },
        {
          "output_type": "stream",
          "name": "stdout",
          "text": [
            "\u001b[1m850/850\u001b[0m \u001b[32m━━━━━━━━━━━━━━━━━━━━\u001b[0m\u001b[37m\u001b[0m \u001b[1m3s\u001b[0m 3ms/step\n"
          ]
        },
        {
          "output_type": "stream",
          "name": "stderr",
          "text": [
            "WARNING:absl:Compiled the loaded model, but the compiled metrics have yet to be built. `model.compile_metrics` will be empty until you train or evaluate the model.\n",
            "WARNING:absl:Compiled the loaded model, but the compiled metrics have yet to be built. `model.compile_metrics` will be empty until you train or evaluate the model.\n"
          ]
        },
        {
          "output_type": "stream",
          "name": "stdout",
          "text": [
            "\u001b[1m848/848\u001b[0m \u001b[32m━━━━━━━━━━━━━━━━━━━━\u001b[0m\u001b[37m\u001b[0m \u001b[1m3s\u001b[0m 3ms/step\n"
          ]
        },
        {
          "output_type": "stream",
          "name": "stderr",
          "text": [
            "WARNING:absl:Compiled the loaded model, but the compiled metrics have yet to be built. `model.compile_metrics` will be empty until you train or evaluate the model.\n",
            "WARNING:absl:Compiled the loaded model, but the compiled metrics have yet to be built. `model.compile_metrics` will be empty until you train or evaluate the model.\n"
          ]
        },
        {
          "output_type": "stream",
          "name": "stdout",
          "text": [
            "\u001b[1m851/851\u001b[0m \u001b[32m━━━━━━━━━━━━━━━━━━━━\u001b[0m\u001b[37m\u001b[0m \u001b[1m4s\u001b[0m 3ms/step\n"
          ]
        },
        {
          "output_type": "stream",
          "name": "stderr",
          "text": [
            "WARNING:absl:Compiled the loaded model, but the compiled metrics have yet to be built. `model.compile_metrics` will be empty until you train or evaluate the model.\n",
            "WARNING:absl:Compiled the loaded model, but the compiled metrics have yet to be built. `model.compile_metrics` will be empty until you train or evaluate the model.\n"
          ]
        },
        {
          "output_type": "stream",
          "name": "stdout",
          "text": [
            "\u001b[1m851/851\u001b[0m \u001b[32m━━━━━━━━━━━━━━━━━━━━\u001b[0m\u001b[37m\u001b[0m \u001b[1m3s\u001b[0m 3ms/step\n"
          ]
        },
        {
          "output_type": "stream",
          "name": "stderr",
          "text": [
            "WARNING:absl:Compiled the loaded model, but the compiled metrics have yet to be built. `model.compile_metrics` will be empty until you train or evaluate the model.\n",
            "WARNING:absl:Compiled the loaded model, but the compiled metrics have yet to be built. `model.compile_metrics` will be empty until you train or evaluate the model.\n"
          ]
        },
        {
          "output_type": "stream",
          "name": "stdout",
          "text": [
            "\u001b[1m851/851\u001b[0m \u001b[32m━━━━━━━━━━━━━━━━━━━━\u001b[0m\u001b[37m\u001b[0m \u001b[1m4s\u001b[0m 3ms/step\n"
          ]
        },
        {
          "output_type": "stream",
          "name": "stderr",
          "text": [
            "WARNING:absl:Compiled the loaded model, but the compiled metrics have yet to be built. `model.compile_metrics` will be empty until you train or evaluate the model.\n",
            "WARNING:absl:Compiled the loaded model, but the compiled metrics have yet to be built. `model.compile_metrics` will be empty until you train or evaluate the model.\n"
          ]
        },
        {
          "output_type": "stream",
          "name": "stdout",
          "text": [
            "\u001b[1m848/848\u001b[0m \u001b[32m━━━━━━━━━━━━━━━━━━━━\u001b[0m\u001b[37m\u001b[0m \u001b[1m3s\u001b[0m 3ms/step\n"
          ]
        },
        {
          "output_type": "stream",
          "name": "stderr",
          "text": [
            "WARNING:absl:Compiled the loaded model, but the compiled metrics have yet to be built. `model.compile_metrics` will be empty until you train or evaluate the model.\n",
            "WARNING:absl:Compiled the loaded model, but the compiled metrics have yet to be built. `model.compile_metrics` will be empty until you train or evaluate the model.\n"
          ]
        },
        {
          "output_type": "stream",
          "name": "stdout",
          "text": [
            "\u001b[1m850/850\u001b[0m \u001b[32m━━━━━━━━━━━━━━━━━━━━\u001b[0m\u001b[37m\u001b[0m \u001b[1m3s\u001b[0m 3ms/step\n",
            "\u001b[1m850/850\u001b[0m \u001b[32m━━━━━━━━━━━━━━━━━━━━\u001b[0m\u001b[37m\u001b[0m \u001b[1m4s\u001b[0m 5ms/step\n"
          ]
        },
        {
          "output_type": "stream",
          "name": "stderr",
          "text": [
            "WARNING:absl:Compiled the loaded model, but the compiled metrics have yet to be built. `model.compile_metrics` will be empty until you train or evaluate the model.\n",
            "WARNING:absl:Compiled the loaded model, but the compiled metrics have yet to be built. `model.compile_metrics` will be empty until you train or evaluate the model.\n"
          ]
        },
        {
          "output_type": "stream",
          "name": "stdout",
          "text": [
            "\u001b[1m848/848\u001b[0m \u001b[32m━━━━━━━━━━━━━━━━━━━━\u001b[0m\u001b[37m\u001b[0m \u001b[1m3s\u001b[0m 3ms/step\n",
            "\u001b[1m848/848\u001b[0m \u001b[32m━━━━━━━━━━━━━━━━━━━━\u001b[0m\u001b[37m\u001b[0m \u001b[1m4s\u001b[0m 4ms/step\n"
          ]
        },
        {
          "output_type": "stream",
          "name": "stderr",
          "text": [
            "WARNING:absl:Compiled the loaded model, but the compiled metrics have yet to be built. `model.compile_metrics` will be empty until you train or evaluate the model.\n",
            "WARNING:absl:Compiled the loaded model, but the compiled metrics have yet to be built. `model.compile_metrics` will be empty until you train or evaluate the model.\n"
          ]
        },
        {
          "output_type": "stream",
          "name": "stdout",
          "text": [
            "\u001b[1m851/851\u001b[0m \u001b[32m━━━━━━━━━━━━━━━━━━━━\u001b[0m\u001b[37m\u001b[0m \u001b[1m3s\u001b[0m 3ms/step\n",
            "\u001b[1m851/851\u001b[0m \u001b[32m━━━━━━━━━━━━━━━━━━━━\u001b[0m\u001b[37m\u001b[0m \u001b[1m4s\u001b[0m 4ms/step\n"
          ]
        },
        {
          "output_type": "stream",
          "name": "stderr",
          "text": [
            "WARNING:absl:Compiled the loaded model, but the compiled metrics have yet to be built. `model.compile_metrics` will be empty until you train or evaluate the model.\n",
            "WARNING:absl:Compiled the loaded model, but the compiled metrics have yet to be built. `model.compile_metrics` will be empty until you train or evaluate the model.\n"
          ]
        },
        {
          "output_type": "stream",
          "name": "stdout",
          "text": [
            "\u001b[1m851/851\u001b[0m \u001b[32m━━━━━━━━━━━━━━━━━━━━\u001b[0m\u001b[37m\u001b[0m \u001b[1m3s\u001b[0m 3ms/step\n",
            "\u001b[1m851/851\u001b[0m \u001b[32m━━━━━━━━━━━━━━━━━━━━\u001b[0m\u001b[37m\u001b[0m \u001b[1m4s\u001b[0m 4ms/step\n"
          ]
        },
        {
          "output_type": "stream",
          "name": "stderr",
          "text": [
            "WARNING:absl:Compiled the loaded model, but the compiled metrics have yet to be built. `model.compile_metrics` will be empty until you train or evaluate the model.\n",
            "WARNING:absl:Compiled the loaded model, but the compiled metrics have yet to be built. `model.compile_metrics` will be empty until you train or evaluate the model.\n"
          ]
        },
        {
          "output_type": "stream",
          "name": "stdout",
          "text": [
            "\u001b[1m851/851\u001b[0m \u001b[32m━━━━━━━━━━━━━━━━━━━━\u001b[0m\u001b[37m\u001b[0m \u001b[1m4s\u001b[0m 3ms/step\n",
            "\u001b[1m851/851\u001b[0m \u001b[32m━━━━━━━━━━━━━━━━━━━━\u001b[0m\u001b[37m\u001b[0m \u001b[1m5s\u001b[0m 5ms/step\n"
          ]
        },
        {
          "output_type": "stream",
          "name": "stderr",
          "text": [
            "WARNING:absl:Compiled the loaded model, but the compiled metrics have yet to be built. `model.compile_metrics` will be empty until you train or evaluate the model.\n",
            "WARNING:absl:Compiled the loaded model, but the compiled metrics have yet to be built. `model.compile_metrics` will be empty until you train or evaluate the model.\n"
          ]
        },
        {
          "output_type": "stream",
          "name": "stdout",
          "text": [
            "\u001b[1m848/848\u001b[0m \u001b[32m━━━━━━━━━━━━━━━━━━━━\u001b[0m\u001b[37m\u001b[0m \u001b[1m3s\u001b[0m 3ms/step\n",
            "\u001b[1m848/848\u001b[0m \u001b[32m━━━━━━━━━━━━━━━━━━━━\u001b[0m\u001b[37m\u001b[0m \u001b[1m4s\u001b[0m 4ms/step\n",
            "Cross-Validation Accuracies: [0.96032987 0.96192403 0.96158563 0.96333313 0.96330247]\n",
            "Mean Validation Accuracy: 96.21%\n",
            "Validation Accuracy Std Dev: 0.11%\n"
          ]
        }
      ]
    }
  ]
}