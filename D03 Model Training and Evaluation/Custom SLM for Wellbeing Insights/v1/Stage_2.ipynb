{
  "nbformat": 4,
  "nbformat_minor": 0,
  "metadata": {
    "colab": {
      "provenance": [],
      "gpuType": "T4",
      "toc_visible": true
    },
    "kernelspec": {
      "name": "python3",
      "display_name": "Python 3"
    },
    "language_info": {
      "name": "python"
    },
    "accelerator": "GPU"
  },
  "cells": [
    {
      "cell_type": "markdown",
      "source": [
        "# Stage 2 : Pretraining and Foundation Model"
      ],
      "metadata": {
        "id": "c5z2nQZkGwoX"
      }
    },
    {
      "cell_type": "markdown",
      "source": [
        "## Training Loop"
      ],
      "metadata": {
        "id": "yaL0i7jWPRk4"
      }
    },
    {
      "cell_type": "markdown",
      "source": [
        "### Step 0 : Load the model architecture (from Stage 1)\n",
        "\n"
      ],
      "metadata": {
        "id": "4wVydikIbP2n"
      }
    },
    {
      "cell_type": "code",
      "source": [
        "import torch\n",
        "import torch.nn as nn\n",
        "import torch.nn.functional as F\n",
        "import numpy as np\n",
        "import os\n",
        "\n",
        "# Device setup\n",
        "device = torch.device(\"cuda\" if torch.cuda.is_available() else \"cpu\")\n",
        "print(\"Using device:\", device)\n",
        "\n",
        "# Step 1: Load Prepared Data from Stage 1, Step 1\n",
        "print(\"Loading prepared data from Stage 1, Step 1...\")\n",
        "train_data, val_data, embedding_weights = torch.load(\"prepared_data_wiki.pth\")\n",
        "\n",
        "# Access the 'weight' tensor within the OrderedDict\n",
        "embedding_weights_tensor = embedding_weights['weight']\n",
        "vocab_size = embedding_weights_tensor.shape[0]  # Now use .shape on the tensor\n",
        "embedding_dim = embedding_weights_tensor.shape[1]\n",
        "\n",
        "print(f\"Vocabulary Size: {vocab_size}\")\n",
        "print(f\"Embedding Dimension: {embedding_dim}\")\n",
        "\n",
        "# Step 2: LayerNorm and GELU Activation\n",
        "class LayerNorm(nn.Module):\n",
        "    def __init__(self, emb_dim):\n",
        "        super().__init__()\n",
        "        self.eps = 1e-5\n",
        "        self.scale = nn.Parameter(torch.ones(emb_dim))\n",
        "        self.shift = nn.Parameter(torch.zeros(emb_dim))\n",
        "\n",
        "    def forward(self, x):\n",
        "        mean = x.mean(dim=-1, keepdim=True)\n",
        "        var = x.var(dim=-1, keepdim=True, unbiased=False)\n",
        "        norm_x = (x - mean) / torch.sqrt(var + self.eps)\n",
        "        return self.scale * norm_x + self.shift\n",
        "\n",
        "class GELU(nn.Module):\n",
        "    def forward(self, x):\n",
        "        return 0.5 * x * (1 + torch.tanh(\n",
        "            np.sqrt(2 / np.pi) * (x + 0.044715 * torch.pow(x, 3))\n",
        "        ))\n",
        "\n",
        "# Step 3: FeedForward Network\n",
        "class FeedForward(nn.Module):\n",
        "    def __init__(self, emb_dim):\n",
        "        super().__init__()\n",
        "        self.net = nn.Sequential(\n",
        "            nn.Linear(emb_dim, 4 * emb_dim),\n",
        "            GELU(),\n",
        "            nn.Linear(4 * emb_dim, emb_dim)\n",
        "        )\n",
        "\n",
        "    def forward(self, x):\n",
        "        return self.net(x)\n",
        "\n",
        "# Step 4: Multi-Head Attention Mechanism (Load Pretrained if Available)\n",
        "class ScaledDotProductAttention(nn.Module):\n",
        "    def forward(self, query, key, value, mask=None):\n",
        "        d_k = query.size(-1)\n",
        "        scores = torch.matmul(query, key.transpose(-2, -1)) / np.sqrt(d_k)\n",
        "\n",
        "        if mask is not None:\n",
        "            scores = scores.masked_fill(mask == 0, -1e9)\n",
        "\n",
        "        attn_weights = F.softmax(scores, dim=-1)\n",
        "        return torch.matmul(attn_weights, value), attn_weights\n",
        "\n",
        "class MultiHeadAttention(nn.Module):\n",
        "    def __init__(self, emb_dim, num_heads):\n",
        "        super().__init__()\n",
        "        self.emb_dim = emb_dim\n",
        "        self.num_heads = num_heads\n",
        "        # Ensure head_dim is an integer by performing floor division\n",
        "        self.head_dim = emb_dim // num_heads\n",
        "        # Add assertion to ensure emb_dim is divisible by num_heads\n",
        "        assert emb_dim % num_heads == 0, \"Embedding dimension must be divisible by number of heads\"\n",
        "\n",
        "        self.query = nn.Linear(emb_dim, emb_dim)\n",
        "        self.key = nn.Linear(emb_dim, emb_dim)\n",
        "        self.value = nn.Linear(emb_dim, emb_dim)\n",
        "        self.fc_out = nn.Linear(emb_dim, emb_dim)\n",
        "\n",
        "        self.attention = ScaledDotProductAttention()\n",
        "\n",
        "        # Load pretrained weights if available\n",
        "        if os.path.exists(\"attention_mechanism.pth\"):\n",
        "            print(\"Loading pretrained attention mechanism from 'attention_mechanism.pth'...\")\n",
        "            state_dict = torch.load(\"attention_mechanism.pth\")\n",
        "\n",
        "            # Update keys in the state dictionary to match current model\n",
        "            # Create a new state dictionary with updated keys\n",
        "            updated_state_dict = {}\n",
        "            for k, v in state_dict.items():\n",
        "                # Replace 'query_linear', 'key_linear', 'value_linear' with 'query', 'key', 'value'\n",
        "                k = k.replace('query_linear', 'query').replace('key_linear', 'key').replace('value_linear', 'value')\n",
        "                updated_state_dict[k] = v\n",
        "\n",
        "            self.load_state_dict(updated_state_dict) # Load the updated state dictionary\n",
        "\n",
        "        else:\n",
        "            print(\"Pretrained attention mechanism not found, using default initialization.\")\n",
        "\n",
        "    def forward(self, x):\n",
        "        batch_size, seq_len, emb_dim = x.shape\n",
        "        q = self.query(x).view(batch_size, seq_len, self.num_heads, self.head_dim).transpose(1, 2)\n",
        "        k = self.key(x).view(batch_size, seq_len, self.num_heads, self.head_dim).transpose(1, 2)\n",
        "        v = self.value(x).view(batch_size, seq_len, self.num_heads, self.head_dim).transpose(1, 2)\n",
        "\n",
        "        attn_output, _ = self.attention(q, k, v)\n",
        "        attn_output = attn_output.transpose(1, 2).contiguous().view(batch_size, seq_len, emb_dim)\n",
        "        return self.fc_out(attn_output)\n",
        "\n",
        "# Step 5: Transformer Block\n",
        "class TransformerBlock(nn.Module):\n",
        "    def __init__(self, emb_dim, num_heads):\n",
        "        super().__init__()\n",
        "        self.attention = MultiHeadAttention(emb_dim, num_heads)\n",
        "        self.norm1 = LayerNorm(emb_dim)\n",
        "        self.ffn = FeedForward(emb_dim)\n",
        "        self.norm2 = LayerNorm(emb_dim)\n",
        "\n",
        "    def forward(self, x):\n",
        "        attn_output = self.attention(self.norm1(x))\n",
        "        x = x + attn_output\n",
        "        ffn_output = self.ffn(self.norm2(x))\n",
        "        return x + ffn_output\n",
        "\n",
        "# Step 6: GPT Model (LLM Architecture)\n",
        "class GPTModel(nn.Module):\n",
        "    def __init__(self, cfg):\n",
        "        super().__init__()\n",
        "        self.tok_emb = nn.Embedding(cfg[\"vocab_size\"], cfg[\"emb_dim\"])\n",
        "        self.pos_emb = nn.Embedding(cfg[\"context_length\"], cfg[\"emb_dim\"])\n",
        "        self.drop = nn.Dropout(cfg[\"drop_rate\"])\n",
        "\n",
        "        self.layers = nn.ModuleList([\n",
        "            TransformerBlock(cfg[\"emb_dim\"], cfg[\"n_heads\"]) for _ in range(cfg[\"n_layers\"])\n",
        "        ])\n",
        "\n",
        "        self.norm = LayerNorm(cfg[\"emb_dim\"])\n",
        "        self.fc_out = nn.Linear(cfg[\"emb_dim\"], cfg[\"vocab_size\"], bias=False)\n",
        "\n",
        "    def forward(self, idx):\n",
        "        batch_size, seq_len = idx.shape\n",
        "        tok_emb = self.tok_emb(idx)\n",
        "        pos_emb = self.pos_emb(torch.arange(seq_len, device=idx.device))\n",
        "        x = self.drop(tok_emb + pos_emb)\n",
        "\n",
        "        for layer in self.layers:\n",
        "            x = layer(x)\n",
        "\n",
        "        x = self.norm(x)\n",
        "        logits = self.fc_out(x)\n",
        "        return logits\n",
        "\n",
        "# Step 7: Model Configuration\n",
        "config = {\n",
        "    \"vocab_size\": vocab_size,\n",
        "    \"context_length\": 1024,\n",
        "    \"emb_dim\": 256,\n",
        "    \"n_heads\": 16,\n",
        "    \"n_layers\": 16,\n",
        "    \"drop_rate\": 0.1,\n",
        "    \"qkv_bias\": False\n",
        "}\n",
        "\n",
        "model = GPTModel(config).to(device)\n",
        "print(\"Model initialized successfully!\")\n"
      ],
      "metadata": {
        "colab": {
          "base_uri": "https://localhost:8080/"
        },
        "id": "1H-yefBubUJ4",
        "outputId": "863450d6-8578-4e22-d04d-45c915f1fdab"
      },
      "execution_count": 1,
      "outputs": [
        {
          "output_type": "stream",
          "name": "stdout",
          "text": [
            "Using device: cuda\n",
            "Loading prepared data from Stage 1, Step 1...\n",
            "Vocabulary Size: 100277\n",
            "Embedding Dimension: 256\n",
            "Loading pretrained attention mechanism from 'attention_mechanism.pth'...\n",
            "Loading pretrained attention mechanism from 'attention_mechanism.pth'...\n",
            "Loading pretrained attention mechanism from 'attention_mechanism.pth'...\n",
            "Loading pretrained attention mechanism from 'attention_mechanism.pth'...\n",
            "Loading pretrained attention mechanism from 'attention_mechanism.pth'...\n",
            "Loading pretrained attention mechanism from 'attention_mechanism.pth'...\n",
            "Loading pretrained attention mechanism from 'attention_mechanism.pth'...\n",
            "Loading pretrained attention mechanism from 'attention_mechanism.pth'...\n",
            "Loading pretrained attention mechanism from 'attention_mechanism.pth'...\n",
            "Loading pretrained attention mechanism from 'attention_mechanism.pth'...\n",
            "Loading pretrained attention mechanism from 'attention_mechanism.pth'...\n",
            "Loading pretrained attention mechanism from 'attention_mechanism.pth'...\n",
            "Loading pretrained attention mechanism from 'attention_mechanism.pth'...\n",
            "Loading pretrained attention mechanism from 'attention_mechanism.pth'...\n",
            "Loading pretrained attention mechanism from 'attention_mechanism.pth'...\n",
            "Loading pretrained attention mechanism from 'attention_mechanism.pth'...\n",
            "Model initialized successfully!\n"
          ]
        }
      ]
    },
    {
      "cell_type": "markdown",
      "source": [
        "### Step 1 : Loading dataset"
      ],
      "metadata": {
        "id": "fVTneBWYTIOL"
      }
    },
    {
      "cell_type": "code",
      "source": [
        "# Step 1: Loading dataset\n",
        "import torch\n",
        "from torch.utils.data import DataLoader, TensorDataset\n",
        "from torch.nn.utils.rnn import pad_sequence\n",
        "\n",
        "device = torch.device(\"cuda\" if torch.cuda.is_available() else \"cpu\")\n",
        "\n",
        "# Load the validation data correctly (assuming it's part of the saved data)\n",
        "train_data, val_data, embedding_weights = torch.load(\"prepared_data_wiki.pth\")\n",
        "\n",
        "# Now val_data should contain the actual validation data\n",
        "\n",
        "# Pad sequences to the same length\n",
        "train_data_padded = pad_sequence([torch.tensor(seq, dtype=torch.long) for seq in train_data], batch_first=True, padding_value=0)  # Pad with 0\n",
        "val_data_padded = pad_sequence([torch.tensor(seq, dtype=torch.long) for seq in val_data], batch_first=True, padding_value=0)  # Pad with 0\n",
        "\n",
        "# Create target data (shifted by one position)\n",
        "train_targets_padded = train_data_padded[:, 1:]  # Targets are the next tokens in the sequence\n",
        "val_targets_padded = val_data_padded[:, 1:]\n",
        "\n",
        "# Add padding token to the end of target sequences\n",
        "train_targets_padded = torch.cat([train_targets_padded, torch.zeros(train_targets_padded.shape[0], 1, dtype=torch.long)], dim=1)\n",
        "val_targets_padded = torch.cat([val_targets_padded, torch.zeros(val_targets_padded.shape[0], 1, dtype=torch.long)], dim=1)\n",
        "\n",
        "train_dataset = TensorDataset(train_data_padded, train_targets_padded) # Include target data\n",
        "val_dataset = TensorDataset(val_data_padded, val_targets_padded) # Include target data\n",
        "\n",
        "train_loader = DataLoader(train_dataset, batch_size=32, shuffle=True)\n",
        "val_loader = DataLoader(val_dataset, batch_size=32, shuffle=False)"
      ],
      "metadata": {
        "id": "-iigJgKzPTbv"
      },
      "execution_count": 2,
      "outputs": []
    },
    {
      "cell_type": "markdown",
      "source": [
        "### Step 2"
      ],
      "metadata": {
        "id": "ekrhclx1TKsJ"
      }
    },
    {
      "cell_type": "code",
      "source": [
        "import torch.nn as nn\n",
        "import torch.nn.functional as F\n",
        "import numpy as np\n",
        "import os"
      ],
      "metadata": {
        "id": "TWSyTN6pandq"
      },
      "execution_count": 3,
      "outputs": []
    },
    {
      "cell_type": "code",
      "source": [
        "def top_k_sampling(logits, k):\n",
        "    \"\"\"Top-K sampling from logits.\"\"\"\n",
        "    values, indices = torch.topk(logits, k, dim=-1) # Apply top_k along the last dimension\n",
        "    probs = torch.softmax(values, dim=-1)\n",
        "\n",
        "    # Reshape probs to 2D for multinomial: (batch_size * seq_len, k)\n",
        "    probs_2d = probs.view(-1, probs.size(-1))\n",
        "\n",
        "    choice = torch.multinomial(probs_2d, 1)\n",
        "\n",
        "    # Reshape choice back to original shape\n",
        "    choice = choice.view(logits.size(0), logits.size(1), 1)\n",
        "\n",
        "    # Gather selected indices\n",
        "    selected_indices = torch.gather(indices, -1, choice).squeeze(-1)\n",
        "\n",
        "    return selected_indices\n",
        "\n",
        "def temperature_scaling(logits, temperature):\n",
        "    \"\"\"Apply temperature scaling to logits.\"\"\"\n",
        "    return logits / temperature\n",
        "\n",
        "def cosine_decay_lr(step, warmup_steps, total_steps, initial_lr, min_lr):\n",
        "    \"\"\"Compute learning rate using warmup and cosine decay.\"\"\"\n",
        "    if step < warmup_steps:\n",
        "        return initial_lr + step * (initial_lr - min_lr) / warmup_steps\n",
        "    progress = (step - warmup_steps) / (total_steps - warmup_steps)\n",
        "    cosine_lr = min_lr + (initial_lr - min_lr) * 0.5 * (1 + math.cos(math.pi * progress))\n",
        "    return cosine_lr\n",
        "\n",
        "def calculate_loss(model, inputs, targets):\n",
        "    \"\"\"Calculate loss and perplexity.\"\"\"\n",
        "    outputs = model(inputs)\n",
        "    loss_fn = nn.CrossEntropyLoss()\n",
        "    loss = loss_fn(outputs.view(-1, outputs.size(-1)), targets.view(-1))\n",
        "    perplexity = torch.exp(loss)\n",
        "    return loss, perplexity"
      ],
      "metadata": {
        "id": "cwISk4RATGTi"
      },
      "execution_count": 4,
      "outputs": []
    },
    {
      "cell_type": "markdown",
      "source": [
        "### Step 3 : Training function"
      ],
      "metadata": {
        "id": "w0aFWRxATTWN"
      }
    },
    {
      "cell_type": "code",
      "source": [
        "# need to run this cell if training is stopped and resumed next day\n",
        "\n",
        "import math  # Import math for cosine function\n",
        "\n",
        "# Change this for each epoch run for correct display in output\n",
        "epoch_step = 2\n",
        "# Default 1 means it will show Epoch 1 in the output\n",
        "# Increase it for the next epoch\n",
        "\n",
        "def train_model(model, train_loader, val_loader, optimizer, n_epochs, warmup_steps, initial_lr, min_lr,\n",
        "                eval_freq=100, clip_value=1.0, k=5, temperature=1.0, accumulation_steps=2): # Added accumulation_steps\n",
        "\n",
        "    train_losses, val_losses, lr_values = [], [], []\n",
        "    total_steps = len(train_loader) * n_epochs\n",
        "    step = 0\n",
        "\n",
        "    model.to(device)\n",
        "    model.train()\n",
        "\n",
        "    for epoch in range(n_epochs):\n",
        "        epoch_loss = 0\n",
        "        optimizer.zero_grad() # Moved outside the inner loop\n",
        "\n",
        "        for batch_idx, (batch_inputs, batch_targets) in enumerate(train_loader):\n",
        "            batch_inputs, batch_targets = batch_inputs.to(device), batch_targets.to(device)\n",
        "\n",
        "            # Forward Pass\n",
        "            outputs = model(batch_inputs)\n",
        "\n",
        "            # Temperature Scaling & Top-K Sampling\n",
        "            scaled_logits = temperature_scaling(outputs, temperature)\n",
        "            predictions = top_k_sampling(scaled_logits, k)\n",
        "\n",
        "            # Loss Calculation\n",
        "            loss_fn = nn.CrossEntropyLoss()\n",
        "            loss = loss_fn(outputs.view(-1, outputs.size(-1)), batch_targets.view(-1))\n",
        "\n",
        "            # --- Change here ---\n",
        "            loss = loss / accumulation_steps  # Scale loss by accumulation steps\n",
        "            # --- End of change ---\n",
        "\n",
        "            loss.backward()\n",
        "\n",
        "            # Calculate and update the learning rate before the if statement\n",
        "            lr = cosine_decay_lr(step, warmup_steps, total_steps, initial_lr, min_lr)\n",
        "\n",
        "            if (batch_idx + 1) % accumulation_steps == 0: # Update every accumulation_steps\n",
        "                nn.utils.clip_grad_norm_(model.parameters(), clip_value)\n",
        "\n",
        "                # --- Removed lr calculation from here ---\n",
        "                for param_group in optimizer.param_groups:\n",
        "                    param_group['lr'] = lr\n",
        "\n",
        "                optimizer.step()\n",
        "                optimizer.zero_grad()\n",
        "\n",
        "            epoch_loss += loss.item()\n",
        "            lr_values.append(lr)  # Append calculated lr\n",
        "            step += 1\n",
        "\n",
        "            # Periodic Evaluation\n",
        "            if step % eval_freq == 0:\n",
        "                val_loss, _ = evaluate_model(model, val_loader)\n",
        "                val_losses.append(val_loss)\n",
        "                print(f\"Epoch {epoch+epoch_step}, Step {step} | Val Loss: {val_loss:.4f}\")\n",
        "\n",
        "        train_losses.append(epoch_loss / len(train_loader))\n",
        "        print(f\"Epoch {epoch+epoch_step} Training Loss: {epoch_loss / len(train_loader):.4f}\")\n",
        "\n",
        "    return train_losses, val_losses, lr_values"
      ],
      "metadata": {
        "id": "6BV_G5WNTWqM"
      },
      "execution_count": 7,
      "outputs": []
    },
    {
      "cell_type": "markdown",
      "source": [
        "### Step 4"
      ],
      "metadata": {
        "id": "I2TGW8ARTeQF"
      }
    },
    {
      "cell_type": "code",
      "source": [
        "def evaluate_model(model, val_loader):\n",
        "    \"\"\"Evaluate model on validation set.\"\"\"\n",
        "    model.eval()\n",
        "    val_loss = 0\n",
        "\n",
        "    with torch.no_grad():\n",
        "        for batch_inputs, batch_targets in val_loader:\n",
        "            batch_inputs, batch_targets = batch_inputs.to(device), batch_targets.to(device)\n",
        "            outputs = model(batch_inputs)\n",
        "\n",
        "            loss_fn = nn.CrossEntropyLoss()\n",
        "            loss = loss_fn(outputs.view(-1, outputs.size(-1)), batch_targets.view(-1))\n",
        "            val_loss += loss.item()\n",
        "\n",
        "    return val_loss / len(val_loader), torch.exp(loss)"
      ],
      "metadata": {
        "id": "a_KwPDO0Tf9N"
      },
      "execution_count": 6,
      "outputs": []
    },
    {
      "cell_type": "markdown",
      "source": [
        "### Step 5"
      ],
      "metadata": {
        "id": "5ff2aa_bTjJl"
      }
    },
    {
      "cell_type": "code",
      "source": [
        "# FOR EPOCH 1\n",
        "\n",
        "import torch.optim as optim # Import the optim module from torch\n",
        "import matplotlib.pyplot as plt # Import matplotlib for plotting\n",
        "# Hyperparameters\n",
        "n_epochs = 1\n",
        "warmup_steps = 100\n",
        "initial_lr = 1e-4\n",
        "min_lr = 1e-6\n",
        "eval_freq = 200\n",
        "clip_value = 1.0\n",
        "k = 5\n",
        "temperature = 0.8\n",
        "\n",
        "optimizer = optim.AdamW(model.parameters(), lr=initial_lr) # Now optim is defined\n",
        "train_losses, val_losses, lr_values = train_model(\n",
        "    model, train_loader, val_loader, optimizer,\n",
        "    n_epochs=n_epochs,\n",
        "    warmup_steps=warmup_steps,\n",
        "    initial_lr=initial_lr,\n",
        "    min_lr=min_lr,\n",
        "    eval_freq=eval_freq,\n",
        "    clip_value=clip_value,\n",
        "    k=k,\n",
        "    temperature=temperature\n",
        ")\n",
        "\n",
        "# Plotting Learning Rate and Loss\n",
        "plt.figure(figsize=(10, 4))\n",
        "plt.subplot(1, 2, 1)\n",
        "plt.plot(lr_values)\n",
        "plt.xlabel(\"Steps\")\n",
        "plt.ylabel(\"Learning Rate\")\n",
        "plt.title(\"Learning Rate Schedule\")\n",
        "\n",
        "plt.subplot(1, 2, 2)\n",
        "plt.plot(train_losses, label=\"Train Loss\")\n",
        "plt.plot(val_losses, label=\"Val Loss\")\n",
        "plt.xlabel(\"Epochs\")\n",
        "plt.ylabel(\"Loss\")\n",
        "plt.legend()\n",
        "plt.title(\"Validation Losses\")\n",
        "\n",
        "plt.tight_layout()\n",
        "plt.show()"
      ],
      "metadata": {
        "colab": {
          "base_uri": "https://localhost:8080/",
          "height": 771
        },
        "id": "WCp9cy0XTlDm",
        "outputId": "de6386f3-2a5b-465f-bb88-11f16bc69afe"
      },
      "execution_count": null,
      "outputs": [
        {
          "output_type": "stream",
          "name": "stdout",
          "text": [
            "Epoch 1, Step 200 | Val Loss: 8.0272\n",
            "Epoch 1, Step 400 | Val Loss: 7.5128\n",
            "Epoch 1, Step 600 | Val Loss: 7.2787\n",
            "Epoch 1, Step 800 | Val Loss: 7.1086\n",
            "Epoch 1, Step 1000 | Val Loss: 6.9770\n",
            "Epoch 1, Step 1200 | Val Loss: 6.7533\n",
            "Epoch 1, Step 1400 | Val Loss: 6.0772\n",
            "Epoch 1, Step 1600 | Val Loss: 5.5866\n",
            "Epoch 1, Step 1800 | Val Loss: 5.2614\n",
            "Epoch 1, Step 2000 | Val Loss: 4.9838\n",
            "Epoch 1, Step 2200 | Val Loss: 4.7328\n",
            "Epoch 1, Step 2400 | Val Loss: 4.5211\n",
            "Epoch 1, Step 2600 | Val Loss: 4.3464\n",
            "Epoch 1, Step 2800 | Val Loss: 4.2086\n",
            "Epoch 1, Step 3000 | Val Loss: 4.1050\n",
            "Epoch 1, Step 3200 | Val Loss: 4.0301\n",
            "Epoch 1, Step 3400 | Val Loss: 3.9785\n",
            "Epoch 1, Step 3600 | Val Loss: 3.9453\n",
            "Epoch 1, Step 3800 | Val Loss: 3.9259\n",
            "Epoch 1, Step 4000 | Val Loss: 3.9163\n",
            "Epoch 1 Training Loss: 2.7247\n"
          ]
        },
        {
          "output_type": "display_data",
          "data": {
            "text/plain": [
              "<Figure size 1000x400 with 2 Axes>"
            ],
            "image/png": "[encoded data removed]"
          },
          "metadata": {}
        }
      ]
    },
    {
      "cell_type": "code",
      "source": [
        "plt.subplot(1, 2, 2)\n",
        "plt.plot(val_losses, label=\"Val Loss\")\n",
        "plt.xlabel(\"Epochs\")\n",
        "plt.ylabel(\"Loss\")\n",
        "plt.legend()\n",
        "plt.title(\"Validation Losses\")\n",
        "\n",
        "plt.tight_layout()\n",
        "plt.show()"
      ],
      "metadata": {
        "colab": {
          "base_uri": "https://localhost:8080/",
          "height": 487
        },
        "id": "BQnW0N6HnTeO",
        "outputId": "8bdfc402-a262-4368-dbe6-d6a422945f0e"
      },
      "execution_count": null,
      "outputs": [
        {
          "output_type": "display_data",
          "data": {
            "text/plain": [
              "<Figure size 640x480 with 1 Axes>"
            ],
            "image/png": "[encoded data removed]"
          },
          "metadata": {}
        }
      ]
    },
    {
      "cell_type": "markdown",
      "source": [
        "### Saving model checkpoint for the next epoch"
      ],
      "metadata": {
        "id": "_67POWLHth84"
      }
    },
    {
      "cell_type": "code",
      "source": [
        "import torch\n",
        "\n",
        "def save_checkpoint(model, optimizer, epoch, lr_values, train_losses, val_losses, path=\"model_checkpoint_epoch2.pth\"):\n",
        "    checkpoint = {\n",
        "        'epoch': epoch,\n",
        "        'model_state_dict': model.state_dict(),\n",
        "        'optimizer_state_dict': optimizer.state_dict(),\n",
        "        'lr_values': lr_values,\n",
        "        'train_losses': train_losses,\n",
        "        'val_losses': val_losses,\n",
        "        # Add model_config to the checkpoint\n",
        "        'model_config': {\n",
        "            'vocab_size': model.tok_emb.num_embeddings, # Access vocab_size from tok_emb\n",
        "            'embed_size': model.tok_emb.embedding_dim, # Access embed_size from tok_emb\n",
        "            'num_heads': config['n_heads'], # Access num_heads from the config\n",
        "            'num_layers': config['n_layers'], # Access num_layers from the config\n",
        "            'max_seq_len': config['context_length']  # Access max_seq_len (context_length) from config\n",
        "        }\n",
        "    }\n",
        "    torch.save(checkpoint, path)\n",
        "    print(\"Checkpoint saved successfully!\")\n",
        "\n",
        "# Save after training completes\n",
        "save_checkpoint(model, optimizer, n_epochs, lr_values, train_losses, val_losses)"
      ],
      "metadata": {
        "colab": {
          "base_uri": "https://localhost:8080/"
        },
        "id": "D6on2w_jttmj",
        "outputId": "edcc19f1-6f3c-414b-c6e7-88fdd719f9cb"
      },
      "execution_count": 12,
      "outputs": [
        {
          "output_type": "stream",
          "name": "stdout",
          "text": [
            "Checkpoint saved successfully!\n"
          ]
        }
      ]
    },
    {
      "cell_type": "markdown",
      "source": [
        "### Inspect Checkpoint file"
      ],
      "metadata": {
        "id": "gwAwTXfuuFvn"
      }
    },
    {
      "cell_type": "code",
      "source": [
        "# For Epoch 1\n",
        "\n",
        "import torch\n",
        "\n",
        "# Load the checkpoint\n",
        "checkpoint_path = \"model_checkpoint_epoch1.pth\"\n",
        "checkpoint = torch.load(checkpoint_path)\n",
        "\n",
        "# Extract and print details\n",
        "print(\"----- Checkpoint Details -----\")\n",
        "print(f\"Last Completed Epoch: {checkpoint['epoch']}\")\n",
        "print(f\"Total Training Steps: {checkpoint.get('step', 'N/A')}\")\n",
        "print(f\"Current Learning Rate: {checkpoint['optimizer_state_dict']['param_groups'][0]['lr']}\")\n",
        "print(f\"Training Loss at Save: {checkpoint.get('train_loss', 'N/A')}\")\n",
        "print(f\"Validation Loss at Save: {checkpoint.get('val_loss', 'N/A')}\")\n",
        "print(f\"Model Hyperparameters: {checkpoint['model_config']}\")\n",
        "\n",
        "# Check model state_dict keys\n",
        "print(\"\\n----- Model State Dict Keys -----\")\n",
        "print(list(checkpoint['model_state_dict'].keys()))\n"
      ],
      "metadata": {
        "id": "E9qhNrQltxDw",
        "colab": {
          "base_uri": "https://localhost:8080/"
        },
        "outputId": "09cacf93-2f90-4277-e101-a0b551e2a8c8"
      },
      "execution_count": null,
      "outputs": [
        {
          "output_type": "stream",
          "name": "stdout",
          "text": [
            "----- Checkpoint Details -----\n",
            "Last Completed Epoch: 1\n",
            "Total Training Steps: N/A\n",
            "Current Learning Rate: 1.0000581539231629e-06\n",
            "Training Loss at Save: N/A\n",
            "Validation Loss at Save: N/A\n",
            "Model Hyperparameters: {'vocab_size': 100277, 'embed_size': 256, 'num_heads': 16, 'num_layers': 16, 'max_seq_len': 1024}\n",
            "\n",
            "----- Model State Dict Keys -----\n",
            "['tok_emb.weight', 'pos_emb.weight', 'layers.0.attention.query.weight', 'layers.0.attention.query.bias', 'layers.0.attention.key.weight', 'layers.0.attention.key.bias', 'layers.0.attention.value.weight', 'layers.0.attention.value.bias', 'layers.0.attention.fc_out.weight', 'layers.0.attention.fc_out.bias', 'layers.0.norm1.scale', 'layers.0.norm1.shift', 'layers.0.ffn.net.0.weight', 'layers.0.ffn.net.0.bias', 'layers.0.ffn.net.2.weight', 'layers.0.ffn.net.2.bias', 'layers.0.norm2.scale', 'layers.0.norm2.shift', 'layers.1.attention.query.weight', 'layers.1.attention.query.bias', 'layers.1.attention.key.weight', 'layers.1.attention.key.bias', 'layers.1.attention.value.weight', 'layers.1.attention.value.bias', 'layers.1.attention.fc_out.weight', 'layers.1.attention.fc_out.bias', 'layers.1.norm1.scale', 'layers.1.norm1.shift', 'layers.1.ffn.net.0.weight', 'layers.1.ffn.net.0.bias', 'layers.1.ffn.net.2.weight', 'layers.1.ffn.net.2.bias', 'layers.1.norm2.scale', 'layers.1.norm2.shift', 'layers.2.attention.query.weight', 'layers.2.attention.query.bias', 'layers.2.attention.key.weight', 'layers.2.attention.key.bias', 'layers.2.attention.value.weight', 'layers.2.attention.value.bias', 'layers.2.attention.fc_out.weight', 'layers.2.attention.fc_out.bias', 'layers.2.norm1.scale', 'layers.2.norm1.shift', 'layers.2.ffn.net.0.weight', 'layers.2.ffn.net.0.bias', 'layers.2.ffn.net.2.weight', 'layers.2.ffn.net.2.bias', 'layers.2.norm2.scale', 'layers.2.norm2.shift', 'layers.3.attention.query.weight', 'layers.3.attention.query.bias', 'layers.3.attention.key.weight', 'layers.3.attention.key.bias', 'layers.3.attention.value.weight', 'layers.3.attention.value.bias', 'layers.3.attention.fc_out.weight', 'layers.3.attention.fc_out.bias', 'layers.3.norm1.scale', 'layers.3.norm1.shift', 'layers.3.ffn.net.0.weight', 'layers.3.ffn.net.0.bias', 'layers.3.ffn.net.2.weight', 'layers.3.ffn.net.2.bias', 'layers.3.norm2.scale', 'layers.3.norm2.shift', 'layers.4.attention.query.weight', 'layers.4.attention.query.bias', 'layers.4.attention.key.weight', 'layers.4.attention.key.bias', 'layers.4.attention.value.weight', 'layers.4.attention.value.bias', 'layers.4.attention.fc_out.weight', 'layers.4.attention.fc_out.bias', 'layers.4.norm1.scale', 'layers.4.norm1.shift', 'layers.4.ffn.net.0.weight', 'layers.4.ffn.net.0.bias', 'layers.4.ffn.net.2.weight', 'layers.4.ffn.net.2.bias', 'layers.4.norm2.scale', 'layers.4.norm2.shift', 'layers.5.attention.query.weight', 'layers.5.attention.query.bias', 'layers.5.attention.key.weight', 'layers.5.attention.key.bias', 'layers.5.attention.value.weight', 'layers.5.attention.value.bias', 'layers.5.attention.fc_out.weight', 'layers.5.attention.fc_out.bias', 'layers.5.norm1.scale', 'layers.5.norm1.shift', 'layers.5.ffn.net.0.weight', 'layers.5.ffn.net.0.bias', 'layers.5.ffn.net.2.weight', 'layers.5.ffn.net.2.bias', 'layers.5.norm2.scale', 'layers.5.norm2.shift', 'layers.6.attention.query.weight', 'layers.6.attention.query.bias', 'layers.6.attention.key.weight', 'layers.6.attention.key.bias', 'layers.6.attention.value.weight', 'layers.6.attention.value.bias', 'layers.6.attention.fc_out.weight', 'layers.6.attention.fc_out.bias', 'layers.6.norm1.scale', 'layers.6.norm1.shift', 'layers.6.ffn.net.0.weight', 'layers.6.ffn.net.0.bias', 'layers.6.ffn.net.2.weight', 'layers.6.ffn.net.2.bias', 'layers.6.norm2.scale', 'layers.6.norm2.shift', 'layers.7.attention.query.weight', 'layers.7.attention.query.bias', 'layers.7.attention.key.weight', 'layers.7.attention.key.bias', 'layers.7.attention.value.weight', 'layers.7.attention.value.bias', 'layers.7.attention.fc_out.weight', 'layers.7.attention.fc_out.bias', 'layers.7.norm1.scale', 'layers.7.norm1.shift', 'layers.7.ffn.net.0.weight', 'layers.7.ffn.net.0.bias', 'layers.7.ffn.net.2.weight', 'layers.7.ffn.net.2.bias', 'layers.7.norm2.scale', 'layers.7.norm2.shift', 'layers.8.attention.query.weight', 'layers.8.attention.query.bias', 'layers.8.attention.key.weight', 'layers.8.attention.key.bias', 'layers.8.attention.value.weight', 'layers.8.attention.value.bias', 'layers.8.attention.fc_out.weight', 'layers.8.attention.fc_out.bias', 'layers.8.norm1.scale', 'layers.8.norm1.shift', 'layers.8.ffn.net.0.weight', 'layers.8.ffn.net.0.bias', 'layers.8.ffn.net.2.weight', 'layers.8.ffn.net.2.bias', 'layers.8.norm2.scale', 'layers.8.norm2.shift', 'layers.9.attention.query.weight', 'layers.9.attention.query.bias', 'layers.9.attention.key.weight', 'layers.9.attention.key.bias', 'layers.9.attention.value.weight', 'layers.9.attention.value.bias', 'layers.9.attention.fc_out.weight', 'layers.9.attention.fc_out.bias', 'layers.9.norm1.scale', 'layers.9.norm1.shift', 'layers.9.ffn.net.0.weight', 'layers.9.ffn.net.0.bias', 'layers.9.ffn.net.2.weight', 'layers.9.ffn.net.2.bias', 'layers.9.norm2.scale', 'layers.9.norm2.shift', 'layers.10.attention.query.weight', 'layers.10.attention.query.bias', 'layers.10.attention.key.weight', 'layers.10.attention.key.bias', 'layers.10.attention.value.weight', 'layers.10.attention.value.bias', 'layers.10.attention.fc_out.weight', 'layers.10.attention.fc_out.bias', 'layers.10.norm1.scale', 'layers.10.norm1.shift', 'layers.10.ffn.net.0.weight', 'layers.10.ffn.net.0.bias', 'layers.10.ffn.net.2.weight', 'layers.10.ffn.net.2.bias', 'layers.10.norm2.scale', 'layers.10.norm2.shift', 'layers.11.attention.query.weight', 'layers.11.attention.query.bias', 'layers.11.attention.key.weight', 'layers.11.attention.key.bias', 'layers.11.attention.value.weight', 'layers.11.attention.value.bias', 'layers.11.attention.fc_out.weight', 'layers.11.attention.fc_out.bias', 'layers.11.norm1.scale', 'layers.11.norm1.shift', 'layers.11.ffn.net.0.weight', 'layers.11.ffn.net.0.bias', 'layers.11.ffn.net.2.weight', 'layers.11.ffn.net.2.bias', 'layers.11.norm2.scale', 'layers.11.norm2.shift', 'layers.12.attention.query.weight', 'layers.12.attention.query.bias', 'layers.12.attention.key.weight', 'layers.12.attention.key.bias', 'layers.12.attention.value.weight', 'layers.12.attention.value.bias', 'layers.12.attention.fc_out.weight', 'layers.12.attention.fc_out.bias', 'layers.12.norm1.scale', 'layers.12.norm1.shift', 'layers.12.ffn.net.0.weight', 'layers.12.ffn.net.0.bias', 'layers.12.ffn.net.2.weight', 'layers.12.ffn.net.2.bias', 'layers.12.norm2.scale', 'layers.12.norm2.shift', 'layers.13.attention.query.weight', 'layers.13.attention.query.bias', 'layers.13.attention.key.weight', 'layers.13.attention.key.bias', 'layers.13.attention.value.weight', 'layers.13.attention.value.bias', 'layers.13.attention.fc_out.weight', 'layers.13.attention.fc_out.bias', 'layers.13.norm1.scale', 'layers.13.norm1.shift', 'layers.13.ffn.net.0.weight', 'layers.13.ffn.net.0.bias', 'layers.13.ffn.net.2.weight', 'layers.13.ffn.net.2.bias', 'layers.13.norm2.scale', 'layers.13.norm2.shift', 'layers.14.attention.query.weight', 'layers.14.attention.query.bias', 'layers.14.attention.key.weight', 'layers.14.attention.key.bias', 'layers.14.attention.value.weight', 'layers.14.attention.value.bias', 'layers.14.attention.fc_out.weight', 'layers.14.attention.fc_out.bias', 'layers.14.norm1.scale', 'layers.14.norm1.shift', 'layers.14.ffn.net.0.weight', 'layers.14.ffn.net.0.bias', 'layers.14.ffn.net.2.weight', 'layers.14.ffn.net.2.bias', 'layers.14.norm2.scale', 'layers.14.norm2.shift', 'layers.15.attention.query.weight', 'layers.15.attention.query.bias', 'layers.15.attention.key.weight', 'layers.15.attention.key.bias', 'layers.15.attention.value.weight', 'layers.15.attention.value.bias', 'layers.15.attention.fc_out.weight', 'layers.15.attention.fc_out.bias', 'layers.15.norm1.scale', 'layers.15.norm1.shift', 'layers.15.ffn.net.0.weight', 'layers.15.ffn.net.0.bias', 'layers.15.ffn.net.2.weight', 'layers.15.ffn.net.2.bias', 'layers.15.norm2.scale', 'layers.15.norm2.shift', 'norm.scale', 'norm.shift', 'fc_out.weight']\n"
          ]
        }
      ]
    },
    {
      "cell_type": "code",
      "source": [
        "# For Epoch 2\n",
        "\n",
        "import torch\n",
        "\n",
        "# Load the checkpoint\n",
        "checkpoint_path = \"model_checkpoint_epoch2.pth\"\n",
        "checkpoint = torch.load(checkpoint_path)\n",
        "\n",
        "# Extract and print details\n",
        "print(\"----- Checkpoint Details -----\")\n",
        "print(f\"Last Completed Epoch: {checkpoint['epoch']}\")\n",
        "print(f\"Total Training Steps: {checkpoint.get('step', 'N/A')}\")\n",
        "print(f\"Current Learning Rate: {checkpoint['optimizer_state_dict']['param_groups'][0]['lr']}\")\n",
        "print(f\"Training Loss at Save: {checkpoint.get('train_loss', 'N/A')}\")\n",
        "print(f\"Validation Loss at Save: {checkpoint.get('val_loss', 'N/A')}\")\n",
        "print(f\"Model Hyperparameters: {checkpoint['model_config']}\")\n",
        "\n",
        "# Check model state_dict keys\n",
        "print(\"\\n----- Model State Dict Keys -----\")\n",
        "print(list(checkpoint['model_state_dict'].keys()))\n"
      ],
      "metadata": {
        "colab": {
          "base_uri": "https://localhost:8080/"
        },
        "id": "eqJMWEi3VzZx",
        "outputId": "0b8d66b3-2413-429b-aaf9-6eb5f09ce92e"
      },
      "execution_count": 13,
      "outputs": [
        {
          "output_type": "stream",
          "name": "stdout",
          "text": [
            "----- Checkpoint Details -----\n",
            "Last Completed Epoch: 1\n",
            "Total Training Steps: N/A\n",
            "Current Learning Rate: 1.0000581539231629e-06\n",
            "Training Loss at Save: N/A\n",
            "Validation Loss at Save: N/A\n",
            "Model Hyperparameters: {'vocab_size': 100277, 'embed_size': 256, 'num_heads': 16, 'num_layers': 16, 'max_seq_len': 1024}\n",
            "\n",
            "----- Model State Dict Keys -----\n",
            "['tok_emb.weight', 'pos_emb.weight', 'layers.0.attention.query.weight', 'layers.0.attention.query.bias', 'layers.0.attention.key.weight', 'layers.0.attention.key.bias', 'layers.0.attention.value.weight', 'layers.0.attention.value.bias', 'layers.0.attention.fc_out.weight', 'layers.0.attention.fc_out.bias', 'layers.0.norm1.scale', 'layers.0.norm1.shift', 'layers.0.ffn.net.0.weight', 'layers.0.ffn.net.0.bias', 'layers.0.ffn.net.2.weight', 'layers.0.ffn.net.2.bias', 'layers.0.norm2.scale', 'layers.0.norm2.shift', 'layers.1.attention.query.weight', 'layers.1.attention.query.bias', 'layers.1.attention.key.weight', 'layers.1.attention.key.bias', 'layers.1.attention.value.weight', 'layers.1.attention.value.bias', 'layers.1.attention.fc_out.weight', 'layers.1.attention.fc_out.bias', 'layers.1.norm1.scale', 'layers.1.norm1.shift', 'layers.1.ffn.net.0.weight', 'layers.1.ffn.net.0.bias', 'layers.1.ffn.net.2.weight', 'layers.1.ffn.net.2.bias', 'layers.1.norm2.scale', 'layers.1.norm2.shift', 'layers.2.attention.query.weight', 'layers.2.attention.query.bias', 'layers.2.attention.key.weight', 'layers.2.attention.key.bias', 'layers.2.attention.value.weight', 'layers.2.attention.value.bias', 'layers.2.attention.fc_out.weight', 'layers.2.attention.fc_out.bias', 'layers.2.norm1.scale', 'layers.2.norm1.shift', 'layers.2.ffn.net.0.weight', 'layers.2.ffn.net.0.bias', 'layers.2.ffn.net.2.weight', 'layers.2.ffn.net.2.bias', 'layers.2.norm2.scale', 'layers.2.norm2.shift', 'layers.3.attention.query.weight', 'layers.3.attention.query.bias', 'layers.3.attention.key.weight', 'layers.3.attention.key.bias', 'layers.3.attention.value.weight', 'layers.3.attention.value.bias', 'layers.3.attention.fc_out.weight', 'layers.3.attention.fc_out.bias', 'layers.3.norm1.scale', 'layers.3.norm1.shift', 'layers.3.ffn.net.0.weight', 'layers.3.ffn.net.0.bias', 'layers.3.ffn.net.2.weight', 'layers.3.ffn.net.2.bias', 'layers.3.norm2.scale', 'layers.3.norm2.shift', 'layers.4.attention.query.weight', 'layers.4.attention.query.bias', 'layers.4.attention.key.weight', 'layers.4.attention.key.bias', 'layers.4.attention.value.weight', 'layers.4.attention.value.bias', 'layers.4.attention.fc_out.weight', 'layers.4.attention.fc_out.bias', 'layers.4.norm1.scale', 'layers.4.norm1.shift', 'layers.4.ffn.net.0.weight', 'layers.4.ffn.net.0.bias', 'layers.4.ffn.net.2.weight', 'layers.4.ffn.net.2.bias', 'layers.4.norm2.scale', 'layers.4.norm2.shift', 'layers.5.attention.query.weight', 'layers.5.attention.query.bias', 'layers.5.attention.key.weight', 'layers.5.attention.key.bias', 'layers.5.attention.value.weight', 'layers.5.attention.value.bias', 'layers.5.attention.fc_out.weight', 'layers.5.attention.fc_out.bias', 'layers.5.norm1.scale', 'layers.5.norm1.shift', 'layers.5.ffn.net.0.weight', 'layers.5.ffn.net.0.bias', 'layers.5.ffn.net.2.weight', 'layers.5.ffn.net.2.bias', 'layers.5.norm2.scale', 'layers.5.norm2.shift', 'layers.6.attention.query.weight', 'layers.6.attention.query.bias', 'layers.6.attention.key.weight', 'layers.6.attention.key.bias', 'layers.6.attention.value.weight', 'layers.6.attention.value.bias', 'layers.6.attention.fc_out.weight', 'layers.6.attention.fc_out.bias', 'layers.6.norm1.scale', 'layers.6.norm1.shift', 'layers.6.ffn.net.0.weight', 'layers.6.ffn.net.0.bias', 'layers.6.ffn.net.2.weight', 'layers.6.ffn.net.2.bias', 'layers.6.norm2.scale', 'layers.6.norm2.shift', 'layers.7.attention.query.weight', 'layers.7.attention.query.bias', 'layers.7.attention.key.weight', 'layers.7.attention.key.bias', 'layers.7.attention.value.weight', 'layers.7.attention.value.bias', 'layers.7.attention.fc_out.weight', 'layers.7.attention.fc_out.bias', 'layers.7.norm1.scale', 'layers.7.norm1.shift', 'layers.7.ffn.net.0.weight', 'layers.7.ffn.net.0.bias', 'layers.7.ffn.net.2.weight', 'layers.7.ffn.net.2.bias', 'layers.7.norm2.scale', 'layers.7.norm2.shift', 'layers.8.attention.query.weight', 'layers.8.attention.query.bias', 'layers.8.attention.key.weight', 'layers.8.attention.key.bias', 'layers.8.attention.value.weight', 'layers.8.attention.value.bias', 'layers.8.attention.fc_out.weight', 'layers.8.attention.fc_out.bias', 'layers.8.norm1.scale', 'layers.8.norm1.shift', 'layers.8.ffn.net.0.weight', 'layers.8.ffn.net.0.bias', 'layers.8.ffn.net.2.weight', 'layers.8.ffn.net.2.bias', 'layers.8.norm2.scale', 'layers.8.norm2.shift', 'layers.9.attention.query.weight', 'layers.9.attention.query.bias', 'layers.9.attention.key.weight', 'layers.9.attention.key.bias', 'layers.9.attention.value.weight', 'layers.9.attention.value.bias', 'layers.9.attention.fc_out.weight', 'layers.9.attention.fc_out.bias', 'layers.9.norm1.scale', 'layers.9.norm1.shift', 'layers.9.ffn.net.0.weight', 'layers.9.ffn.net.0.bias', 'layers.9.ffn.net.2.weight', 'layers.9.ffn.net.2.bias', 'layers.9.norm2.scale', 'layers.9.norm2.shift', 'layers.10.attention.query.weight', 'layers.10.attention.query.bias', 'layers.10.attention.key.weight', 'layers.10.attention.key.bias', 'layers.10.attention.value.weight', 'layers.10.attention.value.bias', 'layers.10.attention.fc_out.weight', 'layers.10.attention.fc_out.bias', 'layers.10.norm1.scale', 'layers.10.norm1.shift', 'layers.10.ffn.net.0.weight', 'layers.10.ffn.net.0.bias', 'layers.10.ffn.net.2.weight', 'layers.10.ffn.net.2.bias', 'layers.10.norm2.scale', 'layers.10.norm2.shift', 'layers.11.attention.query.weight', 'layers.11.attention.query.bias', 'layers.11.attention.key.weight', 'layers.11.attention.key.bias', 'layers.11.attention.value.weight', 'layers.11.attention.value.bias', 'layers.11.attention.fc_out.weight', 'layers.11.attention.fc_out.bias', 'layers.11.norm1.scale', 'layers.11.norm1.shift', 'layers.11.ffn.net.0.weight', 'layers.11.ffn.net.0.bias', 'layers.11.ffn.net.2.weight', 'layers.11.ffn.net.2.bias', 'layers.11.norm2.scale', 'layers.11.norm2.shift', 'layers.12.attention.query.weight', 'layers.12.attention.query.bias', 'layers.12.attention.key.weight', 'layers.12.attention.key.bias', 'layers.12.attention.value.weight', 'layers.12.attention.value.bias', 'layers.12.attention.fc_out.weight', 'layers.12.attention.fc_out.bias', 'layers.12.norm1.scale', 'layers.12.norm1.shift', 'layers.12.ffn.net.0.weight', 'layers.12.ffn.net.0.bias', 'layers.12.ffn.net.2.weight', 'layers.12.ffn.net.2.bias', 'layers.12.norm2.scale', 'layers.12.norm2.shift', 'layers.13.attention.query.weight', 'layers.13.attention.query.bias', 'layers.13.attention.key.weight', 'layers.13.attention.key.bias', 'layers.13.attention.value.weight', 'layers.13.attention.value.bias', 'layers.13.attention.fc_out.weight', 'layers.13.attention.fc_out.bias', 'layers.13.norm1.scale', 'layers.13.norm1.shift', 'layers.13.ffn.net.0.weight', 'layers.13.ffn.net.0.bias', 'layers.13.ffn.net.2.weight', 'layers.13.ffn.net.2.bias', 'layers.13.norm2.scale', 'layers.13.norm2.shift', 'layers.14.attention.query.weight', 'layers.14.attention.query.bias', 'layers.14.attention.key.weight', 'layers.14.attention.key.bias', 'layers.14.attention.value.weight', 'layers.14.attention.value.bias', 'layers.14.attention.fc_out.weight', 'layers.14.attention.fc_out.bias', 'layers.14.norm1.scale', 'layers.14.norm1.shift', 'layers.14.ffn.net.0.weight', 'layers.14.ffn.net.0.bias', 'layers.14.ffn.net.2.weight', 'layers.14.ffn.net.2.bias', 'layers.14.norm2.scale', 'layers.14.norm2.shift', 'layers.15.attention.query.weight', 'layers.15.attention.query.bias', 'layers.15.attention.key.weight', 'layers.15.attention.key.bias', 'layers.15.attention.value.weight', 'layers.15.attention.value.bias', 'layers.15.attention.fc_out.weight', 'layers.15.attention.fc_out.bias', 'layers.15.norm1.scale', 'layers.15.norm1.shift', 'layers.15.ffn.net.0.weight', 'layers.15.ffn.net.0.bias', 'layers.15.ffn.net.2.weight', 'layers.15.ffn.net.2.bias', 'layers.15.norm2.scale', 'layers.15.norm2.shift', 'norm.scale', 'norm.shift', 'fc_out.weight']\n"
          ]
        }
      ]
    },
    {
      "cell_type": "markdown",
      "source": [
        "### Load and Resume Training\n",
        "\n",
        "Run Step 1 to 4 before running this cell, upload all the .pth files"
      ],
      "metadata": {
        "id": "HOoxq0PSuNBE"
      }
    },
    {
      "cell_type": "code",
      "source": [
        "import torch\n",
        "import torch.optim as optim # Import the optim module from torch\n",
        "\n",
        "# Define initial_lr here\n",
        "initial_lr = 1e-4  # or any desired value\n",
        "\n",
        "# Change the name of checkpoint file based on epoch number\n",
        "def load_checkpoint(model, optimizer, path=\"model_checkpoint_epoch1.pth\"):\n",
        "    checkpoint = torch.load(path)\n",
        "\n",
        "    # Load saved states\n",
        "    model.load_state_dict(checkpoint['model_state_dict'])\n",
        "    optimizer.load_state_dict(checkpoint['optimizer_state_dict'])\n",
        "\n",
        "    epoch = checkpoint['epoch']\n",
        "    lr_values = checkpoint['lr_values']\n",
        "    train_losses = checkpoint['train_losses']\n",
        "    val_losses = checkpoint['val_losses']\n",
        "\n",
        "    print(f\"Checkpoint loaded. Resuming from epoch {epoch + 1}\")\n",
        "    return epoch, lr_values, train_losses, val_losses\n",
        "\n",
        "# Create optimizer first\n",
        "optimizer = optim.AdamW(model.parameters(), lr=initial_lr)\n",
        "\n",
        "# Load model, optimizer, and states\n",
        "start_epoch, lr_values, train_losses, val_losses = load_checkpoint(model, optimizer)\n"
      ],
      "metadata": {
        "id": "S59sHzAHuPX1",
        "colab": {
          "base_uri": "https://localhost:8080/"
        },
        "outputId": "0b8e320d-eda1-4372-dee8-35dc866ed992"
      },
      "execution_count": 8,
      "outputs": [
        {
          "output_type": "stream",
          "name": "stdout",
          "text": [
            "Checkpoint loaded. Resuming from epoch 2\n"
          ]
        }
      ]
    },
    {
      "cell_type": "code",
      "source": [
        "# Before running this cell run the cell somewhere up where train_model() is defined\n",
        "\n",
        "# This is for Epoch 2 ignore 1 in the output\n",
        "\n",
        "n_epochs = 1\n",
        "warmup_steps = 100\n",
        "initial_lr = 1e-4\n",
        "min_lr = 1e-6\n",
        "eval_freq = 200\n",
        "clip_value = 1.0\n",
        "k = 5\n",
        "temperature = 0.8\n",
        "\n",
        "# Resume training from the loaded epoch\n",
        "train_losses, val_losses, lr_values = train_model(\n",
        "    model, train_loader, val_loader, optimizer,\n",
        "    n_epochs=n_epochs,  # Continue from where left off\n",
        "    warmup_steps=warmup_steps,\n",
        "    initial_lr=initial_lr,\n",
        "    min_lr=min_lr,\n",
        "    eval_freq=eval_freq,\n",
        "    clip_value=clip_value,\n",
        "    k=k,\n",
        "    temperature=temperature\n",
        ")\n"
      ],
      "metadata": {
        "id": "ZH5j7EdkuQMH",
        "colab": {
          "base_uri": "https://localhost:8080/"
        },
        "outputId": "ed1c97aa-6a4e-44bb-bf3a-b6b352cac59f"
      },
      "execution_count": 9,
      "outputs": [
        {
          "output_type": "stream",
          "name": "stdout",
          "text": [
            "Epoch 1, Step 200 | Val Loss: 3.6037\n",
            "Epoch 1, Step 400 | Val Loss: 3.2421\n",
            "Epoch 1, Step 600 | Val Loss: 2.9321\n",
            "Epoch 1, Step 800 | Val Loss: 2.6534\n",
            "Epoch 1, Step 1000 | Val Loss: 2.4047\n",
            "Epoch 1, Step 1200 | Val Loss: 2.1908\n",
            "Epoch 1, Step 1400 | Val Loss: 2.0107\n",
            "Epoch 1, Step 1600 | Val Loss: 1.8526\n",
            "Epoch 1, Step 1800 | Val Loss: 1.7190\n",
            "Epoch 1, Step 2000 | Val Loss: 1.6131\n",
            "Epoch 1, Step 2200 | Val Loss: 1.5230\n",
            "Epoch 1, Step 2400 | Val Loss: 1.4480\n",
            "Epoch 1, Step 2600 | Val Loss: 1.3906\n",
            "Epoch 1, Step 2800 | Val Loss: 1.3450\n",
            "Epoch 1, Step 3000 | Val Loss: 1.3111\n",
            "Epoch 1, Step 3200 | Val Loss: 1.2845\n",
            "Epoch 1, Step 3400 | Val Loss: 1.2670\n",
            "Epoch 1, Step 3600 | Val Loss: 1.2555\n",
            "Epoch 1, Step 3800 | Val Loss: 1.2489\n",
            "Epoch 1, Step 4000 | Val Loss: 1.2455\n",
            "Epoch 2 Training Loss: 0.9593\n"
          ]
        }
      ]
    },
    {
      "cell_type": "code",
      "source": [
        "# Plotting Learning Rate and Loss\n",
        "import matplotlib.pyplot as plt\n",
        "\n",
        "plt.figure(figsize=(10, 4))\n",
        "plt.subplot(1, 2, 1)\n",
        "plt.plot(lr_values)\n",
        "plt.xlabel(\"Steps\")\n",
        "plt.ylabel(\"Learning Rate\")\n",
        "plt.title(\"Learning Rate Schedule\")\n",
        "\n",
        "plt.subplot(1, 2, 2)\n",
        "plt.plot(val_losses, label=\"Val Loss\")\n",
        "plt.xlabel(\"Epochs\")\n",
        "plt.ylabel(\"Loss\")\n",
        "plt.legend()\n",
        "plt.title(\"Validation Losses\")\n",
        "\n",
        "plt.tight_layout()\n",
        "plt.show()\n",
        "\n",
        "# Go to Step -> Saving model checkpoint for the next epoch\n",
        "# No need to run Step -> Inspect Checkpoint as the output will be same for all other epochs except the learning rate (for which we have graph)\n",
        "\n",
        "# Done upto epoch 2 since the desirable validation loss and training loss are achieved.\n",
        "# If the wikipedia dataset (1390 articles/websites) is increased more epochs will do\n",
        "# GPT2 by openai used 12 epochs for 8 million websites"
      ],
      "metadata": {
        "id": "Ea8dTYPJvu7S",
        "colab": {
          "base_uri": "https://localhost:8080/",
          "height": 407
        },
        "outputId": "36ac0be2-ff18-49ee-ad36-ddc48dceec5b"
      },
      "execution_count": 11,
      "outputs": [
        {
          "output_type": "display_data",
          "data": {
            "text/plain": [
              "<Figure size 1000x400 with 2 Axes>"
            ],
            "image/png": "[encoded data removed]"
          },
          "metadata": {}
        }
      ]
    },
    {
      "cell_type": "markdown",
      "source": [
        "### Save the Foundation Model"
      ],
      "metadata": {
        "id": "dwCP5UUo0dbr"
      }
    },
    {
      "cell_type": "code",
      "source": [
        "import torch\n",
        "\n",
        "def save_foundation_model(model, save_path=\"foundation_model.pth\"):\n",
        "    # Save only essential information for inference\n",
        "    torch.save({\n",
        "        'model_state_dict': model.state_dict(),\n",
        "        'model_config': {\n",
        "            'vocab_size': model.tok_emb.num_embeddings,  # Access vocab_size from tok_emb\n",
        "            'embed_size': model.tok_emb.embedding_dim,  # Access embed_size from tok_emb\n",
        "            'num_heads': config['n_heads'],  # Access num_heads from config\n",
        "            'num_layers': config['n_layers'],  # Access num_layers from config\n",
        "            'max_seq_len': config['context_length']  # Access context_length from config\n",
        "        }\n",
        "    }, save_path)\n",
        "    print(\"Foundation model saved successfully.\")\n",
        "\n",
        "# Save After Training\n",
        "save_foundation_model(model, save_path=\"foundation_model.pth\")"
      ],
      "metadata": {
        "id": "8w7kc1SD0pKE",
        "colab": {
          "base_uri": "https://localhost:8080/"
        },
        "outputId": "7e25bc3c-84c2-467a-f3a1-3b63a4705acf"
      },
      "execution_count": 15,
      "outputs": [
        {
          "output_type": "stream",
          "name": "stdout",
          "text": [
            "Foundation model saved successfully.\n"
          ]
        }
      ]
    },
    {
      "cell_type": "markdown",
      "source": [
        "### Load and use the model for inference"
      ],
      "metadata": {
        "id": "3d-JSASZ0qIu"
      }
    },
    {
      "cell_type": "code",
      "source": [
        "import torch\n",
        "import torch.nn as nn\n",
        "\n",
        "# Define the model class (as before)\n",
        "class GPTModel(nn.Module):\n",
        "    def __init__(self, cfg):\n",
        "        super().__init__()\n",
        "        self.tok_emb = nn.Embedding(cfg[\"vocab_size\"], cfg[\"embed_size\"])\n",
        "        self.pos_emb = nn.Embedding(cfg[\"max_seq_len\"], cfg[\"embed_size\"])\n",
        "        self.drop = nn.Dropout(0.1)\n",
        "\n",
        "        self.layers = nn.ModuleList([\n",
        "            TransformerBlock(cfg[\"embed_size\"], cfg[\"num_heads\"]) for _ in range(cfg[\"num_layers\"])\n",
        "        ])\n",
        "\n",
        "        self.norm = LayerNorm(cfg[\"embed_size\"])\n",
        "        self.fc_out = nn.Linear(cfg[\"embed_size\"], cfg[\"vocab_size\"], bias=False)\n",
        "\n",
        "    def forward(self, idx):\n",
        "        batch_size, seq_len = idx.shape\n",
        "        tok_emb = self.tok_emb(idx)\n",
        "        pos_emb = self.pos_emb(torch.arange(seq_len, device=idx.device))\n",
        "        x = self.drop(tok_emb + pos_emb)\n",
        "\n",
        "        for layer in self.layers:\n",
        "            x = layer(x)\n",
        "\n",
        "        x = self.norm(x)\n",
        "        logits = self.fc_out(x)\n",
        "        return logits\n",
        "\n",
        "# Function to load the model for inference\n",
        "def load_foundation_model(checkpoint_path=\"foundation_model.pth\"):\n",
        "    checkpoint = torch.load(checkpoint_path)\n",
        "\n",
        "    # Reconstruct model\n",
        "    model_config = checkpoint['model_config']\n",
        "    # Pass model_config as a dictionary\n",
        "    model = GPTModel(model_config)\n",
        "\n",
        "    # Load trained weights\n",
        "    model.load_state_dict(checkpoint['model_state_dict'])\n",
        "    model.eval()  # Set model to evaluation mode\n",
        "    print(\"Foundation model loaded for inference.\")\n",
        "\n",
        "    return model\n",
        "\n",
        "# Load the model\n",
        "model = load_foundation_model(\"foundation_model.pth\")\n",
        "\n",
        "# Example Inference\n",
        "device = torch.device(\"cuda\" if torch.cuda.is_available() else \"cpu\")\n",
        "model.to(device)\n",
        "\n",
        "# Sample input (tokenized text, replace with your tokenizer logic)\n",
        "sample_input = torch.randint(0, 100277, (1, 20)).to(device)  # Batch of 1, Sequence length 20\n",
        "with torch.no_grad():\n",
        "    output = model(sample_input)\n",
        "    predicted_tokens = torch.argmax(output, dim=-1)\n",
        "\n",
        "print(\"Predicted Tokens:\", predicted_tokens)"
      ],
      "metadata": {
        "id": "rZEHVmUc0vVd",
        "colab": {
          "base_uri": "https://localhost:8080/"
        },
        "outputId": "ea1f4712-98ba-4317-a1f8-ec61114dfa51"
      },
      "execution_count": 26,
      "outputs": [
        {
          "output_type": "stream",
          "name": "stdout",
          "text": [
            "Loading pretrained attention mechanism from 'attention_mechanism.pth'...\n",
            "Loading pretrained attention mechanism from 'attention_mechanism.pth'...\n",
            "Loading pretrained attention mechanism from 'attention_mechanism.pth'...\n",
            "Loading pretrained attention mechanism from 'attention_mechanism.pth'...\n",
            "Loading pretrained attention mechanism from 'attention_mechanism.pth'...\n",
            "Loading pretrained attention mechanism from 'attention_mechanism.pth'...\n",
            "Loading pretrained attention mechanism from 'attention_mechanism.pth'...\n",
            "Loading pretrained attention mechanism from 'attention_mechanism.pth'...\n",
            "Loading pretrained attention mechanism from 'attention_mechanism.pth'...\n",
            "Loading pretrained attention mechanism from 'attention_mechanism.pth'...\n",
            "Loading pretrained attention mechanism from 'attention_mechanism.pth'...\n",
            "Loading pretrained attention mechanism from 'attention_mechanism.pth'...\n",
            "Loading pretrained attention mechanism from 'attention_mechanism.pth'...\n",
            "Loading pretrained attention mechanism from 'attention_mechanism.pth'...\n",
            "Loading pretrained attention mechanism from 'attention_mechanism.pth'...\n",
            "Loading pretrained attention mechanism from 'attention_mechanism.pth'...\n",
            "Foundation model loaded for inference.\n",
            "Predicted Tokens: tensor([[ 3221,  2637,  7505,   362,   309,    43,  8747, 12126,  1439,  5209,\n",
            "         14467,  9017, 30903,  2053,  8951,  9124, 15457, 39678,   750,   593]],\n",
            "       device='cuda:0')\n"
          ]
        }
      ]
    },
    {
      "cell_type": "markdown",
      "source": [
        "### Validation Accuracy"
      ],
      "metadata": {
        "id": "tSFRTx7h0wD8"
      }
    },
    {
      "cell_type": "code",
      "source": [
        "import torch\n",
        "import torch.nn as nn\n",
        "import torch.utils.data as data\n",
        "import torch.nn.functional as F\n",
        "\n",
        "# Load validation data from prepared_data_wiki.pth\n",
        "def load_validation_data(file_path=\"prepared_data_wiki.pth\"):\n",
        "    train_data, val_data, embedding_weights = torch.load(file_path) # Load as a tuple\n",
        "\n",
        "    # Convert val_data (list of lists) into a PyTorch tensor\n",
        "    val_data = torch.tensor(val_data, dtype=torch.long)\n",
        "\n",
        "    # Create labels by shifting the input data by one position\n",
        "    val_labels = val_data[:, 1:]  # Targets are the next tokens in the sequence\n",
        "    val_data = val_data[:, :-1]  # Inputs are the current tokens\n",
        "\n",
        "    return val_data, val_labels  # Return validation data and labels\n",
        "\n",
        "# Load validation data\n",
        "val_data, val_labels = load_validation_data()\n",
        "\n",
        "# Create DataLoader for validation\n",
        "batch_size = 16\n",
        "val_dataset = data.TensorDataset(val_data, val_labels) # val_data is now a tensor\n",
        "val_loader = data.DataLoader(val_dataset, batch_size=batch_size, shuffle=False)\n",
        "\n",
        "# Load trained model\n",
        "def load_foundation_model(checkpoint_path=\"foundation_model.pth\"):\n",
        "    checkpoint = torch.load(checkpoint_path)\n",
        "\n",
        "    # Reconstruct model\n",
        "    model_config = checkpoint['model_config']\n",
        "    # Pass model_config as a dictionary\n",
        "    model = GPTModel(model_config)\n",
        "\n",
        "    # Load trained weights\n",
        "    model.load_state_dict(checkpoint['model_state_dict'])\n",
        "    model.eval()  # Set model to evaluation mode\n",
        "    print(\"Foundation model loaded for inference.\")\n",
        "\n",
        "    return model\n",
        "\n",
        "# Load foundation model\n",
        "model = load_foundation_model(\"foundation_model.pth\")\n",
        "device = torch.device(\"cuda\" if torch.cuda.is_available() else \"cpu\")\n",
        "model.to(device)\n",
        "\n",
        "# Function to calculate validation accuracy\n",
        "def calculate_validation_accuracy(model, val_loader):\n",
        "    model.eval()\n",
        "    correct_predictions = 0\n",
        "    total_samples = 0\n",
        "\n",
        "    with torch.no_grad():\n",
        "        for batch in val_loader:\n",
        "            inputs, labels = batch\n",
        "            inputs, labels = inputs.to(device), labels.to(device)\n",
        "\n",
        "            # Perform forward pass\n",
        "            outputs = model(inputs)\n",
        "            predicted_tokens = torch.argmax(outputs, dim=-1)\n",
        "\n",
        "            # Compare predictions to ground truth\n",
        "            correct_predictions += (predicted_tokens == labels).sum().item()\n",
        "            total_samples += labels.numel()\n",
        "\n",
        "    accuracy = correct_predictions / total_samples * 100\n",
        "    return accuracy\n",
        "\n",
        "# Calculate and print validation accuracy\n",
        "val_accuracy = calculate_validation_accuracy(model, val_loader)\n",
        "print(f\"Validation Accuracy: {val_accuracy:.2f}%\")\n"
      ],
      "metadata": {
        "id": "hn2x6cK-0yc9",
        "colab": {
          "base_uri": "https://localhost:8080/"
        },
        "outputId": "7ffe79bf-1662-44f1-9eb7-f5d16be25f5b"
      },
      "execution_count": 31,
      "outputs": [
        {
          "output_type": "stream",
          "name": "stdout",
          "text": [
            "Loading pretrained attention mechanism from 'attention_mechanism.pth'...\n",
            "Loading pretrained attention mechanism from 'attention_mechanism.pth'...\n",
            "Loading pretrained attention mechanism from 'attention_mechanism.pth'...\n",
            "Loading pretrained attention mechanism from 'attention_mechanism.pth'...\n",
            "Loading pretrained attention mechanism from 'attention_mechanism.pth'...\n",
            "Loading pretrained attention mechanism from 'attention_mechanism.pth'...\n",
            "Loading pretrained attention mechanism from 'attention_mechanism.pth'...\n",
            "Loading pretrained attention mechanism from 'attention_mechanism.pth'...\n",
            "Loading pretrained attention mechanism from 'attention_mechanism.pth'...\n",
            "Loading pretrained attention mechanism from 'attention_mechanism.pth'...\n",
            "Loading pretrained attention mechanism from 'attention_mechanism.pth'...\n",
            "Loading pretrained attention mechanism from 'attention_mechanism.pth'...\n",
            "Loading pretrained attention mechanism from 'attention_mechanism.pth'...\n",
            "Loading pretrained attention mechanism from 'attention_mechanism.pth'...\n",
            "Loading pretrained attention mechanism from 'attention_mechanism.pth'...\n",
            "Loading pretrained attention mechanism from 'attention_mechanism.pth'...\n",
            "Foundation model loaded for inference.\n",
            "Validation Accuracy: 83.24%\n"
          ]
        }
      ]
    },
    {
      "cell_type": "markdown",
      "source": [
        "## Model Specifications"
      ],
      "metadata": {
        "id": "HRgh6Lbw1O8Z"
      }
    },
    {
      "cell_type": "code",
      "source": [
        "try:\n",
        "    import torchinfo\n",
        "    print(\"✅ torchinfo is already installed.\")\n",
        "except ImportError:\n",
        "    print(\"❌ torchinfo is NOT installed. Install it using: pip install torchinfo\")\n",
        "    !pip install torchinfo\n"
      ],
      "metadata": {
        "id": "42_4XXWt1ne9",
        "colab": {
          "base_uri": "https://localhost:8080/"
        },
        "outputId": "300fe754-1d57-4037-b403-fff153648b16"
      },
      "execution_count": 32,
      "outputs": [
        {
          "output_type": "stream",
          "name": "stdout",
          "text": [
            "❌ torchinfo is NOT installed. Install it using: pip install torchinfo\n",
            "Collecting torchinfo\n",
            "  Downloading torchinfo-1.8.0-py3-none-any.whl.metadata (21 kB)\n",
            "Downloading torchinfo-1.8.0-py3-none-any.whl (23 kB)\n",
            "Installing collected packages: torchinfo\n",
            "Successfully installed torchinfo-1.8.0\n"
          ]
        }
      ]
    },
    {
      "cell_type": "markdown",
      "source": [
        "### Details"
      ],
      "metadata": {
        "id": "txvUvu8u1bBz"
      }
    },
    {
      "cell_type": "code",
      "source": [
        "import torch\n",
        "import torch.nn as nn\n",
        "import torchinfo  # Ensure torchinfo is installed\n",
        "\n",
        "# Load trained foundation model and display details\n",
        "def load_foundation_model_with_details(checkpoint_path=\"foundation_model.pth\"):\n",
        "    checkpoint = torch.load(checkpoint_path)\n",
        "\n",
        "    # Reconstruct model\n",
        "    model_config = checkpoint['model_config']\n",
        "    model = GPTModel(model_config)\n",
        "    model.load_state_dict(checkpoint['model_state_dict'])\n",
        "    model.eval()\n",
        "    model.to('cuda')\n",
        "    print(\"✅ Foundation model loaded for inference.\")\n",
        "\n",
        "    # Display model configuration\n",
        "    print(\"\\n🔍 Foundation Model Details:\")\n",
        "    print(f\"📜 Vocabulary Size: {model_config['vocab_size']}\")\n",
        "    print(f\"🟢 Embedding Size: {model_config['embed_size']}\")\n",
        "    print(f\"🔗 Number of Heads: {model_config['num_heads']}\")\n",
        "    print(f\"🔁 Number of Layers: {model_config['num_layers']}\")\n",
        "    print(f\"📏 Max Sequence Length: {model_config['max_seq_len']}\")\n",
        "\n",
        "    # Parameter count\n",
        "    total_params = sum(p.numel() for p in model.parameters())\n",
        "    trainable_params = sum(p.numel() for p in model.parameters() if p.requires_grad)\n",
        "    print(f\"💡 Total Parameters: {total_params:,}\")\n",
        "    print(f\"✅ Trainable Parameters: {trainable_params:,}\\n\")\n",
        "\n",
        "    # torchinfo usage\n",
        "    try:\n",
        "        sample_input = torch.zeros((1, model_config['max_seq_len']), dtype=torch.long)\n",
        "        torchinfo.summary(\n",
        "            model,\n",
        "            input_data=sample_input,\n",
        "            device='cuda',\n",
        "            # depth=3,          # Control depth of layers to display\n",
        "            # col_names=[\"output_size\", \"num_params\"],  # Show output shape and parameter count\n",
        "            # row_settings=[\"var_names\"]  # Display layer variable names\n",
        "        )\n",
        "    except ImportError:\n",
        "        print(\"⚠️ Install torchinfo for a detailed summary (pip install torchinfo)\")\n",
        "\n",
        "    print(\"\\n✅ Model loaded successfully for validation!\")\n",
        "    return model\n",
        "\n",
        "# Load and display\n",
        "model = load_foundation_model_with_details(\"foundation_model.pth\")\n"
      ],
      "metadata": {
        "colab": {
          "base_uri": "https://localhost:8080/"
        },
        "id": "0rAhhIPSeZbK",
        "outputId": "878f058c-be68-466a-a358-f014c1d8fd01"
      },
      "execution_count": 52,
      "outputs": [
        {
          "output_type": "stream",
          "name": "stdout",
          "text": [
            "Loading pretrained attention mechanism from 'attention_mechanism.pth'...\n",
            "Loading pretrained attention mechanism from 'attention_mechanism.pth'...\n",
            "Loading pretrained attention mechanism from 'attention_mechanism.pth'...\n",
            "Loading pretrained attention mechanism from 'attention_mechanism.pth'...\n",
            "Loading pretrained attention mechanism from 'attention_mechanism.pth'...\n",
            "Loading pretrained attention mechanism from 'attention_mechanism.pth'...\n",
            "Loading pretrained attention mechanism from 'attention_mechanism.pth'...\n",
            "Loading pretrained attention mechanism from 'attention_mechanism.pth'...\n",
            "Loading pretrained attention mechanism from 'attention_mechanism.pth'...\n",
            "Loading pretrained attention mechanism from 'attention_mechanism.pth'...\n",
            "Loading pretrained attention mechanism from 'attention_mechanism.pth'...\n",
            "Loading pretrained attention mechanism from 'attention_mechanism.pth'...\n",
            "Loading pretrained attention mechanism from 'attention_mechanism.pth'...\n",
            "Loading pretrained attention mechanism from 'attention_mechanism.pth'...\n",
            "Loading pretrained attention mechanism from 'attention_mechanism.pth'...\n",
            "Loading pretrained attention mechanism from 'attention_mechanism.pth'...\n",
            "✅ Foundation model loaded for inference.\n",
            "\n",
            "🔍 Foundation Model Details:\n",
            "📜 Vocabulary Size: 100277\n",
            "🟢 Embedding Size: 256\n",
            "🔗 Number of Heads: 16\n",
            "🔁 Number of Layers: 16\n",
            "📏 Max Sequence Length: 1024\n",
            "💡 Total Parameters: 64,240,640\n",
            "✅ Trainable Parameters: 64,240,640\n",
            "\n",
            "\n",
            "✅ Model loaded successfully for validation!\n"
          ]
        }
      ]
    },
    {
      "cell_type": "code",
      "source": [
        "import os\n",
        "import torch\n",
        "import torch.nn as nn\n",
        "from tabulate import tabulate\n",
        "\n",
        "# Function to manually create a summary table\n",
        "def manual_model_summary(model, model_path=\"foundation_model.pth\", data_path=\"prepared_data_wiki.pth\"):\n",
        "    # Load model size\n",
        "    model_size_mb = os.path.getsize(model_path) / (1024 * 1024)\n",
        "\n",
        "    # Load actual validation data\n",
        "    data = torch.load(data_path)\n",
        "    _, val_data, _ = data  # Access elements by index\n",
        "\n",
        "    if isinstance(val_data, list):\n",
        "        val_data = torch.tensor(val_data)\n",
        "\n",
        "    actual_input = val_data[:1].long()\n",
        "\n",
        "    # Prepare table\n",
        "    table_data = []\n",
        "    total_params = 0\n",
        "\n",
        "    # Iterate through model layers\n",
        "    for name, module in model.named_modules():\n",
        "        if len(list(module.children())) == 0:  # Ignore containers\n",
        "            # Calculate parameters\n",
        "            params = sum(p.numel() for p in module.parameters())\n",
        "            total_params += params\n",
        "\n",
        "            # Determine output shape\n",
        "            try:\n",
        "                output_shape = list(module(actual_input).shape)\n",
        "            except Exception:\n",
        "                output_shape = [\"N/A\"]  # Skip if not forward-passable\n",
        "\n",
        "            # ✅ Skip rows with \"N/A\" in Output Shape\n",
        "            if output_shape != [\"N/A\"]:\n",
        "                table_data.append([name, output_shape, params])\n",
        "\n",
        "    # Add total parameters\n",
        "    table_data.append([\"Total\", \"-\", total_params])\n",
        "\n",
        "    # Print formatted table\n",
        "    print(\"\\n📊 Manual Model Summary\")\n",
        "    print(tabulate(table_data, headers=[\"Layer (type)\", \"Output Shape\", \"Param #\"], tablefmt=\"fancy_grid\"))\n",
        "    print(f\"\\n💾 Model Size on Disk: {model_size_mb:.2f} MB\")\n",
        "\n",
        "# Load model\n",
        "checkpoint = torch.load(\"foundation_model.pth\")\n",
        "model_config = checkpoint['model_config']\n",
        "model = GPTModel(model_config)\n",
        "model.load_state_dict(checkpoint['model_state_dict'])\n",
        "model.eval()\n",
        "\n",
        "# Generate the manual table\n",
        "manual_model_summary(model)\n"
      ],
      "metadata": {
        "colab": {
          "base_uri": "https://localhost:8080/"
        },
        "id": "3vhS0QQdkzul",
        "outputId": "823b0731-03ae-4b6e-bc8d-850324d900d5"
      },
      "execution_count": 62,
      "outputs": [
        {
          "output_type": "stream",
          "name": "stdout",
          "text": [
            "Loading pretrained attention mechanism from 'attention_mechanism.pth'...\n",
            "Loading pretrained attention mechanism from 'attention_mechanism.pth'...\n",
            "Loading pretrained attention mechanism from 'attention_mechanism.pth'...\n",
            "Loading pretrained attention mechanism from 'attention_mechanism.pth'...\n",
            "Loading pretrained attention mechanism from 'attention_mechanism.pth'...\n",
            "Loading pretrained attention mechanism from 'attention_mechanism.pth'...\n",
            "Loading pretrained attention mechanism from 'attention_mechanism.pth'...\n",
            "Loading pretrained attention mechanism from 'attention_mechanism.pth'...\n",
            "Loading pretrained attention mechanism from 'attention_mechanism.pth'...\n",
            "Loading pretrained attention mechanism from 'attention_mechanism.pth'...\n",
            "Loading pretrained attention mechanism from 'attention_mechanism.pth'...\n",
            "Loading pretrained attention mechanism from 'attention_mechanism.pth'...\n",
            "Loading pretrained attention mechanism from 'attention_mechanism.pth'...\n",
            "Loading pretrained attention mechanism from 'attention_mechanism.pth'...\n",
            "Loading pretrained attention mechanism from 'attention_mechanism.pth'...\n",
            "Loading pretrained attention mechanism from 'attention_mechanism.pth'...\n",
            "\n",
            "📊 Manual Model Summary\n",
            "╒═════════════════════╤════════════════╤═══════════╕\n",
            "│ Layer (type)        │ Output Shape   │   Param # │\n",
            "╞═════════════════════╪════════════════╪═══════════╡\n",
            "│ tok_emb             │ [1, 128, 256]  │  25670912 │\n",
            "├─────────────────────┼────────────────┼───────────┤\n",
            "│ drop                │ [1, 128]       │         0 │\n",
            "├─────────────────────┼────────────────┼───────────┤\n",
            "│ layers.0.ffn.net.1  │ [1, 128]       │         0 │\n",
            "├─────────────────────┼────────────────┼───────────┤\n",
            "│ layers.1.ffn.net.1  │ [1, 128]       │         0 │\n",
            "├─────────────────────┼────────────────┼───────────┤\n",
            "│ layers.2.ffn.net.1  │ [1, 128]       │         0 │\n",
            "├─────────────────────┼────────────────┼───────────┤\n",
            "│ layers.3.ffn.net.1  │ [1, 128]       │         0 │\n",
            "├─────────────────────┼────────────────┼───────────┤\n",
            "│ layers.4.ffn.net.1  │ [1, 128]       │         0 │\n",
            "├─────────────────────┼────────────────┼───────────┤\n",
            "│ layers.5.ffn.net.1  │ [1, 128]       │         0 │\n",
            "├─────────────────────┼────────────────┼───────────┤\n",
            "│ layers.6.ffn.net.1  │ [1, 128]       │         0 │\n",
            "├─────────────────────┼────────────────┼───────────┤\n",
            "│ layers.7.ffn.net.1  │ [1, 128]       │         0 │\n",
            "├─────────────────────┼────────────────┼───────────┤\n",
            "│ layers.8.ffn.net.1  │ [1, 128]       │         0 │\n",
            "├─────────────────────┼────────────────┼───────────┤\n",
            "│ layers.9.ffn.net.1  │ [1, 128]       │         0 │\n",
            "├─────────────────────┼────────────────┼───────────┤\n",
            "│ layers.10.ffn.net.1 │ [1, 128]       │         0 │\n",
            "├─────────────────────┼────────────────┼───────────┤\n",
            "│ layers.11.ffn.net.1 │ [1, 128]       │         0 │\n",
            "├─────────────────────┼────────────────┼───────────┤\n",
            "│ layers.12.ffn.net.1 │ [1, 128]       │         0 │\n",
            "├─────────────────────┼────────────────┼───────────┤\n",
            "│ layers.13.ffn.net.1 │ [1, 128]       │         0 │\n",
            "├─────────────────────┼────────────────┼───────────┤\n",
            "│ layers.14.ffn.net.1 │ [1, 128]       │         0 │\n",
            "├─────────────────────┼────────────────┼───────────┤\n",
            "│ layers.15.ffn.net.1 │ [1, 128]       │         0 │\n",
            "├─────────────────────┼────────────────┼───────────┤\n",
            "│ Total               │ -              │  64240640 │\n",
            "╘═════════════════════╧════════════════╧═══════════╛\n",
            "\n",
            "💾 Model Size on Disk: 245.15 MB\n"
          ]
        }
      ]
    },
    {
      "cell_type": "markdown",
      "source": [
        "### Model Size"
      ],
      "metadata": {
        "id": "4vo9koKR1V3y"
      }
    },
    {
      "cell_type": "code",
      "source": [
        "import os\n",
        "import torch\n",
        "import torch.nn as nn\n",
        "import torchinfo\n",
        "\n",
        "def load_and_show_model_size(checkpoint_path=\"foundation_model.pth\"):\n",
        "    checkpoint = torch.load(checkpoint_path)\n",
        "\n",
        "    # Reconstruct model\n",
        "    model_config = checkpoint['model_config']\n",
        "    # Pass model_config as a dictionary\n",
        "    model = GPTModel(model_config)\n",
        "\n",
        "    # Load trained weights\n",
        "    model.load_state_dict(checkpoint['model_state_dict'])\n",
        "    model.eval()  # Set model to evaluation mode\n",
        "\n",
        "    # ✅ Display model size\n",
        "    model_size_mb = os.path.getsize(checkpoint_path) / (1024 * 1024)\n",
        "    print(f\"💾 Model Size on Disk: {model_size_mb:.2f} MB\")\n",
        "\n",
        "model = load_and_show_model_size(\"foundation_model.pth\")\n"
      ],
      "metadata": {
        "id": "GIq_MFzK1XLD",
        "colab": {
          "base_uri": "https://localhost:8080/"
        },
        "outputId": "cfe50962-bbfb-4b83-eeb8-db3741f6ad64"
      },
      "execution_count": 55,
      "outputs": [
        {
          "output_type": "stream",
          "name": "stdout",
          "text": [
            "Loading pretrained attention mechanism from 'attention_mechanism.pth'...\n",
            "Loading pretrained attention mechanism from 'attention_mechanism.pth'...\n",
            "Loading pretrained attention mechanism from 'attention_mechanism.pth'...\n",
            "Loading pretrained attention mechanism from 'attention_mechanism.pth'...\n",
            "Loading pretrained attention mechanism from 'attention_mechanism.pth'...\n",
            "Loading pretrained attention mechanism from 'attention_mechanism.pth'...\n",
            "Loading pretrained attention mechanism from 'attention_mechanism.pth'...\n",
            "Loading pretrained attention mechanism from 'attention_mechanism.pth'...\n",
            "Loading pretrained attention mechanism from 'attention_mechanism.pth'...\n",
            "Loading pretrained attention mechanism from 'attention_mechanism.pth'...\n",
            "Loading pretrained attention mechanism from 'attention_mechanism.pth'...\n",
            "Loading pretrained attention mechanism from 'attention_mechanism.pth'...\n",
            "Loading pretrained attention mechanism from 'attention_mechanism.pth'...\n",
            "Loading pretrained attention mechanism from 'attention_mechanism.pth'...\n",
            "Loading pretrained attention mechanism from 'attention_mechanism.pth'...\n",
            "Loading pretrained attention mechanism from 'attention_mechanism.pth'...\n",
            "💾 Model Size on Disk: 245.15 MB\n"
          ]
        }
      ]
    },
    {
      "cell_type": "markdown",
      "source": [
        "# ----------------- STAGE 2 ENDS ----------------------"
      ],
      "metadata": {
        "id": "fv8COHgczD4I"
      }
    }
  ]
}